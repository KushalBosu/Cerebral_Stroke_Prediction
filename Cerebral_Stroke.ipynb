{
 "cells": [
  {
   "cell_type": "markdown",
   "id": "e5ef3664-0986-4ace-a11c-4f3326559db8",
   "metadata": {},
   "source": [
    "## Import the required libraries"
   ]
  },
  {
   "cell_type": "code",
   "execution_count": 1,
   "id": "fe3cffe5-9487-479c-bb7c-6a74b5632687",
   "metadata": {},
   "outputs": [],
   "source": [
    "import numpy as np\n",
    "import pandas as pd\n",
    "import seaborn as sns\n",
    "import matplotlib.pyplot as plt\n",
    "%matplotlib inline\n",
    "from scipy.stats.mstats import normaltest\n",
    "from scipy.stats import chi2_contingency\n",
    "from scipy import stats\n",
    "from sklearn.model_selection import train_test_split\n",
    "from sklearn.preprocessing import OneHotEncoder\n",
    "from sklearn.compose import ColumnTransformer\n",
    "from sklearn.preprocessing import StandardScaler\n",
    "from sklearn.linear_model import LogisticRegression\n",
    "from sklearn.tree import DecisionTreeClassifier, export_text, export_graphviz, plot_tree\n",
    "from sklearn.ensemble import BaggingClassifier\n",
    "from sklearn.ensemble import RandomForestClassifier\n",
    "from sklearn.model_selection import GridSearchCV, StratifiedKFold\n",
    "from sklearn.metrics import make_scorer, recall_score\n",
    "from sklearn.utils.class_weight import compute_sample_weight\n",
    "from sklearn.model_selection import RepeatedStratifiedKFold\n",
    "from sklearn.inspection import permutation_importance\n",
    "import time\n",
    "from sklearn import tree\n",
    "from imblearn.over_sampling import RandomOverSampler, SMOTE\n",
    "import lime.lime_tabular\n",
    "from sklearn.ensemble import AdaBoostClassifier\n",
    "from xgboost import XGBClassifier\n",
    "from sklearn.metrics import classification_report, accuracy_score, precision_recall_fscore_support, confusion_matrix, precision_score, recall_score, roc_auc_score\n",
    "import warnings\n",
    "warnings.filterwarnings(\"ignore\")\n",
    "rs=12"
   ]
  },
  {
   "cell_type": "markdown",
   "id": "b3509e1a-c0b3-4dc1-b3dd-e25035f057df",
   "metadata": {},
   "source": [
    "## Importing the Dataset"
   ]
  },
  {
   "cell_type": "code",
   "execution_count": 2,
   "id": "57fbb8d2-bd54-4ed3-817d-2c6765faff8b",
   "metadata": {},
   "outputs": [],
   "source": [
    "# reading the data\n",
    "df=pd.read_csv('dataset.csv')"
   ]
  },
  {
   "cell_type": "code",
   "execution_count": 3,
   "id": "e117eb5e-3d43-41c6-91eb-31753b665d86",
   "metadata": {},
   "outputs": [
    {
     "data": {
      "text/html": [
       "<div>\n",
       "<style scoped>\n",
       "    .dataframe tbody tr th:only-of-type {\n",
       "        vertical-align: middle;\n",
       "    }\n",
       "\n",
       "    .dataframe tbody tr th {\n",
       "        vertical-align: top;\n",
       "    }\n",
       "\n",
       "    .dataframe thead th {\n",
       "        text-align: right;\n",
       "    }\n",
       "</style>\n",
       "<table border=\"1\" class=\"dataframe\">\n",
       "  <thead>\n",
       "    <tr style=\"text-align: right;\">\n",
       "      <th></th>\n",
       "      <th>id</th>\n",
       "      <th>gender</th>\n",
       "      <th>age</th>\n",
       "      <th>hypertension</th>\n",
       "      <th>heart_disease</th>\n",
       "      <th>ever_married</th>\n",
       "      <th>work_type</th>\n",
       "      <th>Residence_type</th>\n",
       "      <th>avg_glucose_level</th>\n",
       "      <th>bmi</th>\n",
       "      <th>smoking_status</th>\n",
       "      <th>stroke</th>\n",
       "    </tr>\n",
       "  </thead>\n",
       "  <tbody>\n",
       "    <tr>\n",
       "      <th>0</th>\n",
       "      <td>30669</td>\n",
       "      <td>Male</td>\n",
       "      <td>3.0</td>\n",
       "      <td>0</td>\n",
       "      <td>0</td>\n",
       "      <td>No</td>\n",
       "      <td>children</td>\n",
       "      <td>Rural</td>\n",
       "      <td>95.12</td>\n",
       "      <td>18.0</td>\n",
       "      <td>NaN</td>\n",
       "      <td>0</td>\n",
       "    </tr>\n",
       "    <tr>\n",
       "      <th>1</th>\n",
       "      <td>30468</td>\n",
       "      <td>Male</td>\n",
       "      <td>58.0</td>\n",
       "      <td>1</td>\n",
       "      <td>0</td>\n",
       "      <td>Yes</td>\n",
       "      <td>Private</td>\n",
       "      <td>Urban</td>\n",
       "      <td>87.96</td>\n",
       "      <td>39.2</td>\n",
       "      <td>never smoked</td>\n",
       "      <td>0</td>\n",
       "    </tr>\n",
       "    <tr>\n",
       "      <th>2</th>\n",
       "      <td>16523</td>\n",
       "      <td>Female</td>\n",
       "      <td>8.0</td>\n",
       "      <td>0</td>\n",
       "      <td>0</td>\n",
       "      <td>No</td>\n",
       "      <td>Private</td>\n",
       "      <td>Urban</td>\n",
       "      <td>110.89</td>\n",
       "      <td>17.6</td>\n",
       "      <td>NaN</td>\n",
       "      <td>0</td>\n",
       "    </tr>\n",
       "    <tr>\n",
       "      <th>3</th>\n",
       "      <td>56543</td>\n",
       "      <td>Female</td>\n",
       "      <td>70.0</td>\n",
       "      <td>0</td>\n",
       "      <td>0</td>\n",
       "      <td>Yes</td>\n",
       "      <td>Private</td>\n",
       "      <td>Rural</td>\n",
       "      <td>69.04</td>\n",
       "      <td>35.9</td>\n",
       "      <td>formerly smoked</td>\n",
       "      <td>0</td>\n",
       "    </tr>\n",
       "    <tr>\n",
       "      <th>4</th>\n",
       "      <td>46136</td>\n",
       "      <td>Male</td>\n",
       "      <td>14.0</td>\n",
       "      <td>0</td>\n",
       "      <td>0</td>\n",
       "      <td>No</td>\n",
       "      <td>Never_worked</td>\n",
       "      <td>Rural</td>\n",
       "      <td>161.28</td>\n",
       "      <td>19.1</td>\n",
       "      <td>NaN</td>\n",
       "      <td>0</td>\n",
       "    </tr>\n",
       "  </tbody>\n",
       "</table>\n",
       "</div>"
      ],
      "text/plain": [
       "      id  gender   age  hypertension  heart_disease ever_married  \\\n",
       "0  30669    Male   3.0             0              0           No   \n",
       "1  30468    Male  58.0             1              0          Yes   \n",
       "2  16523  Female   8.0             0              0           No   \n",
       "3  56543  Female  70.0             0              0          Yes   \n",
       "4  46136    Male  14.0             0              0           No   \n",
       "\n",
       "      work_type Residence_type  avg_glucose_level   bmi   smoking_status  \\\n",
       "0      children          Rural              95.12  18.0              NaN   \n",
       "1       Private          Urban              87.96  39.2     never smoked   \n",
       "2       Private          Urban             110.89  17.6              NaN   \n",
       "3       Private          Rural              69.04  35.9  formerly smoked   \n",
       "4  Never_worked          Rural             161.28  19.1              NaN   \n",
       "\n",
       "   stroke  \n",
       "0       0  \n",
       "1       0  \n",
       "2       0  \n",
       "3       0  \n",
       "4       0  "
      ]
     },
     "execution_count": 3,
     "metadata": {},
     "output_type": "execute_result"
    }
   ],
   "source": [
    "# Visualizing the table\n",
    "df.head()"
   ]
  },
  {
   "cell_type": "markdown",
   "id": "17aab5c4-04ab-4f59-acbd-2cf09e8fd177",
   "metadata": {},
   "source": [
    "# 1. Description of the Data"
   ]
  },
  {
   "cell_type": "markdown",
   "id": "f9504d76-8d5b-43ea-801d-dcdce18a19ea",
   "metadata": {},
   "source": [
    "The Data is taken from Kaggle.com. Prediction of Cerebral stroke is a very important study becasue it can save life of people who are at risk of cerebral stroke by looking into different attributes like somking_status,hypertension.\n",
    "Below the name of attributes along with the datatype is shown."
   ]
  },
  {
   "cell_type": "code",
   "execution_count": 4,
   "id": "5d0b9cb3-dc25-453c-a8b2-9ec8cfaf6ea5",
   "metadata": {},
   "outputs": [
    {
     "name": "stdout",
     "output_type": "stream",
     "text": [
      "<class 'pandas.core.frame.DataFrame'>\n",
      "RangeIndex: 43400 entries, 0 to 43399\n",
      "Data columns (total 12 columns):\n",
      " #   Column             Non-Null Count  Dtype  \n",
      "---  ------             --------------  -----  \n",
      " 0   id                 43400 non-null  int64  \n",
      " 1   gender             43400 non-null  object \n",
      " 2   age                43400 non-null  float64\n",
      " 3   hypertension       43400 non-null  int64  \n",
      " 4   heart_disease      43400 non-null  int64  \n",
      " 5   ever_married       43400 non-null  object \n",
      " 6   work_type          43400 non-null  object \n",
      " 7   Residence_type     43400 non-null  object \n",
      " 8   avg_glucose_level  43400 non-null  float64\n",
      " 9   bmi                41938 non-null  float64\n",
      " 10  smoking_status     30108 non-null  object \n",
      " 11  stroke             43400 non-null  int64  \n",
      "dtypes: float64(3), int64(4), object(5)\n",
      "memory usage: 4.0+ MB\n"
     ]
    }
   ],
   "source": [
    "# Information of the dataset\n",
    "df.info()"
   ]
  },
  {
   "cell_type": "markdown",
   "id": "f4633bf9-66ea-4999-8c0d-48245db30833",
   "metadata": {},
   "source": [
    "id is a unique number number given to different cases.\n",
    "\n",
    "Let's look into classes and distribution of all Categorical Variables."
   ]
  },
  {
   "cell_type": "code",
   "execution_count": 5,
   "id": "79a2847e-8a8c-4914-9a65-b4c6502add50",
   "metadata": {},
   "outputs": [
    {
     "data": {
      "image/png": "[encoded data removed]",
      "text/plain": [
       "<Figure size 720x576 with 1 Axes>"
      ]
     },
     "metadata": {
      "needs_background": "light"
     },
     "output_type": "display_data"
    },
    {
     "data": {
      "text/plain": [
       "<Figure size 432x288 with 0 Axes>"
      ]
     },
     "metadata": {},
     "output_type": "display_data"
    },
    {
     "data": {
      "image/png": "[encoded data removed]",
      "text/plain": [
       "<Figure size 720x576 with 1 Axes>"
      ]
     },
     "metadata": {
      "needs_background": "light"
     },
     "output_type": "display_data"
    },
    {
     "data": {
      "text/plain": [
       "<Figure size 432x288 with 0 Axes>"
      ]
     },
     "metadata": {},
     "output_type": "display_data"
    },
    {
     "data": {
      "image/png": "[encoded data removed]",
      "text/plain": [
       "<Figure size 720x576 with 1 Axes>"
      ]
     },
     "metadata": {
      "needs_background": "light"
     },
     "output_type": "display_data"
    },
    {
     "data": {
      "text/plain": [
       "<Figure size 432x288 with 0 Axes>"
      ]
     },
     "metadata": {},
     "output_type": "display_data"
    },
    {
     "data": {
      "image/png": "[encoded data removed]",
      "text/plain": [
       "<Figure size 720x576 with 1 Axes>"
      ]
     },
     "metadata": {
      "needs_background": "light"
     },
     "output_type": "display_data"
    },
    {
     "data": {
      "text/plain": [
       "<Figure size 432x288 with 0 Axes>"
      ]
     },
     "metadata": {},
     "output_type": "display_data"
    },
    {
     "data": {
      "image/png": "[encoded data removed]",
      "text/plain": [
       "<Figure size 720x576 with 1 Axes>"
      ]
     },
     "metadata": {
      "needs_background": "light"
     },
     "output_type": "display_data"
    },
    {
     "data": {
      "text/plain": [
       "<Figure size 432x288 with 0 Axes>"
      ]
     },
     "metadata": {},
     "output_type": "display_data"
    },
    {
     "data": {
      "image/png": "[encoded data removed]",
      "text/plain": [
       "<Figure size 720x576 with 1 Axes>"
      ]
     },
     "metadata": {
      "needs_background": "light"
     },
     "output_type": "display_data"
    },
    {
     "data": {
      "text/plain": [
       "<Figure size 432x288 with 0 Axes>"
      ]
     },
     "metadata": {},
     "output_type": "display_data"
    },
    {
     "data": {
      "image/png": "[encoded data removed]",
      "text/plain": [
       "<Figure size 720x576 with 1 Axes>"
      ]
     },
     "metadata": {
      "needs_background": "light"
     },
     "output_type": "display_data"
    },
    {
     "data": {
      "text/plain": [
       "<Figure size 432x288 with 0 Axes>"
      ]
     },
     "metadata": {},
     "output_type": "display_data"
    },
    {
     "data": {
      "image/png": "[encoded data removed]",
      "text/plain": [
       "<Figure size 720x576 with 1 Axes>"
      ]
     },
     "metadata": {
      "needs_background": "light"
     },
     "output_type": "display_data"
    },
    {
     "data": {
      "text/plain": [
       "<Figure size 432x288 with 0 Axes>"
      ]
     },
     "metadata": {},
     "output_type": "display_data"
    }
   ],
   "source": [
    "# distribution of categorical variables\n",
    "mask_categorical = df.dtypes != np.float\n",
    "category_cols = df.columns[mask_categorical]\n",
    "category_cols=category_cols.tolist()\n",
    "category_cols.remove('id')\n",
    "for col in category_cols:\n",
    "    fig, ax = plt.subplots(figsize = (10,8))\n",
    "    plt1 = sns.countplot(data=df, x=col, order=df[col].value_counts().index)\n",
    "    plt1.set(xlabel = col, ylabel= 'Count')\n",
    "    plt.show()\n",
    "    plt.tight_layout()"
   ]
  },
  {
   "cell_type": "markdown",
   "id": "2475396b-223b-417a-b5f0-842f92fa063e",
   "metadata": {},
   "source": [
    "From the above plots we can see the all the categorical variable along with classes and distirbution of that categorical variable.\n",
    "\n",
    "Gender have 3 classes Male,Female,Others.\n",
    "\n",
    "Hypertension have 2 classes 0 and 1. 0 means no and 1 means yes.\n",
    "\n",
    "heart_disease have 2 classes 0 and 1. 0 means no and 1 means yes.\n",
    "\n",
    "ever_married have two classes Yes and No.\n",
    "\n",
    "work_type have s 5 classes chidren, Private,Never-worked,Self_employed,Govt_job.\n",
    "\n",
    "Residence_type have 2 classes Rural and Urban.\n",
    "\n",
    "Smoking Status have 3 classes never smoked, formaly smoked, smokes.\n",
    "\n",
    "Stroke have 2 classes 0 an 1 where 0 means not having a stroke and 1 means yes having a stroke.It is our target variable as welL and we can see that this is an imablanced dataset. So.we need to take nessecary step to accurately model the problem."
   ]
  },
  {
   "cell_type": "markdown",
   "id": "8509106a-fd8e-413b-9faf-36846aabea10",
   "metadata": {},
   "source": [
    "Let's look in to the distribution of continuous variable."
   ]
  },
  {
   "cell_type": "code",
   "execution_count": 6,
   "id": "d0941a12-a3cd-4ff9-8108-58d86c68cbd2",
   "metadata": {},
   "outputs": [
    {
     "data": {
      "image/png": "[encoded data removed]",
      "text/plain": [
       "<Figure size 432x288 with 1 Axes>"
      ]
     },
     "metadata": {
      "needs_background": "light"
     },
     "output_type": "display_data"
    },
    {
     "data": {
      "image/png": "[encoded data removed]",
      "text/plain": [
       "<Figure size 432x288 with 1 Axes>"
      ]
     },
     "metadata": {
      "needs_background": "light"
     },
     "output_type": "display_data"
    },
    {
     "data": {
      "image/png": "[encoded data removed]",
      "text/plain": [
       "<Figure size 432x288 with 1 Axes>"
      ]
     },
     "metadata": {
      "needs_background": "light"
     },
     "output_type": "display_data"
    }
   ],
   "source": [
    "# distribution of continuous variables\n",
    "mask_numeric = df.dtypes == np.float\n",
    "numeric_cols = df.columns[mask_numeric]\n",
    "numeric_cols=numeric_cols.tolist()\n",
    "for col in numeric_cols:\n",
    "    sns.distplot(df[col],color='green',hist=True)\n",
    "    plt.show()"
   ]
  },
  {
   "cell_type": "markdown",
   "id": "f04396fa-1b05-4f3f-a408-2b456ea814e0",
   "metadata": {},
   "source": [
    "From the above plot we can see that 'avg_glucose_level' and 'bmi' have right skewed distribution. We might like to fix it the later stage."
   ]
  },
  {
   "cell_type": "markdown",
   "id": "64ab9add-78af-46ba-aa36-f1f9fe884489",
   "metadata": {},
   "source": [
    "# 2. Objectives"
   ]
  },
  {
   "cell_type": "markdown",
   "id": "44b117b0-58ad-4087-851d-3899d5e87db4",
   "metadata": {},
   "source": [
    "Our goal will be to accurately predict the likelihood of a patient experiencing a cerebral stroke. Additionally, we will aim to identify the key contributing factors that can initiate a cerebral stroke. This information will help doctors evaluate the risk of cerebral stroke in their patients and take necessary preventive measures.\n",
    "\n",
    "1. At first, we will do data cleaning in form of finding and handling null values in rows.\n",
    "2. Looking into the distribution of the continuous attributes and if they are not normally distributed then dealing with it.\n",
    "3. Doing some Statistical analysis on the data do get some inference.\n",
    "4. Convertical categorical variable of object data type to int type.\n",
    "5. Scaling the continuous variable using StandardScaler\n",
    "6. Fitting simple classification models to the data using Class Reweighting.\n",
    "7. Fitting progressive complex models to get good accuracy and getting model explanation of the complex models."
   ]
  },
  {
   "cell_type": "markdown",
   "id": "1c5cbee9-9485-45e1-b27a-c8336c2641c0",
   "metadata": {},
   "source": [
    "# 3.Data cleaning and Feature Engineering"
   ]
  },
  {
   "cell_type": "markdown",
   "id": "9823efb8-69fc-4562-b24a-31f8ee832736",
   "metadata": {},
   "source": [
    "The first step of this process is to find out the duplicates and removing them from the dataset. From this operation ID attribute is used to find out the duplicates."
   ]
  },
  {
   "cell_type": "code",
   "execution_count": 7,
   "id": "567cf38c-89c6-4c84-88c6-a0781b80f43d",
   "metadata": {},
   "outputs": [
    {
     "data": {
      "text/html": [
       "<div>\n",
       "<style scoped>\n",
       "    .dataframe tbody tr th:only-of-type {\n",
       "        vertical-align: middle;\n",
       "    }\n",
       "\n",
       "    .dataframe tbody tr th {\n",
       "        vertical-align: top;\n",
       "    }\n",
       "\n",
       "    .dataframe thead th {\n",
       "        text-align: right;\n",
       "    }\n",
       "</style>\n",
       "<table border=\"1\" class=\"dataframe\">\n",
       "  <thead>\n",
       "    <tr style=\"text-align: right;\">\n",
       "      <th></th>\n",
       "      <th>id</th>\n",
       "      <th>gender</th>\n",
       "      <th>age</th>\n",
       "      <th>hypertension</th>\n",
       "      <th>heart_disease</th>\n",
       "      <th>ever_married</th>\n",
       "      <th>work_type</th>\n",
       "      <th>Residence_type</th>\n",
       "      <th>avg_glucose_level</th>\n",
       "      <th>bmi</th>\n",
       "      <th>smoking_status</th>\n",
       "      <th>stroke</th>\n",
       "    </tr>\n",
       "  </thead>\n",
       "  <tbody>\n",
       "  </tbody>\n",
       "</table>\n",
       "</div>"
      ],
      "text/plain": [
       "Empty DataFrame\n",
       "Columns: [id, gender, age, hypertension, heart_disease, ever_married, work_type, Residence_type, avg_glucose_level, bmi, smoking_status, stroke]\n",
       "Index: []"
      ]
     },
     "execution_count": 7,
     "metadata": {},
     "output_type": "execute_result"
    }
   ],
   "source": [
    "# Check for duplicate data\n",
    "duplicate = df[df.duplicated(['id'])]\n",
    "duplicate"
   ]
  },
  {
   "cell_type": "markdown",
   "id": "a1442d46-a901-4055-89c0-b9a7c6eaf0d9",
   "metadata": {},
   "source": [
    "As we can see that there is no duplicate rows in the dataset."
   ]
  },
  {
   "cell_type": "markdown",
   "id": "50f6b3bd-ead0-45a8-836e-b6679e2dc75c",
   "metadata": {},
   "source": [
    "Now.Lets check whether there is any columns with null value."
   ]
  },
  {
   "cell_type": "code",
   "execution_count": 8,
   "id": "85dfa800-af8a-41d9-93de-e9c5605540d7",
   "metadata": {},
   "outputs": [
    {
     "data": {
      "text/plain": [
       "id                       0\n",
       "gender                   0\n",
       "age                      0\n",
       "hypertension             0\n",
       "heart_disease            0\n",
       "ever_married             0\n",
       "work_type                0\n",
       "Residence_type           0\n",
       "avg_glucose_level        0\n",
       "bmi                   1462\n",
       "smoking_status       13292\n",
       "stroke                   0\n",
       "dtype: int64"
      ]
     },
     "execution_count": 8,
     "metadata": {},
     "output_type": "execute_result"
    }
   ],
   "source": [
    "df.isnull().sum()"
   ]
  },
  {
   "cell_type": "markdown",
   "id": "bf272514-71ac-4157-883c-5523af8bb380",
   "metadata": {},
   "source": [
    "From the above table it can be seen that there is null values in 'bmi' and 'smoking_status'."
   ]
  },
  {
   "cell_type": "markdown",
   "id": "0e5a31db-29a3-4bc9-bf95-a62bb4137c6e",
   "metadata": {},
   "source": [
    "We will remove the rows where 'smoking_status' is not known as this variable has lots of null values. So, if we try to replace the null value by some class then it can change the distribution drastically and from the below plot we can see that most of those rows where 'smoking_status' is not known belongs to class 0 of 'stroke' attributes so this rows will not have much impact on our goal as our goal is too correctly predict class 1 of 'stroke'."
   ]
  },
  {
   "cell_type": "code",
   "execution_count": 9,
   "id": "df63908c-d514-49ff-85d2-2956efa5a2e9",
   "metadata": {},
   "outputs": [],
   "source": [
    "smoke_null = df[df['smoking_status'].isnull()]"
   ]
  },
  {
   "cell_type": "code",
   "execution_count": 10,
   "id": "23056b3f-8964-4cae-a291-51ed07c25aa5",
   "metadata": {},
   "outputs": [
    {
     "data": {
      "image/png": "[encoded data removed]",
      "text/plain": [
       "<Figure size 720x576 with 1 Axes>"
      ]
     },
     "metadata": {
      "needs_background": "light"
     },
     "output_type": "display_data"
    },
    {
     "data": {
      "text/plain": [
       "<Figure size 432x288 with 0 Axes>"
      ]
     },
     "metadata": {},
     "output_type": "display_data"
    }
   ],
   "source": [
    "fig, ax = plt.subplots(figsize = (10,8))\n",
    "plt1 = sns.countplot(data=smoke_null, x='stroke', order=smoke_null['stroke'].value_counts().index)\n",
    "plt1.set(xlabel = 'stroke', ylabel= 'Count')\n",
    "plt.show()\n",
    "plt.tight_layout()"
   ]
  },
  {
   "cell_type": "code",
   "execution_count": 11,
   "id": "b67f20c3-8d1d-4474-a5b2-9a353a8590ad",
   "metadata": {},
   "outputs": [],
   "source": [
    "# Removing rows where 'smoking_status' is null\n",
    "df = df[df['smoking_status'].notnull()]"
   ]
  },
  {
   "cell_type": "markdown",
   "id": "9605a63f-4ae2-451f-ad46-3e9234cf3134",
   "metadata": {},
   "source": [
    "We need to deal with the null value of the 'bmi'. But before that let's make a copy of the current dataframe."
   ]
  },
  {
   "cell_type": "markdown",
   "id": "66a4afa0-7ab5-4266-8c2a-8bc360f749c0",
   "metadata": {},
   "source": [
    "Let's make a copy of the dataframe."
   ]
  },
  {
   "cell_type": "code",
   "execution_count": 12,
   "id": "2ffaf280-85a4-42eb-9db5-4f0302c4d6e0",
   "metadata": {},
   "outputs": [],
   "source": [
    "X=df.copy()\n",
    "X.drop('id',axis=1,inplace=True)"
   ]
  },
  {
   "cell_type": "markdown",
   "id": "872ce779-8ff7-4232-b06a-ba7919f8a0bb",
   "metadata": {},
   "source": [
    "We have already noticed the skewness of the variable 'bmi' and 'avg_glucose_level'. We need to fix this or it can cause problem for some of our ML models. "
   ]
  },
  {
   "cell_type": "markdown",
   "id": "d8b8cfe5-01f0-4b8e-a816-1fab8ab2d9c7",
   "metadata": {},
   "source": [
    "Let's do normaltest on 'bmi'. "
   ]
  },
  {
   "cell_type": "code",
   "execution_count": 13,
   "id": "55fb4f3a-bce5-433c-b65a-14d149d6e686",
   "metadata": {},
   "outputs": [
    {
     "data": {
      "text/plain": [
       "NormaltestResult(statistic=5332.784217775925, pvalue=0.0)"
      ]
     },
     "execution_count": 13,
     "metadata": {},
     "output_type": "execute_result"
    }
   ],
   "source": [
    "normaltest(X.bmi.dropna().values)"
   ]
  },
  {
   "cell_type": "markdown",
   "id": "4c93d1b4-395a-426e-a002-83280b2901d8",
   "metadata": {},
   "source": [
    "The above result confirm our assumption of  distribution of 'bmi' not being normal.\n",
    "\n",
    "We will try to fix the skew of the 'bmi' variable in the next step by transforming the distribution of the variable."
   ]
  },
  {
   "cell_type": "code",
   "execution_count": 14,
   "id": "62d6f238-e9be-4d25-91ae-a7b46423fc0d",
   "metadata": {},
   "outputs": [
    {
     "data": {
      "image/png": "[encoded data removed]",
      "text/plain": [
       "<Figure size 432x288 with 1 Axes>"
      ]
     },
     "metadata": {
      "needs_background": "light"
     },
     "output_type": "display_data"
    }
   ],
   "source": [
    "from sklearn.preprocessing import QuantileTransformer\n",
    "qt_bmi = QuantileTransformer(n_quantiles=500, output_distribution='normal',random_state=0)\n",
    "X['bmi']=qt_bmi.fit_transform(np.array(X['bmi']).reshape(-1, 1))\n",
    "sns.kdeplot(X['bmi'], shade=True)\n",
    "plt.title('bmi')\n",
    "plt.show() "
   ]
  },
  {
   "cell_type": "markdown",
   "id": "2ec96cfd-4438-44ea-a78f-fffd8a59a540",
   "metadata": {},
   "source": [
    "Let's do normaltest on the transformed 'bmi'."
   ]
  },
  {
   "cell_type": "code",
   "execution_count": 15,
   "id": "1b836bb7-9e0e-4f10-b97d-77b7e8fd295f",
   "metadata": {},
   "outputs": [
    {
     "data": {
      "text/plain": [
       "NormaltestResult(statistic=1.2207292355120887, pvalue=0.5431527898136755)"
      ]
     },
     "execution_count": 15,
     "metadata": {},
     "output_type": "execute_result"
    }
   ],
   "source": [
    "normaltest(X.bmi.dropna().values)"
   ]
  },
  {
   "cell_type": "markdown",
   "id": "afcefeb0-2ce0-4d82-8a51-25cacac2f9dc",
   "metadata": {},
   "source": [
    "From the statistic above and also from the plot we can say that we have sucessfully fixed the skew of the 'bmi'."
   ]
  },
  {
   "cell_type": "markdown",
   "id": "2bfeaad4-3f43-4748-a29d-3c094b7387f2",
   "metadata": {},
   "source": [
    "Let's do normal test on 'avg_glucose_level'."
   ]
  },
  {
   "cell_type": "code",
   "execution_count": 16,
   "id": "2fb47ad9-ab29-44a3-baf6-4cd0f1672eae",
   "metadata": {},
   "outputs": [
    {
     "data": {
      "text/plain": [
       "NormaltestResult(statistic=7407.283741310126, pvalue=0.0)"
      ]
     },
     "execution_count": 16,
     "metadata": {},
     "output_type": "execute_result"
    }
   ],
   "source": [
    "normaltest(X.avg_glucose_level.dropna().values)"
   ]
  },
  {
   "cell_type": "markdown",
   "id": "8c8d72fa-b140-4681-b324-992584d77312",
   "metadata": {},
   "source": [
    "The Statistics above suggests that 'avg_glucose_level' is not normally distributed whcih can be seen from the previous plotted distribution of 'avg_glucose_level'.\n",
    "\n",
    "In the next step we will try to fix the skew of 'avg_glucose_level' by transforming the distribution of the variable."
   ]
  },
  {
   "cell_type": "code",
   "execution_count": 17,
   "id": "5714c179-a8cd-47ec-957a-b105856f8bfc",
   "metadata": {},
   "outputs": [
    {
     "data": {
      "image/png": "[encoded data removed]",
      "text/plain": [
       "<Figure size 432x288 with 1 Axes>"
      ]
     },
     "metadata": {
      "needs_background": "light"
     },
     "output_type": "display_data"
    }
   ],
   "source": [
    "qt_avg_glucose_level = QuantileTransformer(n_quantiles=500, output_distribution='normal',random_state=0)\n",
    "X['avg_glucose_level']=qt_bmi.fit_transform(np.array(X['avg_glucose_level']).reshape(-1, 1))\n",
    "sns.kdeplot(X['avg_glucose_level'], shade=True)\n",
    "plt.title('avg_glucose_level')\n",
    "plt.show() "
   ]
  },
  {
   "cell_type": "markdown",
   "id": "3159b5c1-3107-4d75-aa10-fd78084d36df",
   "metadata": {},
   "source": [
    "Let's do normal test on the transformed 'avg_glucose_level'."
   ]
  },
  {
   "cell_type": "code",
   "execution_count": 18,
   "id": "8ebff5d8-6346-44d6-a729-b88b79dba17c",
   "metadata": {},
   "outputs": [
    {
     "data": {
      "text/plain": [
       "NormaltestResult(statistic=2.9620890572953744, pvalue=0.2274000384346997)"
      ]
     },
     "execution_count": 18,
     "metadata": {},
     "output_type": "execute_result"
    }
   ],
   "source": [
    "normaltest(X.avg_glucose_level.dropna().values)"
   ]
  },
  {
   "cell_type": "markdown",
   "id": "c26d9147-c167-468d-be53-dc3adfdba555",
   "metadata": {},
   "source": [
    "From the statistics above we can say that now the 'avg_glucose_level' is normally distributed."
   ]
  },
  {
   "cell_type": "markdown",
   "id": "869f97a1-64d8-4f39-87a8-6e12e4a97515",
   "metadata": {},
   "source": [
    "Let's do normaltest on the variable 'age'."
   ]
  },
  {
   "cell_type": "code",
   "execution_count": 19,
   "id": "0cc849e7-67b6-4066-8fcd-992e6f74619d",
   "metadata": {},
   "outputs": [
    {
     "data": {
      "text/plain": [
       "NormaltestResult(statistic=5992.178508157799, pvalue=0.0)"
      ]
     },
     "execution_count": 19,
     "metadata": {},
     "output_type": "execute_result"
    }
   ],
   "source": [
    "normaltest(X.age.values)"
   ]
  },
  {
   "cell_type": "markdown",
   "id": "b4dbcc37-86e1-484c-aa03-cf4d080c624e",
   "metadata": {},
   "source": [
    "We can see that the 'age' variable is not normal. But in this case we are not going to apply transformation to 'age'. Rather we will look into the skew of the data and if the skew is low then we will leave the distribution as it is."
   ]
  },
  {
   "cell_type": "code",
   "execution_count": 20,
   "id": "a1ba5bc6-2815-4948-8ca7-4ba12e174ec4",
   "metadata": {},
   "outputs": [
    {
     "data": {
      "text/plain": [
       "-0.020502287801332016"
      ]
     },
     "execution_count": 20,
     "metadata": {},
     "output_type": "execute_result"
    }
   ],
   "source": [
    "X.age.skew()"
   ]
  },
  {
   "cell_type": "markdown",
   "id": "469a4df9-5b4a-425d-914b-cd9596589f07",
   "metadata": {},
   "source": [
    "We can see that the skew is low. So, we will leave the distribution as it is."
   ]
  },
  {
   "cell_type": "markdown",
   "id": "f1ae15f5-846b-443f-a8ca-4c55d115fe9d",
   "metadata": {},
   "source": [
    "Now we will try to find out the relation of different variable with stroke.\n",
    "\n",
    "We will start with continuous variables."
   ]
  },
  {
   "cell_type": "markdown",
   "id": "1c76a0ff-d8be-4b98-bd75-9cb0d2a0a8c8",
   "metadata": {},
   "source": [
    "In the next step we will plot the distribution of continous variables for every class of 'stroke' which is 0 and 1."
   ]
  },
  {
   "cell_type": "code",
   "execution_count": 21,
   "id": "95745a4d-5279-47b8-bc1a-7933995b0fdf",
   "metadata": {},
   "outputs": [
    {
     "data": {
      "image/png": "[encoded data removed]",
      "text/plain": [
       "<Figure size 432x288 with 1 Axes>"
      ]
     },
     "metadata": {
      "needs_background": "light"
     },
     "output_type": "display_data"
    },
    {
     "data": {
      "image/png": "[encoded data removed]",
      "text/plain": [
       "<Figure size 432x288 with 1 Axes>"
      ]
     },
     "metadata": {
      "needs_background": "light"
     },
     "output_type": "display_data"
    },
    {
     "data": {
      "image/png": "[encoded data removed]",
      "text/plain": [
       "<Figure size 432x288 with 1 Axes>"
      ]
     },
     "metadata": {
      "needs_background": "light"
     },
     "output_type": "display_data"
    }
   ],
   "source": [
    "for col in numeric_cols:\n",
    "    sns.boxplot(x='stroke', y=col, data=X)\n",
    "    plt.title(col)\n",
    "    plt.show()"
   ]
  },
  {
   "cell_type": "markdown",
   "id": "e191b9e2-6176-447a-bc0d-c319048e22a2",
   "metadata": {},
   "source": [
    "From the above distribution we can say for sure that 'age' and 'avg_glucose_level' has strong relation with 'stroke'."
   ]
  },
  {
   "cell_type": "markdown",
   "id": "b93e1f42-7408-44f1-b88a-f61078e05cda",
   "metadata": {},
   "source": [
    "Let's do one statistical test to prove one of our claim."
   ]
  },
  {
   "cell_type": "markdown",
   "id": "9968928a-f5ee-41ea-8872-a7095163dd23",
   "metadata": {},
   "source": [
    "Let's propose a hypothesis.\n",
    "\n",
    "Null hypothesis: Person having Cerebral Stroke doesn't depend on the avg_glucose_level of the person.\n",
    "\n",
    "Alternate Hypothesis: Person having Cerebral Stroke does depend on the avg_glucose_level of the person.\n",
    "\n",
    "We set the significance level for p-value to be 0.05."
   ]
  },
  {
   "cell_type": "markdown",
   "id": "7a7a356d-4726-47f5-955b-56ecb49b270a",
   "metadata": {},
   "source": [
    "Let's do another visual inspection first."
   ]
  },
  {
   "cell_type": "code",
   "execution_count": 22,
   "id": "62a1bf1f-d9a9-4427-8272-b0fa10adb241",
   "metadata": {},
   "outputs": [
    {
     "data": {
      "text/plain": [
       "<matplotlib.legend.Legend at 0x29b8c6c1ac0>"
      ]
     },
     "execution_count": 22,
     "metadata": {},
     "output_type": "execute_result"
    },
    {
     "data": {
      "image/png": "[encoded data removed]",
      "text/plain": [
       "<Figure size 432x288 with 1 Axes>"
      ]
     },
     "metadata": {
      "needs_background": "light"
     },
     "output_type": "display_data"
    }
   ],
   "source": [
    "Y_Stroke=X.loc[X.stroke==1]\n",
    "N_Stroke=X.loc[X.stroke==0]\n",
    "Y_Stroke_avg_glucose_level = Y_Stroke.avg_glucose_level\n",
    "N_Stroke_avg_glucose_level = N_Stroke.avg_glucose_level\n",
    "sns.distplot(Y_Stroke_avg_glucose_level,color='green',hist=False)\n",
    "sns.distplot(N_Stroke_avg_glucose_level,color='red',hist=False)\n",
    "plt.legend(['Y_Stroke', 'N_Stroke'])"
   ]
  },
  {
   "cell_type": "markdown",
   "id": "cef14cbb-72ed-469c-9be0-744cd7f1e049",
   "metadata": {},
   "source": [
    "We can clearly see that the distribution of 'avg_glucose_level' for different class of stroke [0:N_Stroke,1:Y_Stroke] is very different. Let's do a statistical test(F-test) to quantitatively prove our hypothesis."
   ]
  },
  {
   "cell_type": "code",
   "execution_count": 23,
   "id": "5df7d2d5-df71-4c05-b83b-f4d99bb53a1d",
   "metadata": {},
   "outputs": [
    {
     "name": "stdout",
     "output_type": "stream",
     "text": [
      "F-statistic: 90.14513457870854\n",
      "p-value: 2.3708509554921118e-21\n"
     ]
    }
   ],
   "source": [
    "f, p = stats.f_oneway(Y_Stroke_avg_glucose_level, N_Stroke_avg_glucose_level)\n",
    "print(\"F-statistic:\", f)\n",
    "print(\"p-value:\", p)"
   ]
  },
  {
   "cell_type": "markdown",
   "id": "8e79ccfe-892a-4a22-83b0-f55ab0810dde",
   "metadata": {},
   "source": [
    "We can see that p-value is very low compared to 0.05. So, we reject the Null Hypothesis and can say that 'avg_glucose_level' does have effect on 'stroke'."
   ]
  },
  {
   "cell_type": "markdown",
   "id": "71256bf9-d6eb-4bdf-b2f2-288c10a9c8c5",
   "metadata": {},
   "source": [
    "Now we will look into the distribution of categorical variables for stroke class 1. From this we will try to get idea of effect of different class of categorical variable on Stroke. "
   ]
  },
  {
   "cell_type": "code",
   "execution_count": 24,
   "id": "fab6a942-629a-4164-a6da-36a5fb84b282",
   "metadata": {},
   "outputs": [
    {
     "data": {
      "image/png": "[encoded data removed]",
      "text/plain": [
       "<Figure size 432x288 with 1 Axes>"
      ]
     },
     "metadata": {
      "needs_background": "light"
     },
     "output_type": "display_data"
    },
    {
     "data": {
      "image/png": "[encoded data removed]",
      "text/plain": [
       "<Figure size 432x288 with 1 Axes>"
      ]
     },
     "metadata": {
      "needs_background": "light"
     },
     "output_type": "display_data"
    },
    {
     "data": {
      "image/png": "[encoded data removed]",
      "text/plain": [
       "<Figure size 432x288 with 1 Axes>"
      ]
     },
     "metadata": {
      "needs_background": "light"
     },
     "output_type": "display_data"
    },
    {
     "data": {
      "image/png": "[encoded data removed]",
      "text/plain": [
       "<Figure size 432x288 with 1 Axes>"
      ]
     },
     "metadata": {
      "needs_background": "light"
     },
     "output_type": "display_data"
    },
    {
     "data": {
      "image/png": "[encoded data removed]",
      "text/plain": [
       "<Figure size 432x288 with 1 Axes>"
      ]
     },
     "metadata": {
      "needs_background": "light"
     },
     "output_type": "display_data"
    },
    {
     "data": {
      "image/png": "[encoded data removed]",
      "text/plain": [
       "<Figure size 432x288 with 1 Axes>"
      ]
     },
     "metadata": {
      "needs_background": "light"
     },
     "output_type": "display_data"
    },
    {
     "data": {
      "image/png": "[encoded data removed]",
      "text/plain": [
       "<Figure size 432x288 with 1 Axes>"
      ]
     },
     "metadata": {
      "needs_background": "light"
     },
     "output_type": "display_data"
    }
   ],
   "source": [
    "for col in category_cols:\n",
    "        if col!='stroke':\n",
    "            # calculate the percentage of occurrences\n",
    "            percentage = X.groupby(['stroke',col]).size().div(X.groupby([col]).size(), level=col)*100\n",
    "            percentage = percentage.reset_index(name='percentage')\n",
    "\n",
    "            # Create a stacked bar chart\n",
    "            # plt.figure(figsize=(10, 8))\n",
    "            Y_Stroke=percentage.loc[percentage.stroke==1]\n",
    "            sns.barplot(x=col, y='percentage', data=Y_Stroke, dodge=True)\n",
    "            plt.title(col)\n",
    "            plt.show()"
   ]
  },
  {
   "cell_type": "markdown",
   "id": "81bc6555-18b7-415f-8dc6-40eb1931a693",
   "metadata": {},
   "source": [
    "The plots above shows that what percentage of certain class having stroke. For example Let's Consider all the heart_disease class 1 people as 100%. Out of that 100%, more that 8% of the people have'stroke' class 1."
   ]
  },
  {
   "cell_type": "markdown",
   "id": "a561627a-3a09-4533-83b6-842e924016ab",
   "metadata": {},
   "source": [
    "From the above plot we can say that 'hypertension' and 'heart_disease' categorical variable does have a role to play in 'stroke'. Some variable like  'ever_married','work_type' and 'somking_status' also looking to have effect on 'stroke'."
   ]
  },
  {
   "cell_type": "markdown",
   "id": "a40fe923-0122-4343-b994-de5f57945ad6",
   "metadata": {},
   "source": [
    "Let's do a statistical test to check wheather 'smoking_status' have relation with 'stroke'."
   ]
  },
  {
   "cell_type": "markdown",
   "id": "d734fc20-66c5-4adc-9310-d590f838559c",
   "metadata": {},
   "source": [
    "Let's propose a hypothesis.\n",
    "\n",
    "Null hypothesis: Person having Cerebral Stroke doesn't depend on the smoking_status of the person.\n",
    "\n",
    "Alternate Hypothesis: Person having Cerebral Stroke does depend on the smoking_status of the person.\n",
    "\n",
    "We set the significance level for p-value to be 0.05."
   ]
  },
  {
   "cell_type": "markdown",
   "id": "cbba8e41-5f09-4428-b486-c84231f462c6",
   "metadata": {},
   "source": [
    "We need to perform ch_square test between 'stroke' and 'smoking_status' column."
   ]
  },
  {
   "cell_type": "code",
   "execution_count": 25,
   "id": "7192fec1-dd67-4e02-9f07-5f7d4fd54792",
   "metadata": {},
   "outputs": [
    {
     "name": "stdout",
     "output_type": "stream",
     "text": [
      "chi2: 34.654573576807856, p-value: 2.9843857761841864e-08\n"
     ]
    }
   ],
   "source": [
    "ct = pd.crosstab(X['smoking_status'], X['stroke'])\n",
    "chi2, p, dof, expected = chi2_contingency(ct)\n",
    "print(f'chi2: {chi2}, p-value: {p}')"
   ]
  },
  {
   "cell_type": "markdown",
   "id": "3b944bcb-cd4f-46d1-8f71-3170c5256ea3",
   "metadata": {},
   "source": [
    "As the p-value is much less than 0.05. So,we can reject the null hypothesis and can say that 'smoking_status' does have relation with 'stroke'."
   ]
  },
  {
   "cell_type": "markdown",
   "id": "fbcb614d-0ee8-4f3e-9d39-f0dee9f055e4",
   "metadata": {},
   "source": [
    "Let's split our data set into train set and test set. We need stratified split so that ratio of class twos classes of 'stroke' remain same in train set and test set."
   ]
  },
  {
   "cell_type": "code",
   "execution_count": 26,
   "id": "c2a2934b-5303-4a7a-a22d-d655531277d2",
   "metadata": {},
   "outputs": [],
   "source": [
    "new_column_names = {old_name: old_name.replace('_', '-') for old_name in X.columns}\n",
    "X = X.rename(columns=new_column_names)"
   ]
  },
  {
   "cell_type": "code",
   "execution_count": 27,
   "id": "fd070979-55ff-4dda-a915-1bb6495ca86d",
   "metadata": {},
   "outputs": [],
   "source": [
    "y=X.pop('stroke')"
   ]
  },
  {
   "cell_type": "code",
   "execution_count": 28,
   "id": "5cce4307-4690-49c6-b941-c88ebe2391cc",
   "metadata": {},
   "outputs": [],
   "source": [
    "X_train, X_test, y_train, y_test = train_test_split(X, y, test_size=0.2, stratify=y, random_state = 12)"
   ]
  },
  {
   "cell_type": "markdown",
   "id": "b72093cb-82d3-4349-aaac-0b7c9f495333",
   "metadata": {},
   "source": [
    "Let's check wheather after split the ratio of classes in 'stroke' is same or not. "
   ]
  },
  {
   "cell_type": "code",
   "execution_count": 29,
   "id": "237aa4c4-8f5b-4186-a879-7238ea61c018",
   "metadata": {},
   "outputs": [],
   "source": [
    "train_set_distribution = dict(zip(*np.unique(y_train, return_counts=True)))\n",
    "test_set_distribution = dict(zip(*np.unique(y_test, return_counts=True)))"
   ]
  },
  {
   "cell_type": "code",
   "execution_count": 30,
   "id": "cc678e4f-8954-4a6d-b60e-9697cea4c0d6",
   "metadata": {},
   "outputs": [
    {
     "name": "stdout",
     "output_type": "stream",
     "text": [
      "Training set distribution:  {0: 0.9788258739516732, 1: 0.02117412604832683}\n",
      "Test set distribution:  {0: 0.9787446031218864, 1: 0.021255396878113585}\n"
     ]
    }
   ],
   "source": [
    "print(\"Training set distribution: \", {k: v/len(y_train) for k, v in train_set_distribution.items()})\n",
    "print(\"Test set distribution: \", {k: v/len(y_test) for k, v in test_set_distribution.items()})"
   ]
  },
  {
   "cell_type": "markdown",
   "id": "8caf4d5b-e6e9-421c-aa3d-bd88850a68a2",
   "metadata": {},
   "source": [
    "We can see that ratio of the classes in 'stroke' column of train set and test set  is same."
   ]
  },
  {
   "cell_type": "markdown",
   "id": "2cbe4257-588b-46e6-8de8-d1ab508482f6",
   "metadata": {},
   "source": [
    "Let's fill the null value of 'bmi' in X_train and X_test using median of the variable."
   ]
  },
  {
   "cell_type": "code",
   "execution_count": 31,
   "id": "0b4a8550-a0d1-43e6-b832-f4b4db1bae1d",
   "metadata": {},
   "outputs": [],
   "source": [
    "from sklearn.impute import SimpleImputer\n",
    "imputer_bmi = SimpleImputer(strategy='median')\n",
    "imputer_bmi.fit(X_train[['bmi']])\n",
    "X_train[['bmi']] = imputer_bmi.transform(X_train[['bmi']])\n",
    "X_test[['bmi']] = imputer_bmi.transform(X_test[['bmi']])"
   ]
  },
  {
   "cell_type": "markdown",
   "id": "b5b47de5-c6d6-4a68-82c5-938000feadee",
   "metadata": {},
   "source": [
    "Let's check the number of null values in train set and test set now."
   ]
  },
  {
   "cell_type": "code",
   "execution_count": 32,
   "id": "ee262e54-1b0d-453d-bb84-6ba858a422c9",
   "metadata": {},
   "outputs": [
    {
     "data": {
      "text/plain": [
       "gender               0\n",
       "age                  0\n",
       "hypertension         0\n",
       "heart-disease        0\n",
       "ever-married         0\n",
       "work-type            0\n",
       "Residence-type       0\n",
       "avg-glucose-level    0\n",
       "bmi                  0\n",
       "smoking-status       0\n",
       "dtype: int64"
      ]
     },
     "execution_count": 32,
     "metadata": {},
     "output_type": "execute_result"
    }
   ],
   "source": [
    "X_train.isnull().sum()"
   ]
  },
  {
   "cell_type": "code",
   "execution_count": 33,
   "id": "d716b4d2-7019-49f7-adf0-a0fa7bd29838",
   "metadata": {},
   "outputs": [
    {
     "data": {
      "text/plain": [
       "gender               0\n",
       "age                  0\n",
       "hypertension         0\n",
       "heart-disease        0\n",
       "ever-married         0\n",
       "work-type            0\n",
       "Residence-type       0\n",
       "avg-glucose-level    0\n",
       "bmi                  0\n",
       "smoking-status       0\n",
       "dtype: int64"
      ]
     },
     "execution_count": 33,
     "metadata": {},
     "output_type": "execute_result"
    }
   ],
   "source": [
    "X_test.isnull().sum()"
   ]
  },
  {
   "cell_type": "markdown",
   "id": "9c549aa0-c761-47eb-a426-d2b5474bb84a",
   "metadata": {},
   "source": [
    "Now there is no null values in any column of test set and train set."
   ]
  },
  {
   "cell_type": "markdown",
   "id": "c66f0ce9-6a85-45a8-a4a7-d6907c977fa5",
   "metadata": {},
   "source": [
    "We need to scale our continuous variable so no variable gets more weightage during ML model fitting."
   ]
  },
  {
   "cell_type": "code",
   "execution_count": 34,
   "id": "96d67070-eb63-4629-806f-d3c313450596",
   "metadata": {},
   "outputs": [],
   "source": [
    "ss=StandardScaler()\n",
    "mask_numeric = X_train.dtypes == np.float\n",
    "numeric_cols = X_train.columns[mask_numeric]\n",
    "numeric_cols=numeric_cols.tolist()\n",
    "X_train[numeric_cols]=ss.fit_transform(X_train[numeric_cols])\n",
    "X_test[numeric_cols]=ss.transform(X_test[numeric_cols])"
   ]
  },
  {
   "cell_type": "code",
   "execution_count": 35,
   "id": "c8211dfe-f552-4ff6-94e2-b33df78731d6",
   "metadata": {},
   "outputs": [
    {
     "data": {
      "text/html": [
       "<div>\n",
       "<style scoped>\n",
       "    .dataframe tbody tr th:only-of-type {\n",
       "        vertical-align: middle;\n",
       "    }\n",
       "\n",
       "    .dataframe tbody tr th {\n",
       "        vertical-align: top;\n",
       "    }\n",
       "\n",
       "    .dataframe thead th {\n",
       "        text-align: right;\n",
       "    }\n",
       "</style>\n",
       "<table border=\"1\" class=\"dataframe\">\n",
       "  <thead>\n",
       "    <tr style=\"text-align: right;\">\n",
       "      <th></th>\n",
       "      <th>gender</th>\n",
       "      <th>age</th>\n",
       "      <th>hypertension</th>\n",
       "      <th>heart-disease</th>\n",
       "      <th>ever-married</th>\n",
       "      <th>work-type</th>\n",
       "      <th>Residence-type</th>\n",
       "      <th>avg-glucose-level</th>\n",
       "      <th>bmi</th>\n",
       "      <th>smoking-status</th>\n",
       "    </tr>\n",
       "  </thead>\n",
       "  <tbody>\n",
       "    <tr>\n",
       "      <th>34311</th>\n",
       "      <td>Female</td>\n",
       "      <td>-1.436515</td>\n",
       "      <td>0</td>\n",
       "      <td>0</td>\n",
       "      <td>No</td>\n",
       "      <td>Private</td>\n",
       "      <td>Urban</td>\n",
       "      <td>0.225746</td>\n",
       "      <td>-0.576088</td>\n",
       "      <td>smokes</td>\n",
       "    </tr>\n",
       "    <tr>\n",
       "      <th>3599</th>\n",
       "      <td>Female</td>\n",
       "      <td>-1.596630</td>\n",
       "      <td>0</td>\n",
       "      <td>0</td>\n",
       "      <td>No</td>\n",
       "      <td>Private</td>\n",
       "      <td>Urban</td>\n",
       "      <td>0.138424</td>\n",
       "      <td>-1.091727</td>\n",
       "      <td>never smoked</td>\n",
       "    </tr>\n",
       "    <tr>\n",
       "      <th>20698</th>\n",
       "      <td>Female</td>\n",
       "      <td>1.498923</td>\n",
       "      <td>0</td>\n",
       "      <td>0</td>\n",
       "      <td>No</td>\n",
       "      <td>Self-employed</td>\n",
       "      <td>Urban</td>\n",
       "      <td>-0.212688</td>\n",
       "      <td>-1.127989</td>\n",
       "      <td>never smoked</td>\n",
       "    </tr>\n",
       "    <tr>\n",
       "      <th>37233</th>\n",
       "      <td>Male</td>\n",
       "      <td>0.698349</td>\n",
       "      <td>0</td>\n",
       "      <td>0</td>\n",
       "      <td>Yes</td>\n",
       "      <td>Govt_job</td>\n",
       "      <td>Rural</td>\n",
       "      <td>0.390686</td>\n",
       "      <td>1.892855</td>\n",
       "      <td>never smoked</td>\n",
       "    </tr>\n",
       "    <tr>\n",
       "      <th>5516</th>\n",
       "      <td>Male</td>\n",
       "      <td>-1.810117</td>\n",
       "      <td>0</td>\n",
       "      <td>0</td>\n",
       "      <td>No</td>\n",
       "      <td>children</td>\n",
       "      <td>Rural</td>\n",
       "      <td>-1.127060</td>\n",
       "      <td>1.294373</td>\n",
       "      <td>never smoked</td>\n",
       "    </tr>\n",
       "    <tr>\n",
       "      <th>27875</th>\n",
       "      <td>Male</td>\n",
       "      <td>0.484863</td>\n",
       "      <td>0</td>\n",
       "      <td>0</td>\n",
       "      <td>Yes</td>\n",
       "      <td>Self-employed</td>\n",
       "      <td>Rural</td>\n",
       "      <td>-0.413891</td>\n",
       "      <td>0.177561</td>\n",
       "      <td>formerly smoked</td>\n",
       "    </tr>\n",
       "    <tr>\n",
       "      <th>12425</th>\n",
       "      <td>Female</td>\n",
       "      <td>-1.062914</td>\n",
       "      <td>0</td>\n",
       "      <td>0</td>\n",
       "      <td>Yes</td>\n",
       "      <td>Private</td>\n",
       "      <td>Urban</td>\n",
       "      <td>-0.510339</td>\n",
       "      <td>0.017832</td>\n",
       "      <td>never smoked</td>\n",
       "    </tr>\n",
       "    <tr>\n",
       "      <th>13839</th>\n",
       "      <td>Female</td>\n",
       "      <td>-1.223029</td>\n",
       "      <td>0</td>\n",
       "      <td>0</td>\n",
       "      <td>No</td>\n",
       "      <td>Private</td>\n",
       "      <td>Rural</td>\n",
       "      <td>-0.186656</td>\n",
       "      <td>-0.182252</td>\n",
       "      <td>formerly smoked</td>\n",
       "    </tr>\n",
       "    <tr>\n",
       "      <th>39451</th>\n",
       "      <td>Female</td>\n",
       "      <td>-0.315711</td>\n",
       "      <td>0</td>\n",
       "      <td>0</td>\n",
       "      <td>Yes</td>\n",
       "      <td>Private</td>\n",
       "      <td>Rural</td>\n",
       "      <td>-1.361022</td>\n",
       "      <td>-0.117813</td>\n",
       "      <td>smokes</td>\n",
       "    </tr>\n",
       "    <tr>\n",
       "      <th>37092</th>\n",
       "      <td>Female</td>\n",
       "      <td>1.605667</td>\n",
       "      <td>0</td>\n",
       "      <td>0</td>\n",
       "      <td>Yes</td>\n",
       "      <td>Private</td>\n",
       "      <td>Urban</td>\n",
       "      <td>0.321633</td>\n",
       "      <td>-0.609021</td>\n",
       "      <td>formerly smoked</td>\n",
       "    </tr>\n",
       "  </tbody>\n",
       "</table>\n",
       "</div>"
      ],
      "text/plain": [
       "       gender       age  hypertension  heart-disease ever-married  \\\n",
       "34311  Female -1.436515             0              0           No   \n",
       "3599   Female -1.596630             0              0           No   \n",
       "20698  Female  1.498923             0              0           No   \n",
       "37233    Male  0.698349             0              0          Yes   \n",
       "5516     Male -1.810117             0              0           No   \n",
       "27875    Male  0.484863             0              0          Yes   \n",
       "12425  Female -1.062914             0              0          Yes   \n",
       "13839  Female -1.223029             0              0           No   \n",
       "39451  Female -0.315711             0              0          Yes   \n",
       "37092  Female  1.605667             0              0          Yes   \n",
       "\n",
       "           work-type Residence-type  avg-glucose-level       bmi  \\\n",
       "34311        Private          Urban           0.225746 -0.576088   \n",
       "3599         Private          Urban           0.138424 -1.091727   \n",
       "20698  Self-employed          Urban          -0.212688 -1.127989   \n",
       "37233       Govt_job          Rural           0.390686  1.892855   \n",
       "5516        children          Rural          -1.127060  1.294373   \n",
       "27875  Self-employed          Rural          -0.413891  0.177561   \n",
       "12425        Private          Urban          -0.510339  0.017832   \n",
       "13839        Private          Rural          -0.186656 -0.182252   \n",
       "39451        Private          Rural          -1.361022 -0.117813   \n",
       "37092        Private          Urban           0.321633 -0.609021   \n",
       "\n",
       "        smoking-status  \n",
       "34311           smokes  \n",
       "3599      never smoked  \n",
       "20698     never smoked  \n",
       "37233     never smoked  \n",
       "5516      never smoked  \n",
       "27875  formerly smoked  \n",
       "12425     never smoked  \n",
       "13839  formerly smoked  \n",
       "39451           smokes  \n",
       "37092  formerly smoked  "
      ]
     },
     "execution_count": 35,
     "metadata": {},
     "output_type": "execute_result"
    }
   ],
   "source": [
    "X_train.head(10)"
   ]
  },
  {
   "cell_type": "code",
   "execution_count": 36,
   "id": "267363d6-77da-4f4f-a549-4da0b75fc7ae",
   "metadata": {},
   "outputs": [
    {
     "data": {
      "text/html": [
       "<div>\n",
       "<style scoped>\n",
       "    .dataframe tbody tr th:only-of-type {\n",
       "        vertical-align: middle;\n",
       "    }\n",
       "\n",
       "    .dataframe tbody tr th {\n",
       "        vertical-align: top;\n",
       "    }\n",
       "\n",
       "    .dataframe thead th {\n",
       "        text-align: right;\n",
       "    }\n",
       "</style>\n",
       "<table border=\"1\" class=\"dataframe\">\n",
       "  <thead>\n",
       "    <tr style=\"text-align: right;\">\n",
       "      <th></th>\n",
       "      <th>gender</th>\n",
       "      <th>age</th>\n",
       "      <th>hypertension</th>\n",
       "      <th>heart-disease</th>\n",
       "      <th>ever-married</th>\n",
       "      <th>work-type</th>\n",
       "      <th>Residence-type</th>\n",
       "      <th>avg-glucose-level</th>\n",
       "      <th>bmi</th>\n",
       "      <th>smoking-status</th>\n",
       "    </tr>\n",
       "  </thead>\n",
       "  <tbody>\n",
       "    <tr>\n",
       "      <th>10746</th>\n",
       "      <td>Female</td>\n",
       "      <td>-1.383144</td>\n",
       "      <td>0</td>\n",
       "      <td>0</td>\n",
       "      <td>Yes</td>\n",
       "      <td>Private</td>\n",
       "      <td>Urban</td>\n",
       "      <td>0.620387</td>\n",
       "      <td>0.667580</td>\n",
       "      <td>smokes</td>\n",
       "    </tr>\n",
       "    <tr>\n",
       "      <th>33021</th>\n",
       "      <td>Female</td>\n",
       "      <td>0.965207</td>\n",
       "      <td>0</td>\n",
       "      <td>0</td>\n",
       "      <td>Yes</td>\n",
       "      <td>Private</td>\n",
       "      <td>Rural</td>\n",
       "      <td>-0.683266</td>\n",
       "      <td>0.445146</td>\n",
       "      <td>formerly smoked</td>\n",
       "    </tr>\n",
       "    <tr>\n",
       "      <th>36741</th>\n",
       "      <td>Male</td>\n",
       "      <td>0.911836</td>\n",
       "      <td>0</td>\n",
       "      <td>0</td>\n",
       "      <td>Yes</td>\n",
       "      <td>Self-employed</td>\n",
       "      <td>Urban</td>\n",
       "      <td>0.441359</td>\n",
       "      <td>-1.127989</td>\n",
       "      <td>never smoked</td>\n",
       "    </tr>\n",
       "    <tr>\n",
       "      <th>43371</th>\n",
       "      <td>Female</td>\n",
       "      <td>1.605667</td>\n",
       "      <td>0</td>\n",
       "      <td>0</td>\n",
       "      <td>Yes</td>\n",
       "      <td>Private</td>\n",
       "      <td>Urban</td>\n",
       "      <td>1.164620</td>\n",
       "      <td>-0.000071</td>\n",
       "      <td>formerly smoked</td>\n",
       "    </tr>\n",
       "    <tr>\n",
       "      <th>41844</th>\n",
       "      <td>Male</td>\n",
       "      <td>0.805092</td>\n",
       "      <td>0</td>\n",
       "      <td>0</td>\n",
       "      <td>Yes</td>\n",
       "      <td>Self-employed</td>\n",
       "      <td>Rural</td>\n",
       "      <td>-1.469517</td>\n",
       "      <td>1.194767</td>\n",
       "      <td>formerly smoked</td>\n",
       "    </tr>\n",
       "    <tr>\n",
       "      <th>9991</th>\n",
       "      <td>Male</td>\n",
       "      <td>0.698349</td>\n",
       "      <td>0</td>\n",
       "      <td>0</td>\n",
       "      <td>Yes</td>\n",
       "      <td>Govt_job</td>\n",
       "      <td>Rural</td>\n",
       "      <td>-1.582151</td>\n",
       "      <td>0.120527</td>\n",
       "      <td>formerly smoked</td>\n",
       "    </tr>\n",
       "    <tr>\n",
       "      <th>41221</th>\n",
       "      <td>Female</td>\n",
       "      <td>-0.369083</td>\n",
       "      <td>0</td>\n",
       "      <td>0</td>\n",
       "      <td>Yes</td>\n",
       "      <td>Self-employed</td>\n",
       "      <td>Rural</td>\n",
       "      <td>0.198567</td>\n",
       "      <td>0.852956</td>\n",
       "      <td>smokes</td>\n",
       "    </tr>\n",
       "    <tr>\n",
       "      <th>22078</th>\n",
       "      <td>Female</td>\n",
       "      <td>0.057890</td>\n",
       "      <td>0</td>\n",
       "      <td>0</td>\n",
       "      <td>Yes</td>\n",
       "      <td>Govt_job</td>\n",
       "      <td>Rural</td>\n",
       "      <td>-0.000925</td>\n",
       "      <td>1.050681</td>\n",
       "      <td>never smoked</td>\n",
       "    </tr>\n",
       "    <tr>\n",
       "      <th>10448</th>\n",
       "      <td>Male</td>\n",
       "      <td>-0.902799</td>\n",
       "      <td>0</td>\n",
       "      <td>0</td>\n",
       "      <td>No</td>\n",
       "      <td>Govt_job</td>\n",
       "      <td>Rural</td>\n",
       "      <td>-0.882937</td>\n",
       "      <td>0.743419</td>\n",
       "      <td>smokes</td>\n",
       "    </tr>\n",
       "    <tr>\n",
       "      <th>21696</th>\n",
       "      <td>Female</td>\n",
       "      <td>0.324748</td>\n",
       "      <td>1</td>\n",
       "      <td>0</td>\n",
       "      <td>Yes</td>\n",
       "      <td>Govt_job</td>\n",
       "      <td>Rural</td>\n",
       "      <td>-0.330133</td>\n",
       "      <td>0.795240</td>\n",
       "      <td>smokes</td>\n",
       "    </tr>\n",
       "  </tbody>\n",
       "</table>\n",
       "</div>"
      ],
      "text/plain": [
       "       gender       age  hypertension  heart-disease ever-married  \\\n",
       "10746  Female -1.383144             0              0          Yes   \n",
       "33021  Female  0.965207             0              0          Yes   \n",
       "36741    Male  0.911836             0              0          Yes   \n",
       "43371  Female  1.605667             0              0          Yes   \n",
       "41844    Male  0.805092             0              0          Yes   \n",
       "9991     Male  0.698349             0              0          Yes   \n",
       "41221  Female -0.369083             0              0          Yes   \n",
       "22078  Female  0.057890             0              0          Yes   \n",
       "10448    Male -0.902799             0              0           No   \n",
       "21696  Female  0.324748             1              0          Yes   \n",
       "\n",
       "           work-type Residence-type  avg-glucose-level       bmi  \\\n",
       "10746        Private          Urban           0.620387  0.667580   \n",
       "33021        Private          Rural          -0.683266  0.445146   \n",
       "36741  Self-employed          Urban           0.441359 -1.127989   \n",
       "43371        Private          Urban           1.164620 -0.000071   \n",
       "41844  Self-employed          Rural          -1.469517  1.194767   \n",
       "9991        Govt_job          Rural          -1.582151  0.120527   \n",
       "41221  Self-employed          Rural           0.198567  0.852956   \n",
       "22078       Govt_job          Rural          -0.000925  1.050681   \n",
       "10448       Govt_job          Rural          -0.882937  0.743419   \n",
       "21696       Govt_job          Rural          -0.330133  0.795240   \n",
       "\n",
       "        smoking-status  \n",
       "10746           smokes  \n",
       "33021  formerly smoked  \n",
       "36741     never smoked  \n",
       "43371  formerly smoked  \n",
       "41844  formerly smoked  \n",
       "9991   formerly smoked  \n",
       "41221           smokes  \n",
       "22078     never smoked  \n",
       "10448           smokes  \n",
       "21696           smokes  "
      ]
     },
     "execution_count": 36,
     "metadata": {},
     "output_type": "execute_result"
    }
   ],
   "source": [
    "X_test.head(10)"
   ]
  },
  {
   "cell_type": "markdown",
   "id": "0f28b028-d133-47aa-976a-d2898601a051",
   "metadata": {},
   "source": [
    "We need to deal with categorical columns of object datatype. We will use onehotencoder to convert this catgorical variable of object dataype to integer datatype so we can fit ML models."
   ]
  },
  {
   "cell_type": "code",
   "execution_count": 37,
   "id": "2064168a-643e-4eef-9bd8-7bfd6a6a0986",
   "metadata": {},
   "outputs": [],
   "source": [
    "mask_categorical_object = X_train.dtypes == np.object\n",
    "category_cols_object_dtype = X_train.columns[mask_categorical_object]\n",
    "category_cols_object_dtype =category_cols_object_dtype.tolist()\n",
    "one_hot = ColumnTransformer(transformers=[(\"one_hot\", OneHotEncoder(), category_cols_object_dtype) ],remainder=\"passthrough\")\n",
    "X_train=one_hot.fit_transform(X_train)\n",
    "X_test=one_hot.transform(X_test)"
   ]
  },
  {
   "cell_type": "code",
   "execution_count": 38,
   "id": "ea64c778-5cab-4fe2-a727-b052ac9ba395",
   "metadata": {},
   "outputs": [],
   "source": [
    "names=one_hot.get_feature_names_out()\n",
    "# colunm_names=[name[name.find(\"_\")+1:] for name in  [name[name.find(\"__\")+2:] for name in names]]\n",
    "colunm_names=[name[name.find(\"__\")+2:] for name in names]"
   ]
  },
  {
   "cell_type": "code",
   "execution_count": 39,
   "id": "9a40b345-559f-4221-bf33-66ef6b386679",
   "metadata": {},
   "outputs": [
    {
     "data": {
      "text/html": [
       "<div>\n",
       "<style scoped>\n",
       "    .dataframe tbody tr th:only-of-type {\n",
       "        vertical-align: middle;\n",
       "    }\n",
       "\n",
       "    .dataframe tbody tr th {\n",
       "        vertical-align: top;\n",
       "    }\n",
       "\n",
       "    .dataframe thead th {\n",
       "        text-align: right;\n",
       "    }\n",
       "</style>\n",
       "<table border=\"1\" class=\"dataframe\">\n",
       "  <thead>\n",
       "    <tr style=\"text-align: right;\">\n",
       "      <th></th>\n",
       "      <th>gender_Female</th>\n",
       "      <th>gender_Male</th>\n",
       "      <th>gender_Other</th>\n",
       "      <th>ever-married_No</th>\n",
       "      <th>ever-married_Yes</th>\n",
       "      <th>work-type_Govt_job</th>\n",
       "      <th>work-type_Never_worked</th>\n",
       "      <th>work-type_Private</th>\n",
       "      <th>work-type_Self-employed</th>\n",
       "      <th>work-type_children</th>\n",
       "      <th>Residence-type_Rural</th>\n",
       "      <th>Residence-type_Urban</th>\n",
       "      <th>smoking-status_formerly smoked</th>\n",
       "      <th>smoking-status_never smoked</th>\n",
       "      <th>smoking-status_smokes</th>\n",
       "      <th>age</th>\n",
       "      <th>hypertension</th>\n",
       "      <th>heart-disease</th>\n",
       "      <th>avg-glucose-level</th>\n",
       "      <th>bmi</th>\n",
       "    </tr>\n",
       "  </thead>\n",
       "  <tbody>\n",
       "    <tr>\n",
       "      <th>0</th>\n",
       "      <td>1.0</td>\n",
       "      <td>0.0</td>\n",
       "      <td>0.0</td>\n",
       "      <td>1.0</td>\n",
       "      <td>0.0</td>\n",
       "      <td>0.0</td>\n",
       "      <td>0.0</td>\n",
       "      <td>1.0</td>\n",
       "      <td>0.0</td>\n",
       "      <td>0.0</td>\n",
       "      <td>0.0</td>\n",
       "      <td>1.0</td>\n",
       "      <td>0.0</td>\n",
       "      <td>0.0</td>\n",
       "      <td>1.0</td>\n",
       "      <td>-1.436515</td>\n",
       "      <td>0.0</td>\n",
       "      <td>0.0</td>\n",
       "      <td>0.225746</td>\n",
       "      <td>-0.576088</td>\n",
       "    </tr>\n",
       "    <tr>\n",
       "      <th>1</th>\n",
       "      <td>1.0</td>\n",
       "      <td>0.0</td>\n",
       "      <td>0.0</td>\n",
       "      <td>1.0</td>\n",
       "      <td>0.0</td>\n",
       "      <td>0.0</td>\n",
       "      <td>0.0</td>\n",
       "      <td>1.0</td>\n",
       "      <td>0.0</td>\n",
       "      <td>0.0</td>\n",
       "      <td>0.0</td>\n",
       "      <td>1.0</td>\n",
       "      <td>0.0</td>\n",
       "      <td>1.0</td>\n",
       "      <td>0.0</td>\n",
       "      <td>-1.596630</td>\n",
       "      <td>0.0</td>\n",
       "      <td>0.0</td>\n",
       "      <td>0.138424</td>\n",
       "      <td>-1.091727</td>\n",
       "    </tr>\n",
       "    <tr>\n",
       "      <th>2</th>\n",
       "      <td>1.0</td>\n",
       "      <td>0.0</td>\n",
       "      <td>0.0</td>\n",
       "      <td>1.0</td>\n",
       "      <td>0.0</td>\n",
       "      <td>0.0</td>\n",
       "      <td>0.0</td>\n",
       "      <td>0.0</td>\n",
       "      <td>1.0</td>\n",
       "      <td>0.0</td>\n",
       "      <td>0.0</td>\n",
       "      <td>1.0</td>\n",
       "      <td>0.0</td>\n",
       "      <td>1.0</td>\n",
       "      <td>0.0</td>\n",
       "      <td>1.498923</td>\n",
       "      <td>0.0</td>\n",
       "      <td>0.0</td>\n",
       "      <td>-0.212688</td>\n",
       "      <td>-1.127989</td>\n",
       "    </tr>\n",
       "    <tr>\n",
       "      <th>3</th>\n",
       "      <td>0.0</td>\n",
       "      <td>1.0</td>\n",
       "      <td>0.0</td>\n",
       "      <td>0.0</td>\n",
       "      <td>1.0</td>\n",
       "      <td>1.0</td>\n",
       "      <td>0.0</td>\n",
       "      <td>0.0</td>\n",
       "      <td>0.0</td>\n",
       "      <td>0.0</td>\n",
       "      <td>1.0</td>\n",
       "      <td>0.0</td>\n",
       "      <td>0.0</td>\n",
       "      <td>1.0</td>\n",
       "      <td>0.0</td>\n",
       "      <td>0.698349</td>\n",
       "      <td>0.0</td>\n",
       "      <td>0.0</td>\n",
       "      <td>0.390686</td>\n",
       "      <td>1.892855</td>\n",
       "    </tr>\n",
       "    <tr>\n",
       "      <th>4</th>\n",
       "      <td>0.0</td>\n",
       "      <td>1.0</td>\n",
       "      <td>0.0</td>\n",
       "      <td>1.0</td>\n",
       "      <td>0.0</td>\n",
       "      <td>0.0</td>\n",
       "      <td>0.0</td>\n",
       "      <td>0.0</td>\n",
       "      <td>0.0</td>\n",
       "      <td>1.0</td>\n",
       "      <td>1.0</td>\n",
       "      <td>0.0</td>\n",
       "      <td>0.0</td>\n",
       "      <td>1.0</td>\n",
       "      <td>0.0</td>\n",
       "      <td>-1.810117</td>\n",
       "      <td>0.0</td>\n",
       "      <td>0.0</td>\n",
       "      <td>-1.127060</td>\n",
       "      <td>1.294373</td>\n",
       "    </tr>\n",
       "    <tr>\n",
       "      <th>5</th>\n",
       "      <td>0.0</td>\n",
       "      <td>1.0</td>\n",
       "      <td>0.0</td>\n",
       "      <td>0.0</td>\n",
       "      <td>1.0</td>\n",
       "      <td>0.0</td>\n",
       "      <td>0.0</td>\n",
       "      <td>0.0</td>\n",
       "      <td>1.0</td>\n",
       "      <td>0.0</td>\n",
       "      <td>1.0</td>\n",
       "      <td>0.0</td>\n",
       "      <td>1.0</td>\n",
       "      <td>0.0</td>\n",
       "      <td>0.0</td>\n",
       "      <td>0.484863</td>\n",
       "      <td>0.0</td>\n",
       "      <td>0.0</td>\n",
       "      <td>-0.413891</td>\n",
       "      <td>0.177561</td>\n",
       "    </tr>\n",
       "    <tr>\n",
       "      <th>6</th>\n",
       "      <td>1.0</td>\n",
       "      <td>0.0</td>\n",
       "      <td>0.0</td>\n",
       "      <td>0.0</td>\n",
       "      <td>1.0</td>\n",
       "      <td>0.0</td>\n",
       "      <td>0.0</td>\n",
       "      <td>1.0</td>\n",
       "      <td>0.0</td>\n",
       "      <td>0.0</td>\n",
       "      <td>0.0</td>\n",
       "      <td>1.0</td>\n",
       "      <td>0.0</td>\n",
       "      <td>1.0</td>\n",
       "      <td>0.0</td>\n",
       "      <td>-1.062914</td>\n",
       "      <td>0.0</td>\n",
       "      <td>0.0</td>\n",
       "      <td>-0.510339</td>\n",
       "      <td>0.017832</td>\n",
       "    </tr>\n",
       "    <tr>\n",
       "      <th>7</th>\n",
       "      <td>1.0</td>\n",
       "      <td>0.0</td>\n",
       "      <td>0.0</td>\n",
       "      <td>1.0</td>\n",
       "      <td>0.0</td>\n",
       "      <td>0.0</td>\n",
       "      <td>0.0</td>\n",
       "      <td>1.0</td>\n",
       "      <td>0.0</td>\n",
       "      <td>0.0</td>\n",
       "      <td>1.0</td>\n",
       "      <td>0.0</td>\n",
       "      <td>1.0</td>\n",
       "      <td>0.0</td>\n",
       "      <td>0.0</td>\n",
       "      <td>-1.223029</td>\n",
       "      <td>0.0</td>\n",
       "      <td>0.0</td>\n",
       "      <td>-0.186656</td>\n",
       "      <td>-0.182252</td>\n",
       "    </tr>\n",
       "    <tr>\n",
       "      <th>8</th>\n",
       "      <td>1.0</td>\n",
       "      <td>0.0</td>\n",
       "      <td>0.0</td>\n",
       "      <td>0.0</td>\n",
       "      <td>1.0</td>\n",
       "      <td>0.0</td>\n",
       "      <td>0.0</td>\n",
       "      <td>1.0</td>\n",
       "      <td>0.0</td>\n",
       "      <td>0.0</td>\n",
       "      <td>1.0</td>\n",
       "      <td>0.0</td>\n",
       "      <td>0.0</td>\n",
       "      <td>0.0</td>\n",
       "      <td>1.0</td>\n",
       "      <td>-0.315711</td>\n",
       "      <td>0.0</td>\n",
       "      <td>0.0</td>\n",
       "      <td>-1.361022</td>\n",
       "      <td>-0.117813</td>\n",
       "    </tr>\n",
       "    <tr>\n",
       "      <th>9</th>\n",
       "      <td>1.0</td>\n",
       "      <td>0.0</td>\n",
       "      <td>0.0</td>\n",
       "      <td>0.0</td>\n",
       "      <td>1.0</td>\n",
       "      <td>0.0</td>\n",
       "      <td>0.0</td>\n",
       "      <td>1.0</td>\n",
       "      <td>0.0</td>\n",
       "      <td>0.0</td>\n",
       "      <td>0.0</td>\n",
       "      <td>1.0</td>\n",
       "      <td>1.0</td>\n",
       "      <td>0.0</td>\n",
       "      <td>0.0</td>\n",
       "      <td>1.605667</td>\n",
       "      <td>0.0</td>\n",
       "      <td>0.0</td>\n",
       "      <td>0.321633</td>\n",
       "      <td>-0.609021</td>\n",
       "    </tr>\n",
       "  </tbody>\n",
       "</table>\n",
       "</div>"
      ],
      "text/plain": [
       "   gender_Female  gender_Male  gender_Other  ever-married_No  \\\n",
       "0            1.0          0.0           0.0              1.0   \n",
       "1            1.0          0.0           0.0              1.0   \n",
       "2            1.0          0.0           0.0              1.0   \n",
       "3            0.0          1.0           0.0              0.0   \n",
       "4            0.0          1.0           0.0              1.0   \n",
       "5            0.0          1.0           0.0              0.0   \n",
       "6            1.0          0.0           0.0              0.0   \n",
       "7            1.0          0.0           0.0              1.0   \n",
       "8            1.0          0.0           0.0              0.0   \n",
       "9            1.0          0.0           0.0              0.0   \n",
       "\n",
       "   ever-married_Yes  work-type_Govt_job  work-type_Never_worked  \\\n",
       "0               0.0                 0.0                     0.0   \n",
       "1               0.0                 0.0                     0.0   \n",
       "2               0.0                 0.0                     0.0   \n",
       "3               1.0                 1.0                     0.0   \n",
       "4               0.0                 0.0                     0.0   \n",
       "5               1.0                 0.0                     0.0   \n",
       "6               1.0                 0.0                     0.0   \n",
       "7               0.0                 0.0                     0.0   \n",
       "8               1.0                 0.0                     0.0   \n",
       "9               1.0                 0.0                     0.0   \n",
       "\n",
       "   work-type_Private  work-type_Self-employed  work-type_children  \\\n",
       "0                1.0                      0.0                 0.0   \n",
       "1                1.0                      0.0                 0.0   \n",
       "2                0.0                      1.0                 0.0   \n",
       "3                0.0                      0.0                 0.0   \n",
       "4                0.0                      0.0                 1.0   \n",
       "5                0.0                      1.0                 0.0   \n",
       "6                1.0                      0.0                 0.0   \n",
       "7                1.0                      0.0                 0.0   \n",
       "8                1.0                      0.0                 0.0   \n",
       "9                1.0                      0.0                 0.0   \n",
       "\n",
       "   Residence-type_Rural  Residence-type_Urban  smoking-status_formerly smoked  \\\n",
       "0                   0.0                   1.0                             0.0   \n",
       "1                   0.0                   1.0                             0.0   \n",
       "2                   0.0                   1.0                             0.0   \n",
       "3                   1.0                   0.0                             0.0   \n",
       "4                   1.0                   0.0                             0.0   \n",
       "5                   1.0                   0.0                             1.0   \n",
       "6                   0.0                   1.0                             0.0   \n",
       "7                   1.0                   0.0                             1.0   \n",
       "8                   1.0                   0.0                             0.0   \n",
       "9                   0.0                   1.0                             1.0   \n",
       "\n",
       "   smoking-status_never smoked  smoking-status_smokes       age  hypertension  \\\n",
       "0                          0.0                    1.0 -1.436515           0.0   \n",
       "1                          1.0                    0.0 -1.596630           0.0   \n",
       "2                          1.0                    0.0  1.498923           0.0   \n",
       "3                          1.0                    0.0  0.698349           0.0   \n",
       "4                          1.0                    0.0 -1.810117           0.0   \n",
       "5                          0.0                    0.0  0.484863           0.0   \n",
       "6                          1.0                    0.0 -1.062914           0.0   \n",
       "7                          0.0                    0.0 -1.223029           0.0   \n",
       "8                          0.0                    1.0 -0.315711           0.0   \n",
       "9                          0.0                    0.0  1.605667           0.0   \n",
       "\n",
       "   heart-disease  avg-glucose-level       bmi  \n",
       "0            0.0           0.225746 -0.576088  \n",
       "1            0.0           0.138424 -1.091727  \n",
       "2            0.0          -0.212688 -1.127989  \n",
       "3            0.0           0.390686  1.892855  \n",
       "4            0.0          -1.127060  1.294373  \n",
       "5            0.0          -0.413891  0.177561  \n",
       "6            0.0          -0.510339  0.017832  \n",
       "7            0.0          -0.186656 -0.182252  \n",
       "8            0.0          -1.361022 -0.117813  \n",
       "9            0.0           0.321633 -0.609021  "
      ]
     },
     "execution_count": 39,
     "metadata": {},
     "output_type": "execute_result"
    }
   ],
   "source": [
    "X_train=pd.DataFrame(data=X_train,columns=colunm_names)\n",
    "X_train.head(10)"
   ]
  },
  {
   "cell_type": "code",
   "execution_count": 40,
   "id": "23f3e833-1a91-48f9-a57b-790009eb7587",
   "metadata": {},
   "outputs": [
    {
     "data": {
      "text/html": [
       "<div>\n",
       "<style scoped>\n",
       "    .dataframe tbody tr th:only-of-type {\n",
       "        vertical-align: middle;\n",
       "    }\n",
       "\n",
       "    .dataframe tbody tr th {\n",
       "        vertical-align: top;\n",
       "    }\n",
       "\n",
       "    .dataframe thead th {\n",
       "        text-align: right;\n",
       "    }\n",
       "</style>\n",
       "<table border=\"1\" class=\"dataframe\">\n",
       "  <thead>\n",
       "    <tr style=\"text-align: right;\">\n",
       "      <th></th>\n",
       "      <th>gender_Female</th>\n",
       "      <th>gender_Male</th>\n",
       "      <th>gender_Other</th>\n",
       "      <th>ever-married_No</th>\n",
       "      <th>ever-married_Yes</th>\n",
       "      <th>work-type_Govt_job</th>\n",
       "      <th>work-type_Never_worked</th>\n",
       "      <th>work-type_Private</th>\n",
       "      <th>work-type_Self-employed</th>\n",
       "      <th>work-type_children</th>\n",
       "      <th>Residence-type_Rural</th>\n",
       "      <th>Residence-type_Urban</th>\n",
       "      <th>smoking-status_formerly smoked</th>\n",
       "      <th>smoking-status_never smoked</th>\n",
       "      <th>smoking-status_smokes</th>\n",
       "      <th>age</th>\n",
       "      <th>hypertension</th>\n",
       "      <th>heart-disease</th>\n",
       "      <th>avg-glucose-level</th>\n",
       "      <th>bmi</th>\n",
       "    </tr>\n",
       "  </thead>\n",
       "  <tbody>\n",
       "    <tr>\n",
       "      <th>0</th>\n",
       "      <td>1.0</td>\n",
       "      <td>0.0</td>\n",
       "      <td>0.0</td>\n",
       "      <td>0.0</td>\n",
       "      <td>1.0</td>\n",
       "      <td>0.0</td>\n",
       "      <td>0.0</td>\n",
       "      <td>1.0</td>\n",
       "      <td>0.0</td>\n",
       "      <td>0.0</td>\n",
       "      <td>0.0</td>\n",
       "      <td>1.0</td>\n",
       "      <td>0.0</td>\n",
       "      <td>0.0</td>\n",
       "      <td>1.0</td>\n",
       "      <td>-1.383144</td>\n",
       "      <td>0.0</td>\n",
       "      <td>0.0</td>\n",
       "      <td>0.620387</td>\n",
       "      <td>0.667580</td>\n",
       "    </tr>\n",
       "    <tr>\n",
       "      <th>1</th>\n",
       "      <td>1.0</td>\n",
       "      <td>0.0</td>\n",
       "      <td>0.0</td>\n",
       "      <td>0.0</td>\n",
       "      <td>1.0</td>\n",
       "      <td>0.0</td>\n",
       "      <td>0.0</td>\n",
       "      <td>1.0</td>\n",
       "      <td>0.0</td>\n",
       "      <td>0.0</td>\n",
       "      <td>1.0</td>\n",
       "      <td>0.0</td>\n",
       "      <td>1.0</td>\n",
       "      <td>0.0</td>\n",
       "      <td>0.0</td>\n",
       "      <td>0.965207</td>\n",
       "      <td>0.0</td>\n",
       "      <td>0.0</td>\n",
       "      <td>-0.683266</td>\n",
       "      <td>0.445146</td>\n",
       "    </tr>\n",
       "    <tr>\n",
       "      <th>2</th>\n",
       "      <td>0.0</td>\n",
       "      <td>1.0</td>\n",
       "      <td>0.0</td>\n",
       "      <td>0.0</td>\n",
       "      <td>1.0</td>\n",
       "      <td>0.0</td>\n",
       "      <td>0.0</td>\n",
       "      <td>0.0</td>\n",
       "      <td>1.0</td>\n",
       "      <td>0.0</td>\n",
       "      <td>0.0</td>\n",
       "      <td>1.0</td>\n",
       "      <td>0.0</td>\n",
       "      <td>1.0</td>\n",
       "      <td>0.0</td>\n",
       "      <td>0.911836</td>\n",
       "      <td>0.0</td>\n",
       "      <td>0.0</td>\n",
       "      <td>0.441359</td>\n",
       "      <td>-1.127989</td>\n",
       "    </tr>\n",
       "    <tr>\n",
       "      <th>3</th>\n",
       "      <td>1.0</td>\n",
       "      <td>0.0</td>\n",
       "      <td>0.0</td>\n",
       "      <td>0.0</td>\n",
       "      <td>1.0</td>\n",
       "      <td>0.0</td>\n",
       "      <td>0.0</td>\n",
       "      <td>1.0</td>\n",
       "      <td>0.0</td>\n",
       "      <td>0.0</td>\n",
       "      <td>0.0</td>\n",
       "      <td>1.0</td>\n",
       "      <td>1.0</td>\n",
       "      <td>0.0</td>\n",
       "      <td>0.0</td>\n",
       "      <td>1.605667</td>\n",
       "      <td>0.0</td>\n",
       "      <td>0.0</td>\n",
       "      <td>1.164620</td>\n",
       "      <td>-0.000071</td>\n",
       "    </tr>\n",
       "    <tr>\n",
       "      <th>4</th>\n",
       "      <td>0.0</td>\n",
       "      <td>1.0</td>\n",
       "      <td>0.0</td>\n",
       "      <td>0.0</td>\n",
       "      <td>1.0</td>\n",
       "      <td>0.0</td>\n",
       "      <td>0.0</td>\n",
       "      <td>0.0</td>\n",
       "      <td>1.0</td>\n",
       "      <td>0.0</td>\n",
       "      <td>1.0</td>\n",
       "      <td>0.0</td>\n",
       "      <td>1.0</td>\n",
       "      <td>0.0</td>\n",
       "      <td>0.0</td>\n",
       "      <td>0.805092</td>\n",
       "      <td>0.0</td>\n",
       "      <td>0.0</td>\n",
       "      <td>-1.469517</td>\n",
       "      <td>1.194767</td>\n",
       "    </tr>\n",
       "    <tr>\n",
       "      <th>5</th>\n",
       "      <td>0.0</td>\n",
       "      <td>1.0</td>\n",
       "      <td>0.0</td>\n",
       "      <td>0.0</td>\n",
       "      <td>1.0</td>\n",
       "      <td>1.0</td>\n",
       "      <td>0.0</td>\n",
       "      <td>0.0</td>\n",
       "      <td>0.0</td>\n",
       "      <td>0.0</td>\n",
       "      <td>1.0</td>\n",
       "      <td>0.0</td>\n",
       "      <td>1.0</td>\n",
       "      <td>0.0</td>\n",
       "      <td>0.0</td>\n",
       "      <td>0.698349</td>\n",
       "      <td>0.0</td>\n",
       "      <td>0.0</td>\n",
       "      <td>-1.582151</td>\n",
       "      <td>0.120527</td>\n",
       "    </tr>\n",
       "    <tr>\n",
       "      <th>6</th>\n",
       "      <td>1.0</td>\n",
       "      <td>0.0</td>\n",
       "      <td>0.0</td>\n",
       "      <td>0.0</td>\n",
       "      <td>1.0</td>\n",
       "      <td>0.0</td>\n",
       "      <td>0.0</td>\n",
       "      <td>0.0</td>\n",
       "      <td>1.0</td>\n",
       "      <td>0.0</td>\n",
       "      <td>1.0</td>\n",
       "      <td>0.0</td>\n",
       "      <td>0.0</td>\n",
       "      <td>0.0</td>\n",
       "      <td>1.0</td>\n",
       "      <td>-0.369083</td>\n",
       "      <td>0.0</td>\n",
       "      <td>0.0</td>\n",
       "      <td>0.198567</td>\n",
       "      <td>0.852956</td>\n",
       "    </tr>\n",
       "    <tr>\n",
       "      <th>7</th>\n",
       "      <td>1.0</td>\n",
       "      <td>0.0</td>\n",
       "      <td>0.0</td>\n",
       "      <td>0.0</td>\n",
       "      <td>1.0</td>\n",
       "      <td>1.0</td>\n",
       "      <td>0.0</td>\n",
       "      <td>0.0</td>\n",
       "      <td>0.0</td>\n",
       "      <td>0.0</td>\n",
       "      <td>1.0</td>\n",
       "      <td>0.0</td>\n",
       "      <td>0.0</td>\n",
       "      <td>1.0</td>\n",
       "      <td>0.0</td>\n",
       "      <td>0.057890</td>\n",
       "      <td>0.0</td>\n",
       "      <td>0.0</td>\n",
       "      <td>-0.000925</td>\n",
       "      <td>1.050681</td>\n",
       "    </tr>\n",
       "    <tr>\n",
       "      <th>8</th>\n",
       "      <td>0.0</td>\n",
       "      <td>1.0</td>\n",
       "      <td>0.0</td>\n",
       "      <td>1.0</td>\n",
       "      <td>0.0</td>\n",
       "      <td>1.0</td>\n",
       "      <td>0.0</td>\n",
       "      <td>0.0</td>\n",
       "      <td>0.0</td>\n",
       "      <td>0.0</td>\n",
       "      <td>1.0</td>\n",
       "      <td>0.0</td>\n",
       "      <td>0.0</td>\n",
       "      <td>0.0</td>\n",
       "      <td>1.0</td>\n",
       "      <td>-0.902799</td>\n",
       "      <td>0.0</td>\n",
       "      <td>0.0</td>\n",
       "      <td>-0.882937</td>\n",
       "      <td>0.743419</td>\n",
       "    </tr>\n",
       "    <tr>\n",
       "      <th>9</th>\n",
       "      <td>1.0</td>\n",
       "      <td>0.0</td>\n",
       "      <td>0.0</td>\n",
       "      <td>0.0</td>\n",
       "      <td>1.0</td>\n",
       "      <td>1.0</td>\n",
       "      <td>0.0</td>\n",
       "      <td>0.0</td>\n",
       "      <td>0.0</td>\n",
       "      <td>0.0</td>\n",
       "      <td>1.0</td>\n",
       "      <td>0.0</td>\n",
       "      <td>0.0</td>\n",
       "      <td>0.0</td>\n",
       "      <td>1.0</td>\n",
       "      <td>0.324748</td>\n",
       "      <td>1.0</td>\n",
       "      <td>0.0</td>\n",
       "      <td>-0.330133</td>\n",
       "      <td>0.795240</td>\n",
       "    </tr>\n",
       "  </tbody>\n",
       "</table>\n",
       "</div>"
      ],
      "text/plain": [
       "   gender_Female  gender_Male  gender_Other  ever-married_No  \\\n",
       "0            1.0          0.0           0.0              0.0   \n",
       "1            1.0          0.0           0.0              0.0   \n",
       "2            0.0          1.0           0.0              0.0   \n",
       "3            1.0          0.0           0.0              0.0   \n",
       "4            0.0          1.0           0.0              0.0   \n",
       "5            0.0          1.0           0.0              0.0   \n",
       "6            1.0          0.0           0.0              0.0   \n",
       "7            1.0          0.0           0.0              0.0   \n",
       "8            0.0          1.0           0.0              1.0   \n",
       "9            1.0          0.0           0.0              0.0   \n",
       "\n",
       "   ever-married_Yes  work-type_Govt_job  work-type_Never_worked  \\\n",
       "0               1.0                 0.0                     0.0   \n",
       "1               1.0                 0.0                     0.0   \n",
       "2               1.0                 0.0                     0.0   \n",
       "3               1.0                 0.0                     0.0   \n",
       "4               1.0                 0.0                     0.0   \n",
       "5               1.0                 1.0                     0.0   \n",
       "6               1.0                 0.0                     0.0   \n",
       "7               1.0                 1.0                     0.0   \n",
       "8               0.0                 1.0                     0.0   \n",
       "9               1.0                 1.0                     0.0   \n",
       "\n",
       "   work-type_Private  work-type_Self-employed  work-type_children  \\\n",
       "0                1.0                      0.0                 0.0   \n",
       "1                1.0                      0.0                 0.0   \n",
       "2                0.0                      1.0                 0.0   \n",
       "3                1.0                      0.0                 0.0   \n",
       "4                0.0                      1.0                 0.0   \n",
       "5                0.0                      0.0                 0.0   \n",
       "6                0.0                      1.0                 0.0   \n",
       "7                0.0                      0.0                 0.0   \n",
       "8                0.0                      0.0                 0.0   \n",
       "9                0.0                      0.0                 0.0   \n",
       "\n",
       "   Residence-type_Rural  Residence-type_Urban  smoking-status_formerly smoked  \\\n",
       "0                   0.0                   1.0                             0.0   \n",
       "1                   1.0                   0.0                             1.0   \n",
       "2                   0.0                   1.0                             0.0   \n",
       "3                   0.0                   1.0                             1.0   \n",
       "4                   1.0                   0.0                             1.0   \n",
       "5                   1.0                   0.0                             1.0   \n",
       "6                   1.0                   0.0                             0.0   \n",
       "7                   1.0                   0.0                             0.0   \n",
       "8                   1.0                   0.0                             0.0   \n",
       "9                   1.0                   0.0                             0.0   \n",
       "\n",
       "   smoking-status_never smoked  smoking-status_smokes       age  hypertension  \\\n",
       "0                          0.0                    1.0 -1.383144           0.0   \n",
       "1                          0.0                    0.0  0.965207           0.0   \n",
       "2                          1.0                    0.0  0.911836           0.0   \n",
       "3                          0.0                    0.0  1.605667           0.0   \n",
       "4                          0.0                    0.0  0.805092           0.0   \n",
       "5                          0.0                    0.0  0.698349           0.0   \n",
       "6                          0.0                    1.0 -0.369083           0.0   \n",
       "7                          1.0                    0.0  0.057890           0.0   \n",
       "8                          0.0                    1.0 -0.902799           0.0   \n",
       "9                          0.0                    1.0  0.324748           1.0   \n",
       "\n",
       "   heart-disease  avg-glucose-level       bmi  \n",
       "0            0.0           0.620387  0.667580  \n",
       "1            0.0          -0.683266  0.445146  \n",
       "2            0.0           0.441359 -1.127989  \n",
       "3            0.0           1.164620 -0.000071  \n",
       "4            0.0          -1.469517  1.194767  \n",
       "5            0.0          -1.582151  0.120527  \n",
       "6            0.0           0.198567  0.852956  \n",
       "7            0.0          -0.000925  1.050681  \n",
       "8            0.0          -0.882937  0.743419  \n",
       "9            0.0          -0.330133  0.795240  "
      ]
     },
     "execution_count": 40,
     "metadata": {},
     "output_type": "execute_result"
    }
   ],
   "source": [
    "X_test=pd.DataFrame(data=X_test,columns=colunm_names)\n",
    "X_test.head(10)"
   ]
  },
  {
   "cell_type": "code",
   "execution_count": 41,
   "id": "137a7d6e-ae86-44e6-90ee-7df86b14b448",
   "metadata": {},
   "outputs": [],
   "source": [
    "for col in X_train.columns:\n",
    "    if set(X_train[col].unique()) == {0, 1}:\n",
    "        X_train[col] = X_train[col].astype(int)"
   ]
  },
  {
   "cell_type": "code",
   "execution_count": 42,
   "id": "cd375cb6-fae7-4aff-984e-2f75d60445d8",
   "metadata": {},
   "outputs": [],
   "source": [
    "for col in X_test.columns:\n",
    "    if set(X_test[col].unique()) == {0, 1}:\n",
    "        X_test[col] = X_test[col].astype(int)"
   ]
  },
  {
   "cell_type": "markdown",
   "id": "a623a84b-2abe-4ca4-816f-0549eb83c8e9",
   "metadata": {},
   "source": [
    "# 4. Classification  Models"
   ]
  },
  {
   "cell_type": "markdown",
   "id": "f208a92c-2403-4651-a677-649a0c252d98",
   "metadata": {},
   "source": [
    "Our main objective will be to get a explaination of 'stroke'. Because of which we can't use Dimensionality Reduction algorithm on our dataset. After getting some explaination for 'stroke', we might focus on more accurate prediction."
   ]
  },
  {
   "cell_type": "markdown",
   "id": "5a044397-4e50-4717-8b1b-e371ff92c46a",
   "metadata": {},
   "source": [
    "Classes in our target variable is imbalanced. In other word, our target variable is skewed. To deal with this, we can use SMOTE, Class Reweighting or undersmaling method. Out of which undersmaoling will not be a good choice because high skewness of the target variable 'stroke' shown below. We will go with Class Reweighting first."
   ]
  },
  {
   "cell_type": "markdown",
   "id": "e900ad3f-0af6-4437-91bf-0a542dac0df0",
   "metadata": {},
   "source": [
    "For this dataset as predicting 'stroke' correctly has much impact than incorrectly predicting 'stroke', so we will focus on 'Recall' and 'ROC-AUC' value  of model on test set."
   ]
  },
  {
   "cell_type": "markdown",
   "id": "76748086-9016-464f-b0a4-d76ed0533d5b",
   "metadata": {},
   "source": [
    "### a) Logistic Regression with Class Reweighting"
   ]
  },
  {
   "cell_type": "markdown",
   "id": "cf31e6ae-56cc-4545-af66-6411d25cdc6a",
   "metadata": {},
   "source": [
    "Let's first build simple logistic regression model without class reweighting and predict with it."
   ]
  },
  {
   "cell_type": "code",
   "execution_count": 43,
   "id": "43162ce5-e906-4a45-84e8-f0f4b75a6771",
   "metadata": {},
   "outputs": [],
   "source": [
    "lr_model = LogisticRegression(random_state=rs,max_iter=1000)\n",
    "\n",
    "lr_model.fit(X_train, y_train)\n",
    "y_preds_lr = lr_model.predict(X_test)"
   ]
  },
  {
   "cell_type": "markdown",
   "id": "5762ee33-3b74-4d1f-851c-ae6c8b42f412",
   "metadata": {},
   "source": [
    "Function in the below cell will give us Accuracy,Precision,Recall,Fscore and ROC-AUC given predicted data and actual data."
   ]
  },
  {
   "cell_type": "code",
   "execution_count": 44,
   "id": "cb2321ce-c8de-4d6b-9710-44c0fb6a811d",
   "metadata": {},
   "outputs": [],
   "source": [
    "def evaluate_metrics(yt, yp):\n",
    "    accuracy = accuracy_score(yt, yp)\n",
    "    precision, recall, fbeta, support = precision_recall_fscore_support(yt, yp, beta=2, pos_label=1, average='binary')\n",
    "    auc = roc_auc_score(yt, yp)\n",
    "    print(f\"Accuracy is: {accuracy:.2f}\")\n",
    "    print(f\"Precision is: {precision:.2f}\")\n",
    "    print(f\"Recall is: {recall:.2f}\")\n",
    "    print(f\"Fscore is: {fbeta:.2f}\")\n",
    "    print(f\"AUC is: {auc:.2f}\")"
   ]
  },
  {
   "cell_type": "markdown",
   "id": "e98c9dec-366c-43e0-ab29-4ccc055b7c80",
   "metadata": {},
   "source": [
    "As we can see below this 'lr_model' didn't perform well in terms of AUC and Recall."
   ]
  },
  {
   "cell_type": "code",
   "execution_count": 45,
   "id": "49d090c9-9e9b-46b5-acb7-8372a612e695",
   "metadata": {},
   "outputs": [
    {
     "name": "stdout",
     "output_type": "stream",
     "text": [
      "Accuracy is: 0.98\n",
      "Precision is: 0.00\n",
      "Recall is: 0.00\n",
      "Fscore is: 0.00\n",
      "AUC is: 0.50\n"
     ]
    }
   ],
   "source": [
    "evaluate_metrics(y_test,y_preds_lr)"
   ]
  },
  {
   "cell_type": "markdown",
   "id": "54f40eb9-ffec-48a7-9d9f-7749d3af1014",
   "metadata": {},
   "source": [
    "Let's build a logistic regression with class_weight parameter which will do the class reweighting for us on the 'target variable'."
   ]
  },
  {
   "cell_type": "code",
   "execution_count": 46,
   "id": "b8ef567f-beaf-4f8f-854a-b0e793d0b208",
   "metadata": {},
   "outputs": [],
   "source": [
    "class_weight={0:0.05,1:0.95}"
   ]
  },
  {
   "cell_type": "code",
   "execution_count": 47,
   "id": "761ad31e-c008-4648-b2df-2cc1478f2d9f",
   "metadata": {},
   "outputs": [],
   "source": [
    "lr_model_class_weight = LogisticRegression(random_state=rs, \n",
    "                              max_iter = 1000,\n",
    "                              class_weight=class_weight)"
   ]
  },
  {
   "cell_type": "code",
   "execution_count": 48,
   "id": "2621769f-cb96-4996-8aa9-90f8b0cf45e8",
   "metadata": {},
   "outputs": [],
   "source": [
    "lr_model_class_weight.fit(X_train, y_train)\n",
    "y_preds_lr_class_weight = lr_model_class_weight.predict(X_test)"
   ]
  },
  {
   "cell_type": "markdown",
   "id": "72f86af1-0499-4635-9b56-40c8ca056409",
   "metadata": {},
   "source": [
    "From the below result we can see that our logistic regression model imporved with class reweighting."
   ]
  },
  {
   "cell_type": "code",
   "execution_count": 49,
   "id": "158ac003-6cac-47d3-8c0e-aaec2b433bea",
   "metadata": {},
   "outputs": [
    {
     "name": "stdout",
     "output_type": "stream",
     "text": [
      "Accuracy is: 0.86\n",
      "Precision is: 0.08\n",
      "Recall is: 0.51\n",
      "Fscore is: 0.24\n",
      "AUC is: 0.69\n"
     ]
    }
   ],
   "source": [
    "evaluate_metrics(y_test, y_preds_lr_class_weight)"
   ]
  },
  {
   "cell_type": "markdown",
   "id": "3b8457df-7a58-4992-8ce1-230ec594dd7d",
   "metadata": {},
   "source": [
    "Let's try to tune hyper-parameters of Logistic Regression.(Below cell can be uncommented to get the tuned hyper-parameters)"
   ]
  },
  {
   "cell_type": "code",
   "execution_count": 50,
   "id": "87a595b0-73aa-4321-8fa1-5b5b1e96e399",
   "metadata": {},
   "outputs": [],
   "source": [
    "# param_grid_lr = {\n",
    "#     'penalty': ['l1', 'l2'],\n",
    "#     'C': [0.001, 0.01, 0.1, 1,10],\n",
    "#     'solver': ['newton-cg', 'lbfgs', 'liblinear', 'sag', 'saga'],\n",
    "#     'class_weight': [{0:0.05, 1:0.95}, {0:0.1, 1:0.9},'balanced'],\n",
    "# }"
   ]
  },
  {
   "cell_type": "code",
   "execution_count": 51,
   "id": "1f4408f5-e4c3-4747-b318-7f59b6682c49",
   "metadata": {},
   "outputs": [],
   "source": [
    "# cv = StratifiedKFold(n_splits=5) \n",
    "# lr_grid_search = GridSearchCV(estimator=lr_model,param_grid=param_grid_lr, \n",
    "#                               scoring='roc_auc',cv=cv,n_jobs=8)\n",
    "# lr_grid_search.fit(X_train, y_train)"
   ]
  },
  {
   "cell_type": "code",
   "execution_count": 52,
   "id": "e46bb5e1-d826-445d-b9d9-215aa9a1576c",
   "metadata": {},
   "outputs": [],
   "source": [
    "# lr_grid_search_best=lr_grid_search.best_estimator_\n",
    "# print(lr_grid_search_best.get_params())"
   ]
  },
  {
   "cell_type": "code",
   "execution_count": 53,
   "id": "bcfda3a5-8efd-421f-abde-dfcd532c7db4",
   "metadata": {},
   "outputs": [],
   "source": [
    "# y_preds_lr_grid_search_best=lr_grid_search_best.predict(X_test)"
   ]
  },
  {
   "cell_type": "code",
   "execution_count": 54,
   "id": "4964a19b-2897-4d29-9686-14c9485fd815",
   "metadata": {},
   "outputs": [],
   "source": [
    "# evaluate_metrics(y_test, y_preds_lr_grid_search_best)"
   ]
  },
  {
   "cell_type": "markdown",
   "id": "6f5dd4a4-0cd3-4925-9702-0c8fd2d74c14",
   "metadata": {},
   "source": [
    "Below is the Logistic Regression model with tuned hyper-parameter."
   ]
  },
  {
   "cell_type": "code",
   "execution_count": 55,
   "id": "57ef73c7-aef1-4d71-ac83-8d89cd7434f2",
   "metadata": {},
   "outputs": [],
   "source": [
    "lr_class_weight_hp_tuned=LogisticRegression(C= 10, \n",
    "    class_weight= {0: 0.05, 1: 0.95}, dual= False, \n",
    "    fit_intercept= True, intercept_scaling= 1, \n",
    "    l1_ratio=None, max_iter=1000, \n",
    "    multi_class= 'auto',n_jobs=8, \n",
    "    penalty= 'l2', random_state= rs, solver= 'lbfgs', tol = 0.0001,verbose=  0, warm_start= False)"
   ]
  },
  {
   "cell_type": "code",
   "execution_count": 56,
   "id": "9395a243-02b9-4e1a-904f-3f1b6d49fcf6",
   "metadata": {},
   "outputs": [
    {
     "data": {
      "text/html": [
       "<style>#sk-container-id-1 {color: black;background-color: white;}#sk-container-id-1 pre{padding: 0;}#sk-container-id-1 div.sk-toggleable {background-color: white;}#sk-container-id-1 label.sk-toggleable__label {cursor: pointer;display: block;width: 100%;margin-bottom: 0;padding: 0.3em;box-sizing: border-box;text-align: center;}#sk-container-id-1 label.sk-toggleable__label-arrow:before {content: \"▸\";float: left;margin-right: 0.25em;color: #696969;}#sk-container-id-1 label.sk-toggleable__label-arrow:hover:before {color: black;}#sk-container-id-1 div.sk-estimator:hover label.sk-toggleable__label-arrow:before {color: black;}#sk-container-id-1 div.sk-toggleable__content {max-height: 0;max-width: 0;overflow: hidden;text-align: left;background-color: #f0f8ff;}#sk-container-id-1 div.sk-toggleable__content pre {margin: 0.2em;color: black;border-radius: 0.25em;background-color: #f0f8ff;}#sk-container-id-1 input.sk-toggleable__control:checked~div.sk-toggleable__content {max-height: 200px;max-width: 100%;overflow: auto;}#sk-container-id-1 input.sk-toggleable__control:checked~label.sk-toggleable__label-arrow:before {content: \"▾\";}#sk-container-id-1 div.sk-estimator input.sk-toggleable__control:checked~label.sk-toggleable__label {background-color: #d4ebff;}#sk-container-id-1 div.sk-label input.sk-toggleable__control:checked~label.sk-toggleable__label {background-color: #d4ebff;}#sk-container-id-1 input.sk-hidden--visually {border: 0;clip: rect(1px 1px 1px 1px);clip: rect(1px, 1px, 1px, 1px);height: 1px;margin: -1px;overflow: hidden;padding: 0;position: absolute;width: 1px;}#sk-container-id-1 div.sk-estimator {font-family: monospace;background-color: #f0f8ff;border: 1px dotted black;border-radius: 0.25em;box-sizing: border-box;margin-bottom: 0.5em;}#sk-container-id-1 div.sk-estimator:hover {background-color: #d4ebff;}#sk-container-id-1 div.sk-parallel-item::after {content: \"\";width: 100%;border-bottom: 1px solid gray;flex-grow: 1;}#sk-container-id-1 div.sk-label:hover label.sk-toggleable__label {background-color: #d4ebff;}#sk-container-id-1 div.sk-serial::before {content: \"\";position: absolute;border-left: 1px solid gray;box-sizing: border-box;top: 0;bottom: 0;left: 50%;z-index: 0;}#sk-container-id-1 div.sk-serial {display: flex;flex-direction: column;align-items: center;background-color: white;padding-right: 0.2em;padding-left: 0.2em;position: relative;}#sk-container-id-1 div.sk-item {position: relative;z-index: 1;}#sk-container-id-1 div.sk-parallel {display: flex;align-items: stretch;justify-content: center;background-color: white;position: relative;}#sk-container-id-1 div.sk-item::before, #sk-container-id-1 div.sk-parallel-item::before {content: \"\";position: absolute;border-left: 1px solid gray;box-sizing: border-box;top: 0;bottom: 0;left: 50%;z-index: -1;}#sk-container-id-1 div.sk-parallel-item {display: flex;flex-direction: column;z-index: 1;position: relative;background-color: white;}#sk-container-id-1 div.sk-parallel-item:first-child::after {align-self: flex-end;width: 50%;}#sk-container-id-1 div.sk-parallel-item:last-child::after {align-self: flex-start;width: 50%;}#sk-container-id-1 div.sk-parallel-item:only-child::after {width: 0;}#sk-container-id-1 div.sk-dashed-wrapped {border: 1px dashed gray;margin: 0 0.4em 0.5em 0.4em;box-sizing: border-box;padding-bottom: 0.4em;background-color: white;}#sk-container-id-1 div.sk-label label {font-family: monospace;font-weight: bold;display: inline-block;line-height: 1.2em;}#sk-container-id-1 div.sk-label-container {text-align: center;}#sk-container-id-1 div.sk-container {/* jupyter's `normalize.less` sets `[hidden] { display: none; }` but bootstrap.min.css set `[hidden] { display: none !important; }` so we also need the `!important` here to be able to override the default hidden behavior on the sphinx rendered scikit-learn.org. See: https://github.com/scikit-learn/scikit-learn/issues/21755 */display: inline-block !important;position: relative;}#sk-container-id-1 div.sk-text-repr-fallback {display: none;}</style><div id=\"sk-container-id-1\" class=\"sk-top-container\"><div class=\"sk-text-repr-fallback\"><pre>LogisticRegression(C=10, class_weight={0: 0.05, 1: 0.95}, max_iter=1000,\n",
       "                   n_jobs=8, random_state=12)</pre><b>In a Jupyter environment, please rerun this cell to show the HTML representation or trust the notebook. <br />On GitHub, the HTML representation is unable to render, please try loading this page with nbviewer.org.</b></div><div class=\"sk-container\" hidden><div class=\"sk-item\"><div class=\"sk-estimator sk-toggleable\"><input class=\"sk-toggleable__control sk-hidden--visually\" id=\"sk-estimator-id-1\" type=\"checkbox\" checked><label for=\"sk-estimator-id-1\" class=\"sk-toggleable__label sk-toggleable__label-arrow\">LogisticRegression</label><div class=\"sk-toggleable__content\"><pre>LogisticRegression(C=10, class_weight={0: 0.05, 1: 0.95}, max_iter=1000,\n",
       "                   n_jobs=8, random_state=12)</pre></div></div></div></div></div>"
      ],
      "text/plain": [
       "LogisticRegression(C=10, class_weight={0: 0.05, 1: 0.95}, max_iter=1000,\n",
       "                   n_jobs=8, random_state=12)"
      ]
     },
     "execution_count": 56,
     "metadata": {},
     "output_type": "execute_result"
    }
   ],
   "source": [
    "lr_class_weight_hp_tuned.fit(X_train, y_train)"
   ]
  },
  {
   "cell_type": "code",
   "execution_count": 57,
   "id": "14cd36d3-52b5-4a33-9388-61551db2ff1c",
   "metadata": {},
   "outputs": [],
   "source": [
    "y_preds_lr_class_weight_hp_tuned=lr_class_weight_hp_tuned.predict(X_test)"
   ]
  },
  {
   "cell_type": "markdown",
   "id": "f6400d47-6111-412c-88be-4487c3086929",
   "metadata": {},
   "source": [
    "From the below table we can see that  results didn't improved much."
   ]
  },
  {
   "cell_type": "code",
   "execution_count": 58,
   "id": "946468a9-9c6f-4aa3-8bbe-b3bf2af27d90",
   "metadata": {},
   "outputs": [
    {
     "name": "stdout",
     "output_type": "stream",
     "text": [
      "Accuracy is: 0.86\n",
      "Precision is: 0.08\n",
      "Recall is: 0.52\n",
      "Fscore is: 0.24\n",
      "AUC is: 0.69\n"
     ]
    }
   ],
   "source": [
    "evaluate_metrics(y_test, y_preds_lr_class_weight_hp_tuned)"
   ]
  },
  {
   "cell_type": "markdown",
   "id": "a6925846-9552-405a-9e0b-68d3dc4398a3",
   "metadata": {},
   "source": [
    "Let's try to look into the co-efficients of the tuned Logistic Regression model to get some idea that which attributes have major relation with 'stroke'."
   ]
  },
  {
   "cell_type": "code",
   "execution_count": 59,
   "id": "ea9fff6a-06f5-42f6-80ae-6fa25aaca70e",
   "metadata": {},
   "outputs": [
    {
     "data": {
      "image/png": "[encoded data removed]",
      "text/plain": [
       "<Figure size 720x576 with 1 Axes>"
      ]
     },
     "metadata": {
      "needs_background": "light"
     },
     "output_type": "display_data"
    }
   ],
   "source": [
    "plt.figure(figsize=(10, 8))\n",
    "colors = ['red' if c < 0 else 'blue' for c in lr_class_weight_hp_tuned.coef_[0]]\n",
    "plt.barh(range(lr_class_weight_hp_tuned.coef_.shape[1]), lr_class_weight_hp_tuned.coef_[0],color=colors)\n",
    "plt.yticks(range(lr_class_weight_hp_tuned.coef_.shape[1]),X_train.columns)\n",
    "plt.ylabel('Feature')\n",
    "plt.xlabel('Coefficient')\n",
    "plt.title('Logistic Regression Coefficients')\n",
    "plt.show()"
   ]
  },
  {
   "cell_type": "markdown",
   "id": "4d96e8c9-0190-4f9e-be06-4f68343cec13",
   "metadata": {},
   "source": [
    "From the abvove plot we can say that 'stroke' have strongest positive dependency on 'stroke' followed by 'heart-disease' and 'hypertension' and negative dependecy of person being 'children'."
   ]
  },
  {
   "cell_type": "markdown",
   "id": "7c48dc32-ea40-4ca5-b8b8-eb61f2d4cd69",
   "metadata": {},
   "source": [
    "### b) Decision Tree Classifier with Class Reweighting"
   ]
  },
  {
   "cell_type": "markdown",
   "id": "ac0a90fe-5e62-4ff3-898d-8bc06a7c2ade",
   "metadata": {},
   "source": [
    "Let's build our second model using Decision Tree. First we will build Decision Tree with default value of hyper-parameters without Class Reweighting.  "
   ]
  },
  {
   "cell_type": "code",
   "execution_count": 60,
   "id": "ad825734-ada7-4bdb-877d-fab6d018f3a3",
   "metadata": {},
   "outputs": [],
   "source": [
    "dr_model = DecisionTreeClassifier(random_state=rs)"
   ]
  },
  {
   "cell_type": "code",
   "execution_count": 61,
   "id": "5b4bef3d-ca6f-4d60-80fe-097c2b4136e3",
   "metadata": {},
   "outputs": [
    {
     "data": {
      "text/html": [
       "<style>#sk-container-id-2 {color: black;background-color: white;}#sk-container-id-2 pre{padding: 0;}#sk-container-id-2 div.sk-toggleable {background-color: white;}#sk-container-id-2 label.sk-toggleable__label {cursor: pointer;display: block;width: 100%;margin-bottom: 0;padding: 0.3em;box-sizing: border-box;text-align: center;}#sk-container-id-2 label.sk-toggleable__label-arrow:before {content: \"▸\";float: left;margin-right: 0.25em;color: #696969;}#sk-container-id-2 label.sk-toggleable__label-arrow:hover:before {color: black;}#sk-container-id-2 div.sk-estimator:hover label.sk-toggleable__label-arrow:before {color: black;}#sk-container-id-2 div.sk-toggleable__content {max-height: 0;max-width: 0;overflow: hidden;text-align: left;background-color: #f0f8ff;}#sk-container-id-2 div.sk-toggleable__content pre {margin: 0.2em;color: black;border-radius: 0.25em;background-color: #f0f8ff;}#sk-container-id-2 input.sk-toggleable__control:checked~div.sk-toggleable__content {max-height: 200px;max-width: 100%;overflow: auto;}#sk-container-id-2 input.sk-toggleable__control:checked~label.sk-toggleable__label-arrow:before {content: \"▾\";}#sk-container-id-2 div.sk-estimator input.sk-toggleable__control:checked~label.sk-toggleable__label {background-color: #d4ebff;}#sk-container-id-2 div.sk-label input.sk-toggleable__control:checked~label.sk-toggleable__label {background-color: #d4ebff;}#sk-container-id-2 input.sk-hidden--visually {border: 0;clip: rect(1px 1px 1px 1px);clip: rect(1px, 1px, 1px, 1px);height: 1px;margin: -1px;overflow: hidden;padding: 0;position: absolute;width: 1px;}#sk-container-id-2 div.sk-estimator {font-family: monospace;background-color: #f0f8ff;border: 1px dotted black;border-radius: 0.25em;box-sizing: border-box;margin-bottom: 0.5em;}#sk-container-id-2 div.sk-estimator:hover {background-color: #d4ebff;}#sk-container-id-2 div.sk-parallel-item::after {content: \"\";width: 100%;border-bottom: 1px solid gray;flex-grow: 1;}#sk-container-id-2 div.sk-label:hover label.sk-toggleable__label {background-color: #d4ebff;}#sk-container-id-2 div.sk-serial::before {content: \"\";position: absolute;border-left: 1px solid gray;box-sizing: border-box;top: 0;bottom: 0;left: 50%;z-index: 0;}#sk-container-id-2 div.sk-serial {display: flex;flex-direction: column;align-items: center;background-color: white;padding-right: 0.2em;padding-left: 0.2em;position: relative;}#sk-container-id-2 div.sk-item {position: relative;z-index: 1;}#sk-container-id-2 div.sk-parallel {display: flex;align-items: stretch;justify-content: center;background-color: white;position: relative;}#sk-container-id-2 div.sk-item::before, #sk-container-id-2 div.sk-parallel-item::before {content: \"\";position: absolute;border-left: 1px solid gray;box-sizing: border-box;top: 0;bottom: 0;left: 50%;z-index: -1;}#sk-container-id-2 div.sk-parallel-item {display: flex;flex-direction: column;z-index: 1;position: relative;background-color: white;}#sk-container-id-2 div.sk-parallel-item:first-child::after {align-self: flex-end;width: 50%;}#sk-container-id-2 div.sk-parallel-item:last-child::after {align-self: flex-start;width: 50%;}#sk-container-id-2 div.sk-parallel-item:only-child::after {width: 0;}#sk-container-id-2 div.sk-dashed-wrapped {border: 1px dashed gray;margin: 0 0.4em 0.5em 0.4em;box-sizing: border-box;padding-bottom: 0.4em;background-color: white;}#sk-container-id-2 div.sk-label label {font-family: monospace;font-weight: bold;display: inline-block;line-height: 1.2em;}#sk-container-id-2 div.sk-label-container {text-align: center;}#sk-container-id-2 div.sk-container {/* jupyter's `normalize.less` sets `[hidden] { display: none; }` but bootstrap.min.css set `[hidden] { display: none !important; }` so we also need the `!important` here to be able to override the default hidden behavior on the sphinx rendered scikit-learn.org. See: https://github.com/scikit-learn/scikit-learn/issues/21755 */display: inline-block !important;position: relative;}#sk-container-id-2 div.sk-text-repr-fallback {display: none;}</style><div id=\"sk-container-id-2\" class=\"sk-top-container\"><div class=\"sk-text-repr-fallback\"><pre>DecisionTreeClassifier(random_state=12)</pre><b>In a Jupyter environment, please rerun this cell to show the HTML representation or trust the notebook. <br />On GitHub, the HTML representation is unable to render, please try loading this page with nbviewer.org.</b></div><div class=\"sk-container\" hidden><div class=\"sk-item\"><div class=\"sk-estimator sk-toggleable\"><input class=\"sk-toggleable__control sk-hidden--visually\" id=\"sk-estimator-id-2\" type=\"checkbox\" checked><label for=\"sk-estimator-id-2\" class=\"sk-toggleable__label sk-toggleable__label-arrow\">DecisionTreeClassifier</label><div class=\"sk-toggleable__content\"><pre>DecisionTreeClassifier(random_state=12)</pre></div></div></div></div></div>"
      ],
      "text/plain": [
       "DecisionTreeClassifier(random_state=12)"
      ]
     },
     "execution_count": 61,
     "metadata": {},
     "output_type": "execute_result"
    }
   ],
   "source": [
    "dr_model.fit(X_train, y_train.values.ravel())"
   ]
  },
  {
   "cell_type": "code",
   "execution_count": 62,
   "id": "f55f8530-c552-4fd9-9fae-73c040fcc46a",
   "metadata": {},
   "outputs": [],
   "source": [
    "y_preds_dr = dr_model.predict(X_test)"
   ]
  },
  {
   "cell_type": "markdown",
   "id": "8522a5c4-c29d-4361-af40-26ad036f83f8",
   "metadata": {},
   "source": [
    "From the below values we can say that 'dr_model' didn't perform well."
   ]
  },
  {
   "cell_type": "code",
   "execution_count": 63,
   "id": "0c5ad46c-f89b-47f6-a65d-4db80260cb1d",
   "metadata": {},
   "outputs": [
    {
     "name": "stdout",
     "output_type": "stream",
     "text": [
      "Accuracy is: 0.96\n",
      "Precision is: 0.05\n",
      "Recall is: 0.05\n",
      "Fscore is: 0.05\n",
      "AUC is: 0.51\n"
     ]
    }
   ],
   "source": [
    "evaluate_metrics(y_test, y_preds_dr)"
   ]
  },
  {
   "cell_type": "markdown",
   "id": "a4b995b1-21dc-447c-b1d7-372183d2dd52",
   "metadata": {},
   "source": [
    "Our next step is to built a Decision Tree with class_weight."
   ]
  },
  {
   "cell_type": "code",
   "execution_count": 64,
   "id": "f392a743-ad84-40ec-8bf9-4b88f1b53e62",
   "metadata": {},
   "outputs": [],
   "source": [
    "dt_model_class_weight = DecisionTreeClassifier(class_weight=class_weight,random_state=rs)"
   ]
  },
  {
   "cell_type": "code",
   "execution_count": 65,
   "id": "d569e0f2-b109-4857-b6fb-ae9d6dbd1097",
   "metadata": {},
   "outputs": [],
   "source": [
    "dt_model_class_weight.fit(X_train, y_train)\n",
    "y_preds_dt_class_weight = dt_model_class_weight.predict(X_test)"
   ]
  },
  {
   "cell_type": "markdown",
   "id": "b4161ab7-aaa9-430c-bb47-48ef7c4bf67b",
   "metadata": {},
   "source": [
    "We can see that Class Reweighting didn't help with AUC and Recall of the model. The main reason for this can be said to be overfitting of the model."
   ]
  },
  {
   "cell_type": "code",
   "execution_count": 66,
   "id": "aec83ef9-f2e3-4566-9ce6-0d60109dd85b",
   "metadata": {},
   "outputs": [
    {
     "name": "stdout",
     "output_type": "stream",
     "text": [
      "Accuracy is: 0.96\n",
      "Precision is: 0.04\n",
      "Recall is: 0.05\n",
      "Fscore is: 0.05\n",
      "AUC is: 0.51\n"
     ]
    }
   ],
   "source": [
    "evaluate_metrics(y_test, y_preds_dt_class_weight)"
   ]
  },
  {
   "cell_type": "markdown",
   "id": "8613d409-a3a4-45bd-9784-2ca54744f36c",
   "metadata": {},
   "source": [
    "Let's tune the hyper-parameters of decision tree with class weight in hope for getting better result.(Below cells can be uncommented to look in to the results of Grid-search)"
   ]
  },
  {
   "cell_type": "code",
   "execution_count": 67,
   "id": "ef58b242-80b7-4da6-98c5-b432a24c8398",
   "metadata": {},
   "outputs": [],
   "source": [
    "# param_grid_dt = {\n",
    "#     'criterion': ['gini', 'entropy'],\n",
    "#     'max_depth': [2, 5, 8],\n",
    "#     'class_weight': [{0:0.05, 1:0.95},{0:0.01, 1:0.99}],\n",
    "#     'min_samples_split': [2, 4, 6],\n",
    "#     'max_features' : [\"sqrt\", \"log2\"]\n",
    "# }"
   ]
  },
  {
   "cell_type": "code",
   "execution_count": 68,
   "id": "542468bb-213e-4de0-b063-f98e72f3b31a",
   "metadata": {},
   "outputs": [],
   "source": [
    "# cv = StratifiedKFold(n_splits=5)\n",
    "# dt_grid_search = GridSearchCV(estimator=dr_model,param_grid=param_grid_dt,\n",
    "#                               scoring='roc_auc',cv=cv,n_jobs=8)\n",
    "# dt_grid_search.fit(X_train, y_train.values.ravel())"
   ]
  },
  {
   "cell_type": "code",
   "execution_count": 69,
   "id": "9d1cd377-39ef-4cc1-8b36-8381e9fda877",
   "metadata": {},
   "outputs": [],
   "source": [
    "# dt_grid_search_best=dt_grid_search.best_estimator_\n",
    "# print(dt_grid_search_best.get_params())"
   ]
  },
  {
   "cell_type": "code",
   "execution_count": 70,
   "id": "5db0b8e4-384e-4445-ad37-c5039b1055cc",
   "metadata": {},
   "outputs": [],
   "source": [
    "# y_preds_dt_grid_search_best=dt_grid_search_best.predict(X_test)"
   ]
  },
  {
   "cell_type": "code",
   "execution_count": 71,
   "id": "905ea77a-17a3-473b-be88-49b6c329df3e",
   "metadata": {},
   "outputs": [],
   "source": [
    "# evaluate_metrics(y_test, y_preds_dt_grid_search_best)"
   ]
  },
  {
   "cell_type": "markdown",
   "id": "8fbc6a26-e338-4d4c-8b16-60ca6b4613cf",
   "metadata": {},
   "source": [
    "A Decision Tree model is bulit with class_weight using tuned hyper-parameters and trained in the below cells."
   ]
  },
  {
   "cell_type": "code",
   "execution_count": 72,
   "id": "6862bad6-d787-47e0-966b-ed073d547fd6",
   "metadata": {},
   "outputs": [],
   "source": [
    "dt_class_weight_hp_tuned=DecisionTreeClassifier(ccp_alpha=0.0, \n",
    "        class_weight={0: 0.05, 1: 0.95}, criterion = 'gini', \n",
    "        max_depth = 5, max_features = 'sqrt', \n",
    "        max_leaf_nodes = None, min_impurity_decrease = 0.0, \n",
    "        min_samples_leaf = 1, min_samples_split = 2, \n",
    "        min_weight_fraction_leaf = 0.0, random_state = rs, splitter = 'best')"
   ]
  },
  {
   "cell_type": "code",
   "execution_count": 73,
   "id": "d9e58d07-3bff-481e-a044-7b87f4b072c2",
   "metadata": {},
   "outputs": [
    {
     "data": {
      "text/html": [
       "<style>#sk-container-id-3 {color: black;background-color: white;}#sk-container-id-3 pre{padding: 0;}#sk-container-id-3 div.sk-toggleable {background-color: white;}#sk-container-id-3 label.sk-toggleable__label {cursor: pointer;display: block;width: 100%;margin-bottom: 0;padding: 0.3em;box-sizing: border-box;text-align: center;}#sk-container-id-3 label.sk-toggleable__label-arrow:before {content: \"▸\";float: left;margin-right: 0.25em;color: #696969;}#sk-container-id-3 label.sk-toggleable__label-arrow:hover:before {color: black;}#sk-container-id-3 div.sk-estimator:hover label.sk-toggleable__label-arrow:before {color: black;}#sk-container-id-3 div.sk-toggleable__content {max-height: 0;max-width: 0;overflow: hidden;text-align: left;background-color: #f0f8ff;}#sk-container-id-3 div.sk-toggleable__content pre {margin: 0.2em;color: black;border-radius: 0.25em;background-color: #f0f8ff;}#sk-container-id-3 input.sk-toggleable__control:checked~div.sk-toggleable__content {max-height: 200px;max-width: 100%;overflow: auto;}#sk-container-id-3 input.sk-toggleable__control:checked~label.sk-toggleable__label-arrow:before {content: \"▾\";}#sk-container-id-3 div.sk-estimator input.sk-toggleable__control:checked~label.sk-toggleable__label {background-color: #d4ebff;}#sk-container-id-3 div.sk-label input.sk-toggleable__control:checked~label.sk-toggleable__label {background-color: #d4ebff;}#sk-container-id-3 input.sk-hidden--visually {border: 0;clip: rect(1px 1px 1px 1px);clip: rect(1px, 1px, 1px, 1px);height: 1px;margin: -1px;overflow: hidden;padding: 0;position: absolute;width: 1px;}#sk-container-id-3 div.sk-estimator {font-family: monospace;background-color: #f0f8ff;border: 1px dotted black;border-radius: 0.25em;box-sizing: border-box;margin-bottom: 0.5em;}#sk-container-id-3 div.sk-estimator:hover {background-color: #d4ebff;}#sk-container-id-3 div.sk-parallel-item::after {content: \"\";width: 100%;border-bottom: 1px solid gray;flex-grow: 1;}#sk-container-id-3 div.sk-label:hover label.sk-toggleable__label {background-color: #d4ebff;}#sk-container-id-3 div.sk-serial::before {content: \"\";position: absolute;border-left: 1px solid gray;box-sizing: border-box;top: 0;bottom: 0;left: 50%;z-index: 0;}#sk-container-id-3 div.sk-serial {display: flex;flex-direction: column;align-items: center;background-color: white;padding-right: 0.2em;padding-left: 0.2em;position: relative;}#sk-container-id-3 div.sk-item {position: relative;z-index: 1;}#sk-container-id-3 div.sk-parallel {display: flex;align-items: stretch;justify-content: center;background-color: white;position: relative;}#sk-container-id-3 div.sk-item::before, #sk-container-id-3 div.sk-parallel-item::before {content: \"\";position: absolute;border-left: 1px solid gray;box-sizing: border-box;top: 0;bottom: 0;left: 50%;z-index: -1;}#sk-container-id-3 div.sk-parallel-item {display: flex;flex-direction: column;z-index: 1;position: relative;background-color: white;}#sk-container-id-3 div.sk-parallel-item:first-child::after {align-self: flex-end;width: 50%;}#sk-container-id-3 div.sk-parallel-item:last-child::after {align-self: flex-start;width: 50%;}#sk-container-id-3 div.sk-parallel-item:only-child::after {width: 0;}#sk-container-id-3 div.sk-dashed-wrapped {border: 1px dashed gray;margin: 0 0.4em 0.5em 0.4em;box-sizing: border-box;padding-bottom: 0.4em;background-color: white;}#sk-container-id-3 div.sk-label label {font-family: monospace;font-weight: bold;display: inline-block;line-height: 1.2em;}#sk-container-id-3 div.sk-label-container {text-align: center;}#sk-container-id-3 div.sk-container {/* jupyter's `normalize.less` sets `[hidden] { display: none; }` but bootstrap.min.css set `[hidden] { display: none !important; }` so we also need the `!important` here to be able to override the default hidden behavior on the sphinx rendered scikit-learn.org. See: https://github.com/scikit-learn/scikit-learn/issues/21755 */display: inline-block !important;position: relative;}#sk-container-id-3 div.sk-text-repr-fallback {display: none;}</style><div id=\"sk-container-id-3\" class=\"sk-top-container\"><div class=\"sk-text-repr-fallback\"><pre>DecisionTreeClassifier(class_weight={0: 0.05, 1: 0.95}, max_depth=5,\n",
       "                       max_features=&#x27;sqrt&#x27;, random_state=12)</pre><b>In a Jupyter environment, please rerun this cell to show the HTML representation or trust the notebook. <br />On GitHub, the HTML representation is unable to render, please try loading this page with nbviewer.org.</b></div><div class=\"sk-container\" hidden><div class=\"sk-item\"><div class=\"sk-estimator sk-toggleable\"><input class=\"sk-toggleable__control sk-hidden--visually\" id=\"sk-estimator-id-3\" type=\"checkbox\" checked><label for=\"sk-estimator-id-3\" class=\"sk-toggleable__label sk-toggleable__label-arrow\">DecisionTreeClassifier</label><div class=\"sk-toggleable__content\"><pre>DecisionTreeClassifier(class_weight={0: 0.05, 1: 0.95}, max_depth=5,\n",
       "                       max_features=&#x27;sqrt&#x27;, random_state=12)</pre></div></div></div></div></div>"
      ],
      "text/plain": [
       "DecisionTreeClassifier(class_weight={0: 0.05, 1: 0.95}, max_depth=5,\n",
       "                       max_features='sqrt', random_state=12)"
      ]
     },
     "execution_count": 73,
     "metadata": {},
     "output_type": "execute_result"
    }
   ],
   "source": [
    "dt_class_weight_hp_tuned.fit(X_train, y_train)"
   ]
  },
  {
   "cell_type": "code",
   "execution_count": 74,
   "id": "65d1e332-4e8e-49f2-828c-8e4f51dd7495",
   "metadata": {},
   "outputs": [],
   "source": [
    "y_preds_dt_class_weight_hp_tuned=dt_class_weight_hp_tuned.predict(X_test)"
   ]
  },
  {
   "cell_type": "markdown",
   "id": "402fd2c5-edc6-43ac-99f0-eee25ca8c4a0",
   "metadata": {},
   "source": [
    "We can see that the performance of the Decision Tree have been imporved from the below data."
   ]
  },
  {
   "cell_type": "code",
   "execution_count": 75,
   "id": "61451d5a-dde6-47cc-91c2-4f6cc6959a10",
   "metadata": {},
   "outputs": [
    {
     "name": "stdout",
     "output_type": "stream",
     "text": [
      "Accuracy is: 0.82\n",
      "Precision is: 0.06\n",
      "Recall is: 0.54\n",
      "Fscore is: 0.21\n",
      "AUC is: 0.68\n"
     ]
    }
   ],
   "source": [
    "evaluate_metrics(y_test, y_preds_dt_class_weight_hp_tuned)"
   ]
  },
  {
   "cell_type": "markdown",
   "id": "40d9f4b6-314f-4170-b410-0b5034a347c5",
   "metadata": {},
   "source": [
    "Let's look into the Tree made by  latest Decision Tree."
   ]
  },
  {
   "cell_type": "code",
   "execution_count": 76,
   "id": "f2dfc411-9c86-49de-9907-cf2405cb4cdd",
   "metadata": {},
   "outputs": [],
   "source": [
    "tree_exp = export_text(dt_class_weight_hp_tuned, feature_names=list(X_train.columns))"
   ]
  },
  {
   "cell_type": "markdown",
   "id": "aaa89eea-3323-4c23-bac1-2d249201054e",
   "metadata": {},
   "source": [
    "From the Tree below we can see that High 'age' and having 'hypertension' and 'heart-disease' have dominating effect on 'stroke'."
   ]
  },
  {
   "cell_type": "code",
   "execution_count": 77,
   "id": "747f8c26-5f49-45f7-8b14-97972972460f",
   "metadata": {},
   "outputs": [
    {
     "name": "stdout",
     "output_type": "stream",
     "text": [
      "|--- ever-married_Yes <= 0.50\n",
      "|   |--- heart-disease <= 0.50\n",
      "|   |   |--- work-type_Private <= 0.50\n",
      "|   |   |   |--- work-type_Self-employed <= 0.50\n",
      "|   |   |   |   |--- Residence-type_Rural <= 0.50\n",
      "|   |   |   |   |   |--- class: 0\n",
      "|   |   |   |   |--- Residence-type_Rural >  0.50\n",
      "|   |   |   |   |   |--- class: 0\n",
      "|   |   |   |--- work-type_Self-employed >  0.50\n",
      "|   |   |   |   |--- hypertension <= 0.50\n",
      "|   |   |   |   |   |--- class: 0\n",
      "|   |   |   |   |--- hypertension >  0.50\n",
      "|   |   |   |   |   |--- class: 1\n",
      "|   |   |--- work-type_Private >  0.50\n",
      "|   |   |   |--- age <= 1.05\n",
      "|   |   |   |   |--- smoking-status_formerly smoked <= 0.50\n",
      "|   |   |   |   |   |--- class: 0\n",
      "|   |   |   |   |--- smoking-status_formerly smoked >  0.50\n",
      "|   |   |   |   |   |--- class: 0\n",
      "|   |   |   |--- age >  1.05\n",
      "|   |   |   |   |--- smoking-status_smokes <= 0.50\n",
      "|   |   |   |   |   |--- class: 1\n",
      "|   |   |   |   |--- smoking-status_smokes >  0.50\n",
      "|   |   |   |   |   |--- class: 1\n",
      "|   |--- heart-disease >  0.50\n",
      "|   |   |--- hypertension <= 0.50\n",
      "|   |   |   |--- gender_Female <= 0.50\n",
      "|   |   |   |   |--- work-type_Self-employed <= 0.50\n",
      "|   |   |   |   |   |--- class: 0\n",
      "|   |   |   |   |--- work-type_Self-employed >  0.50\n",
      "|   |   |   |   |   |--- class: 1\n",
      "|   |   |   |--- gender_Female >  0.50\n",
      "|   |   |   |   |--- Residence-type_Rural <= 0.50\n",
      "|   |   |   |   |   |--- class: 1\n",
      "|   |   |   |   |--- Residence-type_Rural >  0.50\n",
      "|   |   |   |   |   |--- class: 0\n",
      "|   |   |--- hypertension >  0.50\n",
      "|   |   |   |--- age <= 1.07\n",
      "|   |   |   |   |--- class: 0\n",
      "|   |   |   |--- age >  1.07\n",
      "|   |   |   |   |--- Residence-type_Rural <= 0.50\n",
      "|   |   |   |   |   |--- class: 1\n",
      "|   |   |   |   |--- Residence-type_Rural >  0.50\n",
      "|   |   |   |   |   |--- class: 1\n",
      "|--- ever-married_Yes >  0.50\n",
      "|   |--- bmi <= 0.39\n",
      "|   |   |--- age <= 0.78\n",
      "|   |   |   |--- hypertension <= 0.50\n",
      "|   |   |   |   |--- heart-disease <= 0.50\n",
      "|   |   |   |   |   |--- class: 0\n",
      "|   |   |   |   |--- heart-disease >  0.50\n",
      "|   |   |   |   |   |--- class: 0\n",
      "|   |   |   |--- hypertension >  0.50\n",
      "|   |   |   |   |--- work-type_Private <= 0.50\n",
      "|   |   |   |   |   |--- class: 0\n",
      "|   |   |   |   |--- work-type_Private >  0.50\n",
      "|   |   |   |   |   |--- class: 0\n",
      "|   |   |--- age >  0.78\n",
      "|   |   |   |--- avg-glucose-level <= 0.84\n",
      "|   |   |   |   |--- hypertension <= 0.50\n",
      "|   |   |   |   |   |--- class: 1\n",
      "|   |   |   |   |--- hypertension >  0.50\n",
      "|   |   |   |   |   |--- class: 1\n",
      "|   |   |   |--- avg-glucose-level >  0.84\n",
      "|   |   |   |   |--- bmi <= 0.04\n",
      "|   |   |   |   |   |--- class: 1\n",
      "|   |   |   |   |--- bmi >  0.04\n",
      "|   |   |   |   |   |--- class: 1\n",
      "|   |--- bmi >  0.39\n",
      "|   |   |--- avg-glucose-level <= 1.21\n",
      "|   |   |   |--- bmi <= 1.05\n",
      "|   |   |   |   |--- bmi <= 0.40\n",
      "|   |   |   |   |   |--- class: 0\n",
      "|   |   |   |   |--- bmi >  0.40\n",
      "|   |   |   |   |   |--- class: 0\n",
      "|   |   |   |--- bmi >  1.05\n",
      "|   |   |   |   |--- hypertension <= 0.50\n",
      "|   |   |   |   |   |--- class: 0\n",
      "|   |   |   |   |--- hypertension >  0.50\n",
      "|   |   |   |   |   |--- class: 0\n",
      "|   |   |--- avg-glucose-level >  1.21\n",
      "|   |   |   |--- age <= 0.99\n",
      "|   |   |   |   |--- work-type_Govt_job <= 0.50\n",
      "|   |   |   |   |   |--- class: 0\n",
      "|   |   |   |   |--- work-type_Govt_job >  0.50\n",
      "|   |   |   |   |   |--- class: 0\n",
      "|   |   |   |--- age >  0.99\n",
      "|   |   |   |   |--- age <= 1.74\n",
      "|   |   |   |   |   |--- class: 1\n",
      "|   |   |   |   |--- age >  1.74\n",
      "|   |   |   |   |   |--- class: 0\n",
      "\n"
     ]
    }
   ],
   "source": [
    "print(tree_exp)"
   ]
  },
  {
   "cell_type": "markdown",
   "id": "f5088f58-2b34-4c0a-8c04-e1f05f03866e",
   "metadata": {},
   "source": [
    "### c) Bagging"
   ]
  },
  {
   "cell_type": "markdown",
   "id": "afff56d5-f327-4e18-8f48-38d3eb0e3fc9",
   "metadata": {},
   "source": [
    "In this section we will build a Bagging Classifier. Let's first built a bagging classifier using hyper-parameter tuned Decison Tree from the last section."
   ]
  },
  {
   "cell_type": "code",
   "execution_count": 78,
   "id": "8de351f8-8cef-4d85-a983-de4df2177dda",
   "metadata": {},
   "outputs": [],
   "source": [
    "bag_model = BaggingClassifier(estimator= dt_class_weight_hp_tuned ,n_estimators=20,\n",
    "                              random_state=rs,bootstrap =  True)"
   ]
  },
  {
   "cell_type": "code",
   "execution_count": 79,
   "id": "5f450385-7819-479f-9762-938a2d1de3b9",
   "metadata": {},
   "outputs": [
    {
     "data": {
      "text/html": [
       "<style>#sk-container-id-4 {color: black;background-color: white;}#sk-container-id-4 pre{padding: 0;}#sk-container-id-4 div.sk-toggleable {background-color: white;}#sk-container-id-4 label.sk-toggleable__label {cursor: pointer;display: block;width: 100%;margin-bottom: 0;padding: 0.3em;box-sizing: border-box;text-align: center;}#sk-container-id-4 label.sk-toggleable__label-arrow:before {content: \"▸\";float: left;margin-right: 0.25em;color: #696969;}#sk-container-id-4 label.sk-toggleable__label-arrow:hover:before {color: black;}#sk-container-id-4 div.sk-estimator:hover label.sk-toggleable__label-arrow:before {color: black;}#sk-container-id-4 div.sk-toggleable__content {max-height: 0;max-width: 0;overflow: hidden;text-align: left;background-color: #f0f8ff;}#sk-container-id-4 div.sk-toggleable__content pre {margin: 0.2em;color: black;border-radius: 0.25em;background-color: #f0f8ff;}#sk-container-id-4 input.sk-toggleable__control:checked~div.sk-toggleable__content {max-height: 200px;max-width: 100%;overflow: auto;}#sk-container-id-4 input.sk-toggleable__control:checked~label.sk-toggleable__label-arrow:before {content: \"▾\";}#sk-container-id-4 div.sk-estimator input.sk-toggleable__control:checked~label.sk-toggleable__label {background-color: #d4ebff;}#sk-container-id-4 div.sk-label input.sk-toggleable__control:checked~label.sk-toggleable__label {background-color: #d4ebff;}#sk-container-id-4 input.sk-hidden--visually {border: 0;clip: rect(1px 1px 1px 1px);clip: rect(1px, 1px, 1px, 1px);height: 1px;margin: -1px;overflow: hidden;padding: 0;position: absolute;width: 1px;}#sk-container-id-4 div.sk-estimator {font-family: monospace;background-color: #f0f8ff;border: 1px dotted black;border-radius: 0.25em;box-sizing: border-box;margin-bottom: 0.5em;}#sk-container-id-4 div.sk-estimator:hover {background-color: #d4ebff;}#sk-container-id-4 div.sk-parallel-item::after {content: \"\";width: 100%;border-bottom: 1px solid gray;flex-grow: 1;}#sk-container-id-4 div.sk-label:hover label.sk-toggleable__label {background-color: #d4ebff;}#sk-container-id-4 div.sk-serial::before {content: \"\";position: absolute;border-left: 1px solid gray;box-sizing: border-box;top: 0;bottom: 0;left: 50%;z-index: 0;}#sk-container-id-4 div.sk-serial {display: flex;flex-direction: column;align-items: center;background-color: white;padding-right: 0.2em;padding-left: 0.2em;position: relative;}#sk-container-id-4 div.sk-item {position: relative;z-index: 1;}#sk-container-id-4 div.sk-parallel {display: flex;align-items: stretch;justify-content: center;background-color: white;position: relative;}#sk-container-id-4 div.sk-item::before, #sk-container-id-4 div.sk-parallel-item::before {content: \"\";position: absolute;border-left: 1px solid gray;box-sizing: border-box;top: 0;bottom: 0;left: 50%;z-index: -1;}#sk-container-id-4 div.sk-parallel-item {display: flex;flex-direction: column;z-index: 1;position: relative;background-color: white;}#sk-container-id-4 div.sk-parallel-item:first-child::after {align-self: flex-end;width: 50%;}#sk-container-id-4 div.sk-parallel-item:last-child::after {align-self: flex-start;width: 50%;}#sk-container-id-4 div.sk-parallel-item:only-child::after {width: 0;}#sk-container-id-4 div.sk-dashed-wrapped {border: 1px dashed gray;margin: 0 0.4em 0.5em 0.4em;box-sizing: border-box;padding-bottom: 0.4em;background-color: white;}#sk-container-id-4 div.sk-label label {font-family: monospace;font-weight: bold;display: inline-block;line-height: 1.2em;}#sk-container-id-4 div.sk-label-container {text-align: center;}#sk-container-id-4 div.sk-container {/* jupyter's `normalize.less` sets `[hidden] { display: none; }` but bootstrap.min.css set `[hidden] { display: none !important; }` so we also need the `!important` here to be able to override the default hidden behavior on the sphinx rendered scikit-learn.org. See: https://github.com/scikit-learn/scikit-learn/issues/21755 */display: inline-block !important;position: relative;}#sk-container-id-4 div.sk-text-repr-fallback {display: none;}</style><div id=\"sk-container-id-4\" class=\"sk-top-container\"><div class=\"sk-text-repr-fallback\"><pre>BaggingClassifier(estimator=DecisionTreeClassifier(class_weight={0: 0.05,\n",
       "                                                                 1: 0.95},\n",
       "                                                   max_depth=5,\n",
       "                                                   max_features=&#x27;sqrt&#x27;,\n",
       "                                                   random_state=12),\n",
       "                  n_estimators=20, random_state=12)</pre><b>In a Jupyter environment, please rerun this cell to show the HTML representation or trust the notebook. <br />On GitHub, the HTML representation is unable to render, please try loading this page with nbviewer.org.</b></div><div class=\"sk-container\" hidden><div class=\"sk-item sk-dashed-wrapped\"><div class=\"sk-label-container\"><div class=\"sk-label sk-toggleable\"><input class=\"sk-toggleable__control sk-hidden--visually\" id=\"sk-estimator-id-4\" type=\"checkbox\" ><label for=\"sk-estimator-id-4\" class=\"sk-toggleable__label sk-toggleable__label-arrow\">BaggingClassifier</label><div class=\"sk-toggleable__content\"><pre>BaggingClassifier(estimator=DecisionTreeClassifier(class_weight={0: 0.05,\n",
       "                                                                 1: 0.95},\n",
       "                                                   max_depth=5,\n",
       "                                                   max_features=&#x27;sqrt&#x27;,\n",
       "                                                   random_state=12),\n",
       "                  n_estimators=20, random_state=12)</pre></div></div></div><div class=\"sk-parallel\"><div class=\"sk-parallel-item\"><div class=\"sk-item\"><div class=\"sk-label-container\"><div class=\"sk-label sk-toggleable\"><input class=\"sk-toggleable__control sk-hidden--visually\" id=\"sk-estimator-id-5\" type=\"checkbox\" ><label for=\"sk-estimator-id-5\" class=\"sk-toggleable__label sk-toggleable__label-arrow\">estimator: DecisionTreeClassifier</label><div class=\"sk-toggleable__content\"><pre>DecisionTreeClassifier(class_weight={0: 0.05, 1: 0.95}, max_depth=5,\n",
       "                       max_features=&#x27;sqrt&#x27;, random_state=12)</pre></div></div></div><div class=\"sk-serial\"><div class=\"sk-item\"><div class=\"sk-estimator sk-toggleable\"><input class=\"sk-toggleable__control sk-hidden--visually\" id=\"sk-estimator-id-6\" type=\"checkbox\" ><label for=\"sk-estimator-id-6\" class=\"sk-toggleable__label sk-toggleable__label-arrow\">DecisionTreeClassifier</label><div class=\"sk-toggleable__content\"><pre>DecisionTreeClassifier(class_weight={0: 0.05, 1: 0.95}, max_depth=5,\n",
       "                       max_features=&#x27;sqrt&#x27;, random_state=12)</pre></div></div></div></div></div></div></div></div></div></div>"
      ],
      "text/plain": [
       "BaggingClassifier(estimator=DecisionTreeClassifier(class_weight={0: 0.05,\n",
       "                                                                 1: 0.95},\n",
       "                                                   max_depth=5,\n",
       "                                                   max_features='sqrt',\n",
       "                                                   random_state=12),\n",
       "                  n_estimators=20, random_state=12)"
      ]
     },
     "execution_count": 79,
     "metadata": {},
     "output_type": "execute_result"
    }
   ],
   "source": [
    "bag_model.fit(X_train,y_train)"
   ]
  },
  {
   "cell_type": "code",
   "execution_count": 80,
   "id": "86a6349a-2719-4ca6-8674-7dbb546fe78b",
   "metadata": {},
   "outputs": [],
   "source": [
    "y_preds_bag = bag_model.predict(X_test)"
   ]
  },
  {
   "cell_type": "markdown",
   "id": "9991ccde-5fca-491b-863a-b237de752ba4",
   "metadata": {},
   "source": [
    "From the below scores, we can say that Bagging classifier is overfitting to data."
   ]
  },
  {
   "cell_type": "code",
   "execution_count": 81,
   "id": "95a3b73f-c1b4-4f63-a766-ef46a273bec6",
   "metadata": {},
   "outputs": [
    {
     "name": "stdout",
     "output_type": "stream",
     "text": [
      "Accuracy is: 0.92\n",
      "Precision is: 0.07\n",
      "Recall is: 0.20\n",
      "Fscore is: 0.14\n",
      "AUC is: 0.57\n"
     ]
    }
   ],
   "source": [
    "evaluate_metrics(y_test, y_preds_bag)"
   ]
  },
  {
   "cell_type": "markdown",
   "id": "a05474d7-39f4-453f-a14d-65d6bce5dae3",
   "metadata": {},
   "source": [
    "Let's tune hyper-parameter of Bagging Classifier."
   ]
  },
  {
   "cell_type": "code",
   "execution_count": 82,
   "id": "9e934926-0db5-4551-964f-3748c1ca21cf",
   "metadata": {},
   "outputs": [],
   "source": [
    "# param_grid_bag = {'n_estimators': [5,10,20,30,50],\n",
    "#     'estimator__criterion': ['gini', 'entropy'],\n",
    "#     'estimator__max_depth': [2, 5, 8],\n",
    "#     'estimator__class_weight': [{0:0.05, 1:0.95},{0:0.01, 1:0.99}],\n",
    "#     'estimator__min_samples_split': [2, 4, 6], \n",
    "#     'estimator__max_features' : [\"sqrt\", \"log2\",None],\n",
    "#                  }"
   ]
  },
  {
   "cell_type": "code",
   "execution_count": 83,
   "id": "047eab4c-8a33-4e36-88c9-bcf37723ae17",
   "metadata": {},
   "outputs": [],
   "source": [
    "# cv = StratifiedKFold(n_splits=5)\n",
    "# bag_grid_search = GridSearchCV(estimator=bag_model, param_grid=param_grid_bag,\n",
    "#                                scoring='roc_auc', cv=cv,n_jobs=8)"
   ]
  },
  {
   "cell_type": "code",
   "execution_count": 84,
   "id": "f43b1130-0e60-451f-828b-615c4a125da3",
   "metadata": {},
   "outputs": [],
   "source": [
    "# bag_grid_search.fit(X_train, y_train)"
   ]
  },
  {
   "cell_type": "code",
   "execution_count": 85,
   "id": "8c072551-b36c-4c1c-8680-e8af263e2c8d",
   "metadata": {},
   "outputs": [],
   "source": [
    "# bag_grid_search_best=bag_grid_search.best_estimator_\n",
    "# print(bag_grid_search_best.get_params())"
   ]
  },
  {
   "cell_type": "code",
   "execution_count": 86,
   "id": "9615d4b0-2ee6-4e17-9a75-4bba8f82033b",
   "metadata": {},
   "outputs": [],
   "source": [
    "# y_preds_bag_grid_search_best=bag_grid_search_best.predict(X_test)"
   ]
  },
  {
   "cell_type": "code",
   "execution_count": 87,
   "id": "a61adf44-b6e9-4184-942e-c4d5234cbaf7",
   "metadata": {},
   "outputs": [],
   "source": [
    "# evaluate_metrics(y_test, y_preds_bag_grid_search_best)"
   ]
  },
  {
   "cell_type": "code",
   "execution_count": 88,
   "id": "7780c0cc-3156-4f72-a071-502b0c7f2410",
   "metadata": {},
   "outputs": [],
   "source": [
    "bag_class_weight_hp_tuned=BaggingClassifier(DecisionTreeClassifier(ccp_alpha=0.0, \n",
    "        class_weight={0: 0.05, 1: 0.95}, criterion = 'entropy', \n",
    "        max_depth = 5, max_features = None, \n",
    "        max_leaf_nodes = None, min_impurity_decrease = 0.0, \n",
    "        min_samples_leaf = 1, min_samples_split = 2, \n",
    "        min_weight_fraction_leaf = 0.0, random_state = rs, splitter = 'best'),n_estimators=30,oob_score= False,\n",
    "        random_state=12,warm_start=False,max_features =1.0, max_samples = 1.0,\n",
    "        n_jobs=8,bootstrap = True,bootstrap_features= False)"
   ]
  },
  {
   "cell_type": "code",
   "execution_count": 89,
   "id": "cadbfdc6-2fc5-4036-b341-8233a3ba607e",
   "metadata": {},
   "outputs": [
    {
     "data": {
      "text/html": [
       "<style>#sk-container-id-5 {color: black;background-color: white;}#sk-container-id-5 pre{padding: 0;}#sk-container-id-5 div.sk-toggleable {background-color: white;}#sk-container-id-5 label.sk-toggleable__label {cursor: pointer;display: block;width: 100%;margin-bottom: 0;padding: 0.3em;box-sizing: border-box;text-align: center;}#sk-container-id-5 label.sk-toggleable__label-arrow:before {content: \"▸\";float: left;margin-right: 0.25em;color: #696969;}#sk-container-id-5 label.sk-toggleable__label-arrow:hover:before {color: black;}#sk-container-id-5 div.sk-estimator:hover label.sk-toggleable__label-arrow:before {color: black;}#sk-container-id-5 div.sk-toggleable__content {max-height: 0;max-width: 0;overflow: hidden;text-align: left;background-color: #f0f8ff;}#sk-container-id-5 div.sk-toggleable__content pre {margin: 0.2em;color: black;border-radius: 0.25em;background-color: #f0f8ff;}#sk-container-id-5 input.sk-toggleable__control:checked~div.sk-toggleable__content {max-height: 200px;max-width: 100%;overflow: auto;}#sk-container-id-5 input.sk-toggleable__control:checked~label.sk-toggleable__label-arrow:before {content: \"▾\";}#sk-container-id-5 div.sk-estimator input.sk-toggleable__control:checked~label.sk-toggleable__label {background-color: #d4ebff;}#sk-container-id-5 div.sk-label input.sk-toggleable__control:checked~label.sk-toggleable__label {background-color: #d4ebff;}#sk-container-id-5 input.sk-hidden--visually {border: 0;clip: rect(1px 1px 1px 1px);clip: rect(1px, 1px, 1px, 1px);height: 1px;margin: -1px;overflow: hidden;padding: 0;position: absolute;width: 1px;}#sk-container-id-5 div.sk-estimator {font-family: monospace;background-color: #f0f8ff;border: 1px dotted black;border-radius: 0.25em;box-sizing: border-box;margin-bottom: 0.5em;}#sk-container-id-5 div.sk-estimator:hover {background-color: #d4ebff;}#sk-container-id-5 div.sk-parallel-item::after {content: \"\";width: 100%;border-bottom: 1px solid gray;flex-grow: 1;}#sk-container-id-5 div.sk-label:hover label.sk-toggleable__label {background-color: #d4ebff;}#sk-container-id-5 div.sk-serial::before {content: \"\";position: absolute;border-left: 1px solid gray;box-sizing: border-box;top: 0;bottom: 0;left: 50%;z-index: 0;}#sk-container-id-5 div.sk-serial {display: flex;flex-direction: column;align-items: center;background-color: white;padding-right: 0.2em;padding-left: 0.2em;position: relative;}#sk-container-id-5 div.sk-item {position: relative;z-index: 1;}#sk-container-id-5 div.sk-parallel {display: flex;align-items: stretch;justify-content: center;background-color: white;position: relative;}#sk-container-id-5 div.sk-item::before, #sk-container-id-5 div.sk-parallel-item::before {content: \"\";position: absolute;border-left: 1px solid gray;box-sizing: border-box;top: 0;bottom: 0;left: 50%;z-index: -1;}#sk-container-id-5 div.sk-parallel-item {display: flex;flex-direction: column;z-index: 1;position: relative;background-color: white;}#sk-container-id-5 div.sk-parallel-item:first-child::after {align-self: flex-end;width: 50%;}#sk-container-id-5 div.sk-parallel-item:last-child::after {align-self: flex-start;width: 50%;}#sk-container-id-5 div.sk-parallel-item:only-child::after {width: 0;}#sk-container-id-5 div.sk-dashed-wrapped {border: 1px dashed gray;margin: 0 0.4em 0.5em 0.4em;box-sizing: border-box;padding-bottom: 0.4em;background-color: white;}#sk-container-id-5 div.sk-label label {font-family: monospace;font-weight: bold;display: inline-block;line-height: 1.2em;}#sk-container-id-5 div.sk-label-container {text-align: center;}#sk-container-id-5 div.sk-container {/* jupyter's `normalize.less` sets `[hidden] { display: none; }` but bootstrap.min.css set `[hidden] { display: none !important; }` so we also need the `!important` here to be able to override the default hidden behavior on the sphinx rendered scikit-learn.org. See: https://github.com/scikit-learn/scikit-learn/issues/21755 */display: inline-block !important;position: relative;}#sk-container-id-5 div.sk-text-repr-fallback {display: none;}</style><div id=\"sk-container-id-5\" class=\"sk-top-container\"><div class=\"sk-text-repr-fallback\"><pre>BaggingClassifier(estimator=DecisionTreeClassifier(class_weight={0: 0.05,\n",
       "                                                                 1: 0.95},\n",
       "                                                   criterion=&#x27;entropy&#x27;,\n",
       "                                                   max_depth=5,\n",
       "                                                   random_state=12),\n",
       "                  n_estimators=30, n_jobs=8, random_state=12)</pre><b>In a Jupyter environment, please rerun this cell to show the HTML representation or trust the notebook. <br />On GitHub, the HTML representation is unable to render, please try loading this page with nbviewer.org.</b></div><div class=\"sk-container\" hidden><div class=\"sk-item sk-dashed-wrapped\"><div class=\"sk-label-container\"><div class=\"sk-label sk-toggleable\"><input class=\"sk-toggleable__control sk-hidden--visually\" id=\"sk-estimator-id-7\" type=\"checkbox\" ><label for=\"sk-estimator-id-7\" class=\"sk-toggleable__label sk-toggleable__label-arrow\">BaggingClassifier</label><div class=\"sk-toggleable__content\"><pre>BaggingClassifier(estimator=DecisionTreeClassifier(class_weight={0: 0.05,\n",
       "                                                                 1: 0.95},\n",
       "                                                   criterion=&#x27;entropy&#x27;,\n",
       "                                                   max_depth=5,\n",
       "                                                   random_state=12),\n",
       "                  n_estimators=30, n_jobs=8, random_state=12)</pre></div></div></div><div class=\"sk-parallel\"><div class=\"sk-parallel-item\"><div class=\"sk-item\"><div class=\"sk-label-container\"><div class=\"sk-label sk-toggleable\"><input class=\"sk-toggleable__control sk-hidden--visually\" id=\"sk-estimator-id-8\" type=\"checkbox\" ><label for=\"sk-estimator-id-8\" class=\"sk-toggleable__label sk-toggleable__label-arrow\">estimator: DecisionTreeClassifier</label><div class=\"sk-toggleable__content\"><pre>DecisionTreeClassifier(class_weight={0: 0.05, 1: 0.95}, criterion=&#x27;entropy&#x27;,\n",
       "                       max_depth=5, random_state=12)</pre></div></div></div><div class=\"sk-serial\"><div class=\"sk-item\"><div class=\"sk-estimator sk-toggleable\"><input class=\"sk-toggleable__control sk-hidden--visually\" id=\"sk-estimator-id-9\" type=\"checkbox\" ><label for=\"sk-estimator-id-9\" class=\"sk-toggleable__label sk-toggleable__label-arrow\">DecisionTreeClassifier</label><div class=\"sk-toggleable__content\"><pre>DecisionTreeClassifier(class_weight={0: 0.05, 1: 0.95}, criterion=&#x27;entropy&#x27;,\n",
       "                       max_depth=5, random_state=12)</pre></div></div></div></div></div></div></div></div></div></div>"
      ],
      "text/plain": [
       "BaggingClassifier(estimator=DecisionTreeClassifier(class_weight={0: 0.05,\n",
       "                                                                 1: 0.95},\n",
       "                                                   criterion='entropy',\n",
       "                                                   max_depth=5,\n",
       "                                                   random_state=12),\n",
       "                  n_estimators=30, n_jobs=8, random_state=12)"
      ]
     },
     "execution_count": 89,
     "metadata": {},
     "output_type": "execute_result"
    }
   ],
   "source": [
    "bag_class_weight_hp_tuned.fit(X_train, y_train)"
   ]
  },
  {
   "cell_type": "code",
   "execution_count": 90,
   "id": "9e770259-8ba8-42f2-b6f1-e36875c00ab0",
   "metadata": {},
   "outputs": [],
   "source": [
    "y_preds_bag_class_weight_hp_tuned=bag_class_weight_hp_tuned.predict(X_test)"
   ]
  },
  {
   "cell_type": "markdown",
   "id": "4d1fb2c5-604c-4f3f-9d57-b1a71270be25",
   "metadata": {},
   "source": [
    "We can see that BaggingClassifier performed poorly comared to Decision Tree. The reason in the highly co-related trees in the model."
   ]
  },
  {
   "cell_type": "code",
   "execution_count": 91,
   "id": "db89413f-7fed-48c7-92d9-e05a70d48ba1",
   "metadata": {},
   "outputs": [
    {
     "name": "stdout",
     "output_type": "stream",
     "text": [
      "Accuracy is: 0.88\n",
      "Precision is: 0.07\n",
      "Recall is: 0.38\n",
      "Fscore is: 0.20\n",
      "AUC is: 0.63\n"
     ]
    }
   ],
   "source": [
    "evaluate_metrics(y_test, y_preds_bag_class_weight_hp_tuned)"
   ]
  },
  {
   "cell_type": "markdown",
   "id": "6e7f9c1a-bca4-4f72-9c5b-5712df4e6ca1",
   "metadata": {},
   "source": [
    "Let's visualize the co-relation of the models."
   ]
  },
  {
   "cell_type": "code",
   "execution_count": 92,
   "id": "84d3fc04-22a3-4533-828d-2ce3b0ab0592",
   "metadata": {},
   "outputs": [],
   "source": [
    "def get_correlation(X_test, y_test,models):\n",
    "    #This function calculates the average correlation between predictors  \n",
    "    n_estimators=len(models.estimators_)\n",
    "    prediction=np.zeros((y_test.shape[0],n_estimators))\n",
    "    predictions=pd.DataFrame({'estimator '+str(n+1):[] for n in range(n_estimators)})\n",
    "    \n",
    "    for key,model in zip(predictions.keys(),models.estimators_):\n",
    "        predictions[key]=model.predict(X_test.to_numpy())\n",
    "    \n",
    "    corr=predictions.corr()\n",
    "    print(\"Average correlation between predictors: \", corr.mean().mean()-1/n_estimators)\n",
    "    return corr"
   ]
  },
  {
   "cell_type": "markdown",
   "id": "5c83f11f-79cd-47e5-b70f-677ee45b98c1",
   "metadata": {},
   "source": [
    "As we can see that co-relation between  trees are very high which can cause overfitting to data."
   ]
  },
  {
   "cell_type": "code",
   "execution_count": 93,
   "id": "ecf2600d-62b9-4931-9360-85150e467bfc",
   "metadata": {},
   "outputs": [
    {
     "name": "stdout",
     "output_type": "stream",
     "text": [
      "Average correlation between predictors:  0.6884925242014348\n"
     ]
    },
    {
     "data": {
      "text/html": [
       "<style type=\"text/css\">\n",
       "#T_0a290_row0_col0, #T_0a290_row1_col1, #T_0a290_row2_col2, #T_0a290_row3_col3, #T_0a290_row4_col4, #T_0a290_row5_col5, #T_0a290_row6_col6, #T_0a290_row7_col7, #T_0a290_row8_col8, #T_0a290_row9_col9, #T_0a290_row10_col10, #T_0a290_row11_col11, #T_0a290_row12_col12, #T_0a290_row13_col13, #T_0a290_row14_col14, #T_0a290_row15_col15, #T_0a290_row16_col16, #T_0a290_row17_col17, #T_0a290_row18_col18, #T_0a290_row19_col19, #T_0a290_row20_col20, #T_0a290_row21_col21, #T_0a290_row22_col22, #T_0a290_row23_col23, #T_0a290_row24_col24, #T_0a290_row25_col25, #T_0a290_row26_col26, #T_0a290_row27_col27, #T_0a290_row28_col28, #T_0a290_row29_col29 {\n",
       "  background-color: #b40426;\n",
       "  color: #f1f1f1;\n",
       "}\n",
       "#T_0a290_row0_col1, #T_0a290_row0_col25, #T_0a290_row1_col14, #T_0a290_row5_col26, #T_0a290_row10_col19, #T_0a290_row11_col25, #T_0a290_row12_col13, #T_0a290_row16_col8, #T_0a290_row21_col13, #T_0a290_row21_col19, #T_0a290_row22_col8, #T_0a290_row24_col22 {\n",
       "  background-color: #d9dce1;\n",
       "  color: #000000;\n",
       "}\n",
       "#T_0a290_row0_col2, #T_0a290_row9_col10, #T_0a290_row24_col10 {\n",
       "  background-color: #b5cdfa;\n",
       "  color: #000000;\n",
       "}\n",
       "#T_0a290_row0_col3, #T_0a290_row6_col9, #T_0a290_row7_col1, #T_0a290_row8_col2, #T_0a290_row9_col4, #T_0a290_row9_col29, #T_0a290_row15_col3, #T_0a290_row15_col14, #T_0a290_row17_col24 {\n",
       "  background-color: #a5c3fe;\n",
       "  color: #000000;\n",
       "}\n",
       "#T_0a290_row0_col4, #T_0a290_row5_col7, #T_0a290_row25_col20 {\n",
       "  background-color: #efcebd;\n",
       "  color: #000000;\n",
       "}\n",
       "#T_0a290_row0_col5, #T_0a290_row6_col7, #T_0a290_row6_col19, #T_0a290_row6_col23, #T_0a290_row12_col7, #T_0a290_row14_col9, #T_0a290_row22_col4, #T_0a290_row25_col11 {\n",
       "  background-color: #e1dad6;\n",
       "  color: #000000;\n",
       "}\n",
       "#T_0a290_row0_col6, #T_0a290_row1_col0, #T_0a290_row4_col0, #T_0a290_row5_col13, #T_0a290_row9_col12, #T_0a290_row14_col2, #T_0a290_row14_col25, #T_0a290_row19_col2, #T_0a290_row23_col2 {\n",
       "  background-color: #e5d8d1;\n",
       "  color: #000000;\n",
       "}\n",
       "#T_0a290_row0_col7, #T_0a290_row1_col22, #T_0a290_row3_col25, #T_0a290_row4_col17, #T_0a290_row12_col18, #T_0a290_row23_col6, #T_0a290_row25_col7 {\n",
       "  background-color: #ead4c8;\n",
       "  color: #000000;\n",
       "}\n",
       "#T_0a290_row0_col8, #T_0a290_row0_col27, #T_0a290_row1_col11, #T_0a290_row3_col0, #T_0a290_row4_col1, #T_0a290_row5_col9, #T_0a290_row6_col2, #T_0a290_row8_col10, #T_0a290_row14_col3, #T_0a290_row15_col5, #T_0a290_row24_col0, #T_0a290_row25_col27, #T_0a290_row27_col2, #T_0a290_row27_col4 {\n",
       "  background-color: #bbd1f8;\n",
       "  color: #000000;\n",
       "}\n",
       "#T_0a290_row0_col9, #T_0a290_row2_col22, #T_0a290_row3_col6, #T_0a290_row5_col12, #T_0a290_row9_col26, #T_0a290_row10_col24, #T_0a290_row15_col28, #T_0a290_row17_col26, #T_0a290_row21_col12, #T_0a290_row24_col16 {\n",
       "  background-color: #bfd3f6;\n",
       "  color: #000000;\n",
       "}\n",
       "#T_0a290_row0_col10, #T_0a290_row1_col25, #T_0a290_row2_col14, #T_0a290_row2_col17, #T_0a290_row4_col20, #T_0a290_row9_col17, #T_0a290_row11_col26, #T_0a290_row17_col21, #T_0a290_row18_col26, #T_0a290_row21_col6, #T_0a290_row23_col1, #T_0a290_row24_col20, #T_0a290_row25_col26 {\n",
       "  background-color: #cedaeb;\n",
       "  color: #000000;\n",
       "}\n",
       "#T_0a290_row0_col11, #T_0a290_row5_col20, #T_0a290_row14_col6 {\n",
       "  background-color: #f2cab5;\n",
       "  color: #000000;\n",
       "}\n",
       "#T_0a290_row0_col12, #T_0a290_row15_col7, #T_0a290_row16_col24, #T_0a290_row16_col27, #T_0a290_row20_col3, #T_0a290_row25_col21, #T_0a290_row26_col14, #T_0a290_row27_col15 {\n",
       "  background-color: #aec9fc;\n",
       "  color: #000000;\n",
       "}\n",
       "#T_0a290_row0_col13, #T_0a290_row1_col17, #T_0a290_row4_col23, #T_0a290_row5_col11, #T_0a290_row6_col18, #T_0a290_row7_col5, #T_0a290_row12_col23, #T_0a290_row18_col2, #T_0a290_row21_col14, #T_0a290_row25_col14, #T_0a290_row25_col17, #T_0a290_row27_col26 {\n",
       "  background-color: #e4d9d2;\n",
       "  color: #000000;\n",
       "}\n",
       "#T_0a290_row0_col14, #T_0a290_row1_col27, #T_0a290_row3_col21 {\n",
       "  background-color: #f6bea4;\n",
       "  color: #000000;\n",
       "}\n",
       "#T_0a290_row0_col15, #T_0a290_row14_col15, #T_0a290_row15_col17, #T_0a290_row16_col0, #T_0a290_row16_col3 {\n",
       "  background-color: #8caffe;\n",
       "  color: #000000;\n",
       "}\n",
       "#T_0a290_row0_col16, #T_0a290_row4_col25, #T_0a290_row8_col1, #T_0a290_row24_col2, #T_0a290_row29_col5 {\n",
       "  background-color: #93b5fe;\n",
       "  color: #000000;\n",
       "}\n",
       "#T_0a290_row0_col17, #T_0a290_row13_col7, #T_0a290_row17_col0, #T_0a290_row27_col5 {\n",
       "  background-color: #f4c6af;\n",
       "  color: #000000;\n",
       "}\n",
       "#T_0a290_row0_col18, #T_0a290_row3_col27, #T_0a290_row5_col21, #T_0a290_row18_col0, #T_0a290_row18_col4 {\n",
       "  background-color: #f1cdba;\n",
       "  color: #000000;\n",
       "}\n",
       "#T_0a290_row0_col19, #T_0a290_row10_col22, #T_0a290_row11_col22 {\n",
       "  background-color: #f2c9b4;\n",
       "  color: #000000;\n",
       "}\n",
       "#T_0a290_row0_col20, #T_0a290_row13_col23, #T_0a290_row17_col7 {\n",
       "  background-color: #f7b497;\n",
       "  color: #000000;\n",
       "}\n",
       "#T_0a290_row0_col21, #T_0a290_row6_col5, #T_0a290_row8_col0, #T_0a290_row8_col13, #T_0a290_row18_col3 {\n",
       "  background-color: #c0d4f5;\n",
       "  color: #000000;\n",
       "}\n",
       "#T_0a290_row0_col22, #T_0a290_row22_col0, #T_0a290_row25_col22 {\n",
       "  background-color: #f7ba9f;\n",
       "  color: #000000;\n",
       "}\n",
       "#T_0a290_row0_col23, #T_0a290_row9_col11, #T_0a290_row12_col9 {\n",
       "  background-color: #f4c5ad;\n",
       "  color: #000000;\n",
       "}\n",
       "#T_0a290_row0_col24, #T_0a290_row4_col2, #T_0a290_row10_col27, #T_0a290_row12_col3, #T_0a290_row12_col16, #T_0a290_row12_col21, #T_0a290_row13_col8, #T_0a290_row13_col12, #T_0a290_row13_col27, #T_0a290_row19_col3, #T_0a290_row21_col8, #T_0a290_row24_col17, #T_0a290_row25_col10, #T_0a290_row26_col25 {\n",
       "  background-color: #afcafc;\n",
       "  color: #000000;\n",
       "}\n",
       "#T_0a290_row0_col26, #T_0a290_row12_col2, #T_0a290_row19_col1, #T_0a290_row26_col19, #T_0a290_row29_col20 {\n",
       "  background-color: #b1cbfc;\n",
       "  color: #000000;\n",
       "}\n",
       "#T_0a290_row0_col28, #T_0a290_row18_col28, #T_0a290_row26_col4, #T_0a290_row29_col10 {\n",
       "  background-color: #7295f4;\n",
       "  color: #f1f1f1;\n",
       "}\n",
       "#T_0a290_row0_col29, #T_0a290_row6_col26, #T_0a290_row16_col26, #T_0a290_row19_col16, #T_0a290_row23_col15, #T_0a290_row29_col27 {\n",
       "  background-color: #85a8fc;\n",
       "  color: #f1f1f1;\n",
       "}\n",
       "#T_0a290_row1_col2, #T_0a290_row12_col1, #T_0a290_row12_col6, #T_0a290_row16_col22, #T_0a290_row19_col10, #T_0a290_row23_col27 {\n",
       "  background-color: #bed2f6;\n",
       "  color: #000000;\n",
       "}\n",
       "#T_0a290_row1_col3, #T_0a290_row17_col4 {\n",
       "  background-color: #f3c8b2;\n",
       "  color: #000000;\n",
       "}\n",
       "#T_0a290_row1_col4, #T_0a290_row14_col10, #T_0a290_row22_col2, #T_0a290_row29_col26 {\n",
       "  background-color: #dddcdc;\n",
       "  color: #000000;\n",
       "}\n",
       "#T_0a290_row1_col5, #T_0a290_row2_col13, #T_0a290_row5_col14, #T_0a290_row11_col9, #T_0a290_row12_col14, #T_0a290_row14_col4, #T_0a290_row17_col5, #T_0a290_row25_col5 {\n",
       "  background-color: #f1ccb8;\n",
       "  color: #000000;\n",
       "}\n",
       "#T_0a290_row1_col6, #T_0a290_row6_col22, #T_0a290_row8_col5, #T_0a290_row9_col2, #T_0a290_row10_col8, #T_0a290_row10_col25, #T_0a290_row19_col25, #T_0a290_row19_col26, #T_0a290_row23_col26, #T_0a290_row24_col8 {\n",
       "  background-color: #cbd8ee;\n",
       "  color: #000000;\n",
       "}\n",
       "#T_0a290_row1_col7, #T_0a290_row1_col10, #T_0a290_row1_col20, #T_0a290_row3_col11, #T_0a290_row5_col10, #T_0a290_row8_col23, #T_0a290_row8_col24, #T_0a290_row18_col21, #T_0a290_row25_col24, #T_0a290_row26_col29 {\n",
       "  background-color: #c5d6f2;\n",
       "  color: #000000;\n",
       "}\n",
       "#T_0a290_row1_col8, #T_0a290_row6_col1, #T_0a290_row11_col24, #T_0a290_row12_col28, #T_0a290_row14_col24, #T_0a290_row14_col29, #T_0a290_row16_col20, #T_0a290_row20_col15, #T_0a290_row21_col29, #T_0a290_row24_col18, #T_0a290_row29_col9 {\n",
       "  background-color: #a3c2fe;\n",
       "  color: #000000;\n",
       "}\n",
       "#T_0a290_row1_col9, #T_0a290_row14_col16, #T_0a290_row18_col29, #T_0a290_row19_col21, #T_0a290_row24_col13, #T_0a290_row24_col23, #T_0a290_row24_col26, #T_0a290_row27_col9 {\n",
       "  background-color: #9ebeff;\n",
       "  color: #000000;\n",
       "}\n",
       "#T_0a290_row1_col12, #T_0a290_row2_col6, #T_0a290_row5_col29, #T_0a290_row15_col26, #T_0a290_row16_col10, #T_0a290_row20_col27, #T_0a290_row21_col9, #T_0a290_row23_col29, #T_0a290_row26_col27, #T_0a290_row29_col7 {\n",
       "  background-color: #aac7fd;\n",
       "  color: #000000;\n",
       "}\n",
       "#T_0a290_row1_col13, #T_0a290_row1_col18, #T_0a290_row2_col19, #T_0a290_row6_col20, #T_0a290_row7_col4, #T_0a290_row7_col9, #T_0a290_row8_col14, #T_0a290_row8_col17, #T_0a290_row9_col18, #T_0a290_row9_col19, #T_0a290_row18_col12, #T_0a290_row20_col4, #T_0a290_row20_col26, #T_0a290_row22_col9, #T_0a290_row25_col0, #T_0a290_row27_col7, #T_0a290_row27_col20 {\n",
       "  background-color: #d5dbe5;\n",
       "  color: #000000;\n",
       "}\n",
       "#T_0a290_row1_col15, #T_0a290_row15_col10, #T_0a290_row18_col16, #T_0a290_row18_col24, #T_0a290_row29_col18 {\n",
       "  background-color: #96b7ff;\n",
       "  color: #000000;\n",
       "}\n",
       "#T_0a290_row1_col16, #T_0a290_row2_col9, #T_0a290_row6_col25, #T_0a290_row10_col2, #T_0a290_row10_col6, #T_0a290_row10_col26, #T_0a290_row27_col12 {\n",
       "  background-color: #adc9fd;\n",
       "  color: #000000;\n",
       "}\n",
       "#T_0a290_row1_col19, #T_0a290_row6_col4, #T_0a290_row26_col22, #T_0a290_row27_col19 {\n",
       "  background-color: #ccd9ed;\n",
       "  color: #000000;\n",
       "}\n",
       "#T_0a290_row1_col21, #T_0a290_row7_col11, #T_0a290_row19_col11 {\n",
       "  background-color: #f7ac8e;\n",
       "  color: #000000;\n",
       "}\n",
       "#T_0a290_row1_col23, #T_0a290_row6_col11, #T_0a290_row7_col2, #T_0a290_row10_col0, #T_0a290_row13_col0, #T_0a290_row14_col12, #T_0a290_row21_col25, #T_0a290_row23_col5, #T_0a290_row25_col18 {\n",
       "  background-color: #dedcdb;\n",
       "  color: #000000;\n",
       "}\n",
       "#T_0a290_row1_col24, #T_0a290_row3_col29, #T_0a290_row15_col25, #T_0a290_row17_col29, #T_0a290_row26_col9 {\n",
       "  background-color: #9abbff;\n",
       "  color: #000000;\n",
       "}\n",
       "#T_0a290_row1_col26, #T_0a290_row3_col13, #T_0a290_row5_col16, #T_0a290_row8_col7, #T_0a290_row23_col3, #T_0a290_row23_col12 {\n",
       "  background-color: #c7d7f0;\n",
       "  color: #000000;\n",
       "}\n",
       "#T_0a290_row1_col28, #T_0a290_row7_col15, #T_0a290_row11_col21, #T_0a290_row19_col29, #T_0a290_row23_col24 {\n",
       "  background-color: #8badfd;\n",
       "  color: #000000;\n",
       "}\n",
       "#T_0a290_row1_col29, #T_0a290_row7_col16, #T_0a290_row7_col21, #T_0a290_row10_col29, #T_0a290_row11_col8, #T_0a290_row12_col29 {\n",
       "  background-color: #97b8ff;\n",
       "  color: #000000;\n",
       "}\n",
       "#T_0a290_row2_col0, #T_0a290_row4_col21, #T_0a290_row15_col4, #T_0a290_row16_col11, #T_0a290_row20_col21 {\n",
       "  background-color: #89acfd;\n",
       "  color: #000000;\n",
       "}\n",
       "#T_0a290_row2_col1, #T_0a290_row8_col27 {\n",
       "  background-color: #7b9ff9;\n",
       "  color: #f1f1f1;\n",
       "}\n",
       "#T_0a290_row2_col3, #T_0a290_row9_col8 {\n",
       "  background-color: #7093f3;\n",
       "  color: #f1f1f1;\n",
       "}\n",
       "#T_0a290_row2_col4, #T_0a290_row2_col25, #T_0a290_row12_col8, #T_0a290_row12_col15, #T_0a290_row15_col0, #T_0a290_row15_col11, #T_0a290_row16_col7, #T_0a290_row24_col3, #T_0a290_row29_col13 {\n",
       "  background-color: #a1c0ff;\n",
       "  color: #000000;\n",
       "}\n",
       "#T_0a290_row2_col5, #T_0a290_row13_col21, #T_0a290_row15_col23, #T_0a290_row16_col17, #T_0a290_row16_col25, #T_0a290_row19_col27, #T_0a290_row25_col16, #T_0a290_row26_col3, #T_0a290_row27_col8, #T_0a290_row29_col14 {\n",
       "  background-color: #9fbfff;\n",
       "  color: #000000;\n",
       "}\n",
       "#T_0a290_row2_col7, #T_0a290_row3_col19, #T_0a290_row4_col7, #T_0a290_row10_col5, #T_0a290_row10_col9, #T_0a290_row20_col2, #T_0a290_row27_col11 {\n",
       "  background-color: #cdd9ec;\n",
       "  color: #000000;\n",
       "}\n",
       "#T_0a290_row2_col8, #T_0a290_row6_col27, #T_0a290_row14_col28, #T_0a290_row29_col24 {\n",
       "  background-color: #6e90f2;\n",
       "  color: #f1f1f1;\n",
       "}\n",
       "#T_0a290_row2_col10, #T_0a290_row7_col28, #T_0a290_row9_col21 {\n",
       "  background-color: #5f7fe8;\n",
       "  color: #f1f1f1;\n",
       "}\n",
       "#T_0a290_row2_col11, #T_0a290_row2_col20, #T_0a290_row3_col2, #T_0a290_row3_col8, #T_0a290_row19_col12, #T_0a290_row21_col2 {\n",
       "  background-color: #b9d0f9;\n",
       "  color: #000000;\n",
       "}\n",
       "#T_0a290_row2_col12, #T_0a290_row4_col28 {\n",
       "  background-color: #4f69d9;\n",
       "  color: #f1f1f1;\n",
       "}\n",
       "#T_0a290_row2_col15, #T_0a290_row26_col28, #T_0a290_row28_col0, #T_0a290_row28_col1, #T_0a290_row28_col2, #T_0a290_row28_col3, #T_0a290_row28_col4, #T_0a290_row28_col5, #T_0a290_row28_col6, #T_0a290_row28_col7, #T_0a290_row28_col8, #T_0a290_row28_col9, #T_0a290_row28_col10, #T_0a290_row28_col11, #T_0a290_row28_col12, #T_0a290_row28_col13, #T_0a290_row28_col14, #T_0a290_row28_col16, #T_0a290_row28_col17, #T_0a290_row28_col18, #T_0a290_row28_col19, #T_0a290_row28_col20, #T_0a290_row28_col21, #T_0a290_row28_col22, #T_0a290_row28_col23, #T_0a290_row28_col24, #T_0a290_row28_col25, #T_0a290_row28_col26, #T_0a290_row28_col27, #T_0a290_row28_col29 {\n",
       "  background-color: #3b4cc0;\n",
       "  color: #f1f1f1;\n",
       "}\n",
       "#T_0a290_row2_col16, #T_0a290_row4_col29, #T_0a290_row13_col28, #T_0a290_row19_col28, #T_0a290_row26_col15 {\n",
       "  background-color: #6282ea;\n",
       "  color: #f1f1f1;\n",
       "}\n",
       "#T_0a290_row2_col18, #T_0a290_row4_col6, #T_0a290_row5_col4, #T_0a290_row10_col13, #T_0a290_row11_col2, #T_0a290_row21_col26 {\n",
       "  background-color: #cad8ef;\n",
       "  color: #000000;\n",
       "}\n",
       "#T_0a290_row2_col21 {\n",
       "  background-color: #445acc;\n",
       "  color: #f1f1f1;\n",
       "}\n",
       "#T_0a290_row2_col23, #T_0a290_row3_col20, #T_0a290_row4_col22, #T_0a290_row9_col22, #T_0a290_row10_col11, #T_0a290_row11_col5, #T_0a290_row14_col8, #T_0a290_row14_col26, #T_0a290_row19_col5, #T_0a290_row20_col10, #T_0a290_row21_col20, #T_0a290_row22_col21, #T_0a290_row25_col19 {\n",
       "  background-color: #cfdaea;\n",
       "  color: #000000;\n",
       "}\n",
       "#T_0a290_row2_col24, #T_0a290_row4_col15 {\n",
       "  background-color: #506bda;\n",
       "  color: #f1f1f1;\n",
       "}\n",
       "#T_0a290_row2_col26, #T_0a290_row15_col20, #T_0a290_row18_col27, #T_0a290_row22_col16, #T_0a290_row26_col7 {\n",
       "  background-color: #c4d5f3;\n",
       "  color: #000000;\n",
       "}\n",
       "#T_0a290_row2_col27, #T_0a290_row8_col29 {\n",
       "  background-color: #6384eb;\n",
       "  color: #f1f1f1;\n",
       "}\n",
       "#T_0a290_row2_col28 {\n",
       "  background-color: #3c4ec2;\n",
       "  color: #f1f1f1;\n",
       "}\n",
       "#T_0a290_row2_col29, #T_0a290_row24_col15 {\n",
       "  background-color: #6687ed;\n",
       "  color: #f1f1f1;\n",
       "}\n",
       "#T_0a290_row3_col1, #T_0a290_row5_col17, #T_0a290_row6_col17, #T_0a290_row7_col13, #T_0a290_row23_col0, #T_0a290_row27_col3 {\n",
       "  background-color: #f3c7b1;\n",
       "  color: #000000;\n",
       "}\n",
       "#T_0a290_row3_col4, #T_0a290_row3_col10, #T_0a290_row4_col5, #T_0a290_row24_col9, #T_0a290_row26_col13 {\n",
       "  background-color: #a6c4fe;\n",
       "  color: #000000;\n",
       "}\n",
       "#T_0a290_row3_col5, #T_0a290_row20_col19 {\n",
       "  background-color: #f7b89c;\n",
       "  color: #000000;\n",
       "}\n",
       "#T_0a290_row3_col7, #T_0a290_row10_col14, #T_0a290_row13_col6, #T_0a290_row13_col9, #T_0a290_row13_col22 {\n",
       "  background-color: #ebd3c6;\n",
       "  color: #000000;\n",
       "}\n",
       "#T_0a290_row3_col9, #T_0a290_row9_col24, #T_0a290_row24_col1, #T_0a290_row24_col27, #T_0a290_row26_col17, #T_0a290_row29_col19 {\n",
       "  background-color: #92b4fe;\n",
       "  color: #000000;\n",
       "}\n",
       "#T_0a290_row3_col12, #T_0a290_row8_col4, #T_0a290_row11_col3, #T_0a290_row13_col29, #T_0a290_row15_col19, #T_0a290_row16_col14 {\n",
       "  background-color: #9bbcff;\n",
       "  color: #000000;\n",
       "}\n",
       "#T_0a290_row3_col14, #T_0a290_row3_col18, #T_0a290_row4_col11, #T_0a290_row5_col2, #T_0a290_row12_col0, #T_0a290_row18_col10, #T_0a290_row19_col9, #T_0a290_row22_col12, #T_0a290_row27_col16 {\n",
       "  background-color: #d1dae9;\n",
       "  color: #000000;\n",
       "}\n",
       "#T_0a290_row3_col15, #T_0a290_row7_col24, #T_0a290_row9_col5, #T_0a290_row9_col25, #T_0a290_row11_col10, #T_0a290_row13_col10, #T_0a290_row24_col6, #T_0a290_row25_col4, #T_0a290_row25_col12, #T_0a290_row26_col23 {\n",
       "  background-color: #a9c6fd;\n",
       "  color: #000000;\n",
       "}\n",
       "#T_0a290_row3_col16, #T_0a290_row3_col24, #T_0a290_row7_col27, #T_0a290_row21_col24, #T_0a290_row24_col12, #T_0a290_row26_col5, #T_0a290_row27_col24 {\n",
       "  background-color: #abc8fd;\n",
       "  color: #000000;\n",
       "}\n",
       "#T_0a290_row3_col17, #T_0a290_row5_col8, #T_0a290_row9_col23, #T_0a290_row10_col7, #T_0a290_row11_col12, #T_0a290_row12_col25, #T_0a290_row17_col8 {\n",
       "  background-color: #d2dbe8;\n",
       "  color: #000000;\n",
       "}\n",
       "#T_0a290_row3_col22, #T_0a290_row20_col25, #T_0a290_row21_col17, #T_0a290_row22_col10 {\n",
       "  background-color: #edd2c3;\n",
       "  color: #000000;\n",
       "}\n",
       "#T_0a290_row3_col23, #T_0a290_row5_col6, #T_0a290_row9_col7, #T_0a290_row17_col1, #T_0a290_row20_col6, #T_0a290_row23_col10, #T_0a290_row27_col23, #T_0a290_row27_col25 {\n",
       "  background-color: #dadce0;\n",
       "  color: #000000;\n",
       "}\n",
       "#T_0a290_row3_col26, #T_0a290_row21_col4, #T_0a290_row21_col7, #T_0a290_row22_col27 {\n",
       "  background-color: #d7dce3;\n",
       "  color: #000000;\n",
       "}\n",
       "#T_0a290_row3_col28, #T_0a290_row4_col9, #T_0a290_row15_col9, #T_0a290_row15_col21, #T_0a290_row16_col2, #T_0a290_row16_col18, #T_0a290_row16_col19 {\n",
       "  background-color: #8db0fe;\n",
       "  color: #000000;\n",
       "}\n",
       "#T_0a290_row4_col3, #T_0a290_row9_col28, #T_0a290_row16_col9 {\n",
       "  background-color: #6b8df0;\n",
       "  color: #f1f1f1;\n",
       "}\n",
       "#T_0a290_row4_col8, #T_0a290_row4_col27, #T_0a290_row6_col10, #T_0a290_row8_col12, #T_0a290_row16_col4 {\n",
       "  background-color: #7699f6;\n",
       "  color: #f1f1f1;\n",
       "}\n",
       "#T_0a290_row4_col10, #T_0a290_row5_col28, #T_0a290_row15_col13, #T_0a290_row18_col15 {\n",
       "  background-color: #84a7fc;\n",
       "  color: #f1f1f1;\n",
       "}\n",
       "#T_0a290_row4_col12, #T_0a290_row15_col16 {\n",
       "  background-color: #6788ee;\n",
       "  color: #f1f1f1;\n",
       "}\n",
       "#T_0a290_row4_col13, #T_0a290_row6_col0, #T_0a290_row7_col3, #T_0a290_row7_col26, #T_0a290_row18_col9, #T_0a290_row25_col13 {\n",
       "  background-color: #d8dce2;\n",
       "  color: #000000;\n",
       "}\n",
       "#T_0a290_row4_col14, #T_0a290_row10_col23, #T_0a290_row27_col22 {\n",
       "  background-color: #ead5c9;\n",
       "  color: #000000;\n",
       "}\n",
       "#T_0a290_row4_col16, #T_0a290_row29_col12 {\n",
       "  background-color: #5b7ae5;\n",
       "  color: #f1f1f1;\n",
       "}\n",
       "#T_0a290_row4_col18, #T_0a290_row6_col13, #T_0a290_row10_col20, #T_0a290_row17_col2, #T_0a290_row19_col6, #T_0a290_row27_col17 {\n",
       "  background-color: #e7d7ce;\n",
       "  color: #000000;\n",
       "}\n",
       "#T_0a290_row4_col19, #T_0a290_row5_col19, #T_0a290_row8_col16, #T_0a290_row9_col14, #T_0a290_row13_col4 {\n",
       "  background-color: #e0dbd8;\n",
       "  color: #000000;\n",
       "}\n",
       "#T_0a290_row4_col24 {\n",
       "  background-color: #4b64d5;\n",
       "  color: #f1f1f1;\n",
       "}\n",
       "#T_0a290_row4_col26, #T_0a290_row15_col2, #T_0a290_row15_col12, #T_0a290_row24_col29 {\n",
       "  background-color: #86a9fc;\n",
       "  color: #f1f1f1;\n",
       "}\n",
       "#T_0a290_row5_col0, #T_0a290_row12_col17, #T_0a290_row20_col5, #T_0a290_row20_col12, #T_0a290_row21_col18 {\n",
       "  background-color: #e9d5cb;\n",
       "  color: #000000;\n",
       "}\n",
       "#T_0a290_row5_col1, #T_0a290_row12_col11, #T_0a290_row19_col0, #T_0a290_row22_col13 {\n",
       "  background-color: #f0cdbb;\n",
       "  color: #000000;\n",
       "}\n",
       "#T_0a290_row5_col3, #T_0a290_row7_col17, #T_0a290_row17_col6, #T_0a290_row20_col17 {\n",
       "  background-color: #f7bca1;\n",
       "  color: #000000;\n",
       "}\n",
       "#T_0a290_row5_col15, #T_0a290_row7_col8, #T_0a290_row9_col6, #T_0a290_row11_col29, #T_0a290_row12_col4, #T_0a290_row16_col5, #T_0a290_row20_col24, #T_0a290_row21_col15, #T_0a290_row23_col21 {\n",
       "  background-color: #b6cefa;\n",
       "  color: #000000;\n",
       "}\n",
       "#T_0a290_row5_col18, #T_0a290_row6_col14, #T_0a290_row11_col0, #T_0a290_row11_col13, #T_0a290_row14_col5 {\n",
       "  background-color: #ecd3c5;\n",
       "  color: #000000;\n",
       "}\n",
       "#T_0a290_row5_col22, #T_0a290_row7_col23 {\n",
       "  background-color: #f39577;\n",
       "  color: #000000;\n",
       "}\n",
       "#T_0a290_row5_col23, #T_0a290_row9_col20, #T_0a290_row12_col22, #T_0a290_row17_col25, #T_0a290_row19_col4 {\n",
       "  background-color: #e8d6cc;\n",
       "  color: #000000;\n",
       "}\n",
       "#T_0a290_row5_col24, #T_0a290_row8_col22, #T_0a290_row22_col6, #T_0a290_row24_col5, #T_0a290_row25_col3 {\n",
       "  background-color: #dbdcde;\n",
       "  color: #000000;\n",
       "}\n",
       "#T_0a290_row5_col25, #T_0a290_row12_col10 {\n",
       "  background-color: #f5c2aa;\n",
       "  color: #000000;\n",
       "}\n",
       "#T_0a290_row5_col27, #T_0a290_row13_col11, #T_0a290_row13_col20 {\n",
       "  background-color: #efcfbf;\n",
       "  color: #000000;\n",
       "}\n",
       "#T_0a290_row6_col3, #T_0a290_row10_col28, #T_0a290_row11_col1, #T_0a290_row16_col1, #T_0a290_row23_col16, #T_0a290_row29_col2, #T_0a290_row29_col17 {\n",
       "  background-color: #90b2fe;\n",
       "  color: #000000;\n",
       "}\n",
       "#T_0a290_row6_col8, #T_0a290_row10_col15, #T_0a290_row15_col27, #T_0a290_row27_col28 {\n",
       "  background-color: #9dbdff;\n",
       "  color: #000000;\n",
       "}\n",
       "#T_0a290_row6_col12, #T_0a290_row11_col16, #T_0a290_row17_col15, #T_0a290_row19_col15, #T_0a290_row29_col1, #T_0a290_row29_col3 {\n",
       "  background-color: #779af7;\n",
       "  color: #f1f1f1;\n",
       "}\n",
       "#T_0a290_row6_col15 {\n",
       "  background-color: #3d50c3;\n",
       "  color: #f1f1f1;\n",
       "}\n",
       "#T_0a290_row6_col16, #T_0a290_row16_col21, #T_0a290_row29_col6 {\n",
       "  background-color: #688aef;\n",
       "  color: #f1f1f1;\n",
       "}\n",
       "#T_0a290_row6_col21, #T_0a290_row8_col9, #T_0a290_row16_col6, #T_0a290_row24_col4 {\n",
       "  background-color: #7ea1fa;\n",
       "  color: #f1f1f1;\n",
       "}\n",
       "#T_0a290_row6_col24, #T_0a290_row9_col1, #T_0a290_row13_col24 {\n",
       "  background-color: #80a3fa;\n",
       "  color: #f1f1f1;\n",
       "}\n",
       "#T_0a290_row6_col28 {\n",
       "  background-color: #5470de;\n",
       "  color: #f1f1f1;\n",
       "}\n",
       "#T_0a290_row6_col29, #T_0a290_row29_col8 {\n",
       "  background-color: #536edd;\n",
       "  color: #f1f1f1;\n",
       "}\n",
       "#T_0a290_row7_col0, #T_0a290_row10_col17, #T_0a290_row23_col25 {\n",
       "  background-color: #e3d9d3;\n",
       "  color: #000000;\n",
       "}\n",
       "#T_0a290_row7_col6, #T_0a290_row7_col25, #T_0a290_row18_col5, #T_0a290_row21_col0, #T_0a290_row22_col26 {\n",
       "  background-color: #e6d7cf;\n",
       "  color: #000000;\n",
       "}\n",
       "#T_0a290_row7_col10, #T_0a290_row12_col27, #T_0a290_row21_col16, #T_0a290_row25_col8, #T_0a290_row27_col6, #T_0a290_row29_col22 {\n",
       "  background-color: #b2ccfb;\n",
       "  color: #000000;\n",
       "}\n",
       "#T_0a290_row7_col12, #T_0a290_row8_col6, #T_0a290_row8_col19, #T_0a290_row9_col0, #T_0a290_row10_col4, #T_0a290_row14_col21, #T_0a290_row22_col29, #T_0a290_row25_col1, #T_0a290_row27_col10 {\n",
       "  background-color: #bad0f8;\n",
       "  color: #000000;\n",
       "}\n",
       "#T_0a290_row7_col14, #T_0a290_row7_col19, #T_0a290_row11_col23 {\n",
       "  background-color: #f7aa8c;\n",
       "  color: #000000;\n",
       "}\n",
       "#T_0a290_row7_col18, #T_0a290_row19_col17, #T_0a290_row20_col11, #T_0a290_row23_col22 {\n",
       "  background-color: #f59f80;\n",
       "  color: #000000;\n",
       "}\n",
       "#T_0a290_row7_col20, #T_0a290_row7_col22, #T_0a290_row11_col18, #T_0a290_row11_col19, #T_0a290_row20_col7, #T_0a290_row20_col18, #T_0a290_row23_col13 {\n",
       "  background-color: #f7b093;\n",
       "  color: #000000;\n",
       "}\n",
       "#T_0a290_row7_col29, #T_0a290_row10_col21, #T_0a290_row20_col1 {\n",
       "  background-color: #a2c1ff;\n",
       "  color: #000000;\n",
       "}\n",
       "#T_0a290_row8_col3, #T_0a290_row10_col3, #T_0a290_row13_col3, #T_0a290_row17_col16, #T_0a290_row19_col8, #T_0a290_row20_col29, #T_0a290_row25_col9, #T_0a290_row26_col18, #T_0a290_row29_col23 {\n",
       "  background-color: #a7c5fe;\n",
       "  color: #000000;\n",
       "}\n",
       "#T_0a290_row8_col11, #T_0a290_row20_col8, #T_0a290_row21_col28, #T_0a290_row24_col14, #T_0a290_row27_col29 {\n",
       "  background-color: #b3cdfb;\n",
       "  color: #000000;\n",
       "}\n",
       "#T_0a290_row8_col15 {\n",
       "  background-color: #4961d2;\n",
       "  color: #f1f1f1;\n",
       "}\n",
       "#T_0a290_row8_col18, #T_0a290_row8_col20, #T_0a290_row10_col16, #T_0a290_row12_col24, #T_0a290_row18_col1 {\n",
       "  background-color: #c6d6f1;\n",
       "  color: #000000;\n",
       "}\n",
       "#T_0a290_row8_col21, #T_0a290_row11_col15, #T_0a290_row15_col6, #T_0a290_row17_col28, #T_0a290_row22_col28 {\n",
       "  background-color: #7396f5;\n",
       "  color: #f1f1f1;\n",
       "}\n",
       "#T_0a290_row8_col25, #T_0a290_row13_col1, #T_0a290_row23_col8, #T_0a290_row25_col6, #T_0a290_row26_col11 {\n",
       "  background-color: #bcd2f7;\n",
       "  color: #000000;\n",
       "}\n",
       "#T_0a290_row8_col26, #T_0a290_row16_col13, #T_0a290_row16_col23 {\n",
       "  background-color: #8fb1fe;\n",
       "  color: #000000;\n",
       "}\n",
       "#T_0a290_row8_col28, #T_0a290_row24_col21 {\n",
       "  background-color: #799cf8;\n",
       "  color: #f1f1f1;\n",
       "}\n",
       "#T_0a290_row9_col3, #T_0a290_row9_col15 {\n",
       "  background-color: #6f92f3;\n",
       "  color: #f1f1f1;\n",
       "}\n",
       "#T_0a290_row9_col13, #T_0a290_row18_col6 {\n",
       "  background-color: #eed0c0;\n",
       "  color: #000000;\n",
       "}\n",
       "#T_0a290_row9_col16, #T_0a290_row9_col27, #T_0a290_row15_col24, #T_0a290_row23_col28, #T_0a290_row26_col6 {\n",
       "  background-color: #6c8ff1;\n",
       "  color: #f1f1f1;\n",
       "}\n",
       "#T_0a290_row10_col1, #T_0a290_row14_col1, #T_0a290_row14_col27, #T_0a290_row22_col15 {\n",
       "  background-color: #c9d7f0;\n",
       "  color: #000000;\n",
       "}\n",
       "#T_0a290_row10_col12 {\n",
       "  background-color: #f2cbb7;\n",
       "  color: #000000;\n",
       "}\n",
       "#T_0a290_row10_col18, #T_0a290_row11_col6, #T_0a290_row12_col19 {\n",
       "  background-color: #dfdbd9;\n",
       "  color: #000000;\n",
       "}\n",
       "#T_0a290_row11_col4, #T_0a290_row12_col5, #T_0a290_row13_col25, #T_0a290_row15_col22, #T_0a290_row17_col9, #T_0a290_row21_col11 {\n",
       "  background-color: #d4dbe6;\n",
       "  color: #000000;\n",
       "}\n",
       "#T_0a290_row11_col7, #T_0a290_row13_col18, #T_0a290_row18_col22, #T_0a290_row22_col18 {\n",
       "  background-color: #f7af91;\n",
       "  color: #000000;\n",
       "}\n",
       "#T_0a290_row11_col14, #T_0a290_row14_col13, #T_0a290_row18_col13, #T_0a290_row19_col7, #T_0a290_row22_col7 {\n",
       "  background-color: #f7a98b;\n",
       "  color: #000000;\n",
       "}\n",
       "#T_0a290_row11_col17 {\n",
       "  background-color: #f5c1a9;\n",
       "  color: #000000;\n",
       "}\n",
       "#T_0a290_row11_col20, #T_0a290_row14_col11 {\n",
       "  background-color: #f5a081;\n",
       "  color: #000000;\n",
       "}\n",
       "#T_0a290_row11_col27, #T_0a290_row15_col18, #T_0a290_row20_col16, #T_0a290_row24_col19, #T_0a290_row25_col29, #T_0a290_row29_col25 {\n",
       "  background-color: #98b9ff;\n",
       "  color: #000000;\n",
       "}\n",
       "#T_0a290_row11_col28, #T_0a290_row26_col16 {\n",
       "  background-color: #5673e0;\n",
       "  color: #f1f1f1;\n",
       "}\n",
       "#T_0a290_row12_col20, #T_0a290_row19_col22, #T_0a290_row20_col0 {\n",
       "  background-color: #f6bda2;\n",
       "  color: #000000;\n",
       "}\n",
       "#T_0a290_row12_col26 {\n",
       "  background-color: #b7cff9;\n",
       "  color: #000000;\n",
       "}\n",
       "#T_0a290_row13_col2, #T_0a290_row14_col0, #T_0a290_row22_col11 {\n",
       "  background-color: #f6bfa6;\n",
       "  color: #000000;\n",
       "}\n",
       "#T_0a290_row13_col5, #T_0a290_row17_col10, #T_0a290_row27_col0, #T_0a290_row27_col13 {\n",
       "  background-color: #d6dce4;\n",
       "  color: #000000;\n",
       "}\n",
       "#T_0a290_row13_col14, #T_0a290_row20_col23, #T_0a290_row21_col3 {\n",
       "  background-color: #f7ad90;\n",
       "  color: #000000;\n",
       "}\n",
       "#T_0a290_row13_col15, #T_0a290_row20_col28, #T_0a290_row26_col10, #T_0a290_row26_col21 {\n",
       "  background-color: #5d7ce6;\n",
       "  color: #f1f1f1;\n",
       "}\n",
       "#T_0a290_row13_col16, #T_0a290_row26_col1 {\n",
       "  background-color: #88abfd;\n",
       "  color: #000000;\n",
       "}\n",
       "#T_0a290_row13_col17, #T_0a290_row14_col22, #T_0a290_row22_col20 {\n",
       "  background-color: #f59d7e;\n",
       "  color: #000000;\n",
       "}\n",
       "#T_0a290_row13_col19, #T_0a290_row17_col22, #T_0a290_row19_col13, #T_0a290_row19_col20, #T_0a290_row21_col27, #T_0a290_row22_col17, #T_0a290_row22_col19 {\n",
       "  background-color: #f7b599;\n",
       "  color: #000000;\n",
       "}\n",
       "#T_0a290_row13_col26, #T_0a290_row17_col3, #T_0a290_row18_col8, #T_0a290_row24_col11, #T_0a290_row26_col2, #T_0a290_row29_col11 {\n",
       "  background-color: #c3d5f4;\n",
       "  color: #000000;\n",
       "}\n",
       "#T_0a290_row14_col7, #T_0a290_row18_col11 {\n",
       "  background-color: #f7a688;\n",
       "  color: #000000;\n",
       "}\n",
       "#T_0a290_row14_col17, #T_0a290_row23_col14 {\n",
       "  background-color: #e97a5f;\n",
       "  color: #f1f1f1;\n",
       "}\n",
       "#T_0a290_row14_col18, #T_0a290_row17_col18, #T_0a290_row18_col14 {\n",
       "  background-color: #e8765c;\n",
       "  color: #f1f1f1;\n",
       "}\n",
       "#T_0a290_row14_col19 {\n",
       "  background-color: #f18f71;\n",
       "  color: #f1f1f1;\n",
       "}\n",
       "#T_0a290_row14_col20, #T_0a290_row23_col7 {\n",
       "  background-color: #f29274;\n",
       "  color: #f1f1f1;\n",
       "}\n",
       "#T_0a290_row14_col23, #T_0a290_row17_col14, #T_0a290_row18_col17 {\n",
       "  background-color: #e9785d;\n",
       "  color: #f1f1f1;\n",
       "}\n",
       "#T_0a290_row15_col1 {\n",
       "  background-color: #94b6ff;\n",
       "  color: #000000;\n",
       "}\n",
       "#T_0a290_row15_col8, #T_0a290_row29_col15 {\n",
       "  background-color: #5a78e4;\n",
       "  color: #f1f1f1;\n",
       "}\n",
       "#T_0a290_row15_col29, #T_0a290_row16_col12, #T_0a290_row19_col24 {\n",
       "  background-color: #7a9df8;\n",
       "  color: #f1f1f1;\n",
       "}\n",
       "#T_0a290_row16_col15, #T_0a290_row16_col29, #T_0a290_row29_col16 {\n",
       "  background-color: #485fd1;\n",
       "  color: #f1f1f1;\n",
       "}\n",
       "#T_0a290_row16_col28, #T_0a290_row25_col28, #T_0a290_row29_col28 {\n",
       "  background-color: #6a8bef;\n",
       "  color: #f1f1f1;\n",
       "}\n",
       "#T_0a290_row17_col11, #T_0a290_row22_col25, #T_0a290_row27_col1 {\n",
       "  background-color: #f7b79b;\n",
       "  color: #000000;\n",
       "}\n",
       "#T_0a290_row17_col12, #T_0a290_row17_col27, #T_0a290_row22_col24, #T_0a290_row23_col9, #T_0a290_row24_col25 {\n",
       "  background-color: #d3dbe7;\n",
       "  color: #000000;\n",
       "}\n",
       "#T_0a290_row17_col13, #T_0a290_row18_col7 {\n",
       "  background-color: #f39778;\n",
       "  color: #000000;\n",
       "}\n",
       "#T_0a290_row17_col19, #T_0a290_row20_col14 {\n",
       "  background-color: #f4987a;\n",
       "  color: #000000;\n",
       "}\n",
       "#T_0a290_row17_col20 {\n",
       "  background-color: #f7b396;\n",
       "  color: #000000;\n",
       "}\n",
       "#T_0a290_row17_col23 {\n",
       "  background-color: #ee8669;\n",
       "  color: #f1f1f1;\n",
       "}\n",
       "#T_0a290_row18_col19 {\n",
       "  background-color: #ed8366;\n",
       "  color: #f1f1f1;\n",
       "}\n",
       "#T_0a290_row18_col20, #T_0a290_row23_col20 {\n",
       "  background-color: #f7a889;\n",
       "  color: #000000;\n",
       "}\n",
       "#T_0a290_row18_col23, #T_0a290_row23_col18, #T_0a290_row23_col19 {\n",
       "  background-color: #e46e56;\n",
       "  color: #f1f1f1;\n",
       "}\n",
       "#T_0a290_row18_col25, #T_0a290_row20_col9, #T_0a290_row21_col23, #T_0a290_row22_col1, #T_0a290_row22_col3, #T_0a290_row25_col23, #T_0a290_row27_col14 {\n",
       "  background-color: #e2dad5;\n",
       "  color: #000000;\n",
       "}\n",
       "#T_0a290_row19_col14 {\n",
       "  background-color: #f39475;\n",
       "  color: #000000;\n",
       "}\n",
       "#T_0a290_row19_col18 {\n",
       "  background-color: #ef886b;\n",
       "  color: #f1f1f1;\n",
       "}\n",
       "#T_0a290_row19_col23 {\n",
       "  background-color: #e57058;\n",
       "  color: #f1f1f1;\n",
       "}\n",
       "#T_0a290_row20_col13, #T_0a290_row21_col22, #T_0a290_row23_col4 {\n",
       "  background-color: #edd1c2;\n",
       "  color: #000000;\n",
       "}\n",
       "#T_0a290_row20_col22 {\n",
       "  background-color: #f6a586;\n",
       "  color: #000000;\n",
       "}\n",
       "#T_0a290_row21_col1 {\n",
       "  background-color: #f49a7b;\n",
       "  color: #000000;\n",
       "}\n",
       "#T_0a290_row21_col5 {\n",
       "  background-color: #f7b99e;\n",
       "  color: #000000;\n",
       "}\n",
       "#T_0a290_row21_col10, #T_0a290_row24_col7, #T_0a290_row25_col2, #T_0a290_row26_col20 {\n",
       "  background-color: #c1d4f4;\n",
       "  color: #000000;\n",
       "}\n",
       "#T_0a290_row22_col5, #T_0a290_row22_col14, #T_0a290_row22_col23 {\n",
       "  background-color: #f59c7d;\n",
       "  color: #000000;\n",
       "}\n",
       "#T_0a290_row23_col11 {\n",
       "  background-color: #f6a385;\n",
       "  color: #000000;\n",
       "}\n",
       "#T_0a290_row23_col17 {\n",
       "  background-color: #f08a6c;\n",
       "  color: #f1f1f1;\n",
       "}\n",
       "#T_0a290_row24_col28, #T_0a290_row26_col0 {\n",
       "  background-color: #82a6fb;\n",
       "  color: #f1f1f1;\n",
       "}\n",
       "#T_0a290_row25_col15, #T_0a290_row28_col15, #T_0a290_row29_col0, #T_0a290_row29_col4 {\n",
       "  background-color: #7da0f9;\n",
       "  color: #f1f1f1;\n",
       "}\n",
       "#T_0a290_row26_col8 {\n",
       "  background-color: #516ddb;\n",
       "  color: #f1f1f1;\n",
       "}\n",
       "#T_0a290_row26_col12, #T_0a290_row29_col21 {\n",
       "  background-color: #5572df;\n",
       "  color: #f1f1f1;\n",
       "}\n",
       "#T_0a290_row26_col24 {\n",
       "  background-color: #5977e3;\n",
       "  color: #f1f1f1;\n",
       "}\n",
       "#T_0a290_row27_col18 {\n",
       "  background-color: #dcdddd;\n",
       "  color: #000000;\n",
       "}\n",
       "#T_0a290_row27_col21 {\n",
       "  background-color: #f5c0a7;\n",
       "  color: #000000;\n",
       "}\n",
       "</style>\n",
       "<table id=\"T_0a290\">\n",
       "  <thead>\n",
       "    <tr>\n",
       "      <th class=\"blank level0\" >&nbsp;</th>\n",
       "      <th id=\"T_0a290_level0_col0\" class=\"col_heading level0 col0\" >estimator 1</th>\n",
       "      <th id=\"T_0a290_level0_col1\" class=\"col_heading level0 col1\" >estimator 2</th>\n",
       "      <th id=\"T_0a290_level0_col2\" class=\"col_heading level0 col2\" >estimator 3</th>\n",
       "      <th id=\"T_0a290_level0_col3\" class=\"col_heading level0 col3\" >estimator 4</th>\n",
       "      <th id=\"T_0a290_level0_col4\" class=\"col_heading level0 col4\" >estimator 5</th>\n",
       "      <th id=\"T_0a290_level0_col5\" class=\"col_heading level0 col5\" >estimator 6</th>\n",
       "      <th id=\"T_0a290_level0_col6\" class=\"col_heading level0 col6\" >estimator 7</th>\n",
       "      <th id=\"T_0a290_level0_col7\" class=\"col_heading level0 col7\" >estimator 8</th>\n",
       "      <th id=\"T_0a290_level0_col8\" class=\"col_heading level0 col8\" >estimator 9</th>\n",
       "      <th id=\"T_0a290_level0_col9\" class=\"col_heading level0 col9\" >estimator 10</th>\n",
       "      <th id=\"T_0a290_level0_col10\" class=\"col_heading level0 col10\" >estimator 11</th>\n",
       "      <th id=\"T_0a290_level0_col11\" class=\"col_heading level0 col11\" >estimator 12</th>\n",
       "      <th id=\"T_0a290_level0_col12\" class=\"col_heading level0 col12\" >estimator 13</th>\n",
       "      <th id=\"T_0a290_level0_col13\" class=\"col_heading level0 col13\" >estimator 14</th>\n",
       "      <th id=\"T_0a290_level0_col14\" class=\"col_heading level0 col14\" >estimator 15</th>\n",
       "      <th id=\"T_0a290_level0_col15\" class=\"col_heading level0 col15\" >estimator 16</th>\n",
       "      <th id=\"T_0a290_level0_col16\" class=\"col_heading level0 col16\" >estimator 17</th>\n",
       "      <th id=\"T_0a290_level0_col17\" class=\"col_heading level0 col17\" >estimator 18</th>\n",
       "      <th id=\"T_0a290_level0_col18\" class=\"col_heading level0 col18\" >estimator 19</th>\n",
       "      <th id=\"T_0a290_level0_col19\" class=\"col_heading level0 col19\" >estimator 20</th>\n",
       "      <th id=\"T_0a290_level0_col20\" class=\"col_heading level0 col20\" >estimator 21</th>\n",
       "      <th id=\"T_0a290_level0_col21\" class=\"col_heading level0 col21\" >estimator 22</th>\n",
       "      <th id=\"T_0a290_level0_col22\" class=\"col_heading level0 col22\" >estimator 23</th>\n",
       "      <th id=\"T_0a290_level0_col23\" class=\"col_heading level0 col23\" >estimator 24</th>\n",
       "      <th id=\"T_0a290_level0_col24\" class=\"col_heading level0 col24\" >estimator 25</th>\n",
       "      <th id=\"T_0a290_level0_col25\" class=\"col_heading level0 col25\" >estimator 26</th>\n",
       "      <th id=\"T_0a290_level0_col26\" class=\"col_heading level0 col26\" >estimator 27</th>\n",
       "      <th id=\"T_0a290_level0_col27\" class=\"col_heading level0 col27\" >estimator 28</th>\n",
       "      <th id=\"T_0a290_level0_col28\" class=\"col_heading level0 col28\" >estimator 29</th>\n",
       "      <th id=\"T_0a290_level0_col29\" class=\"col_heading level0 col29\" >estimator 30</th>\n",
       "    </tr>\n",
       "  </thead>\n",
       "  <tbody>\n",
       "    <tr>\n",
       "      <th id=\"T_0a290_level0_row0\" class=\"row_heading level0 row0\" >estimator 1</th>\n",
       "      <td id=\"T_0a290_row0_col0\" class=\"data row0 col0\" >1.000000</td>\n",
       "      <td id=\"T_0a290_row0_col1\" class=\"data row0 col1\" >0.775049</td>\n",
       "      <td id=\"T_0a290_row0_col2\" class=\"data row0 col2\" >0.634038</td>\n",
       "      <td id=\"T_0a290_row0_col3\" class=\"data row0 col3\" >0.703455</td>\n",
       "      <td id=\"T_0a290_row0_col4\" class=\"data row0 col4\" >0.775020</td>\n",
       "      <td id=\"T_0a290_row0_col5\" class=\"data row0 col5\" >0.783058</td>\n",
       "      <td id=\"T_0a290_row0_col6\" class=\"data row0 col6\" >0.750484</td>\n",
       "      <td id=\"T_0a290_row0_col7\" class=\"data row0 col7\" >0.771855</td>\n",
       "      <td id=\"T_0a290_row0_col8\" class=\"data row0 col8\" >0.710915</td>\n",
       "      <td id=\"T_0a290_row0_col9\" class=\"data row0 col9\" >0.702853</td>\n",
       "      <td id=\"T_0a290_row0_col10\" class=\"data row0 col10\" >0.762601</td>\n",
       "      <td id=\"T_0a290_row0_col11\" class=\"data row0 col11\" >0.791055</td>\n",
       "      <td id=\"T_0a290_row0_col12\" class=\"data row0 col12\" >0.737843</td>\n",
       "      <td id=\"T_0a290_row0_col13\" class=\"data row0 col13\" >0.761883</td>\n",
       "      <td id=\"T_0a290_row0_col14\" class=\"data row0 col14\" >0.827109</td>\n",
       "      <td id=\"T_0a290_row0_col15\" class=\"data row0 col15\" >0.667314</td>\n",
       "      <td id=\"T_0a290_row0_col16\" class=\"data row0 col16\" >0.637694</td>\n",
       "      <td id=\"T_0a290_row0_col17\" class=\"data row0 col17\" >0.817590</td>\n",
       "      <td id=\"T_0a290_row0_col18\" class=\"data row0 col18\" >0.803936</td>\n",
       "      <td id=\"T_0a290_row0_col19\" class=\"data row0 col19\" >0.801408</td>\n",
       "      <td id=\"T_0a290_row0_col20\" class=\"data row0 col20\" >0.832655</td>\n",
       "      <td id=\"T_0a290_row0_col21\" class=\"data row0 col21\" >0.777187</td>\n",
       "      <td id=\"T_0a290_row0_col22\" class=\"data row0 col22\" >0.836266</td>\n",
       "      <td id=\"T_0a290_row0_col23\" class=\"data row0 col23\" >0.814630</td>\n",
       "      <td id=\"T_0a290_row0_col24\" class=\"data row0 col24\" >0.704327</td>\n",
       "      <td id=\"T_0a290_row0_col25\" class=\"data row0 col25\" >0.746254</td>\n",
       "      <td id=\"T_0a290_row0_col26\" class=\"data row0 col26\" >0.624567</td>\n",
       "      <td id=\"T_0a290_row0_col27\" class=\"data row0 col27\" >0.747727</td>\n",
       "      <td id=\"T_0a290_row0_col28\" class=\"data row0 col28\" >0.518873</td>\n",
       "      <td id=\"T_0a290_row0_col29\" class=\"data row0 col29\" >0.617395</td>\n",
       "    </tr>\n",
       "    <tr>\n",
       "      <th id=\"T_0a290_level0_row1\" class=\"row_heading level0 row1\" >estimator 2</th>\n",
       "      <td id=\"T_0a290_row1_col0\" class=\"data row1 col0\" >0.775049</td>\n",
       "      <td id=\"T_0a290_row1_col1\" class=\"data row1 col1\" >1.000000</td>\n",
       "      <td id=\"T_0a290_row1_col2\" class=\"data row1 col2\" >0.649209</td>\n",
       "      <td id=\"T_0a290_row1_col3\" class=\"data row1 col3\" >0.831671</td>\n",
       "      <td id=\"T_0a290_row1_col4\" class=\"data row1 col4\" >0.729819</td>\n",
       "      <td id=\"T_0a290_row1_col5\" class=\"data row1 col5\" >0.818294</td>\n",
       "      <td id=\"T_0a290_row1_col6\" class=\"data row1 col6\" >0.699163</td>\n",
       "      <td id=\"T_0a290_row1_col7\" class=\"data row1 col7\" >0.700093</td>\n",
       "      <td id=\"T_0a290_row1_col8\" class=\"data row1 col8\" >0.678399</td>\n",
       "      <td id=\"T_0a290_row1_col9\" class=\"data row1 col9\" >0.654163</td>\n",
       "      <td id=\"T_0a290_row1_col10\" class=\"data row1 col10\" >0.748413</td>\n",
       "      <td id=\"T_0a290_row1_col11\" class=\"data row1 col11\" >0.675182</td>\n",
       "      <td id=\"T_0a290_row1_col12\" class=\"data row1 col12\" >0.733695</td>\n",
       "      <td id=\"T_0a290_row1_col13\" class=\"data row1 col13\" >0.730739</td>\n",
       "      <td id=\"T_0a290_row1_col14\" class=\"data row1 col14\" >0.748345</td>\n",
       "      <td id=\"T_0a290_row1_col15\" class=\"data row1 col15\" >0.679270</td>\n",
       "      <td id=\"T_0a290_row1_col16\" class=\"data row1 col16\" >0.675304</td>\n",
       "      <td id=\"T_0a290_row1_col17\" class=\"data row1 col17\" >0.776070</td>\n",
       "      <td id=\"T_0a290_row1_col18\" class=\"data row1 col18\" >0.745753</td>\n",
       "      <td id=\"T_0a290_row1_col19\" class=\"data row1 col19\" >0.715204</td>\n",
       "      <td id=\"T_0a290_row1_col20\" class=\"data row1 col20\" >0.697485</td>\n",
       "      <td id=\"T_0a290_row1_col21\" class=\"data row1 col21\" >0.889141</td>\n",
       "      <td id=\"T_0a290_row1_col22\" class=\"data row1 col22\" >0.789125</td>\n",
       "      <td id=\"T_0a290_row1_col23\" class=\"data row1 col23\" >0.757593</td>\n",
       "      <td id=\"T_0a290_row1_col24\" class=\"data row1 col24\" >0.676216</td>\n",
       "      <td id=\"T_0a290_row1_col25\" class=\"data row1 col25\" >0.727023</td>\n",
       "      <td id=\"T_0a290_row1_col26\" class=\"data row1 col26\" >0.664962</td>\n",
       "      <td id=\"T_0a290_row1_col27\" class=\"data row1 col27\" >0.854878</td>\n",
       "      <td id=\"T_0a290_row1_col28\" class=\"data row1 col28\" >0.560455</td>\n",
       "      <td id=\"T_0a290_row1_col29\" class=\"data row1 col29\" >0.643972</td>\n",
       "    </tr>\n",
       "    <tr>\n",
       "      <th id=\"T_0a290_level0_row2\" class=\"row_heading level0 row2\" >estimator 3</th>\n",
       "      <td id=\"T_0a290_row2_col0\" class=\"data row2 col0\" >0.634038</td>\n",
       "      <td id=\"T_0a290_row2_col1\" class=\"data row2 col1\" >0.649209</td>\n",
       "      <td id=\"T_0a290_row2_col2\" class=\"data row2 col2\" >1.000000</td>\n",
       "      <td id=\"T_0a290_row2_col3\" class=\"data row2 col3\" >0.640112</td>\n",
       "      <td id=\"T_0a290_row2_col4\" class=\"data row2 col4\" >0.624351</td>\n",
       "      <td id=\"T_0a290_row2_col5\" class=\"data row2 col5\" >0.685644</td>\n",
       "      <td id=\"T_0a290_row2_col6\" class=\"data row2 col6\" >0.644349</td>\n",
       "      <td id=\"T_0a290_row2_col7\" class=\"data row2 col7\" >0.715179</td>\n",
       "      <td id=\"T_0a290_row2_col8\" class=\"data row2 col8\" >0.606440</td>\n",
       "      <td id=\"T_0a290_row2_col9\" class=\"data row2 col9\" >0.675341</td>\n",
       "      <td id=\"T_0a290_row2_col10\" class=\"data row2 col10\" >0.619656</td>\n",
       "      <td id=\"T_0a290_row2_col11\" class=\"data row2 col11\" >0.671081</td>\n",
       "      <td id=\"T_0a290_row2_col12\" class=\"data row2 col12\" >0.627515</td>\n",
       "      <td id=\"T_0a290_row2_col13\" class=\"data row2 col13\" >0.793788</td>\n",
       "      <td id=\"T_0a290_row2_col14\" class=\"data row2 col14\" >0.729773</td>\n",
       "      <td id=\"T_0a290_row2_col15\" class=\"data row2 col15\" >0.556991</td>\n",
       "      <td id=\"T_0a290_row2_col16\" class=\"data row2 col16\" >0.567966</td>\n",
       "      <td id=\"T_0a290_row2_col17\" class=\"data row2 col17\" >0.735443</td>\n",
       "      <td id=\"T_0a290_row2_col18\" class=\"data row2 col18\" >0.728462</td>\n",
       "      <td id=\"T_0a290_row2_col19\" class=\"data row2 col19\" >0.731330</td>\n",
       "      <td id=\"T_0a290_row2_col20\" class=\"data row2 col20\" >0.679164</td>\n",
       "      <td id=\"T_0a290_row2_col21\" class=\"data row2 col21\" >0.640260</td>\n",
       "      <td id=\"T_0a290_row2_col22\" class=\"data row2 col22\" >0.711540</td>\n",
       "      <td id=\"T_0a290_row2_col23\" class=\"data row2 col23\" >0.731272</td>\n",
       "      <td id=\"T_0a290_row2_col24\" class=\"data row2 col24\" >0.578165</td>\n",
       "      <td id=\"T_0a290_row2_col25\" class=\"data row2 col25\" >0.657421</td>\n",
       "      <td id=\"T_0a290_row2_col26\" class=\"data row2 col26\" >0.659202</td>\n",
       "      <td id=\"T_0a290_row2_col27\" class=\"data row2 col27\" >0.644098</td>\n",
       "      <td id=\"T_0a290_row2_col28\" class=\"data row2 col28\" >0.423045</td>\n",
       "      <td id=\"T_0a290_row2_col29\" class=\"data row2 col29\" >0.573945</td>\n",
       "    </tr>\n",
       "    <tr>\n",
       "      <th id=\"T_0a290_level0_row3\" class=\"row_heading level0 row3\" >estimator 4</th>\n",
       "      <td id=\"T_0a290_row3_col0\" class=\"data row3 col0\" >0.703455</td>\n",
       "      <td id=\"T_0a290_row3_col1\" class=\"data row3 col1\" >0.831671</td>\n",
       "      <td id=\"T_0a290_row3_col2\" class=\"data row3 col2\" >0.640112</td>\n",
       "      <td id=\"T_0a290_row3_col3\" class=\"data row3 col3\" >1.000000</td>\n",
       "      <td id=\"T_0a290_row3_col4\" class=\"data row3 col4\" >0.632428</td>\n",
       "      <td id=\"T_0a290_row3_col5\" class=\"data row3 col5\" >0.849594</td>\n",
       "      <td id=\"T_0a290_row3_col6\" class=\"data row3 col6\" >0.678887</td>\n",
       "      <td id=\"T_0a290_row3_col7\" class=\"data row3 col7\" >0.775612</td>\n",
       "      <td id=\"T_0a290_row3_col8\" class=\"data row3 col8\" >0.707999</td>\n",
       "      <td id=\"T_0a290_row3_col9\" class=\"data row3 col9\" >0.637750</td>\n",
       "      <td id=\"T_0a290_row3_col10\" class=\"data row3 col10\" >0.707394</td>\n",
       "      <td id=\"T_0a290_row3_col11\" class=\"data row3 col11\" >0.692120</td>\n",
       "      <td id=\"T_0a290_row3_col12\" class=\"data row3 col12\" >0.717292</td>\n",
       "      <td id=\"T_0a290_row3_col13\" class=\"data row3 col13\" >0.708284</td>\n",
       "      <td id=\"T_0a290_row3_col14\" class=\"data row3 col14\" >0.733438</td>\n",
       "      <td id=\"T_0a290_row3_col15\" class=\"data row3 col15\" >0.703663</td>\n",
       "      <td id=\"T_0a290_row3_col16\" class=\"data row3 col16\" >0.673364</td>\n",
       "      <td id=\"T_0a290_row3_col17\" class=\"data row3 col17\" >0.742511</td>\n",
       "      <td id=\"T_0a290_row3_col18\" class=\"data row3 col18\" >0.739288</td>\n",
       "      <td id=\"T_0a290_row3_col19\" class=\"data row3 col19\" >0.717913</td>\n",
       "      <td id=\"T_0a290_row3_col20\" class=\"data row3 col20\" >0.716575</td>\n",
       "      <td id=\"T_0a290_row3_col21\" class=\"data row3 col21\" >0.868082</td>\n",
       "      <td id=\"T_0a290_row3_col22\" class=\"data row3 col22\" >0.793180</td>\n",
       "      <td id=\"T_0a290_row3_col23\" class=\"data row3 col23\" >0.750296</td>\n",
       "      <td id=\"T_0a290_row3_col24\" class=\"data row3 col24\" >0.698581</td>\n",
       "      <td id=\"T_0a290_row3_col25\" class=\"data row3 col25\" >0.781295</td>\n",
       "      <td id=\"T_0a290_row3_col26\" class=\"data row3 col26\" >0.697264</td>\n",
       "      <td id=\"T_0a290_row3_col27\" class=\"data row3 col27\" >0.832935</td>\n",
       "      <td id=\"T_0a290_row3_col28\" class=\"data row3 col28\" >0.566059</td>\n",
       "      <td id=\"T_0a290_row3_col29\" class=\"data row3 col29\" >0.647981</td>\n",
       "    </tr>\n",
       "    <tr>\n",
       "      <th id=\"T_0a290_level0_row4\" class=\"row_heading level0 row4\" >estimator 5</th>\n",
       "      <td id=\"T_0a290_row4_col0\" class=\"data row4 col0\" >0.775020</td>\n",
       "      <td id=\"T_0a290_row4_col1\" class=\"data row4 col1\" >0.729819</td>\n",
       "      <td id=\"T_0a290_row4_col2\" class=\"data row4 col2\" >0.624351</td>\n",
       "      <td id=\"T_0a290_row4_col3\" class=\"data row4 col3\" >0.632428</td>\n",
       "      <td id=\"T_0a290_row4_col4\" class=\"data row4 col4\" >1.000000</td>\n",
       "      <td id=\"T_0a290_row4_col5\" class=\"data row4 col5\" >0.693521</td>\n",
       "      <td id=\"T_0a290_row4_col6\" class=\"data row4 col6\" >0.695992</td>\n",
       "      <td id=\"T_0a290_row4_col7\" class=\"data row4 col7\" >0.713706</td>\n",
       "      <td id=\"T_0a290_row4_col8\" class=\"data row4 col8\" >0.617462</td>\n",
       "      <td id=\"T_0a290_row4_col9\" class=\"data row4 col9\" >0.631713</td>\n",
       "      <td id=\"T_0a290_row4_col10\" class=\"data row4 col10\" >0.665438</td>\n",
       "      <td id=\"T_0a290_row4_col11\" class=\"data row4 col11\" >0.712423</td>\n",
       "      <td id=\"T_0a290_row4_col12\" class=\"data row4 col12\" >0.658013</td>\n",
       "      <td id=\"T_0a290_row4_col13\" class=\"data row4 col13\" >0.737153</td>\n",
       "      <td id=\"T_0a290_row4_col14\" class=\"data row4 col14\" >0.780757</td>\n",
       "      <td id=\"T_0a290_row4_col15\" class=\"data row4 col15\" >0.588423</td>\n",
       "      <td id=\"T_0a290_row4_col16\" class=\"data row4 col16\" >0.559180</td>\n",
       "      <td id=\"T_0a290_row4_col17\" class=\"data row4 col17\" >0.788726</td>\n",
       "      <td id=\"T_0a290_row4_col18\" class=\"data row4 col18\" >0.779186</td>\n",
       "      <td id=\"T_0a290_row4_col19\" class=\"data row4 col19\" >0.752860</td>\n",
       "      <td id=\"T_0a290_row4_col20\" class=\"data row4 col20\" >0.714650</td>\n",
       "      <td id=\"T_0a290_row4_col21\" class=\"data row4 col21\" >0.717102</td>\n",
       "      <td id=\"T_0a290_row4_col22\" class=\"data row4 col22\" >0.738355</td>\n",
       "      <td id=\"T_0a290_row4_col23\" class=\"data row4 col23\" >0.768754</td>\n",
       "      <td id=\"T_0a290_row4_col24\" class=\"data row4 col24\" >0.571751</td>\n",
       "      <td id=\"T_0a290_row4_col25\" class=\"data row4 col25\" >0.638099</td>\n",
       "      <td id=\"T_0a290_row4_col26\" class=\"data row4 col26\" >0.553810</td>\n",
       "      <td id=\"T_0a290_row4_col27\" class=\"data row4 col27\" >0.666368</td>\n",
       "      <td id=\"T_0a290_row4_col28\" class=\"data row4 col28\" >0.458991</td>\n",
       "      <td id=\"T_0a290_row4_col29\" class=\"data row4 col29\" >0.568890</td>\n",
       "    </tr>\n",
       "    <tr>\n",
       "      <th id=\"T_0a290_level0_row5\" class=\"row_heading level0 row5\" >estimator 6</th>\n",
       "      <td id=\"T_0a290_row5_col0\" class=\"data row5 col0\" >0.783058</td>\n",
       "      <td id=\"T_0a290_row5_col1\" class=\"data row5 col1\" >0.818294</td>\n",
       "      <td id=\"T_0a290_row5_col2\" class=\"data row5 col2\" >0.685644</td>\n",
       "      <td id=\"T_0a290_row5_col3\" class=\"data row5 col3\" >0.849594</td>\n",
       "      <td id=\"T_0a290_row5_col4\" class=\"data row5 col4\" >0.693521</td>\n",
       "      <td id=\"T_0a290_row5_col5\" class=\"data row5 col5\" >1.000000</td>\n",
       "      <td id=\"T_0a290_row5_col6\" class=\"data row5 col6\" >0.728623</td>\n",
       "      <td id=\"T_0a290_row5_col7\" class=\"data row5 col7\" >0.787505</td>\n",
       "      <td id=\"T_0a290_row5_col8\" class=\"data row5 col8\" >0.745660</td>\n",
       "      <td id=\"T_0a290_row5_col9\" class=\"data row5 col9\" >0.697334</td>\n",
       "      <td id=\"T_0a290_row5_col10\" class=\"data row5 col10\" >0.747911</td>\n",
       "      <td id=\"T_0a290_row5_col11\" class=\"data row5 col11\" >0.752520</td>\n",
       "      <td id=\"T_0a290_row5_col12\" class=\"data row5 col12\" >0.758470</td>\n",
       "      <td id=\"T_0a290_row5_col13\" class=\"data row5 col13\" >0.763659</td>\n",
       "      <td id=\"T_0a290_row5_col14\" class=\"data row5 col14\" >0.802921</td>\n",
       "      <td id=\"T_0a290_row5_col15\" class=\"data row5 col15\" >0.721356</td>\n",
       "      <td id=\"T_0a290_row5_col16\" class=\"data row5 col16\" >0.715605</td>\n",
       "      <td id=\"T_0a290_row5_col17\" class=\"data row5 col17\" >0.816596</td>\n",
       "      <td id=\"T_0a290_row5_col18\" class=\"data row5 col18\" >0.791811</td>\n",
       "      <td id=\"T_0a290_row5_col19\" class=\"data row5 col19\" >0.751898</td>\n",
       "      <td id=\"T_0a290_row5_col20\" class=\"data row5 col20\" >0.795856</td>\n",
       "      <td id=\"T_0a290_row5_col21\" class=\"data row5 col21\" >0.847871</td>\n",
       "      <td id=\"T_0a290_row5_col22\" class=\"data row5 col22\" >0.884944</td>\n",
       "      <td id=\"T_0a290_row5_col23\" class=\"data row5 col23\" >0.776352</td>\n",
       "      <td id=\"T_0a290_row5_col24\" class=\"data row5 col24\" >0.771040</td>\n",
       "      <td id=\"T_0a290_row5_col25\" class=\"data row5 col25\" >0.817272</td>\n",
       "      <td id=\"T_0a290_row5_col26\" class=\"data row5 col26\" >0.700783</td>\n",
       "      <td id=\"T_0a290_row5_col27\" class=\"data row5 col27\" >0.827734</td>\n",
       "      <td id=\"T_0a290_row5_col28\" class=\"data row5 col28\" >0.548521</td>\n",
       "      <td id=\"T_0a290_row5_col29\" class=\"data row5 col29\" >0.669866</td>\n",
       "    </tr>\n",
       "    <tr>\n",
       "      <th id=\"T_0a290_level0_row6\" class=\"row_heading level0 row6\" >estimator 7</th>\n",
       "      <td id=\"T_0a290_row6_col0\" class=\"data row6 col0\" >0.750484</td>\n",
       "      <td id=\"T_0a290_row6_col1\" class=\"data row6 col1\" >0.699163</td>\n",
       "      <td id=\"T_0a290_row6_col2\" class=\"data row6 col2\" >0.644349</td>\n",
       "      <td id=\"T_0a290_row6_col3\" class=\"data row6 col3\" >0.678887</td>\n",
       "      <td id=\"T_0a290_row6_col4\" class=\"data row6 col4\" >0.695992</td>\n",
       "      <td id=\"T_0a290_row6_col5\" class=\"data row6 col5\" >0.728623</td>\n",
       "      <td id=\"T_0a290_row6_col6\" class=\"data row6 col6\" >1.000000</td>\n",
       "      <td id=\"T_0a290_row6_col7\" class=\"data row6 col7\" >0.752381</td>\n",
       "      <td id=\"T_0a290_row6_col8\" class=\"data row6 col8\" >0.669988</td>\n",
       "      <td id=\"T_0a290_row6_col9\" class=\"data row6 col9\" >0.664546</td>\n",
       "      <td id=\"T_0a290_row6_col10\" class=\"data row6 col10\" >0.648481</td>\n",
       "      <td id=\"T_0a290_row6_col11\" class=\"data row6 col11\" >0.739469</td>\n",
       "      <td id=\"T_0a290_row6_col12\" class=\"data row6 col12\" >0.675406</td>\n",
       "      <td id=\"T_0a290_row6_col13\" class=\"data row6 col13\" >0.765972</td>\n",
       "      <td id=\"T_0a290_row6_col14\" class=\"data row6 col14\" >0.787558</td>\n",
       "      <td id=\"T_0a290_row6_col15\" class=\"data row6 col15\" >0.560947</td>\n",
       "      <td id=\"T_0a290_row6_col16\" class=\"data row6 col16\" >0.579253</td>\n",
       "      <td id=\"T_0a290_row6_col17\" class=\"data row6 col17\" >0.816127</td>\n",
       "      <td id=\"T_0a290_row6_col18\" class=\"data row6 col18\" >0.774563</td>\n",
       "      <td id=\"T_0a290_row6_col19\" class=\"data row6 col19\" >0.755289</td>\n",
       "      <td id=\"T_0a290_row6_col20\" class=\"data row6 col20\" >0.727649</td>\n",
       "      <td id=\"T_0a290_row6_col21\" class=\"data row6 col21\" >0.706195</td>\n",
       "      <td id=\"T_0a290_row6_col22\" class=\"data row6 col22\" >0.730100</td>\n",
       "      <td id=\"T_0a290_row6_col23\" class=\"data row6 col23\" >0.763032</td>\n",
       "      <td id=\"T_0a290_row6_col24\" class=\"data row6 col24\" >0.643026</td>\n",
       "      <td id=\"T_0a290_row6_col25\" class=\"data row6 col25\" >0.674968</td>\n",
       "      <td id=\"T_0a290_row6_col26\" class=\"data row6 col26\" >0.551904</td>\n",
       "      <td id=\"T_0a290_row6_col27\" class=\"data row6 col27\" >0.657096</td>\n",
       "      <td id=\"T_0a290_row6_col28\" class=\"data row6 col28\" >0.466789</td>\n",
       "      <td id=\"T_0a290_row6_col29\" class=\"data row6 col29\" >0.544394</td>\n",
       "    </tr>\n",
       "    <tr>\n",
       "      <th id=\"T_0a290_level0_row7\" class=\"row_heading level0 row7\" >estimator 8</th>\n",
       "      <td id=\"T_0a290_row7_col0\" class=\"data row7 col0\" >0.771855</td>\n",
       "      <td id=\"T_0a290_row7_col1\" class=\"data row7 col1\" >0.700093</td>\n",
       "      <td id=\"T_0a290_row7_col2\" class=\"data row7 col2\" >0.715179</td>\n",
       "      <td id=\"T_0a290_row7_col3\" class=\"data row7 col3\" >0.775612</td>\n",
       "      <td id=\"T_0a290_row7_col4\" class=\"data row7 col4\" >0.713706</td>\n",
       "      <td id=\"T_0a290_row7_col5\" class=\"data row7 col5\" >0.787505</td>\n",
       "      <td id=\"T_0a290_row7_col6\" class=\"data row7 col6\" >0.752381</td>\n",
       "      <td id=\"T_0a290_row7_col7\" class=\"data row7 col7\" >1.000000</td>\n",
       "      <td id=\"T_0a290_row7_col8\" class=\"data row7 col8\" >0.704076</td>\n",
       "      <td id=\"T_0a290_row7_col9\" class=\"data row7 col9\" >0.738776</td>\n",
       "      <td id=\"T_0a290_row7_col10\" class=\"data row7 col10\" >0.722480</td>\n",
       "      <td id=\"T_0a290_row7_col11\" class=\"data row7 col11\" >0.842901</td>\n",
       "      <td id=\"T_0a290_row7_col12\" class=\"data row7 col12\" >0.753139</td>\n",
       "      <td id=\"T_0a290_row7_col13\" class=\"data row7 col13\" >0.805062</td>\n",
       "      <td id=\"T_0a290_row7_col14\" class=\"data row7 col14\" >0.855552</td>\n",
       "      <td id=\"T_0a290_row7_col15\" class=\"data row7 col15\" >0.664806</td>\n",
       "      <td id=\"T_0a290_row7_col16\" class=\"data row7 col16\" >0.644283</td>\n",
       "      <td id=\"T_0a290_row7_col17\" class=\"data row7 col17\" >0.835234</td>\n",
       "      <td id=\"T_0a290_row7_col18\" class=\"data row7 col18\" >0.874222</td>\n",
       "      <td id=\"T_0a290_row7_col19\" class=\"data row7 col19\" >0.850676</td>\n",
       "      <td id=\"T_0a290_row7_col20\" class=\"data row7 col20\" >0.840096</td>\n",
       "      <td id=\"T_0a290_row7_col21\" class=\"data row7 col21\" >0.732158</td>\n",
       "      <td id=\"T_0a290_row7_col22\" class=\"data row7 col22\" >0.851017</td>\n",
       "      <td id=\"T_0a290_row7_col23\" class=\"data row7 col23\" >0.881461</td>\n",
       "      <td id=\"T_0a290_row7_col24\" class=\"data row7 col24\" >0.694872</td>\n",
       "      <td id=\"T_0a290_row7_col25\" class=\"data row7 col25\" >0.771794</td>\n",
       "      <td id=\"T_0a290_row7_col26\" class=\"data row7 col26\" >0.698500</td>\n",
       "      <td id=\"T_0a290_row7_col27\" class=\"data row7 col27\" >0.728692</td>\n",
       "      <td id=\"T_0a290_row7_col28\" class=\"data row7 col28\" >0.487225</td>\n",
       "      <td id=\"T_0a290_row7_col29\" class=\"data row7 col29\" >0.659327</td>\n",
       "    </tr>\n",
       "    <tr>\n",
       "      <th id=\"T_0a290_level0_row8\" class=\"row_heading level0 row8\" >estimator 9</th>\n",
       "      <td id=\"T_0a290_row8_col0\" class=\"data row8 col0\" >0.710915</td>\n",
       "      <td id=\"T_0a290_row8_col1\" class=\"data row8 col1\" >0.678399</td>\n",
       "      <td id=\"T_0a290_row8_col2\" class=\"data row8 col2\" >0.606440</td>\n",
       "      <td id=\"T_0a290_row8_col3\" class=\"data row8 col3\" >0.707999</td>\n",
       "      <td id=\"T_0a290_row8_col4\" class=\"data row8 col4\" >0.617462</td>\n",
       "      <td id=\"T_0a290_row8_col5\" class=\"data row8 col5\" >0.745660</td>\n",
       "      <td id=\"T_0a290_row8_col6\" class=\"data row8 col6\" >0.669988</td>\n",
       "      <td id=\"T_0a290_row8_col7\" class=\"data row8 col7\" >0.704076</td>\n",
       "      <td id=\"T_0a290_row8_col8\" class=\"data row8 col8\" >1.000000</td>\n",
       "      <td id=\"T_0a290_row8_col9\" class=\"data row8 col9\" >0.610461</td>\n",
       "      <td id=\"T_0a290_row8_col10\" class=\"data row8 col10\" >0.735545</td>\n",
       "      <td id=\"T_0a290_row8_col11\" class=\"data row8 col11\" >0.662961</td>\n",
       "      <td id=\"T_0a290_row8_col12\" class=\"data row8 col12\" >0.674857</td>\n",
       "      <td id=\"T_0a290_row8_col13\" class=\"data row8 col13\" >0.695414</td>\n",
       "      <td id=\"T_0a290_row8_col14\" class=\"data row8 col14\" >0.742420</td>\n",
       "      <td id=\"T_0a290_row8_col15\" class=\"data row8 col15\" >0.579166</td>\n",
       "      <td id=\"T_0a290_row8_col16\" class=\"data row8 col16\" >0.759680</td>\n",
       "      <td id=\"T_0a290_row8_col17\" class=\"data row8 col17\" >0.746422</td>\n",
       "      <td id=\"T_0a290_row8_col18\" class=\"data row8 col18\" >0.722034</td>\n",
       "      <td id=\"T_0a290_row8_col19\" class=\"data row8 col19\" >0.684666</td>\n",
       "      <td id=\"T_0a290_row8_col20\" class=\"data row8 col20\" >0.701064</td>\n",
       "      <td id=\"T_0a290_row8_col21\" class=\"data row8 col21\" >0.694716</td>\n",
       "      <td id=\"T_0a290_row8_col22\" class=\"data row8 col22\" >0.758580</td>\n",
       "      <td id=\"T_0a290_row8_col23\" class=\"data row8 col23\" >0.713610</td>\n",
       "      <td id=\"T_0a290_row8_col24\" class=\"data row8 col24\" >0.735467</td>\n",
       "      <td id=\"T_0a290_row8_col25\" class=\"data row8 col25\" >0.698175</td>\n",
       "      <td id=\"T_0a290_row8_col26\" class=\"data row8 col26\" >0.566935</td>\n",
       "      <td id=\"T_0a290_row8_col27\" class=\"data row8 col27\" >0.672660</td>\n",
       "      <td id=\"T_0a290_row8_col28\" class=\"data row8 col28\" >0.531356</td>\n",
       "      <td id=\"T_0a290_row8_col29\" class=\"data row8 col29\" >0.569306</td>\n",
       "    </tr>\n",
       "    <tr>\n",
       "      <th id=\"T_0a290_level0_row9\" class=\"row_heading level0 row9\" >estimator 10</th>\n",
       "      <td id=\"T_0a290_row9_col0\" class=\"data row9 col0\" >0.702853</td>\n",
       "      <td id=\"T_0a290_row9_col1\" class=\"data row9 col1\" >0.654163</td>\n",
       "      <td id=\"T_0a290_row9_col2\" class=\"data row9 col2\" >0.675341</td>\n",
       "      <td id=\"T_0a290_row9_col3\" class=\"data row9 col3\" >0.637750</td>\n",
       "      <td id=\"T_0a290_row9_col4\" class=\"data row9 col4\" >0.631713</td>\n",
       "      <td id=\"T_0a290_row9_col5\" class=\"data row9 col5\" >0.697334</td>\n",
       "      <td id=\"T_0a290_row9_col6\" class=\"data row9 col6\" >0.664546</td>\n",
       "      <td id=\"T_0a290_row9_col7\" class=\"data row9 col7\" >0.738776</td>\n",
       "      <td id=\"T_0a290_row9_col8\" class=\"data row9 col8\" >0.610461</td>\n",
       "      <td id=\"T_0a290_row9_col9\" class=\"data row9 col9\" >1.000000</td>\n",
       "      <td id=\"T_0a290_row9_col10\" class=\"data row9 col10\" >0.726522</td>\n",
       "      <td id=\"T_0a290_row9_col11\" class=\"data row9 col11\" >0.800891</td>\n",
       "      <td id=\"T_0a290_row9_col12\" class=\"data row9 col12\" >0.813832</td>\n",
       "      <td id=\"T_0a290_row9_col13\" class=\"data row9 col13\" >0.784030</td>\n",
       "      <td id=\"T_0a290_row9_col14\" class=\"data row9 col14\" >0.761722</td>\n",
       "      <td id=\"T_0a290_row9_col15\" class=\"data row9 col15\" >0.630888</td>\n",
       "      <td id=\"T_0a290_row9_col16\" class=\"data row9 col16\" >0.583860</td>\n",
       "      <td id=\"T_0a290_row9_col17\" class=\"data row9 col17\" >0.736444</td>\n",
       "      <td id=\"T_0a290_row9_col18\" class=\"data row9 col18\" >0.745444</td>\n",
       "      <td id=\"T_0a290_row9_col19\" class=\"data row9 col19\" >0.731549</td>\n",
       "      <td id=\"T_0a290_row9_col20\" class=\"data row9 col20\" >0.764281</td>\n",
       "      <td id=\"T_0a290_row9_col21\" class=\"data row9 col21\" >0.671875</td>\n",
       "      <td id=\"T_0a290_row9_col22\" class=\"data row9 col22\" >0.738432</td>\n",
       "      <td id=\"T_0a290_row9_col23\" class=\"data row9 col23\" >0.734722</td>\n",
       "      <td id=\"T_0a290_row9_col24\" class=\"data row9 col24\" >0.665725</td>\n",
       "      <td id=\"T_0a290_row9_col25\" class=\"data row9 col25\" >0.668088</td>\n",
       "      <td id=\"T_0a290_row9_col26\" class=\"data row9 col26\" >0.648911</td>\n",
       "      <td id=\"T_0a290_row9_col27\" class=\"data row9 col27\" >0.654821</td>\n",
       "      <td id=\"T_0a290_row9_col28\" class=\"data row9 col28\" >0.507212</td>\n",
       "      <td id=\"T_0a290_row9_col29\" class=\"data row9 col29\" >0.661793</td>\n",
       "    </tr>\n",
       "    <tr>\n",
       "      <th id=\"T_0a290_level0_row10\" class=\"row_heading level0 row10\" >estimator 11</th>\n",
       "      <td id=\"T_0a290_row10_col0\" class=\"data row10 col0\" >0.762601</td>\n",
       "      <td id=\"T_0a290_row10_col1\" class=\"data row10 col1\" >0.748413</td>\n",
       "      <td id=\"T_0a290_row10_col2\" class=\"data row10 col2\" >0.619656</td>\n",
       "      <td id=\"T_0a290_row10_col3\" class=\"data row10 col3\" >0.707394</td>\n",
       "      <td id=\"T_0a290_row10_col4\" class=\"data row10 col4\" >0.665438</td>\n",
       "      <td id=\"T_0a290_row10_col5\" class=\"data row10 col5\" >0.747911</td>\n",
       "      <td id=\"T_0a290_row10_col6\" class=\"data row10 col6\" >0.648481</td>\n",
       "      <td id=\"T_0a290_row10_col7\" class=\"data row10 col7\" >0.722480</td>\n",
       "      <td id=\"T_0a290_row10_col8\" class=\"data row10 col8\" >0.735545</td>\n",
       "      <td id=\"T_0a290_row10_col9\" class=\"data row10 col9\" >0.726522</td>\n",
       "      <td id=\"T_0a290_row10_col10\" class=\"data row10 col10\" >1.000000</td>\n",
       "      <td id=\"T_0a290_row10_col11\" class=\"data row10 col11\" >0.711112</td>\n",
       "      <td id=\"T_0a290_row10_col12\" class=\"data row10 col12\" >0.840733</td>\n",
       "      <td id=\"T_0a290_row10_col13\" class=\"data row10 col13\" >0.712000</td>\n",
       "      <td id=\"T_0a290_row10_col14\" class=\"data row10 col14\" >0.784661</td>\n",
       "      <td id=\"T_0a290_row10_col15\" class=\"data row10 col15\" >0.687780</td>\n",
       "      <td id=\"T_0a290_row10_col16\" class=\"data row10 col16\" >0.713603</td>\n",
       "      <td id=\"T_0a290_row10_col17\" class=\"data row10 col17\" >0.772766</td>\n",
       "      <td id=\"T_0a290_row10_col18\" class=\"data row10 col18\" >0.765723</td>\n",
       "      <td id=\"T_0a290_row10_col19\" class=\"data row10 col19\" >0.738492</td>\n",
       "      <td id=\"T_0a290_row10_col20\" class=\"data row10 col20\" >0.763462</td>\n",
       "      <td id=\"T_0a290_row10_col21\" class=\"data row10 col21\" >0.743812</td>\n",
       "      <td id=\"T_0a290_row10_col22\" class=\"data row10 col22\" >0.813238</td>\n",
       "      <td id=\"T_0a290_row10_col23\" class=\"data row10 col23\" >0.779925</td>\n",
       "      <td id=\"T_0a290_row10_col24\" class=\"data row10 col24\" >0.726219</td>\n",
       "      <td id=\"T_0a290_row10_col25\" class=\"data row10 col25\" >0.720135</td>\n",
       "      <td id=\"T_0a290_row10_col26\" class=\"data row10 col26\" >0.617105</td>\n",
       "      <td id=\"T_0a290_row10_col27\" class=\"data row10 col27\" >0.733091</td>\n",
       "      <td id=\"T_0a290_row10_col28\" class=\"data row10 col28\" >0.569029</td>\n",
       "      <td id=\"T_0a290_row10_col29\" class=\"data row10 col29\" >0.643698</td>\n",
       "    </tr>\n",
       "    <tr>\n",
       "      <th id=\"T_0a290_level0_row11\" class=\"row_heading level0 row11\" >estimator 12</th>\n",
       "      <td id=\"T_0a290_row11_col0\" class=\"data row11 col0\" >0.791055</td>\n",
       "      <td id=\"T_0a290_row11_col1\" class=\"data row11 col1\" >0.675182</td>\n",
       "      <td id=\"T_0a290_row11_col2\" class=\"data row11 col2\" >0.671081</td>\n",
       "      <td id=\"T_0a290_row11_col3\" class=\"data row11 col3\" >0.692120</td>\n",
       "      <td id=\"T_0a290_row11_col4\" class=\"data row11 col4\" >0.712423</td>\n",
       "      <td id=\"T_0a290_row11_col5\" class=\"data row11 col5\" >0.752520</td>\n",
       "      <td id=\"T_0a290_row11_col6\" class=\"data row11 col6\" >0.739469</td>\n",
       "      <td id=\"T_0a290_row11_col7\" class=\"data row11 col7\" >0.842901</td>\n",
       "      <td id=\"T_0a290_row11_col8\" class=\"data row11 col8\" >0.662961</td>\n",
       "      <td id=\"T_0a290_row11_col9\" class=\"data row11 col9\" >0.800891</td>\n",
       "      <td id=\"T_0a290_row11_col10\" class=\"data row11 col10\" >0.711112</td>\n",
       "      <td id=\"T_0a290_row11_col11\" class=\"data row11 col11\" >1.000000</td>\n",
       "      <td id=\"T_0a290_row11_col12\" class=\"data row11 col12\" >0.783641</td>\n",
       "      <td id=\"T_0a290_row11_col13\" class=\"data row11 col13\" >0.778414</td>\n",
       "      <td id=\"T_0a290_row11_col14\" class=\"data row11 col14\" >0.858340</td>\n",
       "      <td id=\"T_0a290_row11_col15\" class=\"data row11 col15\" >0.635233</td>\n",
       "      <td id=\"T_0a290_row11_col16\" class=\"data row11 col16\" >0.599761</td>\n",
       "      <td id=\"T_0a290_row11_col17\" class=\"data row11 col17\" >0.825965</td>\n",
       "      <td id=\"T_0a290_row11_col18\" class=\"data row11 col18\" >0.850276</td>\n",
       "      <td id=\"T_0a290_row11_col19\" class=\"data row11 col19\" >0.841428</td>\n",
       "      <td id=\"T_0a290_row11_col20\" class=\"data row11 col20\" >0.861849</td>\n",
       "      <td id=\"T_0a290_row11_col21\" class=\"data row11 col21\" >0.718250</td>\n",
       "      <td id=\"T_0a290_row11_col22\" class=\"data row11 col22\" >0.812053</td>\n",
       "      <td id=\"T_0a290_row11_col23\" class=\"data row11 col23\" >0.854899</td>\n",
       "      <td id=\"T_0a290_row11_col24\" class=\"data row11 col24\" >0.687950</td>\n",
       "      <td id=\"T_0a290_row11_col25\" class=\"data row11 col25\" >0.745563</td>\n",
       "      <td id=\"T_0a290_row11_col26\" class=\"data row11 col26\" >0.678291</td>\n",
       "      <td id=\"T_0a290_row11_col27\" class=\"data row11 col27\" >0.706500</td>\n",
       "      <td id=\"T_0a290_row11_col28\" class=\"data row11 col28\" >0.472657</td>\n",
       "      <td id=\"T_0a290_row11_col29\" class=\"data row11 col29\" >0.687175</td>\n",
       "    </tr>\n",
       "    <tr>\n",
       "      <th id=\"T_0a290_level0_row12\" class=\"row_heading level0 row12\" >estimator 13</th>\n",
       "      <td id=\"T_0a290_row12_col0\" class=\"data row12 col0\" >0.737843</td>\n",
       "      <td id=\"T_0a290_row12_col1\" class=\"data row12 col1\" >0.733695</td>\n",
       "      <td id=\"T_0a290_row12_col2\" class=\"data row12 col2\" >0.627515</td>\n",
       "      <td id=\"T_0a290_row12_col3\" class=\"data row12 col3\" >0.717292</td>\n",
       "      <td id=\"T_0a290_row12_col4\" class=\"data row12 col4\" >0.658013</td>\n",
       "      <td id=\"T_0a290_row12_col5\" class=\"data row12 col5\" >0.758470</td>\n",
       "      <td id=\"T_0a290_row12_col6\" class=\"data row12 col6\" >0.675406</td>\n",
       "      <td id=\"T_0a290_row12_col7\" class=\"data row12 col7\" >0.753139</td>\n",
       "      <td id=\"T_0a290_row12_col8\" class=\"data row12 col8\" >0.674857</td>\n",
       "      <td id=\"T_0a290_row12_col9\" class=\"data row12 col9\" >0.813832</td>\n",
       "      <td id=\"T_0a290_row12_col10\" class=\"data row12 col10\" >0.840733</td>\n",
       "      <td id=\"T_0a290_row12_col11\" class=\"data row12 col11\" >0.783641</td>\n",
       "      <td id=\"T_0a290_row12_col12\" class=\"data row12 col12\" >1.000000</td>\n",
       "      <td id=\"T_0a290_row12_col13\" class=\"data row12 col13\" >0.739458</td>\n",
       "      <td id=\"T_0a290_row12_col14\" class=\"data row12 col14\" >0.803241</td>\n",
       "      <td id=\"T_0a290_row12_col15\" class=\"data row12 col15\" >0.692937</td>\n",
       "      <td id=\"T_0a290_row12_col16\" class=\"data row12 col16\" >0.679001</td>\n",
       "      <td id=\"T_0a290_row12_col17\" class=\"data row12 col17\" >0.784969</td>\n",
       "      <td id=\"T_0a290_row12_col18\" class=\"data row12 col18\" >0.787853</td>\n",
       "      <td id=\"T_0a290_row12_col19\" class=\"data row12 col19\" >0.750830</td>\n",
       "      <td id=\"T_0a290_row12_col20\" class=\"data row12 col20\" >0.820213</td>\n",
       "      <td id=\"T_0a290_row12_col21\" class=\"data row12 col21\" >0.758444</td>\n",
       "      <td id=\"T_0a290_row12_col22\" class=\"data row12 col22\" >0.782476</td>\n",
       "      <td id=\"T_0a290_row12_col23\" class=\"data row12 col23\" >0.769405</td>\n",
       "      <td id=\"T_0a290_row12_col24\" class=\"data row12 col24\" >0.735841</td>\n",
       "      <td id=\"T_0a290_row12_col25\" class=\"data row12 col25\" >0.732592</td>\n",
       "      <td id=\"T_0a290_row12_col26\" class=\"data row12 col26\" >0.635379</td>\n",
       "      <td id=\"T_0a290_row12_col27\" class=\"data row12 col27\" >0.736868</td>\n",
       "      <td id=\"T_0a290_row12_col28\" class=\"data row12 col28\" >0.600417</td>\n",
       "      <td id=\"T_0a290_row12_col29\" class=\"data row12 col29\" >0.642789</td>\n",
       "    </tr>\n",
       "    <tr>\n",
       "      <th id=\"T_0a290_level0_row13\" class=\"row_heading level0 row13\" >estimator 14</th>\n",
       "      <td id=\"T_0a290_row13_col0\" class=\"data row13 col0\" >0.761883</td>\n",
       "      <td id=\"T_0a290_row13_col1\" class=\"data row13 col1\" >0.730739</td>\n",
       "      <td id=\"T_0a290_row13_col2\" class=\"data row13 col2\" >0.793788</td>\n",
       "      <td id=\"T_0a290_row13_col3\" class=\"data row13 col3\" >0.708284</td>\n",
       "      <td id=\"T_0a290_row13_col4\" class=\"data row13 col4\" >0.737153</td>\n",
       "      <td id=\"T_0a290_row13_col5\" class=\"data row13 col5\" >0.763659</td>\n",
       "      <td id=\"T_0a290_row13_col6\" class=\"data row13 col6\" >0.765972</td>\n",
       "      <td id=\"T_0a290_row13_col7\" class=\"data row13 col7\" >0.805062</td>\n",
       "      <td id=\"T_0a290_row13_col8\" class=\"data row13 col8\" >0.695414</td>\n",
       "      <td id=\"T_0a290_row13_col9\" class=\"data row13 col9\" >0.784030</td>\n",
       "      <td id=\"T_0a290_row13_col10\" class=\"data row13 col10\" >0.712000</td>\n",
       "      <td id=\"T_0a290_row13_col11\" class=\"data row13 col11\" >0.778414</td>\n",
       "      <td id=\"T_0a290_row13_col12\" class=\"data row13 col12\" >0.739458</td>\n",
       "      <td id=\"T_0a290_row13_col13\" class=\"data row13 col13\" >1.000000</td>\n",
       "      <td id=\"T_0a290_row13_col14\" class=\"data row13 col14\" >0.851737</td>\n",
       "      <td id=\"T_0a290_row13_col15\" class=\"data row13 col15\" >0.606024</td>\n",
       "      <td id=\"T_0a290_row13_col16\" class=\"data row13 col16\" >0.622296</td>\n",
       "      <td id=\"T_0a290_row13_col17\" class=\"data row13 col17\" >0.875356</td>\n",
       "      <td id=\"T_0a290_row13_col18\" class=\"data row13 col18\" >0.853192</td>\n",
       "      <td id=\"T_0a290_row13_col19\" class=\"data row13 col19\" >0.834766</td>\n",
       "      <td id=\"T_0a290_row13_col20\" class=\"data row13 col20\" >0.782294</td>\n",
       "      <td id=\"T_0a290_row13_col21\" class=\"data row13 col21\" >0.739862</td>\n",
       "      <td id=\"T_0a290_row13_col22\" class=\"data row13 col22\" >0.790470</td>\n",
       "      <td id=\"T_0a290_row13_col23\" class=\"data row13 col23\" >0.842255</td>\n",
       "      <td id=\"T_0a290_row13_col24\" class=\"data row13 col24\" >0.643318</td>\n",
       "      <td id=\"T_0a290_row13_col25\" class=\"data row13 col25\" >0.736769</td>\n",
       "      <td id=\"T_0a290_row13_col26\" class=\"data row13 col26\" >0.656661</td>\n",
       "      <td id=\"T_0a290_row13_col27\" class=\"data row13 col27\" >0.733796</td>\n",
       "      <td id=\"T_0a290_row13_col28\" class=\"data row13 col28\" >0.492191</td>\n",
       "      <td id=\"T_0a290_row13_col29\" class=\"data row13 col29\" >0.648768</td>\n",
       "    </tr>\n",
       "    <tr>\n",
       "      <th id=\"T_0a290_level0_row14\" class=\"row_heading level0 row14\" >estimator 15</th>\n",
       "      <td id=\"T_0a290_row14_col0\" class=\"data row14 col0\" >0.827109</td>\n",
       "      <td id=\"T_0a290_row14_col1\" class=\"data row14 col1\" >0.748345</td>\n",
       "      <td id=\"T_0a290_row14_col2\" class=\"data row14 col2\" >0.729773</td>\n",
       "      <td id=\"T_0a290_row14_col3\" class=\"data row14 col3\" >0.733438</td>\n",
       "      <td id=\"T_0a290_row14_col4\" class=\"data row14 col4\" >0.780757</td>\n",
       "      <td id=\"T_0a290_row14_col5\" class=\"data row14 col5\" >0.802921</td>\n",
       "      <td id=\"T_0a290_row14_col6\" class=\"data row14 col6\" >0.787558</td>\n",
       "      <td id=\"T_0a290_row14_col7\" class=\"data row14 col7\" >0.855552</td>\n",
       "      <td id=\"T_0a290_row14_col8\" class=\"data row14 col8\" >0.742420</td>\n",
       "      <td id=\"T_0a290_row14_col9\" class=\"data row14 col9\" >0.761722</td>\n",
       "      <td id=\"T_0a290_row14_col10\" class=\"data row14 col10\" >0.784661</td>\n",
       "      <td id=\"T_0a290_row14_col11\" class=\"data row14 col11\" >0.858340</td>\n",
       "      <td id=\"T_0a290_row14_col12\" class=\"data row14 col12\" >0.803241</td>\n",
       "      <td id=\"T_0a290_row14_col13\" class=\"data row14 col13\" >0.851737</td>\n",
       "      <td id=\"T_0a290_row14_col14\" class=\"data row14 col14\" >1.000000</td>\n",
       "      <td id=\"T_0a290_row14_col15\" class=\"data row14 col15\" >0.666906</td>\n",
       "      <td id=\"T_0a290_row14_col16\" class=\"data row14 col16\" >0.654687</td>\n",
       "      <td id=\"T_0a290_row14_col17\" class=\"data row14 col17\" >0.914279</td>\n",
       "      <td id=\"T_0a290_row14_col18\" class=\"data row14 col18\" >0.917644</td>\n",
       "      <td id=\"T_0a290_row14_col19\" class=\"data row14 col19\" >0.885108</td>\n",
       "      <td id=\"T_0a290_row14_col20\" class=\"data row14 col20\" >0.878996</td>\n",
       "      <td id=\"T_0a290_row14_col21\" class=\"data row14 col21\" >0.770278</td>\n",
       "      <td id=\"T_0a290_row14_col22\" class=\"data row14 col22\" >0.875414</td>\n",
       "      <td id=\"T_0a290_row14_col23\" class=\"data row14 col23\" >0.913919</td>\n",
       "      <td id=\"T_0a290_row14_col24\" class=\"data row14 col24\" >0.687962</td>\n",
       "      <td id=\"T_0a290_row14_col25\" class=\"data row14 col25\" >0.769594</td>\n",
       "      <td id=\"T_0a290_row14_col26\" class=\"data row14 col26\" >0.679836</td>\n",
       "      <td id=\"T_0a290_row14_col27\" class=\"data row14 col27\" >0.766024</td>\n",
       "      <td id=\"T_0a290_row14_col28\" class=\"data row14 col28\" >0.511810</td>\n",
       "      <td id=\"T_0a290_row14_col29\" class=\"data row14 col29\" >0.660534</td>\n",
       "    </tr>\n",
       "    <tr>\n",
       "      <th id=\"T_0a290_level0_row15\" class=\"row_heading level0 row15\" >estimator 16</th>\n",
       "      <td id=\"T_0a290_row15_col0\" class=\"data row15 col0\" >0.667314</td>\n",
       "      <td id=\"T_0a290_row15_col1\" class=\"data row15 col1\" >0.679270</td>\n",
       "      <td id=\"T_0a290_row15_col2\" class=\"data row15 col2\" >0.556991</td>\n",
       "      <td id=\"T_0a290_row15_col3\" class=\"data row15 col3\" >0.703663</td>\n",
       "      <td id=\"T_0a290_row15_col4\" class=\"data row15 col4\" >0.588423</td>\n",
       "      <td id=\"T_0a290_row15_col5\" class=\"data row15 col5\" >0.721356</td>\n",
       "      <td id=\"T_0a290_row15_col6\" class=\"data row15 col6\" >0.560947</td>\n",
       "      <td id=\"T_0a290_row15_col7\" class=\"data row15 col7\" >0.664806</td>\n",
       "      <td id=\"T_0a290_row15_col8\" class=\"data row15 col8\" >0.579166</td>\n",
       "      <td id=\"T_0a290_row15_col9\" class=\"data row15 col9\" >0.630888</td>\n",
       "      <td id=\"T_0a290_row15_col10\" class=\"data row15 col10\" >0.687780</td>\n",
       "      <td id=\"T_0a290_row15_col11\" class=\"data row15 col11\" >0.635233</td>\n",
       "      <td id=\"T_0a290_row15_col12\" class=\"data row15 col12\" >0.692937</td>\n",
       "      <td id=\"T_0a290_row15_col13\" class=\"data row15 col13\" >0.606024</td>\n",
       "      <td id=\"T_0a290_row15_col14\" class=\"data row15 col14\" >0.666906</td>\n",
       "      <td id=\"T_0a290_row15_col15\" class=\"data row15 col15\" >1.000000</td>\n",
       "      <td id=\"T_0a290_row15_col16\" class=\"data row15 col16\" >0.576652</td>\n",
       "      <td id=\"T_0a290_row15_col17\" class=\"data row15 col17\" >0.641107</td>\n",
       "      <td id=\"T_0a290_row15_col18\" class=\"data row15 col18\" >0.656508</td>\n",
       "      <td id=\"T_0a290_row15_col19\" class=\"data row15 col19\" >0.640324</td>\n",
       "      <td id=\"T_0a290_row15_col20\" class=\"data row15 col20\" >0.696080</td>\n",
       "      <td id=\"T_0a290_row15_col21\" class=\"data row15 col21\" >0.721244</td>\n",
       "      <td id=\"T_0a290_row15_col22\" class=\"data row15 col22\" >0.745831</td>\n",
       "      <td id=\"T_0a290_row15_col23\" class=\"data row15 col23\" >0.658126</td>\n",
       "      <td id=\"T_0a290_row15_col24\" class=\"data row15 col24\" >0.618312</td>\n",
       "      <td id=\"T_0a290_row15_col25\" class=\"data row15 col25\" >0.648663</td>\n",
       "      <td id=\"T_0a290_row15_col26\" class=\"data row15 col26\" >0.612620</td>\n",
       "      <td id=\"T_0a290_row15_col27\" class=\"data row15 col27\" >0.710456</td>\n",
       "      <td id=\"T_0a290_row15_col28\" class=\"data row15 col28\" >0.648265</td>\n",
       "      <td id=\"T_0a290_row15_col29\" class=\"data row15 col29\" >0.603252</td>\n",
       "    </tr>\n",
       "    <tr>\n",
       "      <th id=\"T_0a290_level0_row16\" class=\"row_heading level0 row16\" >estimator 17</th>\n",
       "      <td id=\"T_0a290_row16_col0\" class=\"data row16 col0\" >0.637694</td>\n",
       "      <td id=\"T_0a290_row16_col1\" class=\"data row16 col1\" >0.675304</td>\n",
       "      <td id=\"T_0a290_row16_col2\" class=\"data row16 col2\" >0.567966</td>\n",
       "      <td id=\"T_0a290_row16_col3\" class=\"data row16 col3\" >0.673364</td>\n",
       "      <td id=\"T_0a290_row16_col4\" class=\"data row16 col4\" >0.559180</td>\n",
       "      <td id=\"T_0a290_row16_col5\" class=\"data row16 col5\" >0.715605</td>\n",
       "      <td id=\"T_0a290_row16_col6\" class=\"data row16 col6\" >0.579253</td>\n",
       "      <td id=\"T_0a290_row16_col7\" class=\"data row16 col7\" >0.644283</td>\n",
       "      <td id=\"T_0a290_row16_col8\" class=\"data row16 col8\" >0.759680</td>\n",
       "      <td id=\"T_0a290_row16_col9\" class=\"data row16 col9\" >0.583860</td>\n",
       "      <td id=\"T_0a290_row16_col10\" class=\"data row16 col10\" >0.713603</td>\n",
       "      <td id=\"T_0a290_row16_col11\" class=\"data row16 col11\" >0.599761</td>\n",
       "      <td id=\"T_0a290_row16_col12\" class=\"data row16 col12\" >0.679001</td>\n",
       "      <td id=\"T_0a290_row16_col13\" class=\"data row16 col13\" >0.622296</td>\n",
       "      <td id=\"T_0a290_row16_col14\" class=\"data row16 col14\" >0.654687</td>\n",
       "      <td id=\"T_0a290_row16_col15\" class=\"data row16 col15\" >0.576652</td>\n",
       "      <td id=\"T_0a290_row16_col16\" class=\"data row16 col16\" >1.000000</td>\n",
       "      <td id=\"T_0a290_row16_col17\" class=\"data row16 col17\" >0.667563</td>\n",
       "      <td id=\"T_0a290_row16_col18\" class=\"data row16 col18\" >0.641732</td>\n",
       "      <td id=\"T_0a290_row16_col19\" class=\"data row16 col19\" >0.619429</td>\n",
       "      <td id=\"T_0a290_row16_col20\" class=\"data row16 col20\" >0.646064</td>\n",
       "      <td id=\"T_0a290_row16_col21\" class=\"data row16 col21\" >0.682315</td>\n",
       "      <td id=\"T_0a290_row16_col22\" class=\"data row16 col22\" >0.709696</td>\n",
       "      <td id=\"T_0a290_row16_col23\" class=\"data row16 col23\" >0.635182</td>\n",
       "      <td id=\"T_0a290_row16_col24\" class=\"data row16 col24\" >0.702371</td>\n",
       "      <td id=\"T_0a290_row16_col25\" class=\"data row16 col25\" >0.655623</td>\n",
       "      <td id=\"T_0a290_row16_col26\" class=\"data row16 col26\" >0.551625</td>\n",
       "      <td id=\"T_0a290_row16_col27\" class=\"data row16 col27\" >0.731591</td>\n",
       "      <td id=\"T_0a290_row16_col28\" class=\"data row16 col28\" >0.506194</td>\n",
       "      <td id=\"T_0a290_row16_col29\" class=\"data row16 col29\" >0.527581</td>\n",
       "    </tr>\n",
       "    <tr>\n",
       "      <th id=\"T_0a290_level0_row17\" class=\"row_heading level0 row17\" >estimator 18</th>\n",
       "      <td id=\"T_0a290_row17_col0\" class=\"data row17 col0\" >0.817590</td>\n",
       "      <td id=\"T_0a290_row17_col1\" class=\"data row17 col1\" >0.776070</td>\n",
       "      <td id=\"T_0a290_row17_col2\" class=\"data row17 col2\" >0.735443</td>\n",
       "      <td id=\"T_0a290_row17_col3\" class=\"data row17 col3\" >0.742511</td>\n",
       "      <td id=\"T_0a290_row17_col4\" class=\"data row17 col4\" >0.788726</td>\n",
       "      <td id=\"T_0a290_row17_col5\" class=\"data row17 col5\" >0.816596</td>\n",
       "      <td id=\"T_0a290_row17_col6\" class=\"data row17 col6\" >0.816127</td>\n",
       "      <td id=\"T_0a290_row17_col7\" class=\"data row17 col7\" >0.835234</td>\n",
       "      <td id=\"T_0a290_row17_col8\" class=\"data row17 col8\" >0.746422</td>\n",
       "      <td id=\"T_0a290_row17_col9\" class=\"data row17 col9\" >0.736444</td>\n",
       "      <td id=\"T_0a290_row17_col10\" class=\"data row17 col10\" >0.772766</td>\n",
       "      <td id=\"T_0a290_row17_col11\" class=\"data row17 col11\" >0.825965</td>\n",
       "      <td id=\"T_0a290_row17_col12\" class=\"data row17 col12\" >0.784969</td>\n",
       "      <td id=\"T_0a290_row17_col13\" class=\"data row17 col13\" >0.875356</td>\n",
       "      <td id=\"T_0a290_row17_col14\" class=\"data row17 col14\" >0.914279</td>\n",
       "      <td id=\"T_0a290_row17_col15\" class=\"data row17 col15\" >0.641107</td>\n",
       "      <td id=\"T_0a290_row17_col16\" class=\"data row17 col16\" >0.667563</td>\n",
       "      <td id=\"T_0a290_row17_col17\" class=\"data row17 col17\" >1.000000</td>\n",
       "      <td id=\"T_0a290_row17_col18\" class=\"data row17 col18\" >0.917853</td>\n",
       "      <td id=\"T_0a290_row17_col19\" class=\"data row17 col19\" >0.873269</td>\n",
       "      <td id=\"T_0a290_row17_col20\" class=\"data row17 col20\" >0.835368</td>\n",
       "      <td id=\"T_0a290_row17_col21\" class=\"data row17 col21\" >0.794640</td>\n",
       "      <td id=\"T_0a290_row17_col22\" class=\"data row17 col22\" >0.843574</td>\n",
       "      <td id=\"T_0a290_row17_col23\" class=\"data row17 col23\" >0.898536</td>\n",
       "      <td id=\"T_0a290_row17_col24\" class=\"data row17 col24\" >0.689866</td>\n",
       "      <td id=\"T_0a290_row17_col25\" class=\"data row17 col25\" >0.774625</td>\n",
       "      <td id=\"T_0a290_row17_col26\" class=\"data row17 col26\" >0.648883</td>\n",
       "      <td id=\"T_0a290_row17_col27\" class=\"data row17 col27\" >0.780343</td>\n",
       "      <td id=\"T_0a290_row17_col28\" class=\"data row17 col28\" >0.522340</td>\n",
       "      <td id=\"T_0a290_row17_col29\" class=\"data row17 col29\" >0.647020</td>\n",
       "    </tr>\n",
       "    <tr>\n",
       "      <th id=\"T_0a290_level0_row18\" class=\"row_heading level0 row18\" >estimator 19</th>\n",
       "      <td id=\"T_0a290_row18_col0\" class=\"data row18 col0\" >0.803936</td>\n",
       "      <td id=\"T_0a290_row18_col1\" class=\"data row18 col1\" >0.745753</td>\n",
       "      <td id=\"T_0a290_row18_col2\" class=\"data row18 col2\" >0.728462</td>\n",
       "      <td id=\"T_0a290_row18_col3\" class=\"data row18 col3\" >0.739288</td>\n",
       "      <td id=\"T_0a290_row18_col4\" class=\"data row18 col4\" >0.779186</td>\n",
       "      <td id=\"T_0a290_row18_col5\" class=\"data row18 col5\" >0.791811</td>\n",
       "      <td id=\"T_0a290_row18_col6\" class=\"data row18 col6\" >0.774563</td>\n",
       "      <td id=\"T_0a290_row18_col7\" class=\"data row18 col7\" >0.874222</td>\n",
       "      <td id=\"T_0a290_row18_col8\" class=\"data row18 col8\" >0.722034</td>\n",
       "      <td id=\"T_0a290_row18_col9\" class=\"data row18 col9\" >0.745444</td>\n",
       "      <td id=\"T_0a290_row18_col10\" class=\"data row18 col10\" >0.765723</td>\n",
       "      <td id=\"T_0a290_row18_col11\" class=\"data row18 col11\" >0.850276</td>\n",
       "      <td id=\"T_0a290_row18_col12\" class=\"data row18 col12\" >0.787853</td>\n",
       "      <td id=\"T_0a290_row18_col13\" class=\"data row18 col13\" >0.853192</td>\n",
       "      <td id=\"T_0a290_row18_col14\" class=\"data row18 col14\" >0.917644</td>\n",
       "      <td id=\"T_0a290_row18_col15\" class=\"data row18 col15\" >0.656508</td>\n",
       "      <td id=\"T_0a290_row18_col16\" class=\"data row18 col16\" >0.641732</td>\n",
       "      <td id=\"T_0a290_row18_col17\" class=\"data row18 col17\" >0.917853</td>\n",
       "      <td id=\"T_0a290_row18_col18\" class=\"data row18 col18\" >1.000000</td>\n",
       "      <td id=\"T_0a290_row18_col19\" class=\"data row18 col19\" >0.900546</td>\n",
       "      <td id=\"T_0a290_row18_col20\" class=\"data row18 col20\" >0.851263</td>\n",
       "      <td id=\"T_0a290_row18_col21\" class=\"data row18 col21\" >0.783215</td>\n",
       "      <td id=\"T_0a290_row18_col22\" class=\"data row18 col22\" >0.852866</td>\n",
       "      <td id=\"T_0a290_row18_col23\" class=\"data row18 col23\" >0.925119</td>\n",
       "      <td id=\"T_0a290_row18_col24\" class=\"data row18 col24\" >0.670431</td>\n",
       "      <td id=\"T_0a290_row18_col25\" class=\"data row18 col25\" >0.763596</td>\n",
       "      <td id=\"T_0a290_row18_col26\" class=\"data row18 col26\" >0.677592</td>\n",
       "      <td id=\"T_0a290_row18_col27\" class=\"data row18 col27\" >0.759116</td>\n",
       "      <td id=\"T_0a290_row18_col28\" class=\"data row18 col28\" >0.520612</td>\n",
       "      <td id=\"T_0a290_row18_col29\" class=\"data row18 col29\" >0.653270</td>\n",
       "    </tr>\n",
       "    <tr>\n",
       "      <th id=\"T_0a290_level0_row19\" class=\"row_heading level0 row19\" >estimator 20</th>\n",
       "      <td id=\"T_0a290_row19_col0\" class=\"data row19 col0\" >0.801408</td>\n",
       "      <td id=\"T_0a290_row19_col1\" class=\"data row19 col1\" >0.715204</td>\n",
       "      <td id=\"T_0a290_row19_col2\" class=\"data row19 col2\" >0.731330</td>\n",
       "      <td id=\"T_0a290_row19_col3\" class=\"data row19 col3\" >0.717913</td>\n",
       "      <td id=\"T_0a290_row19_col4\" class=\"data row19 col4\" >0.752860</td>\n",
       "      <td id=\"T_0a290_row19_col5\" class=\"data row19 col5\" >0.751898</td>\n",
       "      <td id=\"T_0a290_row19_col6\" class=\"data row19 col6\" >0.755289</td>\n",
       "      <td id=\"T_0a290_row19_col7\" class=\"data row19 col7\" >0.850676</td>\n",
       "      <td id=\"T_0a290_row19_col8\" class=\"data row19 col8\" >0.684666</td>\n",
       "      <td id=\"T_0a290_row19_col9\" class=\"data row19 col9\" >0.731549</td>\n",
       "      <td id=\"T_0a290_row19_col10\" class=\"data row19 col10\" >0.738492</td>\n",
       "      <td id=\"T_0a290_row19_col11\" class=\"data row19 col11\" >0.841428</td>\n",
       "      <td id=\"T_0a290_row19_col12\" class=\"data row19 col12\" >0.750830</td>\n",
       "      <td id=\"T_0a290_row19_col13\" class=\"data row19 col13\" >0.834766</td>\n",
       "      <td id=\"T_0a290_row19_col14\" class=\"data row19 col14\" >0.885108</td>\n",
       "      <td id=\"T_0a290_row19_col15\" class=\"data row19 col15\" >0.640324</td>\n",
       "      <td id=\"T_0a290_row19_col16\" class=\"data row19 col16\" >0.619429</td>\n",
       "      <td id=\"T_0a290_row19_col17\" class=\"data row19 col17\" >0.873269</td>\n",
       "      <td id=\"T_0a290_row19_col18\" class=\"data row19 col18\" >0.900546</td>\n",
       "      <td id=\"T_0a290_row19_col19\" class=\"data row19 col19\" >1.000000</td>\n",
       "      <td id=\"T_0a290_row19_col20\" class=\"data row19 col20\" >0.830600</td>\n",
       "      <td id=\"T_0a290_row19_col21\" class=\"data row19 col21\" >0.739258</td>\n",
       "      <td id=\"T_0a290_row19_col22\" class=\"data row19 col22\" >0.833741</td>\n",
       "      <td id=\"T_0a290_row19_col23\" class=\"data row19 col23\" >0.922157</td>\n",
       "      <td id=\"T_0a290_row19_col24\" class=\"data row19 col24\" >0.634792</td>\n",
       "      <td id=\"T_0a290_row19_col25\" class=\"data row19 col25\" >0.721734</td>\n",
       "      <td id=\"T_0a290_row19_col26\" class=\"data row19 col26\" >0.671932</td>\n",
       "      <td id=\"T_0a290_row19_col27\" class=\"data row19 col27\" >0.714510</td>\n",
       "      <td id=\"T_0a290_row19_col28\" class=\"data row19 col28\" >0.491665</td>\n",
       "      <td id=\"T_0a290_row19_col29\" class=\"data row19 col29\" >0.625223</td>\n",
       "    </tr>\n",
       "    <tr>\n",
       "      <th id=\"T_0a290_level0_row20\" class=\"row_heading level0 row20\" >estimator 21</th>\n",
       "      <td id=\"T_0a290_row20_col0\" class=\"data row20 col0\" >0.832655</td>\n",
       "      <td id=\"T_0a290_row20_col1\" class=\"data row20 col1\" >0.697485</td>\n",
       "      <td id=\"T_0a290_row20_col2\" class=\"data row20 col2\" >0.679164</td>\n",
       "      <td id=\"T_0a290_row20_col3\" class=\"data row20 col3\" >0.716575</td>\n",
       "      <td id=\"T_0a290_row20_col4\" class=\"data row20 col4\" >0.714650</td>\n",
       "      <td id=\"T_0a290_row20_col5\" class=\"data row20 col5\" >0.795856</td>\n",
       "      <td id=\"T_0a290_row20_col6\" class=\"data row20 col6\" >0.727649</td>\n",
       "      <td id=\"T_0a290_row20_col7\" class=\"data row20 col7\" >0.840096</td>\n",
       "      <td id=\"T_0a290_row20_col8\" class=\"data row20 col8\" >0.701064</td>\n",
       "      <td id=\"T_0a290_row20_col9\" class=\"data row20 col9\" >0.764281</td>\n",
       "      <td id=\"T_0a290_row20_col10\" class=\"data row20 col10\" >0.763462</td>\n",
       "      <td id=\"T_0a290_row20_col11\" class=\"data row20 col11\" >0.861849</td>\n",
       "      <td id=\"T_0a290_row20_col12\" class=\"data row20 col12\" >0.820213</td>\n",
       "      <td id=\"T_0a290_row20_col13\" class=\"data row20 col13\" >0.782294</td>\n",
       "      <td id=\"T_0a290_row20_col14\" class=\"data row20 col14\" >0.878996</td>\n",
       "      <td id=\"T_0a290_row20_col15\" class=\"data row20 col15\" >0.696080</td>\n",
       "      <td id=\"T_0a290_row20_col16\" class=\"data row20 col16\" >0.646064</td>\n",
       "      <td id=\"T_0a290_row20_col17\" class=\"data row20 col17\" >0.835368</td>\n",
       "      <td id=\"T_0a290_row20_col18\" class=\"data row20 col18\" >0.851263</td>\n",
       "      <td id=\"T_0a290_row20_col19\" class=\"data row20 col19\" >0.830600</td>\n",
       "      <td id=\"T_0a290_row20_col20\" class=\"data row20 col20\" >1.000000</td>\n",
       "      <td id=\"T_0a290_row20_col21\" class=\"data row20 col21\" >0.717286</td>\n",
       "      <td id=\"T_0a290_row20_col22\" class=\"data row20 col22\" >0.866764</td>\n",
       "      <td id=\"T_0a290_row20_col23\" class=\"data row20 col23\" >0.851754</td>\n",
       "      <td id=\"T_0a290_row20_col24\" class=\"data row20 col24\" >0.713845</td>\n",
       "      <td id=\"T_0a290_row20_col25\" class=\"data row20 col25\" >0.785883</td>\n",
       "      <td id=\"T_0a290_row20_col26\" class=\"data row20 col26\" >0.691897</td>\n",
       "      <td id=\"T_0a290_row20_col27\" class=\"data row20 col27\" >0.726400</td>\n",
       "      <td id=\"T_0a290_row20_col28\" class=\"data row20 col28\" >0.483650</td>\n",
       "      <td id=\"T_0a290_row20_col29\" class=\"data row20 col29\" >0.667145</td>\n",
       "    </tr>\n",
       "    <tr>\n",
       "      <th id=\"T_0a290_level0_row21\" class=\"row_heading level0 row21\" >estimator 22</th>\n",
       "      <td id=\"T_0a290_row21_col0\" class=\"data row21 col0\" >0.777187</td>\n",
       "      <td id=\"T_0a290_row21_col1\" class=\"data row21 col1\" >0.889141</td>\n",
       "      <td id=\"T_0a290_row21_col2\" class=\"data row21 col2\" >0.640260</td>\n",
       "      <td id=\"T_0a290_row21_col3\" class=\"data row21 col3\" >0.868082</td>\n",
       "      <td id=\"T_0a290_row21_col4\" class=\"data row21 col4\" >0.717102</td>\n",
       "      <td id=\"T_0a290_row21_col5\" class=\"data row21 col5\" >0.847871</td>\n",
       "      <td id=\"T_0a290_row21_col6\" class=\"data row21 col6\" >0.706195</td>\n",
       "      <td id=\"T_0a290_row21_col7\" class=\"data row21 col7\" >0.732158</td>\n",
       "      <td id=\"T_0a290_row21_col8\" class=\"data row21 col8\" >0.694716</td>\n",
       "      <td id=\"T_0a290_row21_col9\" class=\"data row21 col9\" >0.671875</td>\n",
       "      <td id=\"T_0a290_row21_col10\" class=\"data row21 col10\" >0.743812</td>\n",
       "      <td id=\"T_0a290_row21_col11\" class=\"data row21 col11\" >0.718250</td>\n",
       "      <td id=\"T_0a290_row21_col12\" class=\"data row21 col12\" >0.758444</td>\n",
       "      <td id=\"T_0a290_row21_col13\" class=\"data row21 col13\" >0.739862</td>\n",
       "      <td id=\"T_0a290_row21_col14\" class=\"data row21 col14\" >0.770278</td>\n",
       "      <td id=\"T_0a290_row21_col15\" class=\"data row21 col15\" >0.721244</td>\n",
       "      <td id=\"T_0a290_row21_col16\" class=\"data row21 col16\" >0.682315</td>\n",
       "      <td id=\"T_0a290_row21_col17\" class=\"data row21 col17\" >0.794640</td>\n",
       "      <td id=\"T_0a290_row21_col18\" class=\"data row21 col18\" >0.783215</td>\n",
       "      <td id=\"T_0a290_row21_col19\" class=\"data row21 col19\" >0.739258</td>\n",
       "      <td id=\"T_0a290_row21_col20\" class=\"data row21 col20\" >0.717286</td>\n",
       "      <td id=\"T_0a290_row21_col21\" class=\"data row21 col21\" >1.000000</td>\n",
       "      <td id=\"T_0a290_row21_col22\" class=\"data row21 col22\" >0.796005</td>\n",
       "      <td id=\"T_0a290_row21_col23\" class=\"data row21 col23\" >0.765455</td>\n",
       "      <td id=\"T_0a290_row21_col24\" class=\"data row21 col24\" >0.699137</td>\n",
       "      <td id=\"T_0a290_row21_col25\" class=\"data row21 col25\" >0.756473</td>\n",
       "      <td id=\"T_0a290_row21_col26\" class=\"data row21 col26\" >0.669981</td>\n",
       "      <td id=\"T_0a290_row21_col27\" class=\"data row21 col27\" >0.865545</td>\n",
       "      <td id=\"T_0a290_row21_col28\" class=\"data row21 col28\" >0.627895</td>\n",
       "      <td id=\"T_0a290_row21_col29\" class=\"data row21 col29\" >0.660604</td>\n",
       "    </tr>\n",
       "    <tr>\n",
       "      <th id=\"T_0a290_level0_row22\" class=\"row_heading level0 row22\" >estimator 23</th>\n",
       "      <td id=\"T_0a290_row22_col0\" class=\"data row22 col0\" >0.836266</td>\n",
       "      <td id=\"T_0a290_row22_col1\" class=\"data row22 col1\" >0.789125</td>\n",
       "      <td id=\"T_0a290_row22_col2\" class=\"data row22 col2\" >0.711540</td>\n",
       "      <td id=\"T_0a290_row22_col3\" class=\"data row22 col3\" >0.793180</td>\n",
       "      <td id=\"T_0a290_row22_col4\" class=\"data row22 col4\" >0.738355</td>\n",
       "      <td id=\"T_0a290_row22_col5\" class=\"data row22 col5\" >0.884944</td>\n",
       "      <td id=\"T_0a290_row22_col6\" class=\"data row22 col6\" >0.730100</td>\n",
       "      <td id=\"T_0a290_row22_col7\" class=\"data row22 col7\" >0.851017</td>\n",
       "      <td id=\"T_0a290_row22_col8\" class=\"data row22 col8\" >0.758580</td>\n",
       "      <td id=\"T_0a290_row22_col9\" class=\"data row22 col9\" >0.738432</td>\n",
       "      <td id=\"T_0a290_row22_col10\" class=\"data row22 col10\" >0.813238</td>\n",
       "      <td id=\"T_0a290_row22_col11\" class=\"data row22 col11\" >0.812053</td>\n",
       "      <td id=\"T_0a290_row22_col12\" class=\"data row22 col12\" >0.782476</td>\n",
       "      <td id=\"T_0a290_row22_col13\" class=\"data row22 col13\" >0.790470</td>\n",
       "      <td id=\"T_0a290_row22_col14\" class=\"data row22 col14\" >0.875414</td>\n",
       "      <td id=\"T_0a290_row22_col15\" class=\"data row22 col15\" >0.745831</td>\n",
       "      <td id=\"T_0a290_row22_col16\" class=\"data row22 col16\" >0.709696</td>\n",
       "      <td id=\"T_0a290_row22_col17\" class=\"data row22 col17\" >0.843574</td>\n",
       "      <td id=\"T_0a290_row22_col18\" class=\"data row22 col18\" >0.852866</td>\n",
       "      <td id=\"T_0a290_row22_col19\" class=\"data row22 col19\" >0.833741</td>\n",
       "      <td id=\"T_0a290_row22_col20\" class=\"data row22 col20\" >0.866764</td>\n",
       "      <td id=\"T_0a290_row22_col21\" class=\"data row22 col21\" >0.796005</td>\n",
       "      <td id=\"T_0a290_row22_col22\" class=\"data row22 col22\" >1.000000</td>\n",
       "      <td id=\"T_0a290_row22_col23\" class=\"data row22 col23\" >0.874569</td>\n",
       "      <td id=\"T_0a290_row22_col24\" class=\"data row22 col24\" >0.755593</td>\n",
       "      <td id=\"T_0a290_row22_col25\" class=\"data row22 col25\" >0.836469</td>\n",
       "      <td id=\"T_0a290_row22_col26\" class=\"data row22 col26\" >0.731976</td>\n",
       "      <td id=\"T_0a290_row22_col27\" class=\"data row22 col27\" >0.786319</td>\n",
       "      <td id=\"T_0a290_row22_col28\" class=\"data row22 col28\" >0.522749</td>\n",
       "      <td id=\"T_0a290_row22_col29\" class=\"data row22 col29\" >0.692722</td>\n",
       "    </tr>\n",
       "    <tr>\n",
       "      <th id=\"T_0a290_level0_row23\" class=\"row_heading level0 row23\" >estimator 24</th>\n",
       "      <td id=\"T_0a290_row23_col0\" class=\"data row23 col0\" >0.814630</td>\n",
       "      <td id=\"T_0a290_row23_col1\" class=\"data row23 col1\" >0.757593</td>\n",
       "      <td id=\"T_0a290_row23_col2\" class=\"data row23 col2\" >0.731272</td>\n",
       "      <td id=\"T_0a290_row23_col3\" class=\"data row23 col3\" >0.750296</td>\n",
       "      <td id=\"T_0a290_row23_col4\" class=\"data row23 col4\" >0.768754</td>\n",
       "      <td id=\"T_0a290_row23_col5\" class=\"data row23 col5\" >0.776352</td>\n",
       "      <td id=\"T_0a290_row23_col6\" class=\"data row23 col6\" >0.763032</td>\n",
       "      <td id=\"T_0a290_row23_col7\" class=\"data row23 col7\" >0.881461</td>\n",
       "      <td id=\"T_0a290_row23_col8\" class=\"data row23 col8\" >0.713610</td>\n",
       "      <td id=\"T_0a290_row23_col9\" class=\"data row23 col9\" >0.734722</td>\n",
       "      <td id=\"T_0a290_row23_col10\" class=\"data row23 col10\" >0.779925</td>\n",
       "      <td id=\"T_0a290_row23_col11\" class=\"data row23 col11\" >0.854899</td>\n",
       "      <td id=\"T_0a290_row23_col12\" class=\"data row23 col12\" >0.769405</td>\n",
       "      <td id=\"T_0a290_row23_col13\" class=\"data row23 col13\" >0.842255</td>\n",
       "      <td id=\"T_0a290_row23_col14\" class=\"data row23 col14\" >0.913919</td>\n",
       "      <td id=\"T_0a290_row23_col15\" class=\"data row23 col15\" >0.658126</td>\n",
       "      <td id=\"T_0a290_row23_col16\" class=\"data row23 col16\" >0.635182</td>\n",
       "      <td id=\"T_0a290_row23_col17\" class=\"data row23 col17\" >0.898536</td>\n",
       "      <td id=\"T_0a290_row23_col18\" class=\"data row23 col18\" >0.925119</td>\n",
       "      <td id=\"T_0a290_row23_col19\" class=\"data row23 col19\" >0.922157</td>\n",
       "      <td id=\"T_0a290_row23_col20\" class=\"data row23 col20\" >0.851754</td>\n",
       "      <td id=\"T_0a290_row23_col21\" class=\"data row23 col21\" >0.765455</td>\n",
       "      <td id=\"T_0a290_row23_col22\" class=\"data row23 col22\" >0.874569</td>\n",
       "      <td id=\"T_0a290_row23_col23\" class=\"data row23 col23\" >1.000000</td>\n",
       "      <td id=\"T_0a290_row23_col24\" class=\"data row23 col24\" >0.656136</td>\n",
       "      <td id=\"T_0a290_row23_col25\" class=\"data row23 col25\" >0.765281</td>\n",
       "      <td id=\"T_0a290_row23_col26\" class=\"data row23 col26\" >0.671489</td>\n",
       "      <td id=\"T_0a290_row23_col27\" class=\"data row23 col27\" >0.750464</td>\n",
       "      <td id=\"T_0a290_row23_col28\" class=\"data row23 col28\" >0.509497</td>\n",
       "      <td id=\"T_0a290_row23_col29\" class=\"data row23 col29\" >0.669920</td>\n",
       "    </tr>\n",
       "    <tr>\n",
       "      <th id=\"T_0a290_level0_row24\" class=\"row_heading level0 row24\" >estimator 25</th>\n",
       "      <td id=\"T_0a290_row24_col0\" class=\"data row24 col0\" >0.704327</td>\n",
       "      <td id=\"T_0a290_row24_col1\" class=\"data row24 col1\" >0.676216</td>\n",
       "      <td id=\"T_0a290_row24_col2\" class=\"data row24 col2\" >0.578165</td>\n",
       "      <td id=\"T_0a290_row24_col3\" class=\"data row24 col3\" >0.698581</td>\n",
       "      <td id=\"T_0a290_row24_col4\" class=\"data row24 col4\" >0.571751</td>\n",
       "      <td id=\"T_0a290_row24_col5\" class=\"data row24 col5\" >0.771040</td>\n",
       "      <td id=\"T_0a290_row24_col6\" class=\"data row24 col6\" >0.643026</td>\n",
       "      <td id=\"T_0a290_row24_col7\" class=\"data row24 col7\" >0.694872</td>\n",
       "      <td id=\"T_0a290_row24_col8\" class=\"data row24 col8\" >0.735467</td>\n",
       "      <td id=\"T_0a290_row24_col9\" class=\"data row24 col9\" >0.665725</td>\n",
       "      <td id=\"T_0a290_row24_col10\" class=\"data row24 col10\" >0.726219</td>\n",
       "      <td id=\"T_0a290_row24_col11\" class=\"data row24 col11\" >0.687950</td>\n",
       "      <td id=\"T_0a290_row24_col12\" class=\"data row24 col12\" >0.735841</td>\n",
       "      <td id=\"T_0a290_row24_col13\" class=\"data row24 col13\" >0.643318</td>\n",
       "      <td id=\"T_0a290_row24_col14\" class=\"data row24 col14\" >0.687962</td>\n",
       "      <td id=\"T_0a290_row24_col15\" class=\"data row24 col15\" >0.618312</td>\n",
       "      <td id=\"T_0a290_row24_col16\" class=\"data row24 col16\" >0.702371</td>\n",
       "      <td id=\"T_0a290_row24_col17\" class=\"data row24 col17\" >0.689866</td>\n",
       "      <td id=\"T_0a290_row24_col18\" class=\"data row24 col18\" >0.670431</td>\n",
       "      <td id=\"T_0a290_row24_col19\" class=\"data row24 col19\" >0.634792</td>\n",
       "      <td id=\"T_0a290_row24_col20\" class=\"data row24 col20\" >0.713845</td>\n",
       "      <td id=\"T_0a290_row24_col21\" class=\"data row24 col21\" >0.699137</td>\n",
       "      <td id=\"T_0a290_row24_col22\" class=\"data row24 col22\" >0.755593</td>\n",
       "      <td id=\"T_0a290_row24_col23\" class=\"data row24 col23\" >0.656136</td>\n",
       "      <td id=\"T_0a290_row24_col24\" class=\"data row24 col24\" >1.000000</td>\n",
       "      <td id=\"T_0a290_row24_col25\" class=\"data row24 col25\" >0.733958</td>\n",
       "      <td id=\"T_0a290_row24_col26\" class=\"data row24 col26\" >0.591393</td>\n",
       "      <td id=\"T_0a290_row24_col27\" class=\"data row24 col27\" >0.698424</td>\n",
       "      <td id=\"T_0a290_row24_col28\" class=\"data row24 col28\" >0.545847</td>\n",
       "      <td id=\"T_0a290_row24_col29\" class=\"data row24 col29\" >0.619442</td>\n",
       "    </tr>\n",
       "    <tr>\n",
       "      <th id=\"T_0a290_level0_row25\" class=\"row_heading level0 row25\" >estimator 26</th>\n",
       "      <td id=\"T_0a290_row25_col0\" class=\"data row25 col0\" >0.746254</td>\n",
       "      <td id=\"T_0a290_row25_col1\" class=\"data row25 col1\" >0.727023</td>\n",
       "      <td id=\"T_0a290_row25_col2\" class=\"data row25 col2\" >0.657421</td>\n",
       "      <td id=\"T_0a290_row25_col3\" class=\"data row25 col3\" >0.781295</td>\n",
       "      <td id=\"T_0a290_row25_col4\" class=\"data row25 col4\" >0.638099</td>\n",
       "      <td id=\"T_0a290_row25_col5\" class=\"data row25 col5\" >0.817272</td>\n",
       "      <td id=\"T_0a290_row25_col6\" class=\"data row25 col6\" >0.674968</td>\n",
       "      <td id=\"T_0a290_row25_col7\" class=\"data row25 col7\" >0.771794</td>\n",
       "      <td id=\"T_0a290_row25_col8\" class=\"data row25 col8\" >0.698175</td>\n",
       "      <td id=\"T_0a290_row25_col9\" class=\"data row25 col9\" >0.668088</td>\n",
       "      <td id=\"T_0a290_row25_col10\" class=\"data row25 col10\" >0.720135</td>\n",
       "      <td id=\"T_0a290_row25_col11\" class=\"data row25 col11\" >0.745563</td>\n",
       "      <td id=\"T_0a290_row25_col12\" class=\"data row25 col12\" >0.732592</td>\n",
       "      <td id=\"T_0a290_row25_col13\" class=\"data row25 col13\" >0.736769</td>\n",
       "      <td id=\"T_0a290_row25_col14\" class=\"data row25 col14\" >0.769594</td>\n",
       "      <td id=\"T_0a290_row25_col15\" class=\"data row25 col15\" >0.648663</td>\n",
       "      <td id=\"T_0a290_row25_col16\" class=\"data row25 col16\" >0.655623</td>\n",
       "      <td id=\"T_0a290_row25_col17\" class=\"data row25 col17\" >0.774625</td>\n",
       "      <td id=\"T_0a290_row25_col18\" class=\"data row25 col18\" >0.763596</td>\n",
       "      <td id=\"T_0a290_row25_col19\" class=\"data row25 col19\" >0.721734</td>\n",
       "      <td id=\"T_0a290_row25_col20\" class=\"data row25 col20\" >0.785883</td>\n",
       "      <td id=\"T_0a290_row25_col21\" class=\"data row25 col21\" >0.756473</td>\n",
       "      <td id=\"T_0a290_row25_col22\" class=\"data row25 col22\" >0.836469</td>\n",
       "      <td id=\"T_0a290_row25_col23\" class=\"data row25 col23\" >0.765281</td>\n",
       "      <td id=\"T_0a290_row25_col24\" class=\"data row25 col24\" >0.733958</td>\n",
       "      <td id=\"T_0a290_row25_col25\" class=\"data row25 col25\" >1.000000</td>\n",
       "      <td id=\"T_0a290_row25_col26\" class=\"data row25 col26\" >0.678746</td>\n",
       "      <td id=\"T_0a290_row25_col27\" class=\"data row25 col27\" >0.747260</td>\n",
       "      <td id=\"T_0a290_row25_col28\" class=\"data row25 col28\" >0.505892</td>\n",
       "      <td id=\"T_0a290_row25_col29\" class=\"data row25 col29\" >0.645287</td>\n",
       "    </tr>\n",
       "    <tr>\n",
       "      <th id=\"T_0a290_level0_row26\" class=\"row_heading level0 row26\" >estimator 27</th>\n",
       "      <td id=\"T_0a290_row26_col0\" class=\"data row26 col0\" >0.624567</td>\n",
       "      <td id=\"T_0a290_row26_col1\" class=\"data row26 col1\" >0.664962</td>\n",
       "      <td id=\"T_0a290_row26_col2\" class=\"data row26 col2\" >0.659202</td>\n",
       "      <td id=\"T_0a290_row26_col3\" class=\"data row26 col3\" >0.697264</td>\n",
       "      <td id=\"T_0a290_row26_col4\" class=\"data row26 col4\" >0.553810</td>\n",
       "      <td id=\"T_0a290_row26_col5\" class=\"data row26 col5\" >0.700783</td>\n",
       "      <td id=\"T_0a290_row26_col6\" class=\"data row26 col6\" >0.551904</td>\n",
       "      <td id=\"T_0a290_row26_col7\" class=\"data row26 col7\" >0.698500</td>\n",
       "      <td id=\"T_0a290_row26_col8\" class=\"data row26 col8\" >0.566935</td>\n",
       "      <td id=\"T_0a290_row26_col9\" class=\"data row26 col9\" >0.648911</td>\n",
       "      <td id=\"T_0a290_row26_col10\" class=\"data row26 col10\" >0.617105</td>\n",
       "      <td id=\"T_0a290_row26_col11\" class=\"data row26 col11\" >0.678291</td>\n",
       "      <td id=\"T_0a290_row26_col12\" class=\"data row26 col12\" >0.635379</td>\n",
       "      <td id=\"T_0a290_row26_col13\" class=\"data row26 col13\" >0.656661</td>\n",
       "      <td id=\"T_0a290_row26_col14\" class=\"data row26 col14\" >0.679836</td>\n",
       "      <td id=\"T_0a290_row26_col15\" class=\"data row26 col15\" >0.612620</td>\n",
       "      <td id=\"T_0a290_row26_col16\" class=\"data row26 col16\" >0.551625</td>\n",
       "      <td id=\"T_0a290_row26_col17\" class=\"data row26 col17\" >0.648883</td>\n",
       "      <td id=\"T_0a290_row26_col18\" class=\"data row26 col18\" >0.677592</td>\n",
       "      <td id=\"T_0a290_row26_col19\" class=\"data row26 col19\" >0.671932</td>\n",
       "      <td id=\"T_0a290_row26_col20\" class=\"data row26 col20\" >0.691897</td>\n",
       "      <td id=\"T_0a290_row26_col21\" class=\"data row26 col21\" >0.669981</td>\n",
       "      <td id=\"T_0a290_row26_col22\" class=\"data row26 col22\" >0.731976</td>\n",
       "      <td id=\"T_0a290_row26_col23\" class=\"data row26 col23\" >0.671489</td>\n",
       "      <td id=\"T_0a290_row26_col24\" class=\"data row26 col24\" >0.591393</td>\n",
       "      <td id=\"T_0a290_row26_col25\" class=\"data row26 col25\" >0.678746</td>\n",
       "      <td id=\"T_0a290_row26_col26\" class=\"data row26 col26\" >1.000000</td>\n",
       "      <td id=\"T_0a290_row26_col27\" class=\"data row26 col27\" >0.726250</td>\n",
       "      <td id=\"T_0a290_row26_col28\" class=\"data row26 col28\" >0.418567</td>\n",
       "      <td id=\"T_0a290_row26_col29\" class=\"data row26 col29\" >0.710767</td>\n",
       "    </tr>\n",
       "    <tr>\n",
       "      <th id=\"T_0a290_level0_row27\" class=\"row_heading level0 row27\" >estimator 28</th>\n",
       "      <td id=\"T_0a290_row27_col0\" class=\"data row27 col0\" >0.747727</td>\n",
       "      <td id=\"T_0a290_row27_col1\" class=\"data row27 col1\" >0.854878</td>\n",
       "      <td id=\"T_0a290_row27_col2\" class=\"data row27 col2\" >0.644098</td>\n",
       "      <td id=\"T_0a290_row27_col3\" class=\"data row27 col3\" >0.832935</td>\n",
       "      <td id=\"T_0a290_row27_col4\" class=\"data row27 col4\" >0.666368</td>\n",
       "      <td id=\"T_0a290_row27_col5\" class=\"data row27 col5\" >0.827734</td>\n",
       "      <td id=\"T_0a290_row27_col6\" class=\"data row27 col6\" >0.657096</td>\n",
       "      <td id=\"T_0a290_row27_col7\" class=\"data row27 col7\" >0.728692</td>\n",
       "      <td id=\"T_0a290_row27_col8\" class=\"data row27 col8\" >0.672660</td>\n",
       "      <td id=\"T_0a290_row27_col9\" class=\"data row27 col9\" >0.654821</td>\n",
       "      <td id=\"T_0a290_row27_col10\" class=\"data row27 col10\" >0.733091</td>\n",
       "      <td id=\"T_0a290_row27_col11\" class=\"data row27 col11\" >0.706500</td>\n",
       "      <td id=\"T_0a290_row27_col12\" class=\"data row27 col12\" >0.736868</td>\n",
       "      <td id=\"T_0a290_row27_col13\" class=\"data row27 col13\" >0.733796</td>\n",
       "      <td id=\"T_0a290_row27_col14\" class=\"data row27 col14\" >0.766024</td>\n",
       "      <td id=\"T_0a290_row27_col15\" class=\"data row27 col15\" >0.710456</td>\n",
       "      <td id=\"T_0a290_row27_col16\" class=\"data row27 col16\" >0.731591</td>\n",
       "      <td id=\"T_0a290_row27_col17\" class=\"data row27 col17\" >0.780343</td>\n",
       "      <td id=\"T_0a290_row27_col18\" class=\"data row27 col18\" >0.759116</td>\n",
       "      <td id=\"T_0a290_row27_col19\" class=\"data row27 col19\" >0.714510</td>\n",
       "      <td id=\"T_0a290_row27_col20\" class=\"data row27 col20\" >0.726400</td>\n",
       "      <td id=\"T_0a290_row27_col21\" class=\"data row27 col21\" >0.865545</td>\n",
       "      <td id=\"T_0a290_row27_col22\" class=\"data row27 col22\" >0.786319</td>\n",
       "      <td id=\"T_0a290_row27_col23\" class=\"data row27 col23\" >0.750464</td>\n",
       "      <td id=\"T_0a290_row27_col24\" class=\"data row27 col24\" >0.698424</td>\n",
       "      <td id=\"T_0a290_row27_col25\" class=\"data row27 col25\" >0.747260</td>\n",
       "      <td id=\"T_0a290_row27_col26\" class=\"data row27 col26\" >0.726250</td>\n",
       "      <td id=\"T_0a290_row27_col27\" class=\"data row27 col27\" >1.000000</td>\n",
       "      <td id=\"T_0a290_row27_col28\" class=\"data row27 col28\" >0.590050</td>\n",
       "      <td id=\"T_0a290_row27_col29\" class=\"data row27 col29\" >0.683978</td>\n",
       "    </tr>\n",
       "    <tr>\n",
       "      <th id=\"T_0a290_level0_row28\" class=\"row_heading level0 row28\" >estimator 29</th>\n",
       "      <td id=\"T_0a290_row28_col0\" class=\"data row28 col0\" >0.518873</td>\n",
       "      <td id=\"T_0a290_row28_col1\" class=\"data row28 col1\" >0.560455</td>\n",
       "      <td id=\"T_0a290_row28_col2\" class=\"data row28 col2\" >0.423045</td>\n",
       "      <td id=\"T_0a290_row28_col3\" class=\"data row28 col3\" >0.566059</td>\n",
       "      <td id=\"T_0a290_row28_col4\" class=\"data row28 col4\" >0.458991</td>\n",
       "      <td id=\"T_0a290_row28_col5\" class=\"data row28 col5\" >0.548521</td>\n",
       "      <td id=\"T_0a290_row28_col6\" class=\"data row28 col6\" >0.466789</td>\n",
       "      <td id=\"T_0a290_row28_col7\" class=\"data row28 col7\" >0.487225</td>\n",
       "      <td id=\"T_0a290_row28_col8\" class=\"data row28 col8\" >0.531356</td>\n",
       "      <td id=\"T_0a290_row28_col9\" class=\"data row28 col9\" >0.507212</td>\n",
       "      <td id=\"T_0a290_row28_col10\" class=\"data row28 col10\" >0.569029</td>\n",
       "      <td id=\"T_0a290_row28_col11\" class=\"data row28 col11\" >0.472657</td>\n",
       "      <td id=\"T_0a290_row28_col12\" class=\"data row28 col12\" >0.600417</td>\n",
       "      <td id=\"T_0a290_row28_col13\" class=\"data row28 col13\" >0.492191</td>\n",
       "      <td id=\"T_0a290_row28_col14\" class=\"data row28 col14\" >0.511810</td>\n",
       "      <td id=\"T_0a290_row28_col15\" class=\"data row28 col15\" >0.648265</td>\n",
       "      <td id=\"T_0a290_row28_col16\" class=\"data row28 col16\" >0.506194</td>\n",
       "      <td id=\"T_0a290_row28_col17\" class=\"data row28 col17\" >0.522340</td>\n",
       "      <td id=\"T_0a290_row28_col18\" class=\"data row28 col18\" >0.520612</td>\n",
       "      <td id=\"T_0a290_row28_col19\" class=\"data row28 col19\" >0.491665</td>\n",
       "      <td id=\"T_0a290_row28_col20\" class=\"data row28 col20\" >0.483650</td>\n",
       "      <td id=\"T_0a290_row28_col21\" class=\"data row28 col21\" >0.627895</td>\n",
       "      <td id=\"T_0a290_row28_col22\" class=\"data row28 col22\" >0.522749</td>\n",
       "      <td id=\"T_0a290_row28_col23\" class=\"data row28 col23\" >0.509497</td>\n",
       "      <td id=\"T_0a290_row28_col24\" class=\"data row28 col24\" >0.545847</td>\n",
       "      <td id=\"T_0a290_row28_col25\" class=\"data row28 col25\" >0.505892</td>\n",
       "      <td id=\"T_0a290_row28_col26\" class=\"data row28 col26\" >0.418567</td>\n",
       "      <td id=\"T_0a290_row28_col27\" class=\"data row28 col27\" >0.590050</td>\n",
       "      <td id=\"T_0a290_row28_col28\" class=\"data row28 col28\" >1.000000</td>\n",
       "      <td id=\"T_0a290_row28_col29\" class=\"data row28 col29\" >0.505173</td>\n",
       "    </tr>\n",
       "    <tr>\n",
       "      <th id=\"T_0a290_level0_row29\" class=\"row_heading level0 row29\" >estimator 30</th>\n",
       "      <td id=\"T_0a290_row29_col0\" class=\"data row29 col0\" >0.617395</td>\n",
       "      <td id=\"T_0a290_row29_col1\" class=\"data row29 col1\" >0.643972</td>\n",
       "      <td id=\"T_0a290_row29_col2\" class=\"data row29 col2\" >0.573945</td>\n",
       "      <td id=\"T_0a290_row29_col3\" class=\"data row29 col3\" >0.647981</td>\n",
       "      <td id=\"T_0a290_row29_col4\" class=\"data row29 col4\" >0.568890</td>\n",
       "      <td id=\"T_0a290_row29_col5\" class=\"data row29 col5\" >0.669866</td>\n",
       "      <td id=\"T_0a290_row29_col6\" class=\"data row29 col6\" >0.544394</td>\n",
       "      <td id=\"T_0a290_row29_col7\" class=\"data row29 col7\" >0.659327</td>\n",
       "      <td id=\"T_0a290_row29_col8\" class=\"data row29 col8\" >0.569306</td>\n",
       "      <td id=\"T_0a290_row29_col9\" class=\"data row29 col9\" >0.661793</td>\n",
       "      <td id=\"T_0a290_row29_col10\" class=\"data row29 col10\" >0.643698</td>\n",
       "      <td id=\"T_0a290_row29_col11\" class=\"data row29 col11\" >0.687175</td>\n",
       "      <td id=\"T_0a290_row29_col12\" class=\"data row29 col12\" >0.642789</td>\n",
       "      <td id=\"T_0a290_row29_col13\" class=\"data row29 col13\" >0.648768</td>\n",
       "      <td id=\"T_0a290_row29_col14\" class=\"data row29 col14\" >0.660534</td>\n",
       "      <td id=\"T_0a290_row29_col15\" class=\"data row29 col15\" >0.603252</td>\n",
       "      <td id=\"T_0a290_row29_col16\" class=\"data row29 col16\" >0.527581</td>\n",
       "      <td id=\"T_0a290_row29_col17\" class=\"data row29 col17\" >0.647020</td>\n",
       "      <td id=\"T_0a290_row29_col18\" class=\"data row29 col18\" >0.653270</td>\n",
       "      <td id=\"T_0a290_row29_col19\" class=\"data row29 col19\" >0.625223</td>\n",
       "      <td id=\"T_0a290_row29_col20\" class=\"data row29 col20\" >0.667145</td>\n",
       "      <td id=\"T_0a290_row29_col21\" class=\"data row29 col21\" >0.660604</td>\n",
       "      <td id=\"T_0a290_row29_col22\" class=\"data row29 col22\" >0.692722</td>\n",
       "      <td id=\"T_0a290_row29_col23\" class=\"data row29 col23\" >0.669920</td>\n",
       "      <td id=\"T_0a290_row29_col24\" class=\"data row29 col24\" >0.619442</td>\n",
       "      <td id=\"T_0a290_row29_col25\" class=\"data row29 col25\" >0.645287</td>\n",
       "      <td id=\"T_0a290_row29_col26\" class=\"data row29 col26\" >0.710767</td>\n",
       "      <td id=\"T_0a290_row29_col27\" class=\"data row29 col27\" >0.683978</td>\n",
       "      <td id=\"T_0a290_row29_col28\" class=\"data row29 col28\" >0.505173</td>\n",
       "      <td id=\"T_0a290_row29_col29\" class=\"data row29 col29\" >1.000000</td>\n",
       "    </tr>\n",
       "  </tbody>\n",
       "</table>\n"
      ],
      "text/plain": [
       "<pandas.io.formats.style.Styler at 0x29be2b05640>"
      ]
     },
     "execution_count": 93,
     "metadata": {},
     "output_type": "execute_result"
    }
   ],
   "source": [
    "get_correlation(X_test, y_test,bag_class_weight_hp_tuned).style.background_gradient(cmap='coolwarm')"
   ]
  },
  {
   "cell_type": "markdown",
   "id": "b40caf53-d787-4853-8873-d81d28fa68d6",
   "metadata": {},
   "source": [
    "### d) Random Forest Classifier with Class Reweighting"
   ]
  },
  {
   "cell_type": "markdown",
   "id": "ee101232-f53c-4b76-9e64-5143ecbeed76",
   "metadata": {},
   "source": [
    "Let's built our next ensemble model called Random Forest Classifier. \n",
    "\n",
    "First we will build a model with default value of RandomForestClassifier."
   ]
  },
  {
   "cell_type": "code",
   "execution_count": 94,
   "id": "412fba57-d0d9-4ca5-8917-d96711afc1d5",
   "metadata": {},
   "outputs": [],
   "source": [
    "rf_model = RandomForestClassifier( max_features='sqrt',n_estimators=10, random_state=rs)"
   ]
  },
  {
   "cell_type": "code",
   "execution_count": 95,
   "id": "69cfaa43-4967-4937-9b49-d8a94cab9412",
   "metadata": {},
   "outputs": [
    {
     "data": {
      "text/html": [
       "<style>#sk-container-id-6 {color: black;background-color: white;}#sk-container-id-6 pre{padding: 0;}#sk-container-id-6 div.sk-toggleable {background-color: white;}#sk-container-id-6 label.sk-toggleable__label {cursor: pointer;display: block;width: 100%;margin-bottom: 0;padding: 0.3em;box-sizing: border-box;text-align: center;}#sk-container-id-6 label.sk-toggleable__label-arrow:before {content: \"▸\";float: left;margin-right: 0.25em;color: #696969;}#sk-container-id-6 label.sk-toggleable__label-arrow:hover:before {color: black;}#sk-container-id-6 div.sk-estimator:hover label.sk-toggleable__label-arrow:before {color: black;}#sk-container-id-6 div.sk-toggleable__content {max-height: 0;max-width: 0;overflow: hidden;text-align: left;background-color: #f0f8ff;}#sk-container-id-6 div.sk-toggleable__content pre {margin: 0.2em;color: black;border-radius: 0.25em;background-color: #f0f8ff;}#sk-container-id-6 input.sk-toggleable__control:checked~div.sk-toggleable__content {max-height: 200px;max-width: 100%;overflow: auto;}#sk-container-id-6 input.sk-toggleable__control:checked~label.sk-toggleable__label-arrow:before {content: \"▾\";}#sk-container-id-6 div.sk-estimator input.sk-toggleable__control:checked~label.sk-toggleable__label {background-color: #d4ebff;}#sk-container-id-6 div.sk-label input.sk-toggleable__control:checked~label.sk-toggleable__label {background-color: #d4ebff;}#sk-container-id-6 input.sk-hidden--visually {border: 0;clip: rect(1px 1px 1px 1px);clip: rect(1px, 1px, 1px, 1px);height: 1px;margin: -1px;overflow: hidden;padding: 0;position: absolute;width: 1px;}#sk-container-id-6 div.sk-estimator {font-family: monospace;background-color: #f0f8ff;border: 1px dotted black;border-radius: 0.25em;box-sizing: border-box;margin-bottom: 0.5em;}#sk-container-id-6 div.sk-estimator:hover {background-color: #d4ebff;}#sk-container-id-6 div.sk-parallel-item::after {content: \"\";width: 100%;border-bottom: 1px solid gray;flex-grow: 1;}#sk-container-id-6 div.sk-label:hover label.sk-toggleable__label {background-color: #d4ebff;}#sk-container-id-6 div.sk-serial::before {content: \"\";position: absolute;border-left: 1px solid gray;box-sizing: border-box;top: 0;bottom: 0;left: 50%;z-index: 0;}#sk-container-id-6 div.sk-serial {display: flex;flex-direction: column;align-items: center;background-color: white;padding-right: 0.2em;padding-left: 0.2em;position: relative;}#sk-container-id-6 div.sk-item {position: relative;z-index: 1;}#sk-container-id-6 div.sk-parallel {display: flex;align-items: stretch;justify-content: center;background-color: white;position: relative;}#sk-container-id-6 div.sk-item::before, #sk-container-id-6 div.sk-parallel-item::before {content: \"\";position: absolute;border-left: 1px solid gray;box-sizing: border-box;top: 0;bottom: 0;left: 50%;z-index: -1;}#sk-container-id-6 div.sk-parallel-item {display: flex;flex-direction: column;z-index: 1;position: relative;background-color: white;}#sk-container-id-6 div.sk-parallel-item:first-child::after {align-self: flex-end;width: 50%;}#sk-container-id-6 div.sk-parallel-item:last-child::after {align-self: flex-start;width: 50%;}#sk-container-id-6 div.sk-parallel-item:only-child::after {width: 0;}#sk-container-id-6 div.sk-dashed-wrapped {border: 1px dashed gray;margin: 0 0.4em 0.5em 0.4em;box-sizing: border-box;padding-bottom: 0.4em;background-color: white;}#sk-container-id-6 div.sk-label label {font-family: monospace;font-weight: bold;display: inline-block;line-height: 1.2em;}#sk-container-id-6 div.sk-label-container {text-align: center;}#sk-container-id-6 div.sk-container {/* jupyter's `normalize.less` sets `[hidden] { display: none; }` but bootstrap.min.css set `[hidden] { display: none !important; }` so we also need the `!important` here to be able to override the default hidden behavior on the sphinx rendered scikit-learn.org. See: https://github.com/scikit-learn/scikit-learn/issues/21755 */display: inline-block !important;position: relative;}#sk-container-id-6 div.sk-text-repr-fallback {display: none;}</style><div id=\"sk-container-id-6\" class=\"sk-top-container\"><div class=\"sk-text-repr-fallback\"><pre>RandomForestClassifier(n_estimators=10, random_state=12)</pre><b>In a Jupyter environment, please rerun this cell to show the HTML representation or trust the notebook. <br />On GitHub, the HTML representation is unable to render, please try loading this page with nbviewer.org.</b></div><div class=\"sk-container\" hidden><div class=\"sk-item\"><div class=\"sk-estimator sk-toggleable\"><input class=\"sk-toggleable__control sk-hidden--visually\" id=\"sk-estimator-id-10\" type=\"checkbox\" checked><label for=\"sk-estimator-id-10\" class=\"sk-toggleable__label sk-toggleable__label-arrow\">RandomForestClassifier</label><div class=\"sk-toggleable__content\"><pre>RandomForestClassifier(n_estimators=10, random_state=12)</pre></div></div></div></div></div>"
      ],
      "text/plain": [
       "RandomForestClassifier(n_estimators=10, random_state=12)"
      ]
     },
     "execution_count": 95,
     "metadata": {},
     "output_type": "execute_result"
    }
   ],
   "source": [
    "rf_model.fit(X_train,y_train)"
   ]
  },
  {
   "cell_type": "code",
   "execution_count": 96,
   "id": "df885552-739d-4fd3-97af-a9285c231fb7",
   "metadata": {},
   "outputs": [],
   "source": [
    "y_preds_rf = rf_model.predict(X_test)"
   ]
  },
  {
   "cell_type": "markdown",
   "id": "4fc86c69-d85f-420a-9c88-2a86b44d7c37",
   "metadata": {},
   "source": [
    "This RandomForestModel didn't perform well as we can see different scores below."
   ]
  },
  {
   "cell_type": "code",
   "execution_count": 97,
   "id": "306247e2-75b6-4255-a690-f7392d868aa2",
   "metadata": {},
   "outputs": [
    {
     "name": "stdout",
     "output_type": "stream",
     "text": [
      "Accuracy is: 0.98\n",
      "Precision is: 0.00\n",
      "Recall is: 0.00\n",
      "Fscore is: 0.00\n",
      "AUC is: 0.50\n"
     ]
    }
   ],
   "source": [
    "evaluate_metrics(y_test, y_preds_rf)"
   ]
  },
  {
   "cell_type": "markdown",
   "id": "5facdcf0-caaa-4f2c-ac43-a0c8ec69a9d8",
   "metadata": {},
   "source": [
    "Now we will built a model with class_weight parameter and will tune the hyper-parameter."
   ]
  },
  {
   "cell_type": "code",
   "execution_count": 98,
   "id": "6b30caeb-2fd0-4785-94eb-4c271e7b393b",
   "metadata": {},
   "outputs": [],
   "source": [
    "# params_grid_rf = {\n",
    "#     'criterion': ['gini', 'entropy'],\n",
    "#     'max_depth': [3, 5, 8],\n",
    "#     'n_estimators': [5,10,20],\n",
    "#     'class_weight': [{0:1, 1:50},{0:1,1:25},\"balanced_subsample\"],\n",
    "#     'max_features': [\"log2\", \"sqrt\",None],\n",
    "#     }"
   ]
  },
  {
   "cell_type": "code",
   "execution_count": 99,
   "id": "4ffbce7f-cff8-458f-adf8-47441189af48",
   "metadata": {},
   "outputs": [],
   "source": [
    "# cv = StratifiedKFold(n_splits=5)"
   ]
  },
  {
   "cell_type": "code",
   "execution_count": 100,
   "id": "0ee914fc-fec1-445f-b715-6a1ad3e9ac0c",
   "metadata": {},
   "outputs": [],
   "source": [
    "# rf_grid_search = GridSearchCV(estimator = rf_model, \n",
    "#                            param_grid = params_grid_rf, \n",
    "#                            scoring='roc_auc',\n",
    "#                            cv = cv,n_jobs=8)"
   ]
  },
  {
   "cell_type": "code",
   "execution_count": 101,
   "id": "df92a426-8e32-4221-99ba-3966c764b7f2",
   "metadata": {},
   "outputs": [],
   "source": [
    "# rf_grid_search.fit(X_train,y_train)"
   ]
  },
  {
   "cell_type": "code",
   "execution_count": 102,
   "id": "f1283c3d-638d-45a8-aa28-8eebe630c942",
   "metadata": {},
   "outputs": [],
   "source": [
    "# rf_grid_search_best=rf_grid_search.best_estimator_\n",
    "# print(rf_grid_search_best.get_params())"
   ]
  },
  {
   "cell_type": "code",
   "execution_count": 103,
   "id": "91fdddbb-9f4c-4642-86b2-577237fd1b8b",
   "metadata": {},
   "outputs": [],
   "source": [
    "# y_preds_rf_grid_search_best=rf_grid_search_best.predict(X_test)"
   ]
  },
  {
   "cell_type": "code",
   "execution_count": 104,
   "id": "e12a01da-9c2f-45f0-a46c-426a040fbe15",
   "metadata": {},
   "outputs": [],
   "source": [
    "# evaluate_metrics(y_test, y_preds_rf_grid_search_best)"
   ]
  },
  {
   "cell_type": "markdown",
   "id": "98beeee8-7603-48b9-b4f0-0babdab04c4c",
   "metadata": {},
   "source": [
    "Below a RandomForestClassifier model is bulit with tuned hyper-parameter."
   ]
  },
  {
   "cell_type": "code",
   "execution_count": 105,
   "id": "34fa5803-4666-49c1-bee9-c7486cd336db",
   "metadata": {},
   "outputs": [],
   "source": [
    "rf_class_weight_hp_tuned=RandomForestClassifier(bootstrap = True,\n",
    "                                                 class_weight ={0: 1, 1: 50}, criterion = 'gini', \n",
    "                                                  max_depth =  3, max_features = None, \n",
    "                                                 n_estimators = 10, n_jobs = 8, \n",
    "                                                 random_state = rs)"
   ]
  },
  {
   "cell_type": "code",
   "execution_count": 106,
   "id": "91f85fb8-f2c2-4fc5-aea7-9f17055565ad",
   "metadata": {},
   "outputs": [
    {
     "data": {
      "text/html": [
       "<style>#sk-container-id-7 {color: black;background-color: white;}#sk-container-id-7 pre{padding: 0;}#sk-container-id-7 div.sk-toggleable {background-color: white;}#sk-container-id-7 label.sk-toggleable__label {cursor: pointer;display: block;width: 100%;margin-bottom: 0;padding: 0.3em;box-sizing: border-box;text-align: center;}#sk-container-id-7 label.sk-toggleable__label-arrow:before {content: \"▸\";float: left;margin-right: 0.25em;color: #696969;}#sk-container-id-7 label.sk-toggleable__label-arrow:hover:before {color: black;}#sk-container-id-7 div.sk-estimator:hover label.sk-toggleable__label-arrow:before {color: black;}#sk-container-id-7 div.sk-toggleable__content {max-height: 0;max-width: 0;overflow: hidden;text-align: left;background-color: #f0f8ff;}#sk-container-id-7 div.sk-toggleable__content pre {margin: 0.2em;color: black;border-radius: 0.25em;background-color: #f0f8ff;}#sk-container-id-7 input.sk-toggleable__control:checked~div.sk-toggleable__content {max-height: 200px;max-width: 100%;overflow: auto;}#sk-container-id-7 input.sk-toggleable__control:checked~label.sk-toggleable__label-arrow:before {content: \"▾\";}#sk-container-id-7 div.sk-estimator input.sk-toggleable__control:checked~label.sk-toggleable__label {background-color: #d4ebff;}#sk-container-id-7 div.sk-label input.sk-toggleable__control:checked~label.sk-toggleable__label {background-color: #d4ebff;}#sk-container-id-7 input.sk-hidden--visually {border: 0;clip: rect(1px 1px 1px 1px);clip: rect(1px, 1px, 1px, 1px);height: 1px;margin: -1px;overflow: hidden;padding: 0;position: absolute;width: 1px;}#sk-container-id-7 div.sk-estimator {font-family: monospace;background-color: #f0f8ff;border: 1px dotted black;border-radius: 0.25em;box-sizing: border-box;margin-bottom: 0.5em;}#sk-container-id-7 div.sk-estimator:hover {background-color: #d4ebff;}#sk-container-id-7 div.sk-parallel-item::after {content: \"\";width: 100%;border-bottom: 1px solid gray;flex-grow: 1;}#sk-container-id-7 div.sk-label:hover label.sk-toggleable__label {background-color: #d4ebff;}#sk-container-id-7 div.sk-serial::before {content: \"\";position: absolute;border-left: 1px solid gray;box-sizing: border-box;top: 0;bottom: 0;left: 50%;z-index: 0;}#sk-container-id-7 div.sk-serial {display: flex;flex-direction: column;align-items: center;background-color: white;padding-right: 0.2em;padding-left: 0.2em;position: relative;}#sk-container-id-7 div.sk-item {position: relative;z-index: 1;}#sk-container-id-7 div.sk-parallel {display: flex;align-items: stretch;justify-content: center;background-color: white;position: relative;}#sk-container-id-7 div.sk-item::before, #sk-container-id-7 div.sk-parallel-item::before {content: \"\";position: absolute;border-left: 1px solid gray;box-sizing: border-box;top: 0;bottom: 0;left: 50%;z-index: -1;}#sk-container-id-7 div.sk-parallel-item {display: flex;flex-direction: column;z-index: 1;position: relative;background-color: white;}#sk-container-id-7 div.sk-parallel-item:first-child::after {align-self: flex-end;width: 50%;}#sk-container-id-7 div.sk-parallel-item:last-child::after {align-self: flex-start;width: 50%;}#sk-container-id-7 div.sk-parallel-item:only-child::after {width: 0;}#sk-container-id-7 div.sk-dashed-wrapped {border: 1px dashed gray;margin: 0 0.4em 0.5em 0.4em;box-sizing: border-box;padding-bottom: 0.4em;background-color: white;}#sk-container-id-7 div.sk-label label {font-family: monospace;font-weight: bold;display: inline-block;line-height: 1.2em;}#sk-container-id-7 div.sk-label-container {text-align: center;}#sk-container-id-7 div.sk-container {/* jupyter's `normalize.less` sets `[hidden] { display: none; }` but bootstrap.min.css set `[hidden] { display: none !important; }` so we also need the `!important` here to be able to override the default hidden behavior on the sphinx rendered scikit-learn.org. See: https://github.com/scikit-learn/scikit-learn/issues/21755 */display: inline-block !important;position: relative;}#sk-container-id-7 div.sk-text-repr-fallback {display: none;}</style><div id=\"sk-container-id-7\" class=\"sk-top-container\"><div class=\"sk-text-repr-fallback\"><pre>RandomForestClassifier(class_weight={0: 1, 1: 50}, max_depth=3,\n",
       "                       max_features=None, n_estimators=10, n_jobs=8,\n",
       "                       random_state=12)</pre><b>In a Jupyter environment, please rerun this cell to show the HTML representation or trust the notebook. <br />On GitHub, the HTML representation is unable to render, please try loading this page with nbviewer.org.</b></div><div class=\"sk-container\" hidden><div class=\"sk-item\"><div class=\"sk-estimator sk-toggleable\"><input class=\"sk-toggleable__control sk-hidden--visually\" id=\"sk-estimator-id-11\" type=\"checkbox\" checked><label for=\"sk-estimator-id-11\" class=\"sk-toggleable__label sk-toggleable__label-arrow\">RandomForestClassifier</label><div class=\"sk-toggleable__content\"><pre>RandomForestClassifier(class_weight={0: 1, 1: 50}, max_depth=3,\n",
       "                       max_features=None, n_estimators=10, n_jobs=8,\n",
       "                       random_state=12)</pre></div></div></div></div></div>"
      ],
      "text/plain": [
       "RandomForestClassifier(class_weight={0: 1, 1: 50}, max_depth=3,\n",
       "                       max_features=None, n_estimators=10, n_jobs=8,\n",
       "                       random_state=12)"
      ]
     },
     "execution_count": 106,
     "metadata": {},
     "output_type": "execute_result"
    }
   ],
   "source": [
    "rf_class_weight_hp_tuned.fit(X_train, y_train)"
   ]
  },
  {
   "cell_type": "code",
   "execution_count": 107,
   "id": "b0827124-02d5-4200-ae41-c13928600bb7",
   "metadata": {},
   "outputs": [],
   "source": [
    "y_preds_rf_class_weight_hp_tuned=rf_class_weight_hp_tuned.predict(X_test)"
   ]
  },
  {
   "cell_type": "markdown",
   "id": "a5a1f223-759b-4604-81c4-7c3ea36908ac",
   "metadata": {},
   "source": [
    "After training, we can see different scores of the model and this model outperformed other models in terms of AUC and Recall."
   ]
  },
  {
   "cell_type": "code",
   "execution_count": 108,
   "id": "724a90d6-b4ed-44fd-95be-ee17993477fa",
   "metadata": {},
   "outputs": [
    {
     "name": "stdout",
     "output_type": "stream",
     "text": [
      "Accuracy is: 0.71\n",
      "Precision is: 0.05\n",
      "Recall is: 0.72\n",
      "Fscore is: 0.20\n",
      "AUC is: 0.72\n"
     ]
    }
   ],
   "source": [
    "evaluate_metrics(y_test, y_preds_rf_class_weight_hp_tuned)"
   ]
  },
  {
   "cell_type": "markdown",
   "id": "7132ad82-a37d-4091-afb7-54a5295523c3",
   "metadata": {},
   "source": [
    "####  Random Forest model explanation with Permutation Feature Importance"
   ]
  },
  {
   "cell_type": "code",
   "execution_count": 109,
   "id": "f010f770-f0e4-4693-9f49-e53ed2e9415f",
   "metadata": {},
   "outputs": [],
   "source": [
    "def visualize_feature_importance(importance_array):\n",
    "    # Sort the array based on mean value\n",
    "    sorted_idx = importance_array.importances_mean.argsort()\n",
    "    # Visualize the feature importances using boxplot\n",
    "    fig, ax = plt.subplots()\n",
    "    fig.set_figwidth(16)\n",
    "    fig.set_figheight(10)\n",
    "    fig.tight_layout()\n",
    "    ax.boxplot(importance_array.importances[sorted_idx].T,\n",
    "               vert=False, labels=X_train.columns[sorted_idx])\n",
    "    ax.set_title(\"Permutation Importances (train set)\")\n",
    "    plt.show()"
   ]
  },
  {
   "cell_type": "code",
   "execution_count": 110,
   "id": "30b0e61b-af09-44c2-bd78-746f93229deb",
   "metadata": {},
   "outputs": [],
   "source": [
    "feature_importances_rf = permutation_importance(estimator = rf_class_weight_hp_tuned, X = X_train, y = y_train, n_repeats=5,\n",
    "                                random_state=rs, n_jobs=8)"
   ]
  },
  {
   "cell_type": "markdown",
   "id": "493c929e-8925-4e17-958a-1c498e8a7ce0",
   "metadata": {},
   "source": [
    "The below chart give us the importance of features, according to current model, for 'stroke' "
   ]
  },
  {
   "cell_type": "code",
   "execution_count": 111,
   "id": "f42c801d-f64f-435e-8086-441cd1f6dc9b",
   "metadata": {},
   "outputs": [
    {
     "data": {
      "image/png": "[encoded data removed]",
      "text/plain": [
       "<Figure size 1152x720 with 1 Axes>"
      ]
     },
     "metadata": {
      "needs_background": "light"
     },
     "output_type": "display_data"
    }
   ],
   "source": [
    "visualize_feature_importance(feature_importances_rf)"
   ]
  },
  {
   "cell_type": "markdown",
   "id": "680584d6-23ba-4c66-804d-01cf3ec203b3",
   "metadata": {},
   "source": [
    "#### Random Forest model explanation with LIME"
   ]
  },
  {
   "cell_type": "markdown",
   "id": "15d48dae-5dba-409a-b8f8-60151f67ce7f",
   "metadata": {},
   "source": [
    "In this part we will try to understand why our Random Forest Model thinks that a person will have stroke or not."
   ]
  },
  {
   "cell_type": "code",
   "execution_count": 112,
   "id": "a3893fa0-cc8e-48be-be7f-a31884d669a0",
   "metadata": {},
   "outputs": [],
   "source": [
    "explainer = lime.lime_tabular.LimeTabularExplainer(\n",
    "    training_data=X_test.values,\n",
    "    mode='classification',\n",
    "    class_names = ['no_stroke', 'stroke'],\n",
    "    feature_names=list(X_train.columns),\n",
    "    random_state=rs,\n",
    "    verbose=True)"
   ]
  },
  {
   "cell_type": "markdown",
   "id": "4693215b-7525-40b8-809c-7419c76c3926",
   "metadata": {},
   "source": [
    "Let's take a instance of data."
   ]
  },
  {
   "cell_type": "code",
   "execution_count": 113,
   "id": "99793552-d2c6-4c0c-af55-824378e884a4",
   "metadata": {},
   "outputs": [
    {
     "data": {
      "text/html": [
       "<div>\n",
       "<style scoped>\n",
       "    .dataframe tbody tr th:only-of-type {\n",
       "        vertical-align: middle;\n",
       "    }\n",
       "\n",
       "    .dataframe tbody tr th {\n",
       "        vertical-align: top;\n",
       "    }\n",
       "\n",
       "    .dataframe thead th {\n",
       "        text-align: right;\n",
       "    }\n",
       "</style>\n",
       "<table border=\"1\" class=\"dataframe\">\n",
       "  <thead>\n",
       "    <tr style=\"text-align: right;\">\n",
       "      <th></th>\n",
       "      <th>gender_Female</th>\n",
       "      <th>gender_Male</th>\n",
       "      <th>gender_Other</th>\n",
       "      <th>ever-married_No</th>\n",
       "      <th>ever-married_Yes</th>\n",
       "      <th>work-type_Govt_job</th>\n",
       "      <th>work-type_Never_worked</th>\n",
       "      <th>work-type_Private</th>\n",
       "      <th>work-type_Self-employed</th>\n",
       "      <th>work-type_children</th>\n",
       "      <th>Residence-type_Rural</th>\n",
       "      <th>Residence-type_Urban</th>\n",
       "      <th>smoking-status_formerly smoked</th>\n",
       "      <th>smoking-status_never smoked</th>\n",
       "      <th>smoking-status_smokes</th>\n",
       "      <th>age</th>\n",
       "      <th>hypertension</th>\n",
       "      <th>heart-disease</th>\n",
       "      <th>avg-glucose-level</th>\n",
       "      <th>bmi</th>\n",
       "    </tr>\n",
       "  </thead>\n",
       "  <tbody>\n",
       "    <tr>\n",
       "      <th>55</th>\n",
       "      <td>0</td>\n",
       "      <td>1</td>\n",
       "      <td>0</td>\n",
       "      <td>0</td>\n",
       "      <td>1</td>\n",
       "      <td>0</td>\n",
       "      <td>0</td>\n",
       "      <td>1</td>\n",
       "      <td>0</td>\n",
       "      <td>0</td>\n",
       "      <td>1</td>\n",
       "      <td>0</td>\n",
       "      <td>0</td>\n",
       "      <td>1</td>\n",
       "      <td>0</td>\n",
       "      <td>1.765781</td>\n",
       "      <td>0</td>\n",
       "      <td>1</td>\n",
       "      <td>0.931193</td>\n",
       "      <td>-0.593977</td>\n",
       "    </tr>\n",
       "  </tbody>\n",
       "</table>\n",
       "</div>"
      ],
      "text/plain": [
       "    gender_Female  gender_Male  gender_Other  ever-married_No  \\\n",
       "55              0            1             0                0   \n",
       "\n",
       "    ever-married_Yes  work-type_Govt_job  work-type_Never_worked  \\\n",
       "55                 1                   0                       0   \n",
       "\n",
       "    work-type_Private  work-type_Self-employed  work-type_children  \\\n",
       "55                  1                        0                   0   \n",
       "\n",
       "    Residence-type_Rural  Residence-type_Urban  \\\n",
       "55                     1                     0   \n",
       "\n",
       "    smoking-status_formerly smoked  smoking-status_never smoked  \\\n",
       "55                               0                            1   \n",
       "\n",
       "    smoking-status_smokes       age  hypertension  heart-disease  \\\n",
       "55                      0  1.765781             0              1   \n",
       "\n",
       "    avg-glucose-level       bmi  \n",
       "55           0.931193 -0.593977  "
      ]
     },
     "execution_count": 113,
     "metadata": {},
     "output_type": "execute_result"
    }
   ],
   "source": [
    "instance_index = 55\n",
    "selected_instance_55 = X_test.iloc[[instance_index]]\n",
    "lime_test_instance_55 = selected_instance_55.values.reshape(-1)\n",
    "selected_instance_55"
   ]
  },
  {
   "cell_type": "markdown",
   "id": "2e8b7f1d-4611-46b7-8e19-d014989a2af5",
   "metadata": {},
   "source": [
    "Let's see what class in assigned to this instance by  RandomForest."
   ]
  },
  {
   "cell_type": "code",
   "execution_count": 114,
   "id": "75d6a37d-0d4e-4f54-9c5a-1fa8e9f8f672",
   "metadata": {},
   "outputs": [
    {
     "data": {
      "text/plain": [
       "array([1], dtype=int64)"
      ]
     },
     "execution_count": 114,
     "metadata": {},
     "output_type": "execute_result"
    }
   ],
   "source": [
    "rf_class_weight_hp_tuned.predict(selected_instance_55)"
   ]
  },
  {
   "cell_type": "markdown",
   "id": "be2116a7-329a-4712-aa15-868e11be55b8",
   "metadata": {},
   "source": [
    "Now we we try to understand why our model thing that this class belongs to 'stroke' class 1."
   ]
  },
  {
   "cell_type": "code",
   "execution_count": 115,
   "id": "6a23bdfd-2038-4218-8ba4-a93e76b06413",
   "metadata": {},
   "outputs": [
    {
     "name": "stdout",
     "output_type": "stream",
     "text": [
      "Intercept 0.2046452911615201\n",
      "Prediction_local [0.83092882]\n",
      "Right: 0.8666127526251433\n"
     ]
    },
    {
     "data": {
      "image/png": "[encoded data removed]",
      "text/plain": [
       "<Figure size 432x288 with 1 Axes>"
      ]
     },
     "metadata": {
      "needs_background": "light"
     },
     "output_type": "display_data"
    }
   ],
   "source": [
    "exp_rf_55 = explainer.explain_instance(\n",
    "                                 lime_test_instance_55, \n",
    "                                 rf_class_weight_hp_tuned.predict_proba,\n",
    "                                 num_features=10)\n",
    "exp_rf_55.as_pyplot_figure();"
   ]
  },
  {
   "cell_type": "markdown",
   "id": "429db6c8-9ec8-4d6a-b495-cc09caa79a4c",
   "metadata": {},
   "source": [
    "The reason of that is clearly high 'age' and presence of 'heart_disease' and high 'avg_glucose_level'."
   ]
  },
  {
   "cell_type": "markdown",
   "id": "cf7b4263-bcb2-443d-ba35-f36af4d586ff",
   "metadata": {},
   "source": [
    "### e) Boosting Classifiers with Class Reweighting"
   ]
  },
  {
   "cell_type": "markdown",
   "id": "ed15b9c0-0943-4a6a-9864-7847a2c8d308",
   "metadata": {},
   "source": [
    "#### i) AdaBoostClassifier"
   ]
  },
  {
   "cell_type": "markdown",
   "id": "f4bd0c3f-9097-4a16-bc20-4d6b034d5bec",
   "metadata": {},
   "source": [
    "We will first try Adaboost(a popular boosting algorithm) with default hyper-parameters value."
   ]
  },
  {
   "cell_type": "code",
   "execution_count": 116,
   "id": "dc2f25d7-992e-4eef-befb-6ba9c1fcf2cd",
   "metadata": {},
   "outputs": [],
   "source": [
    "ab_model = AdaBoostClassifier(n_estimators=30,random_state=rs)"
   ]
  },
  {
   "cell_type": "code",
   "execution_count": 117,
   "id": "fa33d345-729c-4b35-9aac-21500fdc86c6",
   "metadata": {},
   "outputs": [
    {
     "data": {
      "text/html": [
       "<style>#sk-container-id-8 {color: black;background-color: white;}#sk-container-id-8 pre{padding: 0;}#sk-container-id-8 div.sk-toggleable {background-color: white;}#sk-container-id-8 label.sk-toggleable__label {cursor: pointer;display: block;width: 100%;margin-bottom: 0;padding: 0.3em;box-sizing: border-box;text-align: center;}#sk-container-id-8 label.sk-toggleable__label-arrow:before {content: \"▸\";float: left;margin-right: 0.25em;color: #696969;}#sk-container-id-8 label.sk-toggleable__label-arrow:hover:before {color: black;}#sk-container-id-8 div.sk-estimator:hover label.sk-toggleable__label-arrow:before {color: black;}#sk-container-id-8 div.sk-toggleable__content {max-height: 0;max-width: 0;overflow: hidden;text-align: left;background-color: #f0f8ff;}#sk-container-id-8 div.sk-toggleable__content pre {margin: 0.2em;color: black;border-radius: 0.25em;background-color: #f0f8ff;}#sk-container-id-8 input.sk-toggleable__control:checked~div.sk-toggleable__content {max-height: 200px;max-width: 100%;overflow: auto;}#sk-container-id-8 input.sk-toggleable__control:checked~label.sk-toggleable__label-arrow:before {content: \"▾\";}#sk-container-id-8 div.sk-estimator input.sk-toggleable__control:checked~label.sk-toggleable__label {background-color: #d4ebff;}#sk-container-id-8 div.sk-label input.sk-toggleable__control:checked~label.sk-toggleable__label {background-color: #d4ebff;}#sk-container-id-8 input.sk-hidden--visually {border: 0;clip: rect(1px 1px 1px 1px);clip: rect(1px, 1px, 1px, 1px);height: 1px;margin: -1px;overflow: hidden;padding: 0;position: absolute;width: 1px;}#sk-container-id-8 div.sk-estimator {font-family: monospace;background-color: #f0f8ff;border: 1px dotted black;border-radius: 0.25em;box-sizing: border-box;margin-bottom: 0.5em;}#sk-container-id-8 div.sk-estimator:hover {background-color: #d4ebff;}#sk-container-id-8 div.sk-parallel-item::after {content: \"\";width: 100%;border-bottom: 1px solid gray;flex-grow: 1;}#sk-container-id-8 div.sk-label:hover label.sk-toggleable__label {background-color: #d4ebff;}#sk-container-id-8 div.sk-serial::before {content: \"\";position: absolute;border-left: 1px solid gray;box-sizing: border-box;top: 0;bottom: 0;left: 50%;z-index: 0;}#sk-container-id-8 div.sk-serial {display: flex;flex-direction: column;align-items: center;background-color: white;padding-right: 0.2em;padding-left: 0.2em;position: relative;}#sk-container-id-8 div.sk-item {position: relative;z-index: 1;}#sk-container-id-8 div.sk-parallel {display: flex;align-items: stretch;justify-content: center;background-color: white;position: relative;}#sk-container-id-8 div.sk-item::before, #sk-container-id-8 div.sk-parallel-item::before {content: \"\";position: absolute;border-left: 1px solid gray;box-sizing: border-box;top: 0;bottom: 0;left: 50%;z-index: -1;}#sk-container-id-8 div.sk-parallel-item {display: flex;flex-direction: column;z-index: 1;position: relative;background-color: white;}#sk-container-id-8 div.sk-parallel-item:first-child::after {align-self: flex-end;width: 50%;}#sk-container-id-8 div.sk-parallel-item:last-child::after {align-self: flex-start;width: 50%;}#sk-container-id-8 div.sk-parallel-item:only-child::after {width: 0;}#sk-container-id-8 div.sk-dashed-wrapped {border: 1px dashed gray;margin: 0 0.4em 0.5em 0.4em;box-sizing: border-box;padding-bottom: 0.4em;background-color: white;}#sk-container-id-8 div.sk-label label {font-family: monospace;font-weight: bold;display: inline-block;line-height: 1.2em;}#sk-container-id-8 div.sk-label-container {text-align: center;}#sk-container-id-8 div.sk-container {/* jupyter's `normalize.less` sets `[hidden] { display: none; }` but bootstrap.min.css set `[hidden] { display: none !important; }` so we also need the `!important` here to be able to override the default hidden behavior on the sphinx rendered scikit-learn.org. See: https://github.com/scikit-learn/scikit-learn/issues/21755 */display: inline-block !important;position: relative;}#sk-container-id-8 div.sk-text-repr-fallback {display: none;}</style><div id=\"sk-container-id-8\" class=\"sk-top-container\"><div class=\"sk-text-repr-fallback\"><pre>AdaBoostClassifier(n_estimators=30, random_state=12)</pre><b>In a Jupyter environment, please rerun this cell to show the HTML representation or trust the notebook. <br />On GitHub, the HTML representation is unable to render, please try loading this page with nbviewer.org.</b></div><div class=\"sk-container\" hidden><div class=\"sk-item\"><div class=\"sk-estimator sk-toggleable\"><input class=\"sk-toggleable__control sk-hidden--visually\" id=\"sk-estimator-id-12\" type=\"checkbox\" checked><label for=\"sk-estimator-id-12\" class=\"sk-toggleable__label sk-toggleable__label-arrow\">AdaBoostClassifier</label><div class=\"sk-toggleable__content\"><pre>AdaBoostClassifier(n_estimators=30, random_state=12)</pre></div></div></div></div></div>"
      ],
      "text/plain": [
       "AdaBoostClassifier(n_estimators=30, random_state=12)"
      ]
     },
     "execution_count": 117,
     "metadata": {},
     "output_type": "execute_result"
    }
   ],
   "source": [
    "ab_model.fit(X_train,y_train)"
   ]
  },
  {
   "cell_type": "code",
   "execution_count": 118,
   "id": "0bee4eb4-bd3f-45ec-b6a5-811b1cdd577a",
   "metadata": {},
   "outputs": [],
   "source": [
    "y_preds_ab = ab_model.predict(X_test)"
   ]
  },
  {
   "cell_type": "markdown",
   "id": "cdceba4a-95c3-4938-ba6b-f3b45d51f8dc",
   "metadata": {},
   "source": [
    "Default Adaboost didn't perform well on the data."
   ]
  },
  {
   "cell_type": "code",
   "execution_count": 119,
   "id": "69bd98b1-8d8a-413e-9909-ceb49a422896",
   "metadata": {},
   "outputs": [
    {
     "name": "stdout",
     "output_type": "stream",
     "text": [
      "Accuracy is: 0.98\n",
      "Precision is: 0.00\n",
      "Recall is: 0.00\n",
      "Fscore is: 0.00\n",
      "AUC is: 0.50\n"
     ]
    }
   ],
   "source": [
    "evaluate_metrics(y_test, y_preds_ab)"
   ]
  },
  {
   "cell_type": "markdown",
   "id": "5e4568e3-24c9-4116-bcae-9ba5b8b3ab47",
   "metadata": {},
   "source": [
    "In Adaboost there is no class_weight like parameter to give certain class more weightage. So, we will use GridSearchCV's sample_weight parameter to give weightage to positive class. In the below cell weightage is defined."
   ]
  },
  {
   "cell_type": "code",
   "execution_count": 120,
   "id": "06394585-9b9e-4781-9611-7e988878ab06",
   "metadata": {},
   "outputs": [],
   "source": [
    "sample_weights_ab = compute_sample_weight('balanced', y_train)"
   ]
  },
  {
   "cell_type": "markdown",
   "id": "ddacff3b-e569-4723-83d7-64f7d73ce74a",
   "metadata": {},
   "source": [
    "Let's tune the hyper-parameter of the AdaboostClassifier.(Below cells can be uncommented to do the hyper-parameter tuning.)"
   ]
  },
  {
   "cell_type": "code",
   "execution_count": 121,
   "id": "c79f1e5a-c6c4-4fcc-bf0a-3b353eae9c23",
   "metadata": {},
   "outputs": [],
   "source": [
    "# param_grid_ab = {\n",
    "#     'learning_rate': [0.001,0.01, 0.1, 1],\n",
    "#     'n_estimators': [30,50, 100,200,300],\n",
    "#     'algorithm': ['SAMME.R','SAMME']\n",
    "# }"
   ]
  },
  {
   "cell_type": "code",
   "execution_count": 122,
   "id": "e3e0a8c8-2fce-4845-bc85-fcb66c0a915d",
   "metadata": {},
   "outputs": [],
   "source": [
    "# cv = StratifiedKFold(n_splits=5)"
   ]
  },
  {
   "cell_type": "code",
   "execution_count": 123,
   "id": "7c380adb-cd34-4594-8c3c-48087600cca5",
   "metadata": {},
   "outputs": [],
   "source": [
    "# ab_grid_search = GridSearchCV(estimator = ab_model, \n",
    "#                            param_grid = param_grid_ab, \n",
    "#                            scoring='roc_auc',\n",
    "#                            cv = cv,n_jobs=8)"
   ]
  },
  {
   "cell_type": "code",
   "execution_count": 124,
   "id": "7ae20e55-ec4f-455f-bfbb-31c1cf65b822",
   "metadata": {},
   "outputs": [],
   "source": [
    "# ab_grid_search.fit(X_train,y_train,sample_weight=sample_weights_ab)"
   ]
  },
  {
   "cell_type": "code",
   "execution_count": 125,
   "id": "da6bc1dd-89f5-41d7-9a63-51167a6c9c93",
   "metadata": {},
   "outputs": [],
   "source": [
    "# ab_grid_search_best=ab_grid_search.best_estimator_\n",
    "# print(ab_grid_search_best.get_params())"
   ]
  },
  {
   "cell_type": "code",
   "execution_count": 126,
   "id": "c096b7a3-cb4d-47ec-ad82-e4d6c4e2de46",
   "metadata": {},
   "outputs": [],
   "source": [
    "# y_preds_ab_grid_search_best=ab_grid_search_best.predict(X_test)"
   ]
  },
  {
   "cell_type": "code",
   "execution_count": 127,
   "id": "98b5d2c8-982d-4e61-bc47-bed3c2985625",
   "metadata": {},
   "outputs": [],
   "source": [
    "# evaluate_metrics(y_test, y_preds_ab_grid_search_best)"
   ]
  },
  {
   "cell_type": "markdown",
   "id": "df9e245e-2c19-4307-8cef-77d4900e7320",
   "metadata": {},
   "source": [
    "Now we will build a model with tuned hyper-parameters."
   ]
  },
  {
   "cell_type": "code",
   "execution_count": 128,
   "id": "95d9f216-acd9-4f0f-8082-6ce414d9b3ff",
   "metadata": {},
   "outputs": [],
   "source": [
    "ab_class_weight_hp_tuned=AdaBoostClassifier(algorithm ='SAMME.R',\n",
    "                                            estimator = None,  learning_rate = 0.1, \n",
    "                                            n_estimators = 200, random_state = rs)"
   ]
  },
  {
   "cell_type": "code",
   "execution_count": 129,
   "id": "8d29bc86-ed87-4dae-b815-5f9fbfcb2970",
   "metadata": {},
   "outputs": [
    {
     "data": {
      "text/html": [
       "<style>#sk-container-id-9 {color: black;background-color: white;}#sk-container-id-9 pre{padding: 0;}#sk-container-id-9 div.sk-toggleable {background-color: white;}#sk-container-id-9 label.sk-toggleable__label {cursor: pointer;display: block;width: 100%;margin-bottom: 0;padding: 0.3em;box-sizing: border-box;text-align: center;}#sk-container-id-9 label.sk-toggleable__label-arrow:before {content: \"▸\";float: left;margin-right: 0.25em;color: #696969;}#sk-container-id-9 label.sk-toggleable__label-arrow:hover:before {color: black;}#sk-container-id-9 div.sk-estimator:hover label.sk-toggleable__label-arrow:before {color: black;}#sk-container-id-9 div.sk-toggleable__content {max-height: 0;max-width: 0;overflow: hidden;text-align: left;background-color: #f0f8ff;}#sk-container-id-9 div.sk-toggleable__content pre {margin: 0.2em;color: black;border-radius: 0.25em;background-color: #f0f8ff;}#sk-container-id-9 input.sk-toggleable__control:checked~div.sk-toggleable__content {max-height: 200px;max-width: 100%;overflow: auto;}#sk-container-id-9 input.sk-toggleable__control:checked~label.sk-toggleable__label-arrow:before {content: \"▾\";}#sk-container-id-9 div.sk-estimator input.sk-toggleable__control:checked~label.sk-toggleable__label {background-color: #d4ebff;}#sk-container-id-9 div.sk-label input.sk-toggleable__control:checked~label.sk-toggleable__label {background-color: #d4ebff;}#sk-container-id-9 input.sk-hidden--visually {border: 0;clip: rect(1px 1px 1px 1px);clip: rect(1px, 1px, 1px, 1px);height: 1px;margin: -1px;overflow: hidden;padding: 0;position: absolute;width: 1px;}#sk-container-id-9 div.sk-estimator {font-family: monospace;background-color: #f0f8ff;border: 1px dotted black;border-radius: 0.25em;box-sizing: border-box;margin-bottom: 0.5em;}#sk-container-id-9 div.sk-estimator:hover {background-color: #d4ebff;}#sk-container-id-9 div.sk-parallel-item::after {content: \"\";width: 100%;border-bottom: 1px solid gray;flex-grow: 1;}#sk-container-id-9 div.sk-label:hover label.sk-toggleable__label {background-color: #d4ebff;}#sk-container-id-9 div.sk-serial::before {content: \"\";position: absolute;border-left: 1px solid gray;box-sizing: border-box;top: 0;bottom: 0;left: 50%;z-index: 0;}#sk-container-id-9 div.sk-serial {display: flex;flex-direction: column;align-items: center;background-color: white;padding-right: 0.2em;padding-left: 0.2em;position: relative;}#sk-container-id-9 div.sk-item {position: relative;z-index: 1;}#sk-container-id-9 div.sk-parallel {display: flex;align-items: stretch;justify-content: center;background-color: white;position: relative;}#sk-container-id-9 div.sk-item::before, #sk-container-id-9 div.sk-parallel-item::before {content: \"\";position: absolute;border-left: 1px solid gray;box-sizing: border-box;top: 0;bottom: 0;left: 50%;z-index: -1;}#sk-container-id-9 div.sk-parallel-item {display: flex;flex-direction: column;z-index: 1;position: relative;background-color: white;}#sk-container-id-9 div.sk-parallel-item:first-child::after {align-self: flex-end;width: 50%;}#sk-container-id-9 div.sk-parallel-item:last-child::after {align-self: flex-start;width: 50%;}#sk-container-id-9 div.sk-parallel-item:only-child::after {width: 0;}#sk-container-id-9 div.sk-dashed-wrapped {border: 1px dashed gray;margin: 0 0.4em 0.5em 0.4em;box-sizing: border-box;padding-bottom: 0.4em;background-color: white;}#sk-container-id-9 div.sk-label label {font-family: monospace;font-weight: bold;display: inline-block;line-height: 1.2em;}#sk-container-id-9 div.sk-label-container {text-align: center;}#sk-container-id-9 div.sk-container {/* jupyter's `normalize.less` sets `[hidden] { display: none; }` but bootstrap.min.css set `[hidden] { display: none !important; }` so we also need the `!important` here to be able to override the default hidden behavior on the sphinx rendered scikit-learn.org. See: https://github.com/scikit-learn/scikit-learn/issues/21755 */display: inline-block !important;position: relative;}#sk-container-id-9 div.sk-text-repr-fallback {display: none;}</style><div id=\"sk-container-id-9\" class=\"sk-top-container\"><div class=\"sk-text-repr-fallback\"><pre>AdaBoostClassifier(learning_rate=0.1, n_estimators=200, random_state=12)</pre><b>In a Jupyter environment, please rerun this cell to show the HTML representation or trust the notebook. <br />On GitHub, the HTML representation is unable to render, please try loading this page with nbviewer.org.</b></div><div class=\"sk-container\" hidden><div class=\"sk-item\"><div class=\"sk-estimator sk-toggleable\"><input class=\"sk-toggleable__control sk-hidden--visually\" id=\"sk-estimator-id-13\" type=\"checkbox\" checked><label for=\"sk-estimator-id-13\" class=\"sk-toggleable__label sk-toggleable__label-arrow\">AdaBoostClassifier</label><div class=\"sk-toggleable__content\"><pre>AdaBoostClassifier(learning_rate=0.1, n_estimators=200, random_state=12)</pre></div></div></div></div></div>"
      ],
      "text/plain": [
       "AdaBoostClassifier(learning_rate=0.1, n_estimators=200, random_state=12)"
      ]
     },
     "execution_count": 129,
     "metadata": {},
     "output_type": "execute_result"
    }
   ],
   "source": [
    "ab_class_weight_hp_tuned.fit(X_train, y_train,sample_weight=sample_weights_ab)"
   ]
  },
  {
   "cell_type": "code",
   "execution_count": 130,
   "id": "5ed92e02-d796-424d-ad61-12f3c8e07796",
   "metadata": {},
   "outputs": [],
   "source": [
    "y_preds_ab_class_weight_hp_tuned=ab_class_weight_hp_tuned.predict(X_test)"
   ]
  },
  {
   "cell_type": "markdown",
   "id": "a7dac5f4-262c-490f-a7c5-9862ec0f63ed",
   "metadata": {},
   "source": [
    "The score of this is slight improvement over the RandomForestModel."
   ]
  },
  {
   "cell_type": "code",
   "execution_count": 131,
   "id": "5834efac-ae96-4610-b872-775371774a8d",
   "metadata": {},
   "outputs": [
    {
     "name": "stdout",
     "output_type": "stream",
     "text": [
      "Accuracy is: 0.73\n",
      "Precision is: 0.06\n",
      "Recall is: 0.75\n",
      "Fscore is: 0.22\n",
      "AUC is: 0.74\n"
     ]
    }
   ],
   "source": [
    "evaluate_metrics(y_test, y_preds_ab_class_weight_hp_tuned)"
   ]
  },
  {
   "cell_type": "markdown",
   "id": "b6c7ee00-47a8-4d79-9599-b4d51ea1a425",
   "metadata": {},
   "source": [
    "#### AdaBoostClassifier explanation with Permutation Feature Importance"
   ]
  },
  {
   "cell_type": "code",
   "execution_count": 132,
   "id": "0f638e37-0920-4164-a1e2-61bb732cbad9",
   "metadata": {},
   "outputs": [],
   "source": [
    "feature_importances_ab = permutation_importance(estimator = ab_class_weight_hp_tuned, X = X_train, y = y_train, n_repeats=5,\n",
    "                                random_state=rs, n_jobs=8)\n"
   ]
  },
  {
   "cell_type": "markdown",
   "id": "62698286-2b6d-4f98-bd14-35e3aac9b0b6",
   "metadata": {},
   "source": [
    "The below chart give us the importance of features, according to current model, for 'stroke' "
   ]
  },
  {
   "cell_type": "code",
   "execution_count": 133,
   "id": "415d7a89-5408-49c7-9b03-a969ec3cee3a",
   "metadata": {},
   "outputs": [
    {
     "data": {
      "image/png": "[encoded data removed]",
      "text/plain": [
       "<Figure size 1152x720 with 1 Axes>"
      ]
     },
     "metadata": {
      "needs_background": "light"
     },
     "output_type": "display_data"
    }
   ],
   "source": [
    "visualize_feature_importance(feature_importances_ab)"
   ]
  },
  {
   "cell_type": "markdown",
   "id": "ece1672d-c3ff-4be1-8878-8ddb324674b3",
   "metadata": {},
   "source": [
    "Let's take a instance of data with index 55 in test set. \n",
    "\n",
    "Let's see what class in assigned to this instance by AdaBoostClassifier.."
   ]
  },
  {
   "cell_type": "code",
   "execution_count": 134,
   "id": "c5d5da3b-4cc0-4cd0-81ee-65554bd26a9d",
   "metadata": {},
   "outputs": [
    {
     "data": {
      "text/plain": [
       "array([1], dtype=int64)"
      ]
     },
     "execution_count": 134,
     "metadata": {},
     "output_type": "execute_result"
    }
   ],
   "source": [
    "ab_class_weight_hp_tuned.predict(selected_instance_55)"
   ]
  },
  {
   "cell_type": "markdown",
   "id": "71107a5e-886c-41b9-9136-38bb1fd31e36",
   "metadata": {},
   "source": [
    "Now we we try to understand why our model thing that this class belongs to 'stroke' class 1."
   ]
  },
  {
   "cell_type": "code",
   "execution_count": 135,
   "id": "e73a37b0-bee4-4a4b-82ef-9eb09fb76df6",
   "metadata": {},
   "outputs": [
    {
     "name": "stdout",
     "output_type": "stream",
     "text": [
      "Intercept 0.4868151857259181\n",
      "Prediction_local [0.52410887]\n",
      "Right: 0.5205735224456782\n"
     ]
    },
    {
     "data": {
      "image/png": "[encoded data removed]",
      "text/plain": [
       "<Figure size 432x288 with 1 Axes>"
      ]
     },
     "metadata": {
      "needs_background": "light"
     },
     "output_type": "display_data"
    }
   ],
   "source": [
    "exp_rf_55 = explainer.explain_instance(\n",
    "                                 lime_test_instance_55, \n",
    "                                 ab_class_weight_hp_tuned.predict_proba,\n",
    "                                 num_features=10)\n",
    "exp_rf_55.as_pyplot_figure();"
   ]
  },
  {
   "cell_type": "markdown",
   "id": "9f34f006-119e-4c1f-92fa-917f08cf1bfa",
   "metadata": {},
   "source": [
    "The reason of that is clearly again high 'age' and presence of 'heart_disease' and high 'avg_glucose_level'as also predicted by RandomForest"
   ]
  },
  {
   "cell_type": "markdown",
   "id": "686f6e02-4c4a-45dc-8f5c-f00643ea3ad2",
   "metadata": {},
   "source": [
    "#### ii) XGBClassifier"
   ]
  },
  {
   "cell_type": "markdown",
   "id": "83bd0258-9fd5-4893-a877-5a3b9b82953b",
   "metadata": {},
   "source": [
    "In this section we will use another Boosting algorithm called XGBoost. We will directly directly dive into the hyper-parameter tuning of the XGBClassifier with Class Reweighting. In this model scale_pos_weight hyper-parameter will help us in Class Reweighting.(Uncommented the belows cells to get the tuned hyper-parameter)"
   ]
  },
  {
   "cell_type": "code",
   "execution_count": 136,
   "id": "3c02b611-e3fe-47e9-bbaf-79f367ad8cdd",
   "metadata": {},
   "outputs": [],
   "source": [
    "# param_grid_xgb = {\n",
    "#     'learning_rate': [0.1, 0.2, 0.5],\n",
    "#     'max_depth': [1,3, 6],\n",
    "#     'n_estimators': [50,100,200],\n",
    "#     'scale_pos_weight': [50,75,90],\n",
    "#     'reg_alpha':[0, 1, 10]\n",
    "# }\n"
   ]
  },
  {
   "cell_type": "code",
   "execution_count": 137,
   "id": "46acd584-be36-440b-a2d7-4f95f0356c7e",
   "metadata": {},
   "outputs": [],
   "source": [
    "# cv = StratifiedKFold(n_splits=5)"
   ]
  },
  {
   "cell_type": "code",
   "execution_count": 138,
   "id": "15728a8f-71d9-4a06-b42a-a167ac422bf7",
   "metadata": {},
   "outputs": [],
   "source": [
    "# xgb_grid_search = GridSearchCV(estimator = xgb_model, \n",
    "#                            param_grid = param_grid_xgb, \n",
    "#                            scoring='roc_auc',\n",
    "#                            cv = cv,n_jobs=8)"
   ]
  },
  {
   "cell_type": "code",
   "execution_count": 139,
   "id": "887288eb-9ff1-4bda-b0ff-6f1a49aa6d09",
   "metadata": {},
   "outputs": [],
   "source": [
    "# xgb_grid_search.fit(X_train,y_train)"
   ]
  },
  {
   "cell_type": "code",
   "execution_count": 140,
   "id": "fede736a-93f6-4185-a7ec-9d82bdad43f8",
   "metadata": {},
   "outputs": [],
   "source": [
    "# xgb_grid_search_best=xgb_grid_search.best_estimator_\n",
    "# print(xgb_grid_search_best.get_params())"
   ]
  },
  {
   "cell_type": "code",
   "execution_count": 141,
   "id": "6d5cc84d-ec10-466f-8568-60ab318ebe23",
   "metadata": {},
   "outputs": [],
   "source": [
    "# y_preds_xgb_grid_search_best=xgb_grid_search_best.predict(X_test)"
   ]
  },
  {
   "cell_type": "code",
   "execution_count": 142,
   "id": "58e9adcf-0aed-4708-8eec-dc3bc4cb9b27",
   "metadata": {},
   "outputs": [],
   "source": [
    "# evaluate_metrics(y_test, y_preds_xgb_grid_search_best)"
   ]
  },
  {
   "cell_type": "markdown",
   "id": "efadfb80-e28c-47bb-9bb8-6bec0d8b07f0",
   "metadata": {},
   "source": [
    "Let's build a XGBClassifier Model with tuned hyper-parameters."
   ]
  },
  {
   "cell_type": "code",
   "execution_count": 143,
   "id": "b17b5aa7-a797-43ec-8551-2a3a47e606dd",
   "metadata": {},
   "outputs": [],
   "source": [
    "xgb_class_weight_hp_tuned = XGBClassifier(objective = 'binary:logistic', \n",
    "                                           learning_rate = 0.1, max_depth = 1,\n",
    "                                           n_estimators = 200, n_jobs = 8,  random_state = rs, \n",
    "                                           reg_alpha = 10, scale_pos_weight = 50)"
   ]
  },
  {
   "cell_type": "code",
   "execution_count": 144,
   "id": "8fbf211f-0326-4ea9-994d-9c20d2602e8a",
   "metadata": {},
   "outputs": [
    {
     "data": {
      "text/html": [
       "<style>#sk-container-id-10 {color: black;background-color: white;}#sk-container-id-10 pre{padding: 0;}#sk-container-id-10 div.sk-toggleable {background-color: white;}#sk-container-id-10 label.sk-toggleable__label {cursor: pointer;display: block;width: 100%;margin-bottom: 0;padding: 0.3em;box-sizing: border-box;text-align: center;}#sk-container-id-10 label.sk-toggleable__label-arrow:before {content: \"▸\";float: left;margin-right: 0.25em;color: #696969;}#sk-container-id-10 label.sk-toggleable__label-arrow:hover:before {color: black;}#sk-container-id-10 div.sk-estimator:hover label.sk-toggleable__label-arrow:before {color: black;}#sk-container-id-10 div.sk-toggleable__content {max-height: 0;max-width: 0;overflow: hidden;text-align: left;background-color: #f0f8ff;}#sk-container-id-10 div.sk-toggleable__content pre {margin: 0.2em;color: black;border-radius: 0.25em;background-color: #f0f8ff;}#sk-container-id-10 input.sk-toggleable__control:checked~div.sk-toggleable__content {max-height: 200px;max-width: 100%;overflow: auto;}#sk-container-id-10 input.sk-toggleable__control:checked~label.sk-toggleable__label-arrow:before {content: \"▾\";}#sk-container-id-10 div.sk-estimator input.sk-toggleable__control:checked~label.sk-toggleable__label {background-color: #d4ebff;}#sk-container-id-10 div.sk-label input.sk-toggleable__control:checked~label.sk-toggleable__label {background-color: #d4ebff;}#sk-container-id-10 input.sk-hidden--visually {border: 0;clip: rect(1px 1px 1px 1px);clip: rect(1px, 1px, 1px, 1px);height: 1px;margin: -1px;overflow: hidden;padding: 0;position: absolute;width: 1px;}#sk-container-id-10 div.sk-estimator {font-family: monospace;background-color: #f0f8ff;border: 1px dotted black;border-radius: 0.25em;box-sizing: border-box;margin-bottom: 0.5em;}#sk-container-id-10 div.sk-estimator:hover {background-color: #d4ebff;}#sk-container-id-10 div.sk-parallel-item::after {content: \"\";width: 100%;border-bottom: 1px solid gray;flex-grow: 1;}#sk-container-id-10 div.sk-label:hover label.sk-toggleable__label {background-color: #d4ebff;}#sk-container-id-10 div.sk-serial::before {content: \"\";position: absolute;border-left: 1px solid gray;box-sizing: border-box;top: 0;bottom: 0;left: 50%;z-index: 0;}#sk-container-id-10 div.sk-serial {display: flex;flex-direction: column;align-items: center;background-color: white;padding-right: 0.2em;padding-left: 0.2em;position: relative;}#sk-container-id-10 div.sk-item {position: relative;z-index: 1;}#sk-container-id-10 div.sk-parallel {display: flex;align-items: stretch;justify-content: center;background-color: white;position: relative;}#sk-container-id-10 div.sk-item::before, #sk-container-id-10 div.sk-parallel-item::before {content: \"\";position: absolute;border-left: 1px solid gray;box-sizing: border-box;top: 0;bottom: 0;left: 50%;z-index: -1;}#sk-container-id-10 div.sk-parallel-item {display: flex;flex-direction: column;z-index: 1;position: relative;background-color: white;}#sk-container-id-10 div.sk-parallel-item:first-child::after {align-self: flex-end;width: 50%;}#sk-container-id-10 div.sk-parallel-item:last-child::after {align-self: flex-start;width: 50%;}#sk-container-id-10 div.sk-parallel-item:only-child::after {width: 0;}#sk-container-id-10 div.sk-dashed-wrapped {border: 1px dashed gray;margin: 0 0.4em 0.5em 0.4em;box-sizing: border-box;padding-bottom: 0.4em;background-color: white;}#sk-container-id-10 div.sk-label label {font-family: monospace;font-weight: bold;display: inline-block;line-height: 1.2em;}#sk-container-id-10 div.sk-label-container {text-align: center;}#sk-container-id-10 div.sk-container {/* jupyter's `normalize.less` sets `[hidden] { display: none; }` but bootstrap.min.css set `[hidden] { display: none !important; }` so we also need the `!important` here to be able to override the default hidden behavior on the sphinx rendered scikit-learn.org. See: https://github.com/scikit-learn/scikit-learn/issues/21755 */display: inline-block !important;position: relative;}#sk-container-id-10 div.sk-text-repr-fallback {display: none;}</style><div id=\"sk-container-id-10\" class=\"sk-top-container\"><div class=\"sk-text-repr-fallback\"><pre>XGBClassifier(base_score=None, booster=None, callbacks=None,\n",
       "              colsample_bylevel=None, colsample_bynode=None,\n",
       "              colsample_bytree=None, early_stopping_rounds=None,\n",
       "              enable_categorical=False, eval_metric=None, feature_types=None,\n",
       "              gamma=None, gpu_id=None, grow_policy=None, importance_type=None,\n",
       "              interaction_constraints=None, learning_rate=0.1, max_bin=None,\n",
       "              max_cat_threshold=None, max_cat_to_onehot=None,\n",
       "              max_delta_step=None, max_depth=1, max_leaves=None,\n",
       "              min_child_weight=None, missing=nan, monotone_constraints=None,\n",
       "              n_estimators=200, n_jobs=8, num_parallel_tree=None,\n",
       "              predictor=None, random_state=12, ...)</pre><b>In a Jupyter environment, please rerun this cell to show the HTML representation or trust the notebook. <br />On GitHub, the HTML representation is unable to render, please try loading this page with nbviewer.org.</b></div><div class=\"sk-container\" hidden><div class=\"sk-item\"><div class=\"sk-estimator sk-toggleable\"><input class=\"sk-toggleable__control sk-hidden--visually\" id=\"sk-estimator-id-14\" type=\"checkbox\" checked><label for=\"sk-estimator-id-14\" class=\"sk-toggleable__label sk-toggleable__label-arrow\">XGBClassifier</label><div class=\"sk-toggleable__content\"><pre>XGBClassifier(base_score=None, booster=None, callbacks=None,\n",
       "              colsample_bylevel=None, colsample_bynode=None,\n",
       "              colsample_bytree=None, early_stopping_rounds=None,\n",
       "              enable_categorical=False, eval_metric=None, feature_types=None,\n",
       "              gamma=None, gpu_id=None, grow_policy=None, importance_type=None,\n",
       "              interaction_constraints=None, learning_rate=0.1, max_bin=None,\n",
       "              max_cat_threshold=None, max_cat_to_onehot=None,\n",
       "              max_delta_step=None, max_depth=1, max_leaves=None,\n",
       "              min_child_weight=None, missing=nan, monotone_constraints=None,\n",
       "              n_estimators=200, n_jobs=8, num_parallel_tree=None,\n",
       "              predictor=None, random_state=12, ...)</pre></div></div></div></div></div>"
      ],
      "text/plain": [
       "XGBClassifier(base_score=None, booster=None, callbacks=None,\n",
       "              colsample_bylevel=None, colsample_bynode=None,\n",
       "              colsample_bytree=None, early_stopping_rounds=None,\n",
       "              enable_categorical=False, eval_metric=None, feature_types=None,\n",
       "              gamma=None, gpu_id=None, grow_policy=None, importance_type=None,\n",
       "              interaction_constraints=None, learning_rate=0.1, max_bin=None,\n",
       "              max_cat_threshold=None, max_cat_to_onehot=None,\n",
       "              max_delta_step=None, max_depth=1, max_leaves=None,\n",
       "              min_child_weight=None, missing=nan, monotone_constraints=None,\n",
       "              n_estimators=200, n_jobs=8, num_parallel_tree=None,\n",
       "              predictor=None, random_state=12, ...)"
      ]
     },
     "execution_count": 144,
     "metadata": {},
     "output_type": "execute_result"
    }
   ],
   "source": [
    "xgb_class_weight_hp_tuned.fit(X_train, y_train,sample_weight=sample_weights_ab)"
   ]
  },
  {
   "cell_type": "code",
   "execution_count": 145,
   "id": "e0adb626-fa60-42a4-a1ad-b8d3a9bb36ef",
   "metadata": {},
   "outputs": [],
   "source": [
    "y_preds_xgb_class_weight_hp_tuned=ab_class_weight_hp_tuned.predict(X_test)"
   ]
  },
  {
   "cell_type": "markdown",
   "id": "9210505f-ae8e-48c8-b2dc-d457d30f4e7c",
   "metadata": {},
   "source": [
    "The scores are almost equal of that of AdaboostClassifier."
   ]
  },
  {
   "cell_type": "code",
   "execution_count": 146,
   "id": "d53e18a6-a5f1-448d-a408-5d319ab9bb85",
   "metadata": {},
   "outputs": [
    {
     "name": "stdout",
     "output_type": "stream",
     "text": [
      "Accuracy is: 0.73\n",
      "Precision is: 0.06\n",
      "Recall is: 0.75\n",
      "Fscore is: 0.22\n",
      "AUC is: 0.74\n"
     ]
    }
   ],
   "source": [
    "evaluate_metrics(y_test, y_preds_xgb_class_weight_hp_tuned)"
   ]
  },
  {
   "cell_type": "markdown",
   "id": "683954f9-c784-4d2e-8198-ee1ea1cbfb26",
   "metadata": {},
   "source": [
    "# 5. Choice of Final Model"
   ]
  },
  {
   "cell_type": "markdown",
   "id": "b77a5a50-0a0a-42cb-a491-0889a0c27b63",
   "metadata": {},
   "source": [
    "For our task AdaBoostClassifier (ab_class_weight_hp_tuned) is best model as for this model our Recall and AUC is highest. Higher Recall will ensure that 'Stroke' class 1 will be predicted correctly most of time and higher AUC will ensure that precision will also be maintained. For interpretibility Logistic Regression will be the best choice as it is simple and easy to understand and its Recall and AUC value is also good."
   ]
  },
  {
   "cell_type": "markdown",
   "id": "4b02e1c9-0d65-41e5-8cfb-9678e6d90a3f",
   "metadata": {},
   "source": [
    "# 6. Insights and key findings"
   ]
  },
  {
   "cell_type": "markdown",
   "id": "9acc64d8-eab1-409b-a3d8-2704b9804104",
   "metadata": {},
   "source": [
    "i)    Our target variable 'stroke' have class imabalance. So we decided to go with Class Reweighting method to fit our model to the data.\n",
    "\n",
    "ii)   Attributes 'bmi' and 'avg_glucose_level' had skewed distribution. So, we converted the distribution to get distribution close to normal.\n",
    "\n",
    "iii)  We find out using box-plots that 'stroke' might depend on 'age' and 'avg_glucose_level'. Statistically also we find out 'stroke' does depend        'avg_glucose_level'\n",
    "\n",
    "iv)   We find out using bar plots that 'heart_disease' and 'hypertension' have effect on 'stroke'. We statistically find out also that 'stroke' depend on 'smoking_status'.\n",
    "\n",
    "v)    We fit simple models like Logistic regression and Desicion Tree to the data with class_weight and by plotting co-efficient and tree we get a explanation of this models and find out that 'age','hypertension' and 'avg_glucose_level' have highest effect on 'stroke'.\n",
    "\n",
    "vi)   We fitted complex models like RandomForest,Adaboost and XGBoost  to the data and get better Recall and AUC value.\n",
    "\n",
    "vii) Model explanation of complex models give us expected results."
   ]
  },
  {
   "cell_type": "markdown",
   "id": "4b6ea9df-6750-4917-874a-761182600bdf",
   "metadata": {},
   "source": [
    "# 7. Next Steps"
   ]
  },
  {
   "cell_type": "markdown",
   "id": "cf393c24-3423-487b-9605-76144ffa3d6f",
   "metadata": {},
   "source": [
    "For next step we can reduce the dimension and co-linearity of the dataset using Principal Component Analysis."
   ]
  },
  {
   "cell_type": "code",
   "execution_count": 147,
   "id": "966afe8b-0c85-4610-856e-39888a4f90bf",
   "metadata": {},
   "outputs": [
    {
     "data": {
      "text/html": [
       "<style>#sk-container-id-11 {color: black;background-color: white;}#sk-container-id-11 pre{padding: 0;}#sk-container-id-11 div.sk-toggleable {background-color: white;}#sk-container-id-11 label.sk-toggleable__label {cursor: pointer;display: block;width: 100%;margin-bottom: 0;padding: 0.3em;box-sizing: border-box;text-align: center;}#sk-container-id-11 label.sk-toggleable__label-arrow:before {content: \"▸\";float: left;margin-right: 0.25em;color: #696969;}#sk-container-id-11 label.sk-toggleable__label-arrow:hover:before {color: black;}#sk-container-id-11 div.sk-estimator:hover label.sk-toggleable__label-arrow:before {color: black;}#sk-container-id-11 div.sk-toggleable__content {max-height: 0;max-width: 0;overflow: hidden;text-align: left;background-color: #f0f8ff;}#sk-container-id-11 div.sk-toggleable__content pre {margin: 0.2em;color: black;border-radius: 0.25em;background-color: #f0f8ff;}#sk-container-id-11 input.sk-toggleable__control:checked~div.sk-toggleable__content {max-height: 200px;max-width: 100%;overflow: auto;}#sk-container-id-11 input.sk-toggleable__control:checked~label.sk-toggleable__label-arrow:before {content: \"▾\";}#sk-container-id-11 div.sk-estimator input.sk-toggleable__control:checked~label.sk-toggleable__label {background-color: #d4ebff;}#sk-container-id-11 div.sk-label input.sk-toggleable__control:checked~label.sk-toggleable__label {background-color: #d4ebff;}#sk-container-id-11 input.sk-hidden--visually {border: 0;clip: rect(1px 1px 1px 1px);clip: rect(1px, 1px, 1px, 1px);height: 1px;margin: -1px;overflow: hidden;padding: 0;position: absolute;width: 1px;}#sk-container-id-11 div.sk-estimator {font-family: monospace;background-color: #f0f8ff;border: 1px dotted black;border-radius: 0.25em;box-sizing: border-box;margin-bottom: 0.5em;}#sk-container-id-11 div.sk-estimator:hover {background-color: #d4ebff;}#sk-container-id-11 div.sk-parallel-item::after {content: \"\";width: 100%;border-bottom: 1px solid gray;flex-grow: 1;}#sk-container-id-11 div.sk-label:hover label.sk-toggleable__label {background-color: #d4ebff;}#sk-container-id-11 div.sk-serial::before {content: \"\";position: absolute;border-left: 1px solid gray;box-sizing: border-box;top: 0;bottom: 0;left: 50%;z-index: 0;}#sk-container-id-11 div.sk-serial {display: flex;flex-direction: column;align-items: center;background-color: white;padding-right: 0.2em;padding-left: 0.2em;position: relative;}#sk-container-id-11 div.sk-item {position: relative;z-index: 1;}#sk-container-id-11 div.sk-parallel {display: flex;align-items: stretch;justify-content: center;background-color: white;position: relative;}#sk-container-id-11 div.sk-item::before, #sk-container-id-11 div.sk-parallel-item::before {content: \"\";position: absolute;border-left: 1px solid gray;box-sizing: border-box;top: 0;bottom: 0;left: 50%;z-index: -1;}#sk-container-id-11 div.sk-parallel-item {display: flex;flex-direction: column;z-index: 1;position: relative;background-color: white;}#sk-container-id-11 div.sk-parallel-item:first-child::after {align-self: flex-end;width: 50%;}#sk-container-id-11 div.sk-parallel-item:last-child::after {align-self: flex-start;width: 50%;}#sk-container-id-11 div.sk-parallel-item:only-child::after {width: 0;}#sk-container-id-11 div.sk-dashed-wrapped {border: 1px dashed gray;margin: 0 0.4em 0.5em 0.4em;box-sizing: border-box;padding-bottom: 0.4em;background-color: white;}#sk-container-id-11 div.sk-label label {font-family: monospace;font-weight: bold;display: inline-block;line-height: 1.2em;}#sk-container-id-11 div.sk-label-container {text-align: center;}#sk-container-id-11 div.sk-container {/* jupyter's `normalize.less` sets `[hidden] { display: none; }` but bootstrap.min.css set `[hidden] { display: none !important; }` so we also need the `!important` here to be able to override the default hidden behavior on the sphinx rendered scikit-learn.org. See: https://github.com/scikit-learn/scikit-learn/issues/21755 */display: inline-block !important;position: relative;}#sk-container-id-11 div.sk-text-repr-fallback {display: none;}</style><div id=\"sk-container-id-11\" class=\"sk-top-container\"><div class=\"sk-text-repr-fallback\"><pre>PCA()</pre><b>In a Jupyter environment, please rerun this cell to show the HTML representation or trust the notebook. <br />On GitHub, the HTML representation is unable to render, please try loading this page with nbviewer.org.</b></div><div class=\"sk-container\" hidden><div class=\"sk-item\"><div class=\"sk-estimator sk-toggleable\"><input class=\"sk-toggleable__control sk-hidden--visually\" id=\"sk-estimator-id-15\" type=\"checkbox\" checked><label for=\"sk-estimator-id-15\" class=\"sk-toggleable__label sk-toggleable__label-arrow\">PCA</label><div class=\"sk-toggleable__content\"><pre>PCA()</pre></div></div></div></div></div>"
      ],
      "text/plain": [
       "PCA()"
      ]
     },
     "execution_count": 147,
     "metadata": {},
     "output_type": "execute_result"
    }
   ],
   "source": [
    "from sklearn.decomposition import PCA\n",
    "pca = PCA()\n",
    "pca.fit(X_train)"
   ]
  },
  {
   "cell_type": "code",
   "execution_count": 148,
   "id": "87409718-960c-4bc8-8d9a-2cca3e1cfa1e",
   "metadata": {},
   "outputs": [
    {
     "name": "stdout",
     "output_type": "stream",
     "text": [
      "(24086, 20)\n"
     ]
    }
   ],
   "source": [
    "X_train_hat = pca.transform(X_train)\n",
    "print(X_train_hat.shape)"
   ]
  },
  {
   "cell_type": "markdown",
   "id": "0ec48aae-6412-4abb-babb-b22394f2cf3c",
   "metadata": {},
   "source": [
    "From the below graph we can see that arond 12 PCA component can explain all the variance of the dataset."
   ]
  },
  {
   "cell_type": "code",
   "execution_count": 149,
   "id": "66f10831-a8f0-4578-8949-332283630923",
   "metadata": {},
   "outputs": [
    {
     "data": {
      "text/plain": [
       "Text(0.5, 1.0, 'Component-wise variance and cumulative explained variance')"
      ]
     },
     "execution_count": 149,
     "metadata": {},
     "output_type": "execute_result"
    },
    {
     "data": {
      "image/png": "[encoded data removed]",
      "text/plain": [
       "<Figure size 432x288 with 1 Axes>"
      ]
     },
     "metadata": {
      "needs_background": "light"
     },
     "output_type": "display_data"
    }
   ],
   "source": [
    "plt.plot(pca.explained_variance_ratio_)\n",
    "plt.plot(np.cumsum(pca.explained_variance_ratio_))\n",
    "plt.title(\"Component-wise variance and cumulative explained variance\")"
   ]
  },
  {
   "cell_type": "code",
   "execution_count": 150,
   "id": "ae274d75-5444-4b68-bfe9-3e98e2e53da0",
   "metadata": {},
   "outputs": [
    {
     "data": {
      "text/html": [
       "<div>\n",
       "<style scoped>\n",
       "    .dataframe tbody tr th:only-of-type {\n",
       "        vertical-align: middle;\n",
       "    }\n",
       "\n",
       "    .dataframe tbody tr th {\n",
       "        vertical-align: top;\n",
       "    }\n",
       "\n",
       "    .dataframe thead th {\n",
       "        text-align: right;\n",
       "    }\n",
       "</style>\n",
       "<table border=\"1\" class=\"dataframe\">\n",
       "  <thead>\n",
       "    <tr style=\"text-align: right;\">\n",
       "      <th></th>\n",
       "      <th>Projection  on Component 1</th>\n",
       "      <th>Projection  on Component 2</th>\n",
       "      <th>Projection  on Component 3</th>\n",
       "      <th>Projection  on Component 4</th>\n",
       "      <th>Projection  on Component 5</th>\n",
       "      <th>Projection  on Component 6</th>\n",
       "      <th>Projection  on Component 7</th>\n",
       "      <th>Projection  on Component 8</th>\n",
       "      <th>Projection  on Component 9</th>\n",
       "      <th>Projection  on Component 10</th>\n",
       "      <th>Projection  on Component 11</th>\n",
       "      <th>Projection  on Component 12</th>\n",
       "      <th>Projection  on Component 13</th>\n",
       "      <th>Projection  on Component 14</th>\n",
       "      <th>Projection  on Component 15</th>\n",
       "      <th>Projection  on Component 16</th>\n",
       "      <th>Projection  on Component 17</th>\n",
       "      <th>Projection  on Component 18</th>\n",
       "      <th>Projection  on Component 19</th>\n",
       "      <th>Projection  on Component 20</th>\n",
       "    </tr>\n",
       "  </thead>\n",
       "  <tbody>\n",
       "    <tr>\n",
       "      <th>0</th>\n",
       "      <td>1.513380</td>\n",
       "      <td>0.827509</td>\n",
       "      <td>-0.734243</td>\n",
       "      <td>0.671974</td>\n",
       "      <td>-0.326984</td>\n",
       "      <td>-0.919682</td>\n",
       "      <td>0.138435</td>\n",
       "      <td>-0.138994</td>\n",
       "      <td>0.745018</td>\n",
       "      <td>-0.023561</td>\n",
       "      <td>-0.001464</td>\n",
       "      <td>-0.000701</td>\n",
       "      <td>-0.079133</td>\n",
       "      <td>-0.009685</td>\n",
       "      <td>-0.000590</td>\n",
       "      <td>-1.837310e-14</td>\n",
       "      <td>-1.034748e-14</td>\n",
       "      <td>1.330316e-14</td>\n",
       "      <td>7.452465e-15</td>\n",
       "      <td>3.335093e-15</td>\n",
       "    </tr>\n",
       "    <tr>\n",
       "      <th>1</th>\n",
       "      <td>1.962985</td>\n",
       "      <td>0.603446</td>\n",
       "      <td>-1.015733</td>\n",
       "      <td>0.580663</td>\n",
       "      <td>-0.647087</td>\n",
       "      <td>0.154672</td>\n",
       "      <td>-0.124947</td>\n",
       "      <td>0.348982</td>\n",
       "      <td>0.121205</td>\n",
       "      <td>-0.044302</td>\n",
       "      <td>0.036309</td>\n",
       "      <td>0.033686</td>\n",
       "      <td>-0.132347</td>\n",
       "      <td>-0.013737</td>\n",
       "      <td>-0.000249</td>\n",
       "      <td>-1.762604e-14</td>\n",
       "      <td>-1.047138e-14</td>\n",
       "      <td>1.303526e-14</td>\n",
       "      <td>-9.507907e-16</td>\n",
       "      <td>3.394525e-15</td>\n",
       "    </tr>\n",
       "    <tr>\n",
       "      <th>2</th>\n",
       "      <td>-0.091623</td>\n",
       "      <td>-1.564755</td>\n",
       "      <td>-0.557198</td>\n",
       "      <td>0.491845</td>\n",
       "      <td>-0.801925</td>\n",
       "      <td>0.731839</td>\n",
       "      <td>0.767763</td>\n",
       "      <td>0.933890</td>\n",
       "      <td>1.064514</td>\n",
       "      <td>-0.224101</td>\n",
       "      <td>-0.294531</td>\n",
       "      <td>-0.149493</td>\n",
       "      <td>-0.061234</td>\n",
       "      <td>-0.009278</td>\n",
       "      <td>0.000475</td>\n",
       "      <td>-1.716453e-14</td>\n",
       "      <td>1.728772e-14</td>\n",
       "      <td>1.304398e-14</td>\n",
       "      <td>-5.250597e-17</td>\n",
       "      <td>3.627281e-15</td>\n",
       "    </tr>\n",
       "    <tr>\n",
       "      <th>3</th>\n",
       "      <td>-1.658878</td>\n",
       "      <td>0.907122</td>\n",
       "      <td>0.943316</td>\n",
       "      <td>-0.590801</td>\n",
       "      <td>0.613423</td>\n",
       "      <td>1.009925</td>\n",
       "      <td>0.375291</td>\n",
       "      <td>-0.255129</td>\n",
       "      <td>-0.140987</td>\n",
       "      <td>0.789699</td>\n",
       "      <td>-0.253723</td>\n",
       "      <td>-0.083934</td>\n",
       "      <td>0.009425</td>\n",
       "      <td>-0.003875</td>\n",
       "      <td>0.000195</td>\n",
       "      <td>2.740943e-14</td>\n",
       "      <td>1.821676e-14</td>\n",
       "      <td>-4.276419e-15</td>\n",
       "      <td>6.598729e-16</td>\n",
       "      <td>-3.334364e-15</td>\n",
       "    </tr>\n",
       "    <tr>\n",
       "      <th>4</th>\n",
       "      <td>1.477564</td>\n",
       "      <td>1.696559</td>\n",
       "      <td>1.421015</td>\n",
       "      <td>-0.541460</td>\n",
       "      <td>0.882574</td>\n",
       "      <td>0.846093</td>\n",
       "      <td>0.645562</td>\n",
       "      <td>0.254061</td>\n",
       "      <td>0.093813</td>\n",
       "      <td>-0.045046</td>\n",
       "      <td>0.003744</td>\n",
       "      <td>0.074422</td>\n",
       "      <td>1.002417</td>\n",
       "      <td>-0.049363</td>\n",
       "      <td>-0.004833</td>\n",
       "      <td>2.756187e-14</td>\n",
       "      <td>4.744213e-14</td>\n",
       "      <td>1.337360e-14</td>\n",
       "      <td>1.623489e-16</td>\n",
       "      <td>-2.782898e-15</td>\n",
       "    </tr>\n",
       "  </tbody>\n",
       "</table>\n",
       "</div>"
      ],
      "text/plain": [
       "   Projection  on Component 1  Projection  on Component 2  \\\n",
       "0                    1.513380                    0.827509   \n",
       "1                    1.962985                    0.603446   \n",
       "2                   -0.091623                   -1.564755   \n",
       "3                   -1.658878                    0.907122   \n",
       "4                    1.477564                    1.696559   \n",
       "\n",
       "   Projection  on Component 3  Projection  on Component 4  \\\n",
       "0                   -0.734243                    0.671974   \n",
       "1                   -1.015733                    0.580663   \n",
       "2                   -0.557198                    0.491845   \n",
       "3                    0.943316                   -0.590801   \n",
       "4                    1.421015                   -0.541460   \n",
       "\n",
       "   Projection  on Component 5  Projection  on Component 6  \\\n",
       "0                   -0.326984                   -0.919682   \n",
       "1                   -0.647087                    0.154672   \n",
       "2                   -0.801925                    0.731839   \n",
       "3                    0.613423                    1.009925   \n",
       "4                    0.882574                    0.846093   \n",
       "\n",
       "   Projection  on Component 7  Projection  on Component 8  \\\n",
       "0                    0.138435                   -0.138994   \n",
       "1                   -0.124947                    0.348982   \n",
       "2                    0.767763                    0.933890   \n",
       "3                    0.375291                   -0.255129   \n",
       "4                    0.645562                    0.254061   \n",
       "\n",
       "   Projection  on Component 9  Projection  on Component 10  \\\n",
       "0                    0.745018                    -0.023561   \n",
       "1                    0.121205                    -0.044302   \n",
       "2                    1.064514                    -0.224101   \n",
       "3                   -0.140987                     0.789699   \n",
       "4                    0.093813                    -0.045046   \n",
       "\n",
       "   Projection  on Component 11  Projection  on Component 12  \\\n",
       "0                    -0.001464                    -0.000701   \n",
       "1                     0.036309                     0.033686   \n",
       "2                    -0.294531                    -0.149493   \n",
       "3                    -0.253723                    -0.083934   \n",
       "4                     0.003744                     0.074422   \n",
       "\n",
       "   Projection  on Component 13  Projection  on Component 14  \\\n",
       "0                    -0.079133                    -0.009685   \n",
       "1                    -0.132347                    -0.013737   \n",
       "2                    -0.061234                    -0.009278   \n",
       "3                     0.009425                    -0.003875   \n",
       "4                     1.002417                    -0.049363   \n",
       "\n",
       "   Projection  on Component 15  Projection  on Component 16  \\\n",
       "0                    -0.000590                -1.837310e-14   \n",
       "1                    -0.000249                -1.762604e-14   \n",
       "2                     0.000475                -1.716453e-14   \n",
       "3                     0.000195                 2.740943e-14   \n",
       "4                    -0.004833                 2.756187e-14   \n",
       "\n",
       "   Projection  on Component 17  Projection  on Component 18  \\\n",
       "0                -1.034748e-14                 1.330316e-14   \n",
       "1                -1.047138e-14                 1.303526e-14   \n",
       "2                 1.728772e-14                 1.304398e-14   \n",
       "3                 1.821676e-14                -4.276419e-15   \n",
       "4                 4.744213e-14                 1.337360e-14   \n",
       "\n",
       "   Projection  on Component 19  Projection  on Component 20  \n",
       "0                 7.452465e-15                 3.335093e-15  \n",
       "1                -9.507907e-16                 3.394525e-15  \n",
       "2                -5.250597e-17                 3.627281e-15  \n",
       "3                 6.598729e-16                -3.334364e-15  \n",
       "4                 1.623489e-16                -2.782898e-15  "
      ]
     },
     "execution_count": 150,
     "metadata": {},
     "output_type": "execute_result"
    }
   ],
   "source": [
    "X_train_hat_PCA = pd.DataFrame(columns=[f'Projection  on Component {i+1}' for i in range(len(X_train.columns))], data=X_train_hat)\n",
    "X_train_hat_PCA.head()"
   ]
  },
  {
   "cell_type": "code",
   "execution_count": 151,
   "id": "f7264e9f-7796-4e46-90f5-eb981f269138",
   "metadata": {},
   "outputs": [
    {
     "name": "stdout",
     "output_type": "stream",
     "text": [
      "(6022, 20)\n"
     ]
    }
   ],
   "source": [
    "X_test_hat = pca.transform(X_test)\n",
    "print(X_test_hat.shape)"
   ]
  },
  {
   "cell_type": "code",
   "execution_count": 152,
   "id": "d6674af5-c121-47a0-a218-cad4d907df90",
   "metadata": {},
   "outputs": [
    {
     "data": {
      "text/html": [
       "<div>\n",
       "<style scoped>\n",
       "    .dataframe tbody tr th:only-of-type {\n",
       "        vertical-align: middle;\n",
       "    }\n",
       "\n",
       "    .dataframe tbody tr th {\n",
       "        vertical-align: top;\n",
       "    }\n",
       "\n",
       "    .dataframe thead th {\n",
       "        text-align: right;\n",
       "    }\n",
       "</style>\n",
       "<table border=\"1\" class=\"dataframe\">\n",
       "  <thead>\n",
       "    <tr style=\"text-align: right;\">\n",
       "      <th></th>\n",
       "      <th>Projection  on Component 1</th>\n",
       "      <th>Projection  on Component 2</th>\n",
       "      <th>Projection  on Component 3</th>\n",
       "      <th>Projection  on Component 4</th>\n",
       "      <th>Projection  on Component 5</th>\n",
       "      <th>Projection  on Component 6</th>\n",
       "      <th>Projection  on Component 7</th>\n",
       "      <th>Projection  on Component 8</th>\n",
       "      <th>Projection  on Component 9</th>\n",
       "      <th>Projection  on Component 10</th>\n",
       "      <th>Projection  on Component 11</th>\n",
       "      <th>Projection  on Component 12</th>\n",
       "      <th>Projection  on Component 13</th>\n",
       "      <th>Projection  on Component 14</th>\n",
       "      <th>Projection  on Component 15</th>\n",
       "      <th>Projection  on Component 16</th>\n",
       "      <th>Projection  on Component 17</th>\n",
       "      <th>Projection  on Component 18</th>\n",
       "      <th>Projection  on Component 19</th>\n",
       "      <th>Projection  on Component 20</th>\n",
       "    </tr>\n",
       "  </thead>\n",
       "  <tbody>\n",
       "    <tr>\n",
       "      <th>0</th>\n",
       "      <td>0.304249</td>\n",
       "      <td>1.438112</td>\n",
       "      <td>-0.143436</td>\n",
       "      <td>0.660156</td>\n",
       "      <td>-0.463629</td>\n",
       "      <td>-0.946559</td>\n",
       "      <td>-0.138142</td>\n",
       "      <td>-1.000122</td>\n",
       "      <td>-0.042399</td>\n",
       "      <td>-0.260897</td>\n",
       "      <td>0.010134</td>\n",
       "      <td>0.039189</td>\n",
       "      <td>-0.003631</td>\n",
       "      <td>-0.001560</td>\n",
       "      <td>-0.000395</td>\n",
       "      <td>-1.799226e-14</td>\n",
       "      <td>-9.891776e-15</td>\n",
       "      <td>-3.909191e-15</td>\n",
       "      <td>8.622375e-15</td>\n",
       "      <td>3.316251e-15</td>\n",
       "    </tr>\n",
       "    <tr>\n",
       "      <th>1</th>\n",
       "      <td>-0.652769</td>\n",
       "      <td>-0.674121</td>\n",
       "      <td>0.931381</td>\n",
       "      <td>-0.769352</td>\n",
       "      <td>-0.243127</td>\n",
       "      <td>-0.839663</td>\n",
       "      <td>-0.283950</td>\n",
       "      <td>0.539307</td>\n",
       "      <td>-0.313731</td>\n",
       "      <td>0.071404</td>\n",
       "      <td>-0.173618</td>\n",
       "      <td>-0.078451</td>\n",
       "      <td>0.065153</td>\n",
       "      <td>0.006809</td>\n",
       "      <td>-0.000862</td>\n",
       "      <td>-1.688683e-14</td>\n",
       "      <td>-1.006159e-14</td>\n",
       "      <td>-5.019851e-15</td>\n",
       "      <td>-7.979539e-15</td>\n",
       "      <td>-3.446438e-15</td>\n",
       "    </tr>\n",
       "    <tr>\n",
       "      <th>2</th>\n",
       "      <td>-0.508370</td>\n",
       "      <td>-1.224947</td>\n",
       "      <td>-0.952158</td>\n",
       "      <td>0.774737</td>\n",
       "      <td>0.471552</td>\n",
       "      <td>1.063454</td>\n",
       "      <td>0.368676</td>\n",
       "      <td>-0.119564</td>\n",
       "      <td>-0.001132</td>\n",
       "      <td>-0.543537</td>\n",
       "      <td>-0.204119</td>\n",
       "      <td>-0.123587</td>\n",
       "      <td>-0.055434</td>\n",
       "      <td>-0.005778</td>\n",
       "      <td>0.000497</td>\n",
       "      <td>2.719491e-14</td>\n",
       "      <td>1.679711e-14</td>\n",
       "      <td>-3.829035e-15</td>\n",
       "      <td>1.073576e-15</td>\n",
       "      <td>3.478464e-15</td>\n",
       "    </tr>\n",
       "    <tr>\n",
       "      <th>3</th>\n",
       "      <td>-1.733084</td>\n",
       "      <td>-0.576129</td>\n",
       "      <td>-0.744612</td>\n",
       "      <td>0.597493</td>\n",
       "      <td>-0.595509</td>\n",
       "      <td>-0.814711</td>\n",
       "      <td>-0.327749</td>\n",
       "      <td>0.653294</td>\n",
       "      <td>-0.196926</td>\n",
       "      <td>0.144175</td>\n",
       "      <td>-0.253515</td>\n",
       "      <td>-0.140886</td>\n",
       "      <td>0.081243</td>\n",
       "      <td>0.007782</td>\n",
       "      <td>-0.000562</td>\n",
       "      <td>-1.710600e-14</td>\n",
       "      <td>-1.009244e-14</td>\n",
       "      <td>-4.967248e-15</td>\n",
       "      <td>-8.131963e-15</td>\n",
       "      <td>3.572655e-15</td>\n",
       "    </tr>\n",
       "    <tr>\n",
       "      <th>4</th>\n",
       "      <td>-0.764289</td>\n",
       "      <td>-0.576871</td>\n",
       "      <td>2.005362</td>\n",
       "      <td>-0.528769</td>\n",
       "      <td>1.053006</td>\n",
       "      <td>-0.042396</td>\n",
       "      <td>0.811473</td>\n",
       "      <td>0.388732</td>\n",
       "      <td>-0.328189</td>\n",
       "      <td>-0.581932</td>\n",
       "      <td>-0.207250</td>\n",
       "      <td>-0.105047</td>\n",
       "      <td>-0.008056</td>\n",
       "      <td>-0.001868</td>\n",
       "      <td>-0.000926</td>\n",
       "      <td>2.743991e-14</td>\n",
       "      <td>1.650817e-14</td>\n",
       "      <td>-4.652778e-15</td>\n",
       "      <td>-6.992907e-15</td>\n",
       "      <td>-3.273108e-15</td>\n",
       "    </tr>\n",
       "  </tbody>\n",
       "</table>\n",
       "</div>"
      ],
      "text/plain": [
       "   Projection  on Component 1  Projection  on Component 2  \\\n",
       "0                    0.304249                    1.438112   \n",
       "1                   -0.652769                   -0.674121   \n",
       "2                   -0.508370                   -1.224947   \n",
       "3                   -1.733084                   -0.576129   \n",
       "4                   -0.764289                   -0.576871   \n",
       "\n",
       "   Projection  on Component 3  Projection  on Component 4  \\\n",
       "0                   -0.143436                    0.660156   \n",
       "1                    0.931381                   -0.769352   \n",
       "2                   -0.952158                    0.774737   \n",
       "3                   -0.744612                    0.597493   \n",
       "4                    2.005362                   -0.528769   \n",
       "\n",
       "   Projection  on Component 5  Projection  on Component 6  \\\n",
       "0                   -0.463629                   -0.946559   \n",
       "1                   -0.243127                   -0.839663   \n",
       "2                    0.471552                    1.063454   \n",
       "3                   -0.595509                   -0.814711   \n",
       "4                    1.053006                   -0.042396   \n",
       "\n",
       "   Projection  on Component 7  Projection  on Component 8  \\\n",
       "0                   -0.138142                   -1.000122   \n",
       "1                   -0.283950                    0.539307   \n",
       "2                    0.368676                   -0.119564   \n",
       "3                   -0.327749                    0.653294   \n",
       "4                    0.811473                    0.388732   \n",
       "\n",
       "   Projection  on Component 9  Projection  on Component 10  \\\n",
       "0                   -0.042399                    -0.260897   \n",
       "1                   -0.313731                     0.071404   \n",
       "2                   -0.001132                    -0.543537   \n",
       "3                   -0.196926                     0.144175   \n",
       "4                   -0.328189                    -0.581932   \n",
       "\n",
       "   Projection  on Component 11  Projection  on Component 12  \\\n",
       "0                     0.010134                     0.039189   \n",
       "1                    -0.173618                    -0.078451   \n",
       "2                    -0.204119                    -0.123587   \n",
       "3                    -0.253515                    -0.140886   \n",
       "4                    -0.207250                    -0.105047   \n",
       "\n",
       "   Projection  on Component 13  Projection  on Component 14  \\\n",
       "0                    -0.003631                    -0.001560   \n",
       "1                     0.065153                     0.006809   \n",
       "2                    -0.055434                    -0.005778   \n",
       "3                     0.081243                     0.007782   \n",
       "4                    -0.008056                    -0.001868   \n",
       "\n",
       "   Projection  on Component 15  Projection  on Component 16  \\\n",
       "0                    -0.000395                -1.799226e-14   \n",
       "1                    -0.000862                -1.688683e-14   \n",
       "2                     0.000497                 2.719491e-14   \n",
       "3                    -0.000562                -1.710600e-14   \n",
       "4                    -0.000926                 2.743991e-14   \n",
       "\n",
       "   Projection  on Component 17  Projection  on Component 18  \\\n",
       "0                -9.891776e-15                -3.909191e-15   \n",
       "1                -1.006159e-14                -5.019851e-15   \n",
       "2                 1.679711e-14                -3.829035e-15   \n",
       "3                -1.009244e-14                -4.967248e-15   \n",
       "4                 1.650817e-14                -4.652778e-15   \n",
       "\n",
       "   Projection  on Component 19  Projection  on Component 20  \n",
       "0                 8.622375e-15                 3.316251e-15  \n",
       "1                -7.979539e-15                -3.446438e-15  \n",
       "2                 1.073576e-15                 3.478464e-15  \n",
       "3                -8.131963e-15                 3.572655e-15  \n",
       "4                -6.992907e-15                -3.273108e-15  "
      ]
     },
     "execution_count": 152,
     "metadata": {},
     "output_type": "execute_result"
    }
   ],
   "source": [
    "X_test_hat_PCA = pd.DataFrame(columns=[f'Projection  on Component {i+1}' for i in range(len(X_train.columns))], data=X_test_hat)\n",
    "X_test_hat_PCA.head()"
   ]
  },
  {
   "cell_type": "markdown",
   "id": "d1a218bb-dd25-4309-93df-426aa92aacf8",
   "metadata": {},
   "source": [
    "We will select 12 PCA components to create attribute of our train and test set."
   ]
  },
  {
   "cell_type": "code",
   "execution_count": 153,
   "id": "b1309d52-64ec-4f12-94e6-3dc08c062f60",
   "metadata": {},
   "outputs": [],
   "source": [
    "N = 12\n",
    "X_train_hat_PCA = X_train_hat_PCA.iloc[:, :N]"
   ]
  },
  {
   "cell_type": "code",
   "execution_count": 154,
   "id": "830d542f-d8df-4c4b-a22e-f85de64ac822",
   "metadata": {},
   "outputs": [],
   "source": [
    "X_test_hat_PCA = X_test_hat_PCA.iloc[:, :N]"
   ]
  },
  {
   "cell_type": "markdown",
   "id": "6bf3afcb-b131-4bfb-abed-bea12195c9af",
   "metadata": {},
   "source": [
    "#### RandomForest using PCA transformed data with class_weight"
   ]
  },
  {
   "cell_type": "markdown",
   "id": "578f1105-2f58-4563-9225-cd8a83180036",
   "metadata": {},
   "source": [
    "We will create a RandomForestClassifier with PCA transformed data using class_weight\n",
    "\n",
    "In the below cell RandomForestClassifier is tuned."
   ]
  },
  {
   "cell_type": "code",
   "execution_count": 155,
   "id": "efed8bb9-b166-4d08-9364-ec4b0d604672",
   "metadata": {},
   "outputs": [],
   "source": [
    "# params_grid_rf_class_weight_pca = {\n",
    "#     'criterion': ['gini', 'entropy'],\n",
    "#     'max_depth': [1, 3, 5, 8],\n",
    "#     'n_estimators': [5,10,20,40],\n",
    "#     'class_weight': [{0:1, 1:50},{0:1,1:25},\"balanced_subsample\"],\n",
    "#     'max_features': [\"log2\", \"sqrt\",None],\n",
    "#     }"
   ]
  },
  {
   "cell_type": "code",
   "execution_count": 156,
   "id": "958bef70-5b3c-4265-ac25-f2e1668a076f",
   "metadata": {},
   "outputs": [],
   "source": [
    "# cv = StratifiedKFold(n_splits=5)"
   ]
  },
  {
   "cell_type": "code",
   "execution_count": 157,
   "id": "9b96d848-6428-46b0-9bf9-76f8829ec7d3",
   "metadata": {},
   "outputs": [],
   "source": [
    "# rf_pca_class_weight_grid_search = GridSearchCV(estimator = rf_model, \n",
    "#                            param_grid = params_grid_rf_class_weight_pca,\n",
    "#                            scoring='roc_auc',\n",
    "#                            cv = cv,n_jobs=8)"
   ]
  },
  {
   "cell_type": "code",
   "execution_count": 158,
   "id": "954f322b-2824-452d-8960-0c8757385e07",
   "metadata": {},
   "outputs": [],
   "source": [
    "# rf_pca_class_weight_grid_search.fit(X_train_hat_PCA,y_train)"
   ]
  },
  {
   "cell_type": "code",
   "execution_count": 159,
   "id": "481b8f69-6adc-4d72-8fb4-4960394259aa",
   "metadata": {},
   "outputs": [],
   "source": [
    "# rf_pca_class_weight_grid_search_best=rf_pca_class_weight_grid_search.best_estimator_\n",
    "# print(rf_pca_class_weight_grid_search_best.get_params())"
   ]
  },
  {
   "cell_type": "code",
   "execution_count": 160,
   "id": "f7b1b253-2eef-4429-b4f1-fa3bc78ef8f6",
   "metadata": {},
   "outputs": [],
   "source": [
    "# y_preds_rf_pca_class_weight_grid_search_best=rf_pca_class_weight_grid_search_best.predict(X_test_hat_PCA)"
   ]
  },
  {
   "cell_type": "code",
   "execution_count": 161,
   "id": "685667b3-0758-4c4f-8a60-82347234049b",
   "metadata": {},
   "outputs": [],
   "source": [
    "# evaluate_metrics(y_test, y_preds_rf_pca_class_weight_grid_search_best)"
   ]
  },
  {
   "cell_type": "markdown",
   "id": "9080015f-609a-4544-bf57-18b73ebdcba7",
   "metadata": {},
   "source": [
    "We will build a  RandomForestClassifier tuned on PCA transformed train set."
   ]
  },
  {
   "cell_type": "code",
   "execution_count": 162,
   "id": "91a047c9-b345-4930-af46-d04029cd52d9",
   "metadata": {},
   "outputs": [],
   "source": [
    "rf_pca_class_weight_hp_tuned=RandomForestClassifier(bootstrap = True,\n",
    "                                                 class_weight ={0: 1, 1: 25}, criterion = 'entropy', \n",
    "                                                  max_depth =  5, max_features = None, \n",
    "                                                 n_estimators = 40, n_jobs = 8, \n",
    "                                                 random_state = rs)"
   ]
  },
  {
   "cell_type": "code",
   "execution_count": 163,
   "id": "40cd862c-ff90-48f4-bc21-6ad46822515f",
   "metadata": {},
   "outputs": [
    {
     "data": {
      "text/html": [
       "<style>#sk-container-id-12 {color: black;background-color: white;}#sk-container-id-12 pre{padding: 0;}#sk-container-id-12 div.sk-toggleable {background-color: white;}#sk-container-id-12 label.sk-toggleable__label {cursor: pointer;display: block;width: 100%;margin-bottom: 0;padding: 0.3em;box-sizing: border-box;text-align: center;}#sk-container-id-12 label.sk-toggleable__label-arrow:before {content: \"▸\";float: left;margin-right: 0.25em;color: #696969;}#sk-container-id-12 label.sk-toggleable__label-arrow:hover:before {color: black;}#sk-container-id-12 div.sk-estimator:hover label.sk-toggleable__label-arrow:before {color: black;}#sk-container-id-12 div.sk-toggleable__content {max-height: 0;max-width: 0;overflow: hidden;text-align: left;background-color: #f0f8ff;}#sk-container-id-12 div.sk-toggleable__content pre {margin: 0.2em;color: black;border-radius: 0.25em;background-color: #f0f8ff;}#sk-container-id-12 input.sk-toggleable__control:checked~div.sk-toggleable__content {max-height: 200px;max-width: 100%;overflow: auto;}#sk-container-id-12 input.sk-toggleable__control:checked~label.sk-toggleable__label-arrow:before {content: \"▾\";}#sk-container-id-12 div.sk-estimator input.sk-toggleable__control:checked~label.sk-toggleable__label {background-color: #d4ebff;}#sk-container-id-12 div.sk-label input.sk-toggleable__control:checked~label.sk-toggleable__label {background-color: #d4ebff;}#sk-container-id-12 input.sk-hidden--visually {border: 0;clip: rect(1px 1px 1px 1px);clip: rect(1px, 1px, 1px, 1px);height: 1px;margin: -1px;overflow: hidden;padding: 0;position: absolute;width: 1px;}#sk-container-id-12 div.sk-estimator {font-family: monospace;background-color: #f0f8ff;border: 1px dotted black;border-radius: 0.25em;box-sizing: border-box;margin-bottom: 0.5em;}#sk-container-id-12 div.sk-estimator:hover {background-color: #d4ebff;}#sk-container-id-12 div.sk-parallel-item::after {content: \"\";width: 100%;border-bottom: 1px solid gray;flex-grow: 1;}#sk-container-id-12 div.sk-label:hover label.sk-toggleable__label {background-color: #d4ebff;}#sk-container-id-12 div.sk-serial::before {content: \"\";position: absolute;border-left: 1px solid gray;box-sizing: border-box;top: 0;bottom: 0;left: 50%;z-index: 0;}#sk-container-id-12 div.sk-serial {display: flex;flex-direction: column;align-items: center;background-color: white;padding-right: 0.2em;padding-left: 0.2em;position: relative;}#sk-container-id-12 div.sk-item {position: relative;z-index: 1;}#sk-container-id-12 div.sk-parallel {display: flex;align-items: stretch;justify-content: center;background-color: white;position: relative;}#sk-container-id-12 div.sk-item::before, #sk-container-id-12 div.sk-parallel-item::before {content: \"\";position: absolute;border-left: 1px solid gray;box-sizing: border-box;top: 0;bottom: 0;left: 50%;z-index: -1;}#sk-container-id-12 div.sk-parallel-item {display: flex;flex-direction: column;z-index: 1;position: relative;background-color: white;}#sk-container-id-12 div.sk-parallel-item:first-child::after {align-self: flex-end;width: 50%;}#sk-container-id-12 div.sk-parallel-item:last-child::after {align-self: flex-start;width: 50%;}#sk-container-id-12 div.sk-parallel-item:only-child::after {width: 0;}#sk-container-id-12 div.sk-dashed-wrapped {border: 1px dashed gray;margin: 0 0.4em 0.5em 0.4em;box-sizing: border-box;padding-bottom: 0.4em;background-color: white;}#sk-container-id-12 div.sk-label label {font-family: monospace;font-weight: bold;display: inline-block;line-height: 1.2em;}#sk-container-id-12 div.sk-label-container {text-align: center;}#sk-container-id-12 div.sk-container {/* jupyter's `normalize.less` sets `[hidden] { display: none; }` but bootstrap.min.css set `[hidden] { display: none !important; }` so we also need the `!important` here to be able to override the default hidden behavior on the sphinx rendered scikit-learn.org. See: https://github.com/scikit-learn/scikit-learn/issues/21755 */display: inline-block !important;position: relative;}#sk-container-id-12 div.sk-text-repr-fallback {display: none;}</style><div id=\"sk-container-id-12\" class=\"sk-top-container\"><div class=\"sk-text-repr-fallback\"><pre>RandomForestClassifier(class_weight={0: 1, 1: 25}, criterion=&#x27;entropy&#x27;,\n",
       "                       max_depth=5, max_features=None, n_estimators=40,\n",
       "                       n_jobs=8, random_state=12)</pre><b>In a Jupyter environment, please rerun this cell to show the HTML representation or trust the notebook. <br />On GitHub, the HTML representation is unable to render, please try loading this page with nbviewer.org.</b></div><div class=\"sk-container\" hidden><div class=\"sk-item\"><div class=\"sk-estimator sk-toggleable\"><input class=\"sk-toggleable__control sk-hidden--visually\" id=\"sk-estimator-id-16\" type=\"checkbox\" checked><label for=\"sk-estimator-id-16\" class=\"sk-toggleable__label sk-toggleable__label-arrow\">RandomForestClassifier</label><div class=\"sk-toggleable__content\"><pre>RandomForestClassifier(class_weight={0: 1, 1: 25}, criterion=&#x27;entropy&#x27;,\n",
       "                       max_depth=5, max_features=None, n_estimators=40,\n",
       "                       n_jobs=8, random_state=12)</pre></div></div></div></div></div>"
      ],
      "text/plain": [
       "RandomForestClassifier(class_weight={0: 1, 1: 25}, criterion='entropy',\n",
       "                       max_depth=5, max_features=None, n_estimators=40,\n",
       "                       n_jobs=8, random_state=12)"
      ]
     },
     "execution_count": 163,
     "metadata": {},
     "output_type": "execute_result"
    }
   ],
   "source": [
    "rf_pca_class_weight_hp_tuned.fit(X_train_hat_PCA,y_train)"
   ]
  },
  {
   "cell_type": "code",
   "execution_count": 164,
   "id": "68d2a177-adca-4d62-bf49-c69e283a8706",
   "metadata": {},
   "outputs": [],
   "source": [
    "y_preds_rf_pca_class_weight_hp_tuned=rf_pca_class_weight_hp_tuned.predict(X_test_hat_PCA)"
   ]
  },
  {
   "cell_type": "markdown",
   "id": "c79e3c40-ba72-48e1-9143-a026ac2075b2",
   "metadata": {},
   "source": [
    "The scores for the model is shown here."
   ]
  },
  {
   "cell_type": "code",
   "execution_count": 165,
   "id": "7ffaca48-03c5-4e07-bff3-49d995fcd24f",
   "metadata": {},
   "outputs": [
    {
     "name": "stdout",
     "output_type": "stream",
     "text": [
      "Accuracy is: 0.85\n",
      "Precision is: 0.06\n",
      "Recall is: 0.45\n",
      "Fscore is: 0.21\n",
      "AUC is: 0.66\n"
     ]
    }
   ],
   "source": [
    "evaluate_metrics(y_test, y_preds_rf_pca_class_weight_hp_tuned)"
   ]
  },
  {
   "cell_type": "markdown",
   "id": "a6fa1144-b032-4d78-850f-173bc7087caa",
   "metadata": {},
   "source": [
    "#### RandomForest using PCA transformed data with SMOTE"
   ]
  },
  {
   "cell_type": "markdown",
   "id": "fa7eb295-08ce-4985-ba9d-f38401d006fc",
   "metadata": {},
   "source": [
    "We will use SMOTE to oversmapling our data ,so the class get balanced in the train set."
   ]
  },
  {
   "cell_type": "code",
   "execution_count": 166,
   "id": "40122faa-02db-44af-a7a1-0337868c3565",
   "metadata": {},
   "outputs": [],
   "source": [
    "smote_sampler = SMOTE(random_state = rs)"
   ]
  },
  {
   "cell_type": "code",
   "execution_count": 167,
   "id": "14f7a1e7-82a1-4131-83f9-b5d15dc9d179",
   "metadata": {},
   "outputs": [],
   "source": [
    "X_smo, y_smo = smote_sampler.fit_resample(X_train_hat_PCA, y_train)"
   ]
  },
  {
   "cell_type": "code",
   "execution_count": 168,
   "id": "af99ca70-9cb5-4ecd-8c65-22ab43167e3c",
   "metadata": {},
   "outputs": [
    {
     "data": {
      "text/plain": [
       "<AxesSubplot:>"
      ]
     },
     "execution_count": 168,
     "metadata": {},
     "output_type": "execute_result"
    },
    {
     "data": {
      "image/png": "[encoded data removed]",
      "text/plain": [
       "<Figure size 432x288 with 1 Axes>"
      ]
     },
     "metadata": {
      "needs_background": "light"
     },
     "output_type": "display_data"
    }
   ],
   "source": [
    "y_smo.value_counts().plot.bar(color=['green', 'red'])"
   ]
  },
  {
   "cell_type": "code",
   "execution_count": 169,
   "id": "349602fb-ab63-479e-8a88-d4691e2c4187",
   "metadata": {},
   "outputs": [],
   "source": [
    "# params_grid_rf_pca_smote = {\n",
    "#     'criterion': ['gini', 'entropy'],\n",
    "#     'max_depth': [1, 3, 5, 8],\n",
    "#     'n_estimators': [5,10,20,40],\n",
    "#     'max_features': [\"log2\", \"sqrt\",None],\n",
    "#     }"
   ]
  },
  {
   "cell_type": "code",
   "execution_count": 170,
   "id": "cc4a030f-6f1f-4589-8cb8-db8d2e65a3d9",
   "metadata": {},
   "outputs": [],
   "source": [
    "# cv = StratifiedKFold(n_splits=5)"
   ]
  },
  {
   "cell_type": "code",
   "execution_count": 171,
   "id": "533de3ac-7613-45aa-9951-e29824a5d0a2",
   "metadata": {},
   "outputs": [],
   "source": [
    "# rf_pca_smote_grid_search = GridSearchCV(estimator = rf_model, \n",
    "#                            param_grid = params_grid_rf_pca_smote, \n",
    "#                            scoring='roc_auc',\n",
    "#                            cv = cv,n_jobs=8)"
   ]
  },
  {
   "cell_type": "code",
   "execution_count": 172,
   "id": "97e64804-5c18-4e12-8128-c379e1e5fa8b",
   "metadata": {},
   "outputs": [],
   "source": [
    "# rf_pca_smote_grid_search.fit(X_smo,y_smo)"
   ]
  },
  {
   "cell_type": "code",
   "execution_count": 173,
   "id": "68e5cee9-8a26-4072-9950-a1db7e2f0da1",
   "metadata": {},
   "outputs": [],
   "source": [
    "# rf_pca_smote_grid_search_best=rf_pca_smote_grid_search.best_estimator_\n",
    "# print(rf_pca_smote_grid_search_best.get_params())"
   ]
  },
  {
   "cell_type": "code",
   "execution_count": 174,
   "id": "18c92d4e-509c-403c-a9be-1f4de60a154d",
   "metadata": {},
   "outputs": [],
   "source": [
    "# y_preds_rf_pca_smote_grid_search_best=rf_pca_smote_grid_search_best.predict(X_test_hat_PCA)"
   ]
  },
  {
   "cell_type": "code",
   "execution_count": 175,
   "id": "796ff9b6-c345-4bc5-87d4-43b9b9870217",
   "metadata": {},
   "outputs": [],
   "source": [
    "# evaluate_metrics(y_test, y_preds_rf_pca_smote_grid_search_best)"
   ]
  },
  {
   "cell_type": "markdown",
   "id": "1575bf01-14ed-4db7-a3ff-fa2eb0f6c4c3",
   "metadata": {},
   "source": [
    "Hyper-parameter tuned model is shown here along with all the score."
   ]
  },
  {
   "cell_type": "code",
   "execution_count": 176,
   "id": "8dcd8b99-b12a-4a21-909a-a384506d67de",
   "metadata": {},
   "outputs": [],
   "source": [
    "rf_pca_smote_hp_tuned=RandomForestClassifier(bootstrap = True, criterion = 'gini', \n",
    "                                                  max_depth =  8, max_features = None, \n",
    "                                                 n_estimators = 40, n_jobs = 8, \n",
    "                                                 random_state = rs)"
   ]
  },
  {
   "cell_type": "code",
   "execution_count": 177,
   "id": "9d55cb1a-3852-4a5c-9ff8-7a2791850fac",
   "metadata": {},
   "outputs": [
    {
     "data": {
      "text/html": [
       "<style>#sk-container-id-13 {color: black;background-color: white;}#sk-container-id-13 pre{padding: 0;}#sk-container-id-13 div.sk-toggleable {background-color: white;}#sk-container-id-13 label.sk-toggleable__label {cursor: pointer;display: block;width: 100%;margin-bottom: 0;padding: 0.3em;box-sizing: border-box;text-align: center;}#sk-container-id-13 label.sk-toggleable__label-arrow:before {content: \"▸\";float: left;margin-right: 0.25em;color: #696969;}#sk-container-id-13 label.sk-toggleable__label-arrow:hover:before {color: black;}#sk-container-id-13 div.sk-estimator:hover label.sk-toggleable__label-arrow:before {color: black;}#sk-container-id-13 div.sk-toggleable__content {max-height: 0;max-width: 0;overflow: hidden;text-align: left;background-color: #f0f8ff;}#sk-container-id-13 div.sk-toggleable__content pre {margin: 0.2em;color: black;border-radius: 0.25em;background-color: #f0f8ff;}#sk-container-id-13 input.sk-toggleable__control:checked~div.sk-toggleable__content {max-height: 200px;max-width: 100%;overflow: auto;}#sk-container-id-13 input.sk-toggleable__control:checked~label.sk-toggleable__label-arrow:before {content: \"▾\";}#sk-container-id-13 div.sk-estimator input.sk-toggleable__control:checked~label.sk-toggleable__label {background-color: #d4ebff;}#sk-container-id-13 div.sk-label input.sk-toggleable__control:checked~label.sk-toggleable__label {background-color: #d4ebff;}#sk-container-id-13 input.sk-hidden--visually {border: 0;clip: rect(1px 1px 1px 1px);clip: rect(1px, 1px, 1px, 1px);height: 1px;margin: -1px;overflow: hidden;padding: 0;position: absolute;width: 1px;}#sk-container-id-13 div.sk-estimator {font-family: monospace;background-color: #f0f8ff;border: 1px dotted black;border-radius: 0.25em;box-sizing: border-box;margin-bottom: 0.5em;}#sk-container-id-13 div.sk-estimator:hover {background-color: #d4ebff;}#sk-container-id-13 div.sk-parallel-item::after {content: \"\";width: 100%;border-bottom: 1px solid gray;flex-grow: 1;}#sk-container-id-13 div.sk-label:hover label.sk-toggleable__label {background-color: #d4ebff;}#sk-container-id-13 div.sk-serial::before {content: \"\";position: absolute;border-left: 1px solid gray;box-sizing: border-box;top: 0;bottom: 0;left: 50%;z-index: 0;}#sk-container-id-13 div.sk-serial {display: flex;flex-direction: column;align-items: center;background-color: white;padding-right: 0.2em;padding-left: 0.2em;position: relative;}#sk-container-id-13 div.sk-item {position: relative;z-index: 1;}#sk-container-id-13 div.sk-parallel {display: flex;align-items: stretch;justify-content: center;background-color: white;position: relative;}#sk-container-id-13 div.sk-item::before, #sk-container-id-13 div.sk-parallel-item::before {content: \"\";position: absolute;border-left: 1px solid gray;box-sizing: border-box;top: 0;bottom: 0;left: 50%;z-index: -1;}#sk-container-id-13 div.sk-parallel-item {display: flex;flex-direction: column;z-index: 1;position: relative;background-color: white;}#sk-container-id-13 div.sk-parallel-item:first-child::after {align-self: flex-end;width: 50%;}#sk-container-id-13 div.sk-parallel-item:last-child::after {align-self: flex-start;width: 50%;}#sk-container-id-13 div.sk-parallel-item:only-child::after {width: 0;}#sk-container-id-13 div.sk-dashed-wrapped {border: 1px dashed gray;margin: 0 0.4em 0.5em 0.4em;box-sizing: border-box;padding-bottom: 0.4em;background-color: white;}#sk-container-id-13 div.sk-label label {font-family: monospace;font-weight: bold;display: inline-block;line-height: 1.2em;}#sk-container-id-13 div.sk-label-container {text-align: center;}#sk-container-id-13 div.sk-container {/* jupyter's `normalize.less` sets `[hidden] { display: none; }` but bootstrap.min.css set `[hidden] { display: none !important; }` so we also need the `!important` here to be able to override the default hidden behavior on the sphinx rendered scikit-learn.org. See: https://github.com/scikit-learn/scikit-learn/issues/21755 */display: inline-block !important;position: relative;}#sk-container-id-13 div.sk-text-repr-fallback {display: none;}</style><div id=\"sk-container-id-13\" class=\"sk-top-container\"><div class=\"sk-text-repr-fallback\"><pre>RandomForestClassifier(max_depth=8, max_features=None, n_estimators=40,\n",
       "                       n_jobs=8, random_state=12)</pre><b>In a Jupyter environment, please rerun this cell to show the HTML representation or trust the notebook. <br />On GitHub, the HTML representation is unable to render, please try loading this page with nbviewer.org.</b></div><div class=\"sk-container\" hidden><div class=\"sk-item\"><div class=\"sk-estimator sk-toggleable\"><input class=\"sk-toggleable__control sk-hidden--visually\" id=\"sk-estimator-id-17\" type=\"checkbox\" checked><label for=\"sk-estimator-id-17\" class=\"sk-toggleable__label sk-toggleable__label-arrow\">RandomForestClassifier</label><div class=\"sk-toggleable__content\"><pre>RandomForestClassifier(max_depth=8, max_features=None, n_estimators=40,\n",
       "                       n_jobs=8, random_state=12)</pre></div></div></div></div></div>"
      ],
      "text/plain": [
       "RandomForestClassifier(max_depth=8, max_features=None, n_estimators=40,\n",
       "                       n_jobs=8, random_state=12)"
      ]
     },
     "execution_count": 177,
     "metadata": {},
     "output_type": "execute_result"
    }
   ],
   "source": [
    "rf_pca_smote_hp_tuned.fit(X_smo,y_smo)"
   ]
  },
  {
   "cell_type": "code",
   "execution_count": 178,
   "id": "6cacf4f0-a7ca-4442-add2-3780fd051cfa",
   "metadata": {},
   "outputs": [],
   "source": [
    "y_preds_rf_pca_smote_hp_tuned=rf_pca_smote_hp_tuned.predict(X_test_hat_PCA)"
   ]
  },
  {
   "cell_type": "code",
   "execution_count": 179,
   "id": "99e80a58-c791-462c-bad2-03b80c093cf9",
   "metadata": {},
   "outputs": [
    {
     "name": "stdout",
     "output_type": "stream",
     "text": [
      "Accuracy is: 0.78\n",
      "Precision is: 0.06\n",
      "Recall is: 0.60\n",
      "Fscore is: 0.21\n",
      "AUC is: 0.69\n"
     ]
    }
   ],
   "source": [
    "evaluate_metrics(y_test, y_preds_rf_pca_smote_hp_tuned)"
   ]
  }
 ],
 "metadata": {
  "kernelspec": {
   "display_name": "Python 3 (ipykernel)",
   "language": "python",
   "name": "python3"
  },
  "language_info": {
   "codemirror_mode": {
    "name": "ipython",
    "version": 3
   },
   "file_extension": ".py",
   "mimetype": "text/x-python",
   "name": "python",
   "nbconvert_exporter": "python",
   "pygments_lexer": "ipython3",
   "version": "3.9.12"
  }
 },
 "nbformat": 4,
 "nbformat_minor": 5
}
